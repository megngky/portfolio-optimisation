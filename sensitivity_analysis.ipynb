{
 "cells": [
  {
   "cell_type": "code",
   "execution_count": 1,
   "metadata": {},
   "outputs": [],
   "source": [
    "import pandas as pd\n",
    "import numpy as np\n",
    "import yfinance as yf\n",
    "import cvxpy as cp\n",
    "import matplotlib.pyplot as plt\n",
    "import plotly.graph_objects as go\n",
    "import plotly.express as px\n",
    "from utils import *"
   ]
  },
  {
   "cell_type": "code",
   "execution_count": 2,
   "metadata": {},
   "outputs": [],
   "source": [
    "# Set display format for floats to regular decimal notation\n",
    "pd.set_option('display.float_format', '{:.20f}'.format)"
   ]
  },
  {
   "cell_type": "code",
   "execution_count": 3,
   "metadata": {},
   "outputs": [
    {
     "name": "stdout",
     "output_type": "stream",
     "text": [
      "[*********************100%%**********************]  120 of 120 completed\n"
     ]
    }
   ],
   "source": [
    "tickers = [\n",
    "    \"AAPL\", \"MSFT\", \"GOOG\", \"AMZN\", \"NVDA\", \"ADBE\", \"ORCL\", \"CRM\", \"INTC\", \"CSCO\",  # Technology\n",
    "    \"JNJ\", \"PFE\", \"MRK\", \"UNH\", \"BMY\", \"LLY\", \"ABBV\", \"GILD\", \"MDT\", \"ELV\",         # Healthcare\n",
    "    \"PG\", \"KO\", \"PEP\", \"WMT\", \"CL\", \"KMB\", \"MO\", \"MDLZ\", \"GIS\", \"COST\",             # Consumer Staples\n",
    "    \"TSLA\", \"NKE\", \"MCD\", \"SBUX\", \"TGT\", \"HD\", \"LOW\", \"TJX\", \"ROST\", \"AMT\",         # Consumer Discretionary\n",
    "    \"JPM\", \"BAC\", \"GS\", \"WFC\", \"C\", \"AXP\", \"SCHW\", \"MS\", \"BLK\", \"USB\",              # Financials\n",
    "    \"BA\", \"CAT\", \"MMM\", \"HON\", \"UNP\", \"LMT\", \"GE\", \"RTX\", \"UPS\", \"DE\",              # Industrials\n",
    "    \"NEE\", \"DUK\", \"SO\", \"AEP\", \"EXC\", \"D\", \"XEL\", \"ED\", \"SRE\", \"PPL\",               # Utilities\n",
    "    \"VZ\", \"T\", \"CMCSA\", \"DIS\", \"NFLX\", \"GOOGL\", \"META\", \"CHTR\", \"TMUS\", \"SPOT\",     # Communication Services\n",
    "    \"XOM\", \"CVX\", \"COP\", \"SLB\", \"PSX\", \"VLO\", \"MPC\", \"HAL\", \"BKR\", \"OXY\",           # Energy\n",
    "    \"IEF\", \"TLT\", \"GOVT\", \"BND\", \"LQD\", \"HYG\", \"TIP\", \"AGG\", \"VCIT\", \"VCSH\",        # Bonds\n",
    "    \"VNQ\", \"IYR\", \"SCHH\", \"RWR\", \"XLRE\", \"PLD\", \"O\", \"SPG\", \"AVB\", \"EQR\",           # REITs\n",
    "    \"GLD\", \"IAU\", \"SLV\", \"PDBC\", \"DBC\", \"USO\", \"UNG\", \"BNO\", \"GSG\", \"CORN\"          # Commodities\n",
    "]\n",
    "\n",
    "# Download historical data for all tickers\n",
    "data = yf.download(tickers, start=\"2005-01-01\", end=\"2024-10-01\")['Adj Close']\n",
    "\n",
    "# Display the first few rows\n",
    "# print(data.head())"
   ]
  },
  {
   "cell_type": "markdown",
   "metadata": {},
   "source": [
    "## Calculating Metrics"
   ]
  },
  {
   "cell_type": "code",
   "execution_count": 4,
   "metadata": {},
   "outputs": [],
   "source": [
    "target_risk = 0.08"
   ]
  },
  {
   "cell_type": "code",
   "execution_count": 5,
   "metadata": {},
   "outputs": [
    {
     "name": "stderr",
     "output_type": "stream",
     "text": [
      "/Users/meganng/Desktop/DSA4212/Assignment/final/utils.py:12: FutureWarning: The default fill_method='pad' in DataFrame.pct_change is deprecated and will be removed in a future version. Call ffill before calling pct_change to retain current behavior and silence this warning.\n",
      "  daily_returns = adj_close.ffill().pct_change().dropna()\n"
     ]
    }
   ],
   "source": [
    "daily_returns = daily_returns_calc(data)\n",
    "expected_daily_metrics = expected_daily_metric_calc(daily_returns)\n",
    "expected_daily_returns = expected_daily_metrics['daily_returns']\n",
    "daily_covariance_matrix = expected_daily_metrics['daily_covariance']\n",
    "annual_metrics = annual_metrics_calc(expected_daily_returns, daily_covariance_matrix)\n",
    "annual_returns = annual_metrics['annual_returns']\n",
    "annual_covariance = annual_metrics['cov_matrix']"
   ]
  },
  {
   "cell_type": "markdown",
   "metadata": {},
   "source": [
    "## Running Optimisation on Unperturbed Data"
   ]
  },
  {
   "cell_type": "code",
   "execution_count": 6,
   "metadata": {},
   "outputs": [],
   "source": [
    "# Running optimisation with target risk as 0.05\n",
    "res = optimise_weights(annual_returns, annual_covariance, target_risk)\n",
    "original_weights = res[0]"
   ]
  },
  {
   "cell_type": "markdown",
   "metadata": {},
   "source": [
    "## Stability with Random Perturbations "
   ]
  },
  {
   "cell_type": "code",
   "execution_count": 7,
   "metadata": {},
   "outputs": [
    {
     "name": "stdout",
     "output_type": "stream",
     "text": [
      "       Perturbation Level         Average Change  Average Maximum Change  \\\n",
      "0  0.00010000000000000000 0.00052174012660555398  0.00212158605663151281   \n",
      "1  0.00050612244897959191 0.00143662829484306979  0.00392874619269384297   \n",
      "2  0.00091224489795918378 0.00422154784034116121  0.00917574917777981384   \n",
      "3  0.00131836734693877564 0.00394992141915983305  0.00904693151972163143   \n",
      "4  0.00172448979591836751 0.00472937888246952823  0.01089680722388428231   \n",
      "5  0.00213061224489795916 0.00727451837508406775  0.01466889633375103620   \n",
      "6  0.00253673469387755103 0.00691989732949566637  0.01490582076174741880   \n",
      "7  0.00294285714285714289 0.00720509467470490002  0.01506202857579303639   \n",
      "8  0.00334897959183673476 0.00580490133230043750  0.01325952864473020458   \n",
      "9  0.00375510204081632663 0.00521747102391991076  0.01232519749764552329   \n",
      "10 0.00416122448979591893 0.00619943052350108680  0.01361964153096027405   \n",
      "11 0.00456734693877551123 0.00776503770891814014  0.01685517802316034708   \n",
      "12 0.00497346938775510266 0.00670026789096182449  0.01703603076855164655   \n",
      "13 0.00537959183673469409 0.00802509139234431658  0.01504457623904412872   \n",
      "14 0.00578571428571428639 0.00801546790754204853  0.01740727281317133376   \n",
      "15 0.00619183673469387869 0.00741192259569311770  0.01647728643010969510   \n",
      "16 0.00659795918367347013 0.00964419449114969560  0.01793415385256515518   \n",
      "17 0.00700408163265306156 0.00911068086907748480  0.01778145899070127101   \n",
      "18 0.00741020408163265386 0.01005227886642871306  0.01825714147209510016   \n",
      "19 0.00781632653061224529 0.00831790706256859899  0.01652145304404989759   \n",
      "20 0.00822244897959183672 0.00963242990904872656  0.01976603651084889168   \n",
      "21 0.00862857142857142816 0.00770752432772972302  0.01524121905291613704   \n",
      "22 0.00903469387755102132 0.00991850988679437474  0.02004248286275896532   \n",
      "23 0.00944081632653061276 0.00992387465189830884  0.01786353648913514142   \n",
      "24 0.00984693877551020419 0.01038981811373391496  0.02000089150364629115   \n",
      "25 0.01025306122448979562 0.01054464582368733541  0.01910999295186977323   \n",
      "26 0.01065918367346938705 0.00997214132967831277  0.01890374866371087592   \n",
      "27 0.01106530612244898022 0.01024359724879708895  0.01853436390265516751   \n",
      "28 0.01147142857142857165 0.00970702868198536004  0.01757705469636035647   \n",
      "29 0.01187755102040816309 0.01054473768119506411  0.01845622707550513900   \n",
      "30 0.01228367346938775626 0.01095583783747935622  0.01851020320773721223   \n",
      "31 0.01268979591836734769 0.01081378889412102674  0.01708208205371320593   \n",
      "32 0.01309591836734693912 0.01151002723505777786  0.01723998286500310131   \n",
      "33 0.01350204081632653055 0.01119474747663733519  0.01711603654663176183   \n",
      "34 0.01390816326530612199 0.01137941565311542842  0.01626020321889651635   \n",
      "35 0.01431428571428571515 0.01160142566743932110  0.01631770319554302212   \n",
      "36 0.01472040816326530659 0.01173907240641763015  0.01624484790220541777   \n",
      "37 0.01512653061224489802 0.01180407499263029167  0.01504872717645494920   \n",
      "38 0.01553265306122449119                    NaN                     NaN   \n",
      "39 0.01593877551020408262                    NaN                     NaN   \n",
      "40 0.01634489795918367405                    NaN                     NaN   \n",
      "41 0.01675102040816326548                    NaN                     NaN   \n",
      "42 0.01715714285714285692                    NaN                     NaN   \n",
      "43 0.01756326530612244835                    NaN                     NaN   \n",
      "44 0.01796938775510204325                    NaN                     NaN   \n",
      "45 0.01837551020408163469                    NaN                     NaN   \n",
      "46 0.01878163265306122612                    NaN                     NaN   \n",
      "47 0.01918775510204081755                    NaN                     NaN   \n",
      "48 0.01959387755102040898                    NaN                     NaN   \n",
      "49 0.02000000000000000042                    NaN                     NaN   \n",
      "\n",
      "               Average SD        Average Returns           Average Risk  \n",
      "0  0.00090230835095429362 0.15402431034613744965 0.00640000081771105889  \n",
      "1  0.00151029908007232344 0.15453114721702007617 0.00640000031929398826  \n",
      "2  0.00386142268023946219 0.15246155260820953847 0.00640000033040844397  \n",
      "3  0.00367676680708861397 0.15398817013860299774 0.00640000082127765123  \n",
      "4  0.00419383027618179787 0.15500201407143487931 0.00640000059484148714  \n",
      "5  0.00523089291797820041 0.15803843744632622981 0.00640000054364825866  \n",
      "6  0.00613851514926137213 0.15573244194590699085 0.00640000034581849220  \n",
      "7  0.00564882773152465458 0.15613512686939617913 0.00640000087197567253  \n",
      "8  0.00532735290247707098 0.15862757187747159038 0.00640000033600036239  \n",
      "9  0.00499865146875566602 0.15858996889513254924 0.00640000111703092900  \n",
      "10 0.00538257261655032942 0.15896723254172537287 0.00640000050144025768  \n",
      "11 0.00659108680370260568 0.15505369652163950023 0.00640000076272022756  \n",
      "12 0.00689897608675032505 0.15163637203993718394 0.00640000075019005188  \n",
      "13 0.00523709581315513328 0.15762483131925883462 0.00640000088118683735  \n",
      "14 0.00657253776826530710 0.15525709681698166009 0.00640000064406494058  \n",
      "15 0.00631973591575595624 0.15421678289295978614 0.00640000059759244892  \n",
      "16 0.00598576716859920612 0.14942914713511634694 0.00640000076269925389  \n",
      "17 0.00625586325822787438 0.14960962734174423905 0.00640000049999450270  \n",
      "18 0.00600184324072596410 0.14851370276946246340 0.00640000071787874981  \n",
      "19 0.00594052517355279051 0.16072335168220547308 0.00640000068877518563  \n",
      "20 0.00745543639689326063 0.15851997482680185714 0.00640000114309736100  \n",
      "21 0.00553663740377433045 0.17175336525311393765 0.00640000071306776747  \n",
      "22 0.00713707544446034580 0.14479949696591723485 0.00640000157046476982  \n",
      "23 0.00567642749517364986 0.13965162598113267656 0.00640000122698441108  \n",
      "24 0.00678894139106217889 0.15113668454562295684 0.00640000064533473561  \n",
      "25 0.00612306735337254764 0.13643604974850756517 0.00640000104685142270  \n",
      "26 0.00614972204898871742 0.15528218079194444634 0.00640000091636723934  \n",
      "27 0.00602166713209110940 0.14667238821442524221 0.00640000059072332039  \n",
      "28 0.00556735499764880824 0.13961619510511258380 0.00640000235941584183  \n",
      "29 0.00553549978548618059 0.14046803628917539641 0.00640000070309145342  \n",
      "30 0.00549788936118933945 0.14418991378294379602 0.00640000217926683500  \n",
      "31 0.00488039290185952272 0.13392528065859526931 0.00640000205396029469  \n",
      "32 0.00458983901135902404 0.12334710701842274694 0.00640000278351848546  \n",
      "33 0.00453038368498111851 0.11336743073469650323 0.00640000286609127174  \n",
      "34 0.00359040366995149471 0.11921059085605201222 0.00640000183936182548  \n",
      "35 0.00359743736574702879 0.10343022016844889699 0.00640000358529292830  \n",
      "36 0.00335749902779265610 0.08519205124666959228 0.00640000419110667816  \n",
      "37 0.00253635565379440675 0.08584616837593814220 0.00640000161588772688  \n",
      "38                    NaN                    NaN                    NaN  \n",
      "39                    NaN                    NaN                    NaN  \n",
      "40                    NaN                    NaN                    NaN  \n",
      "41                    NaN                    NaN                    NaN  \n",
      "42                    NaN                    NaN                    NaN  \n",
      "43                    NaN                    NaN                    NaN  \n",
      "44                    NaN                    NaN                    NaN  \n",
      "45                    NaN                    NaN                    NaN  \n",
      "46                    NaN                    NaN                    NaN  \n",
      "47                    NaN                    NaN                    NaN  \n",
      "48                    NaN                    NaN                    NaN  \n",
      "49                    NaN                    NaN                    NaN  \n"
     ]
    }
   ],
   "source": [
    "# Generate 20 values between 0.001 and 0.02\n",
    "perturbations = np.linspace(0.0001, 0.02, 50)\n",
    "\n",
    "# Lists to store final results\n",
    "tot_mean = []\n",
    "tot_max = []\n",
    "tot_std = []\n",
    "optimal_returns = []\n",
    "optimal_risks = []\n",
    "\n",
    "for perturbation in perturbations:\n",
    "    # List to store differences in weights for each run\n",
    "    weight_differences = []\n",
    "    portfolio_returns = []\n",
    "    portfolio_risks = []\n",
    "    \n",
    "    feasible_solution = True  # Flag to check if any solution is feasible\n",
    "\n",
    "    for i in range(5):\n",
    "        # Add random perturbation to the returns data\n",
    "        perturbed_returns = daily_returns + np.random.normal(0, perturbation, daily_returns.shape)\n",
    "\n",
    "        # Calculate covariance matrix and expected returns from perturbed data\n",
    "        perturbed_cov_matrix = perturbed_returns.cov() * 252  # Annualized covariance matrix\n",
    "        perturbed_expected_returns = perturbed_returns.mean() * 252  # Annualized expected returns\n",
    "\n",
    "        # Define portfolio weights\n",
    "        n_assets = len(perturbed_expected_returns)\n",
    "        weights = cp.Variable(n_assets)\n",
    "\n",
    "        # Define portfolio return and risk (variance)\n",
    "        portfolio_return = perturbed_expected_returns.values @ weights\n",
    "        portfolio_risk = cp.quad_form(weights, cp.psd_wrap(perturbed_cov_matrix))\n",
    "\n",
    "        # Optimize to maximize return for a given risk\n",
    "        target_risk = 0.08\n",
    "        problem = cp.Problem(cp.Maximize(portfolio_return), [\n",
    "            cp.sum(weights) == 1,\n",
    "            weights >= 0,\n",
    "            portfolio_risk <= target_risk**2\n",
    "        ])\n",
    "        \n",
    "        problem.solve()\n",
    "\n",
    "        # Check if the solution is feasible\n",
    "        if problem.status != cp.OPTIMAL:\n",
    "            feasible_solution = False\n",
    "            break  # Stop further iterations if no feasible solution is found\n",
    "\n",
    "        # Collect weights and portfolio metrics if feasible\n",
    "        perturbed_weights = np.round(weights.value, 4)\n",
    "        weight_diff = np.abs(original_weights - perturbed_weights)\n",
    "        weight_differences.append(weight_diff)\n",
    "\n",
    "        portfolio_returns.append(portfolio_return.value)\n",
    "        portfolio_risks.append(portfolio_risk.value)\n",
    "\n",
    "    if feasible_solution:\n",
    "        # Calculate mean, max, std change in weights if solution was feasible\n",
    "        diff_df = pd.DataFrame(weight_differences)\n",
    "        tot_mean.append(diff_df.mean().mean())\n",
    "        tot_max.append(diff_df.max().mean())\n",
    "        tot_std.append(diff_df.std().mean())\n",
    "        optimal_returns.append(sum(portfolio_returns) / len(portfolio_returns))\n",
    "        optimal_risks.append(sum(portfolio_risks) / len(portfolio_risks))\n",
    "    else:\n",
    "        # Append None for all columns if no feasible solution was found\n",
    "        tot_mean.append(None)\n",
    "        tot_max.append(None)\n",
    "        tot_std.append(None)\n",
    "        optimal_returns.append(None)\n",
    "        optimal_risks.append(None)\n",
    "\n",
    "# Creating a new DataFrame\n",
    "final_df = pd.DataFrame({\n",
    "    'Perturbation Level': perturbations,\n",
    "    'Average Change': tot_mean,\n",
    "    'Average Maximum Change': tot_max,\n",
    "    'Average SD': tot_std,\n",
    "    'Average Returns': optimal_returns,\n",
    "    'Average Risk': optimal_risks\n",
    "})\n",
    "\n",
    "# Display the final dataframe\n",
    "print(final_df)\n"
   ]
  },
  {
   "cell_type": "code",
   "execution_count": 8,
   "metadata": {},
   "outputs": [
    {
     "data": {
      "image/png": "[encoded data removed]",
      "text/plain": [
       "<Figure size 1500x600 with 1 Axes>"
      ]
     },
     "metadata": {},
     "output_type": "display_data"
    }
   ],
   "source": [
    "# Plotting the results\n",
    "plt.figure(figsize=(15, 6))\n",
    "\n",
    "# Plot each line, skipping NaNs\n",
    "for column, label, marker in zip(\n",
    "        ['Average Change', 'Average Maximum Change', 'Average Risk', 'Average Returns'],\n",
    "        ['Average Change', 'Average Maximum Change', 'Average Portfolio Risk', 'Average Portfolio Returns'],\n",
    "        ['o', 'x', '^', 'd']):\n",
    "    \n",
    "    # Plot the main line (excluding NaNs)\n",
    "    plt.plot(final_df['Perturbation Level'], final_df[column], label=label, marker=marker, linestyle='-')\n",
    "\n",
    "# Plot the \"No Solution\" markers for all columns at once\n",
    "nan_indices = final_df['Perturbation Level'][final_df.isna().any(axis=1)]\n",
    "plt.scatter(nan_indices, [0] * len(nan_indices), color='red', marker='x', label='No Solution', zorder=3)\n",
    "\n",
    "# Set the labels and title\n",
    "plt.xlabel('Perturbation Level')\n",
    "plt.ylabel('Value')\n",
    "plt.title('Perturbation Level vs Metrics')\n",
    "\n",
    "# Display the legend\n",
    "plt.legend()\n",
    "plt.grid(True)\n",
    "plt.show()\n"
   ]
  },
  {
   "cell_type": "markdown",
   "metadata": {},
   "source": [
    "## Stability Across Time Periods"
   ]
  },
  {
   "cell_type": "code",
   "execution_count": 9,
   "metadata": {},
   "outputs": [],
   "source": [
    "# Define time windows for different periods\n",
    "time_windows = {\n",
    "    \"Pre-2008 Financial Crisis\": (\"2005-01-01\", \"2007-12-31\"),\n",
    "    \"Global Financial Crisis\": (\"2008-01-01\", \"2009-12-31\"),\n",
    "    \"Post-Crisis Recovery\": (\"2010-01-01\", \"2015-12-31\"),\n",
    "    \"COVID-19 Pandemic\": (\"2020-01-01\", \"2021-12-31\"),\n",
    "    \"Recent Period\": (\"2022-01-01\", \"2024-10-01\")\n",
    "}"
   ]
  },
  {
   "cell_type": "code",
   "execution_count": 10,
   "metadata": {},
   "outputs": [
    {
     "name": "stderr",
     "output_type": "stream",
     "text": [
      "/var/folders/0q/3_k17wq97378_rpc0k5cjj_m0000gn/T/ipykernel_90280/2915363280.py:2: FutureWarning: The default fill_method='pad' in DataFrame.pct_change is deprecated and will be removed in a future version. Call ffill before calling pct_change to retain current behavior and silence this warning.\n",
      "  daily_returns = data.pct_change().iloc[1:,:]\n"
     ]
    },
    {
     "name": "stdout",
     "output_type": "stream",
     "text": [
      "Solver used: ECOS\n",
      "Solver used: ECOS\n",
      "Solver used: ECOS\n",
      "Solver used: ECOS\n",
      "Solver used: ECOS\n"
     ]
    },
    {
     "data": {
      "application/vnd.plotly.v1+json": {
       "config": {
        "plotlyServerURL": "https://plot.ly"
       },
       "data": [
        {
         "hoverinfo": "y",
         "hovertemplate": "JPM<br>%{y:.2f}",
         "marker": {
          "color": [
           "rgb(120, 28, 109)"
          ]
         },
         "name": "JPM",
         "showlegend": true,
         "type": "bar",
         "x": [
          "Pre-2008 Financial Crisis"
         ],
         "y": [
          0.3340959735297899
         ]
        },
        {
         "hoverinfo": "y",
         "hovertemplate": "SBUX<br>%{y:.2f}",
         "marker": {
          "color": [
           "rgb(96, 20, 108)"
          ]
         },
         "name": "SBUX",
         "showlegend": true,
         "type": "bar",
         "x": [
          "Pre-2008 Financial Crisis"
         ],
         "y": [
          0.10692511717979998
         ]
        },
        {
         "hoverinfo": "y",
         "hovertemplate": "AAPL<br>%{y:.2f}",
         "marker": {
          "color": [
           "rgb(0, 0, 4)"
          ]
         },
         "name": "AAPL",
         "showlegend": true,
         "type": "bar",
         "x": [
          "Pre-2008 Financial Crisis"
         ],
         "y": [
          0.08148328950904439
         ]
        },
        {
         "hoverinfo": "y",
         "hovertemplate": "BLK<br>%{y:.2f}",
         "marker": {
          "color": [
           "rgb(147, 38, 101)"
          ]
         },
         "name": "BLK",
         "showlegend": true,
         "type": "bar",
         "x": [
          "Pre-2008 Financial Crisis"
         ],
         "y": [
          0.064188619827535
         ]
        },
        {
         "hoverinfo": "y",
         "hovertemplate": "GE<br>%{y:.2f}",
         "marker": {
          "color": [
           "rgb(173, 49, 91)"
          ]
         },
         "name": "GE",
         "showlegend": true,
         "type": "bar",
         "x": [
          "Pre-2008 Financial Crisis"
         ],
         "y": [
          0.06328507309061518
         ]
        },
        {
         "hoverinfo": "y",
         "hovertemplate": "PFE<br>%{y:.2f}",
         "marker": {
          "color": [
           "rgb(22, 10, 54)"
          ]
         },
         "name": "PFE",
         "showlegend": true,
         "type": "bar",
         "x": [
          "Pre-2008 Financial Crisis"
         ],
         "y": [
          0.05639908276243921
         ]
        },
        {
         "hoverinfo": "y",
         "hovertemplate": "HD<br>%{y:.2f}",
         "marker": {
          "color": [
           "rgb(103, 22, 108)"
          ]
         },
         "name": "HD",
         "showlegend": true,
         "type": "bar",
         "x": [
          "Pre-2008 Financial Crisis"
         ],
         "y": [
          0.04772439099626511
         ]
        },
        {
         "hoverinfo": "y",
         "hovertemplate": "LLY<br>%{y:.2f}",
         "marker": {
          "color": [
           "rgb(33, 12, 70)"
          ]
         },
         "name": "LLY",
         "showlegend": true,
         "type": "bar",
         "x": [
          "Pre-2008 Financial Crisis"
         ],
         "y": [
          0.04482098259958437
         ]
        },
        {
         "hoverinfo": "y",
         "hovertemplate": "LMT<br>%{y:.2f}",
         "marker": {
          "color": [
           "rgb(170, 47, 93)"
          ]
         },
         "name": "LMT",
         "showlegend": true,
         "type": "bar",
         "x": [
          "Pre-2008 Financial Crisis"
         ],
         "y": [
          0.044756875995714804
         ]
        },
        {
         "hoverinfo": "y",
         "hovertemplate": "PSX<br>%{y:.2f}",
         "marker": {
          "color": [
           "rgb(241, 120, 28)"
          ]
         },
         "name": "PSX",
         "showlegend": true,
         "type": "bar",
         "x": [
          "Pre-2008 Financial Crisis"
         ],
         "y": [
          0.03610086167906374
         ]
        },
        {
         "hoverinfo": "y",
         "hovertemplate": "ELV<br>%{y:.2f}",
         "marker": {
          "color": [
           "rgb(47, 12, 83)"
          ]
         },
         "name": "ELV",
         "showlegend": true,
         "type": "bar",
         "x": [
          "Pre-2008 Financial Crisis"
         ],
         "y": [
          0.024428479578641523
         ]
        },
        {
         "hoverinfo": "y",
         "hovertemplate": "CAT<br>%{y:.2f}",
         "marker": {
          "color": [
           "rgb(157, 41, 98)"
          ]
         },
         "name": "CAT",
         "showlegend": true,
         "type": "bar",
         "x": [
          "Pre-2008 Financial Crisis"
         ],
         "y": [
          0.02429040429387626
         ]
        },
        {
         "hoverinfo": "y",
         "hovertemplate": "OXY<br>%{y:.2f}",
         "marker": {
          "color": [
           "rgb(246, 139, 16)"
          ]
         },
         "name": "OXY",
         "showlegend": true,
         "type": "bar",
         "x": [
          "Pre-2008 Financial Crisis"
         ],
         "y": [
          0.023151313693651632
         ]
        },
        {
         "hoverinfo": "y",
         "hovertemplate": "META<br>%{y:.2f}",
         "marker": {
          "color": [
           "rgb(228, 94, 47)"
          ]
         },
         "name": "META",
         "showlegend": true,
         "type": "bar",
         "x": [
          "Pre-2008 Financial Crisis"
         ],
         "y": [
          0.013491816238208092
         ]
        },
        {
         "hoverinfo": "y",
         "hovertemplate": "DE<br>%{y:.2f}",
         "marker": {
          "color": [
           "rgb(183, 54, 85)"
          ]
         },
         "name": "DE",
         "showlegend": true,
         "type": "bar",
         "x": [
          "Pre-2008 Financial Crisis"
         ],
         "y": [
          0.010511887743737937
         ]
        },
        {
         "hoverinfo": "y",
         "hovertemplate": "VZ<br>%{y:.2f}",
         "marker": {
          "color": [
           "rgb(214, 77, 62)"
          ]
         },
         "name": "VZ",
         "showlegend": true,
         "type": "bar",
         "x": [
          "Pre-2008 Financial Crisis"
         ],
         "y": [
          0.007896822934684427
         ]
        },
        {
         "hoverinfo": "y",
         "hovertemplate": "NEE<br>%{y:.2f}",
         "marker": {
          "color": [
           "rgb(186, 56, 83)"
          ]
         },
         "name": "NEE",
         "showlegend": true,
         "type": "bar",
         "x": [
          "Pre-2008 Financial Crisis"
         ],
         "y": [
          0.007066804592246176
         ]
        },
        {
         "hoverinfo": "y",
         "hovertemplate": "NKE<br>%{y:.2f}",
         "marker": {
          "color": [
           "rgb(89, 17, 108)"
          ]
         },
         "name": "NKE",
         "showlegend": true,
         "type": "bar",
         "x": [
          "Pre-2008 Financial Crisis"
         ],
         "y": [
          0.006188107196709668
         ]
        },
        {
         "hoverinfo": "y",
         "hovertemplate": "SO<br>%{y:.2f}",
         "marker": {
          "color": [
           "rgb(192, 60, 79)"
          ]
         },
         "name": "SO",
         "showlegend": true,
         "type": "bar",
         "x": [
          "Pre-2008 Financial Crisis"
         ],
         "y": [
          0.0026378833858973017
         ]
        },
        {
         "hoverinfo": "y",
         "hovertemplate": "TGT<br>%{y:.2f}",
         "marker": {
          "color": [
           "rgb(99, 21, 108)"
          ]
         },
         "name": "TGT",
         "showlegend": true,
         "type": "bar",
         "x": [
          "Pre-2008 Financial Crisis"
         ],
         "y": [
          0.000555747483753426
         ]
        },
        {
         "hoverinfo": "y",
         "hovertemplate": "NVDA<br>%{y:.2f}",
         "marker": {
          "color": [
           "rgb(8, 4, 22)"
          ]
         },
         "name": "NVDA",
         "showlegend": true,
         "type": "bar",
         "x": [
          "Pre-2008 Financial Crisis"
         ],
         "y": [
          4.1240924357242744e-7
         ]
        },
        {
         "hoverinfo": "y",
         "hovertemplate": "XOM<br>%{y:.2f}",
         "marker": {
          "color": [
           "rgb(237, 105, 37)"
          ]
         },
         "name": "XOM",
         "showlegend": true,
         "type": "bar",
         "x": [
          "Pre-2008 Financial Crisis"
         ],
         "y": [
          1.3115093659928877e-8
         ]
        },
        {
         "hoverinfo": "y",
         "hovertemplate": "XEL<br>%{y:.2f}",
         "marker": {
          "color": [
           "rgb(205, 67, 71)"
          ]
         },
         "name": "XEL",
         "showlegend": true,
         "type": "bar",
         "x": [
          "Pre-2008 Financial Crisis"
         ],
         "y": [
          5.5821361141325995e-9
         ]
        },
        {
         "hoverinfo": "y",
         "hovertemplate": "COP<br>%{y:.2f}",
         "marker": {
          "color": [
           "rgb(239, 113, 32)"
          ]
         },
         "name": "COP",
         "showlegend": true,
         "type": "bar",
         "x": [
          "Pre-2008 Financial Crisis"
         ],
         "y": [
          5.073139709043528e-9
         ]
        },
        {
         "hoverinfo": "y",
         "hovertemplate": "AMZN<br>%{y:.2f}",
         "marker": {
          "color": [
           "rgb(6, 3, 18)"
          ]
         },
         "name": "AMZN",
         "showlegend": true,
         "type": "bar",
         "x": [
          "Pre-2008 Financial Crisis"
         ],
         "y": [
          3.6254454467971198e-9
         ]
        },
        {
         "hoverinfo": "y",
         "hovertemplate": "SCHW<br>%{y:.2f}",
         "marker": {
          "color": [
           "rgb(140, 35, 103)"
          ]
         },
         "name": "SCHW",
         "showlegend": true,
         "type": "bar",
         "x": [
          "Pre-2008 Financial Crisis"
         ],
         "y": [
          1.9521698085214127e-9
         ]
        },
        {
         "hoverinfo": "y",
         "hovertemplate": "WMT<br>%{y:.2f}",
         "marker": {
          "color": [
           "rgb(61, 12, 95)"
          ]
         },
         "name": "WMT",
         "showlegend": true,
         "type": "bar",
         "x": [
          "Pre-2008 Financial Crisis"
         ],
         "y": [
          1.504515512175123e-9
         ]
        },
        {
         "hoverinfo": "y",
         "hovertemplate": "BA<br>%{y:.2f}",
         "marker": {
          "color": [
           "rgb(154, 40, 99)"
          ]
         },
         "name": "BA",
         "showlegend": true,
         "type": "bar",
         "x": [
          "Pre-2008 Financial Crisis"
         ],
         "y": [
          1.313702361107317e-9
         ]
        },
        {
         "hoverinfo": "y",
         "hovertemplate": "SPOT<br>%{y:.2f}",
         "marker": {
          "color": [
           "rgb(235, 102, 39)"
          ]
         },
         "name": "SPOT",
         "showlegend": true,
         "type": "bar",
         "x": [
          "Pre-2008 Financial Crisis"
         ],
         "y": [
          1.3030223949855026e-9
         ]
        },
        {
         "hoverinfo": "y",
         "hovertemplate": "D<br>%{y:.2f}",
         "marker": {
          "color": [
           "rgb(202, 65, 73)"
          ]
         },
         "name": "D",
         "showlegend": true,
         "type": "bar",
         "x": [
          "Pre-2008 Financial Crisis"
         ],
         "y": [
          1.2969188461061514e-9
         ]
        },
        {
         "hoverinfo": "y",
         "hovertemplate": "MDLZ<br>%{y:.2f}",
         "marker": {
          "color": [
           "rgb(75, 12, 107)"
          ]
         },
         "name": "MDLZ",
         "showlegend": true,
         "type": "bar",
         "x": [
          "Pre-2008 Financial Crisis"
         ],
         "y": [
          9.94483076892769e-10
         ]
        },
        {
         "hoverinfo": "y",
         "hovertemplate": "AMT<br>%{y:.2f}",
         "marker": {
          "color": [
           "rgb(117, 27, 109)"
          ]
         },
         "name": "AMT",
         "showlegend": true,
         "type": "bar",
         "x": [
          "Pre-2008 Financial Crisis"
         ],
         "y": [
          8.756153559987523e-10
         ]
        },
        {
         "hoverinfo": "y",
         "hovertemplate": "INTC<br>%{y:.2f}",
         "marker": {
          "color": [
           "rgb(16, 7, 41)"
          ]
         },
         "name": "INTC",
         "showlegend": true,
         "type": "bar",
         "x": [
          "Pre-2008 Financial Crisis"
         ],
         "y": [
          8.512210236554374e-10
         ]
        },
        {
         "hoverinfo": "y",
         "hovertemplate": "COST<br>%{y:.2f}",
         "marker": {
          "color": [
           "rgb(82, 15, 107)"
          ]
         },
         "name": "COST",
         "showlegend": true,
         "type": "bar",
         "x": [
          "Pre-2008 Financial Crisis"
         ],
         "y": [
          7.804042669176371e-10
         ]
        },
        {
         "hoverinfo": "y",
         "hovertemplate": "SRE<br>%{y:.2f}",
         "marker": {
          "color": [
           "rgb(210, 72, 67)"
          ]
         },
         "name": "SRE",
         "showlegend": true,
         "type": "bar",
         "x": [
          "Pre-2008 Financial Crisis"
         ],
         "y": [
          6.265040831407889e-10
         ]
        },
        {
         "hoverinfo": "y",
         "hovertemplate": "MPC<br>%{y:.2f}",
         "marker": {
          "color": [
           "rgb(243, 128, 23)"
          ]
         },
         "name": "MPC",
         "showlegend": true,
         "type": "bar",
         "x": [
          "Pre-2008 Financial Crisis"
         ],
         "y": [
          5.265603407609417e-10
         ]
        },
        {
         "hoverinfo": "y",
         "hovertemplate": "GILD<br>%{y:.2f}",
         "marker": {
          "color": [
           "rgb(40, 12, 77)"
          ]
         },
         "name": "GILD",
         "showlegend": true,
         "type": "bar",
         "x": [
          "Pre-2008 Financial Crisis"
         ],
         "y": [
          4.695985594463626e-10
         ]
        },
        {
         "hoverinfo": "y",
         "hovertemplate": "VLO<br>%{y:.2f}",
         "marker": {
          "color": [
           "rgb(242, 124, 25)"
          ]
         },
         "name": "VLO",
         "showlegend": true,
         "type": "bar",
         "x": [
          "Pre-2008 Financial Crisis"
         ],
         "y": [
          4.526754637716551e-10
         ]
        },
        {
         "hoverinfo": "y",
         "hovertemplate": "PEP<br>%{y:.2f}",
         "marker": {
          "color": [
           "rgb(58, 12, 92)"
          ]
         },
         "name": "PEP",
         "showlegend": true,
         "type": "bar",
         "x": [
          "Pre-2008 Financial Crisis"
         ],
         "y": [
          4.373199004894124e-10
         ]
        },
        {
         "hoverinfo": "y",
         "hovertemplate": "MCD<br>%{y:.2f}",
         "marker": {
          "color": [
           "rgb(92, 18, 108)"
          ]
         },
         "name": "MCD",
         "showlegend": true,
         "type": "bar",
         "x": [
          "Pre-2008 Financial Crisis"
         ],
         "y": [
          4.358463086302031e-10
         ]
        },
        {
         "hoverinfo": "y",
         "hovertemplate": "KMB<br>%{y:.2f}",
         "marker": {
          "color": [
           "rgb(68, 12, 102)"
          ]
         },
         "name": "KMB",
         "showlegend": true,
         "type": "bar",
         "x": [
          "Pre-2008 Financial Crisis"
         ],
         "y": [
          4.2796336437107337e-10
         ]
        },
        {
         "hoverinfo": "y",
         "hovertemplate": "MDT<br>%{y:.2f}",
         "marker": {
          "color": [
           "rgb(43, 12, 80)"
          ]
         },
         "name": "MDT",
         "showlegend": true,
         "type": "bar",
         "x": [
          "Pre-2008 Financial Crisis"
         ],
         "y": [
          4.184622027874882e-10
         ]
        },
        {
         "hoverinfo": "y",
         "hovertemplate": "WFC<br>%{y:.2f}",
         "marker": {
          "color": [
           "rgb(130, 32, 106)"
          ]
         },
         "name": "WFC",
         "showlegend": true,
         "type": "bar",
         "x": [
          "Pre-2008 Financial Crisis"
         ],
         "y": [
          4.1082771312727826e-10
         ]
        },
        {
         "hoverinfo": "y",
         "hovertemplate": "KO<br>%{y:.2f}",
         "marker": {
          "color": [
           "rgb(54, 12, 89)"
          ]
         },
         "name": "KO",
         "showlegend": true,
         "type": "bar",
         "x": [
          "Pre-2008 Financial Crisis"
         ],
         "y": [
          4.094977960777304e-10
         ]
        },
        {
         "hoverinfo": "y",
         "hovertemplate": "GOOG<br>%{y:.2f}",
         "marker": {
          "color": [
           "rgb(4, 2, 13)"
          ]
         },
         "name": "GOOG",
         "showlegend": true,
         "type": "bar",
         "x": [
          "Pre-2008 Financial Crisis"
         ],
         "y": [
          3.8497528999046944e-10
         ]
        },
        {
         "hoverinfo": "y",
         "hovertemplate": "DUK<br>%{y:.2f}",
         "marker": {
          "color": [
           "rgb(189, 58, 81)"
          ]
         },
         "name": "DUK",
         "showlegend": true,
         "type": "bar",
         "x": [
          "Pre-2008 Financial Crisis"
         ],
         "y": [
          3.7609027271895953e-10
         ]
        },
        {
         "hoverinfo": "y",
         "hovertemplate": "GOOGL<br>%{y:.2f}",
         "marker": {
          "color": [
           "rgb(226, 91, 49)"
          ]
         },
         "name": "GOOGL",
         "showlegend": true,
         "type": "bar",
         "x": [
          "Pre-2008 Financial Crisis"
         ],
         "y": [
          3.3029159264601187e-10
         ]
        },
        {
         "hoverinfo": "y",
         "hovertemplate": "MO<br>%{y:.2f}",
         "marker": {
          "color": [
           "rgb(72, 12, 105)"
          ]
         },
         "name": "MO",
         "showlegend": true,
         "type": "bar",
         "x": [
          "Pre-2008 Financial Crisis"
         ],
         "y": [
          3.210131756738658e-10
         ]
        },
        {
         "hoverinfo": "y",
         "hovertemplate": "PPL<br>%{y:.2f}",
         "marker": {
          "color": [
           "rgb(212, 74, 64)"
          ]
         },
         "name": "PPL",
         "showlegend": true,
         "type": "bar",
         "x": [
          "Pre-2008 Financial Crisis"
         ],
         "y": [
          3.148183297179127e-10
         ]
        },
        {
         "hoverinfo": "y",
         "hovertemplate": "HYG<br>%{y:.2f}",
         "marker": {
          "color": [
           "rgb(250, 162, 13)"
          ]
         },
         "name": "HYG",
         "showlegend": true,
         "type": "bar",
         "x": [
          "Pre-2008 Financial Crisis"
         ],
         "y": [
          3.106263647556697e-10
         ]
        },
        {
         "hoverinfo": "y",
         "hovertemplate": "CMCSA<br>%{y:.2f}",
         "marker": {
          "color": [
           "rgb(219, 83, 57)"
          ]
         },
         "name": "CMCSA",
         "showlegend": true,
         "type": "bar",
         "x": [
          "Pre-2008 Financial Crisis"
         ],
         "y": [
          3.099432562594685e-10
         ]
        },
        {
         "hoverinfo": "y",
         "hovertemplate": "EXC<br>%{y:.2f}",
         "marker": {
          "color": [
           "rgb(199, 63, 75)"
          ]
         },
         "name": "EXC",
         "showlegend": true,
         "type": "bar",
         "x": [
          "Pre-2008 Financial Crisis"
         ],
         "y": [
          3.0748138002044667e-10
         ]
        },
        {
         "hoverinfo": "y",
         "hovertemplate": "AXP<br>%{y:.2f}",
         "marker": {
          "color": [
           "rgb(137, 34, 104)"
          ]
         },
         "name": "AXP",
         "showlegend": true,
         "type": "bar",
         "x": [
          "Pre-2008 Financial Crisis"
         ],
         "y": [
          3.0414947305130213e-10
         ]
        },
        {
         "hoverinfo": "y",
         "hovertemplate": "CHTR<br>%{y:.2f}",
         "marker": {
          "color": [
           "rgb(230, 97, 44)"
          ]
         },
         "name": "CHTR",
         "showlegend": true,
         "type": "bar",
         "x": [
          "Pre-2008 Financial Crisis"
         ],
         "y": [
          3.0359732085512393e-10
         ]
        },
        {
         "hoverinfo": "y",
         "hovertemplate": "ADBE<br>%{y:.2f}",
         "marker": {
          "color": [
           "rgb(10, 4, 27)"
          ]
         },
         "name": "ADBE",
         "showlegend": true,
         "type": "bar",
         "x": [
          "Pre-2008 Financial Crisis"
         ],
         "y": [
          2.937511812653836e-10
         ]
        },
        {
         "hoverinfo": "y",
         "hovertemplate": "JNJ<br>%{y:.2f}",
         "marker": {
          "color": [
           "rgb(20, 9, 50)"
          ]
         },
         "name": "JNJ",
         "showlegend": true,
         "type": "bar",
         "x": [
          "Pre-2008 Financial Crisis"
         ],
         "y": [
          2.88226202395778e-10
         ]
        },
        {
         "hoverinfo": "y",
         "hovertemplate": "UPS<br>%{y:.2f}",
         "marker": {
          "color": [
           "rgb(180, 52, 87)"
          ]
         },
         "name": "UPS",
         "showlegend": true,
         "type": "bar",
         "x": [
          "Pre-2008 Financial Crisis"
         ],
         "y": [
          2.846924566651292e-10
         ]
        },
        {
         "hoverinfo": "y",
         "hovertemplate": "LQD<br>%{y:.2f}",
         "marker": {
          "color": [
           "rgb(251, 158, 9)"
          ]
         },
         "name": "LQD",
         "showlegend": true,
         "type": "bar",
         "x": [
          "Pre-2008 Financial Crisis"
         ],
         "y": [
          2.840087128291372e-10
         ]
        },
        {
         "hoverinfo": "y",
         "hovertemplate": "HON<br>%{y:.2f}",
         "marker": {
          "color": [
           "rgb(164, 44, 96)"
          ]
         },
         "name": "HON",
         "showlegend": true,
         "type": "bar",
         "x": [
          "Pre-2008 Financial Crisis"
         ],
         "y": [
          2.8176552155814637e-10
         ]
        },
        {
         "hoverinfo": "y",
         "hovertemplate": "TLT<br>%{y:.2f}",
         "marker": {
          "color": [
           "rgb(249, 146, 11)"
          ]
         },
         "name": "TLT",
         "showlegend": true,
         "type": "bar",
         "x": [
          "Pre-2008 Financial Crisis"
         ],
         "y": [
          2.631835506595831e-10
         ]
        },
        {
         "hoverinfo": "y",
         "hovertemplate": "TJX<br>%{y:.2f}",
         "marker": {
          "color": [
           "rgb(110, 24, 109)"
          ]
         },
         "name": "TJX",
         "showlegend": true,
         "type": "bar",
         "x": [
          "Pre-2008 Financial Crisis"
         ],
         "y": [
          2.2971659413743052e-10
         ]
        },
        {
         "hoverinfo": "y",
         "hovertemplate": "MMM<br>%{y:.2f}",
         "marker": {
          "color": [
           "rgb(161, 42, 97)"
          ]
         },
         "name": "MMM",
         "showlegend": true,
         "type": "bar",
         "x": [
          "Pre-2008 Financial Crisis"
         ],
         "y": [
          2.2467438268789562e-10
         ]
        },
        {
         "hoverinfo": "y",
         "hovertemplate": "BMY<br>%{y:.2f}",
         "marker": {
          "color": [
           "rgb(29, 12, 67)"
          ]
         },
         "name": "BMY",
         "showlegend": true,
         "type": "bar",
         "x": [
          "Pre-2008 Financial Crisis"
         ],
         "y": [
          2.2416173959926605e-10
         ]
        },
        {
         "hoverinfo": "y",
         "hovertemplate": "LOW<br>%{y:.2f}",
         "marker": {
          "color": [
           "rgb(106, 23, 108)"
          ]
         },
         "name": "LOW",
         "showlegend": true,
         "type": "bar",
         "x": [
          "Pre-2008 Financial Crisis"
         ],
         "y": [
          2.1815268990619837e-10
         ]
        },
        {
         "hoverinfo": "y",
         "hovertemplate": "PG<br>%{y:.2f}",
         "marker": {
          "color": [
           "rgb(51, 12, 86)"
          ]
         },
         "name": "PG",
         "showlegend": true,
         "type": "bar",
         "x": [
          "Pre-2008 Financial Crisis"
         ],
         "y": [
          2.0197115760080448e-10
         ]
        },
        {
         "hoverinfo": "y",
         "hovertemplate": "SLB<br>%{y:.2f}",
         "marker": {
          "color": [
           "rgb(240, 116, 30)"
          ]
         },
         "name": "SLB",
         "showlegend": true,
         "type": "bar",
         "x": [
          "Pre-2008 Financial Crisis"
         ],
         "y": [
          2.0060595875061843e-10
         ]
        },
        {
         "hoverinfo": "y",
         "hovertemplate": "MRK<br>%{y:.2f}",
         "marker": {
          "color": [
           "rgb(24, 11, 59)"
          ]
         },
         "name": "MRK",
         "showlegend": true,
         "type": "bar",
         "x": [
          "Pre-2008 Financial Crisis"
         ],
         "y": [
          1.9066924444308395e-10
         ]
        },
        {
         "hoverinfo": "y",
         "hovertemplate": "TMUS<br>%{y:.2f}",
         "marker": {
          "color": [
           "rgb(233, 99, 42)"
          ]
         },
         "name": "TMUS",
         "showlegend": true,
         "type": "bar",
         "x": [
          "Pre-2008 Financial Crisis"
         ],
         "y": [
          1.8893963937929873e-10
         ]
        },
        {
         "hoverinfo": "y",
         "hovertemplate": "TSLA<br>%{y:.2f}",
         "marker": {
          "color": [
           "rgb(86, 16, 108)"
          ]
         },
         "name": "TSLA",
         "showlegend": true,
         "type": "bar",
         "x": [
          "Pre-2008 Financial Crisis"
         ],
         "y": [
          1.8622688909925526e-10
         ]
        },
        {
         "hoverinfo": "y",
         "hovertemplate": "CL<br>%{y:.2f}",
         "marker": {
          "color": [
           "rgb(65, 12, 99)"
          ]
         },
         "name": "CL",
         "showlegend": true,
         "type": "bar",
         "x": [
          "Pre-2008 Financial Crisis"
         ],
         "y": [
          1.8104972555476535e-10
         ]
        },
        {
         "hoverinfo": "y",
         "hovertemplate": "BKR<br>%{y:.2f}",
         "marker": {
          "color": [
           "rgb(245, 135, 18)"
          ]
         },
         "name": "BKR",
         "showlegend": true,
         "type": "bar",
         "x": [
          "Pre-2008 Financial Crisis"
         ],
         "y": [
          1.7757730049024533e-10
         ]
        },
        {
         "hoverinfo": "y",
         "hovertemplate": "UNP<br>%{y:.2f}",
         "marker": {
          "color": [
           "rgb(167, 45, 95)"
          ]
         },
         "name": "UNP",
         "showlegend": true,
         "type": "bar",
         "x": [
          "Pre-2008 Financial Crisis"
         ],
         "y": [
          1.7626926462791248e-10
         ]
        },
        {
         "hoverinfo": "y",
         "hovertemplate": "ORCL<br>%{y:.2f}",
         "marker": {
          "color": [
           "rgb(12, 5, 31)"
          ]
         },
         "name": "ORCL",
         "showlegend": true,
         "type": "bar",
         "x": [
          "Pre-2008 Financial Crisis"
         ],
         "y": [
          1.7237769642804352e-10
         ]
        },
        {
         "hoverinfo": "y",
         "hovertemplate": "MS<br>%{y:.2f}",
         "marker": {
          "color": [
           "rgb(144, 36, 102)"
          ]
         },
         "name": "MS",
         "showlegend": true,
         "type": "bar",
         "x": [
          "Pre-2008 Financial Crisis"
         ],
         "y": [
          1.7232447183198336e-10
         ]
        },
        {
         "hoverinfo": "y",
         "hovertemplate": "DIS<br>%{y:.2f}",
         "marker": {
          "color": [
           "rgb(221, 86, 54)"
          ]
         },
         "name": "DIS",
         "showlegend": true,
         "type": "bar",
         "x": [
          "Pre-2008 Financial Crisis"
         ],
         "y": [
          1.653689463707216e-10
         ]
        },
        {
         "hoverinfo": "y",
         "hovertemplate": "IEF<br>%{y:.2f}",
         "marker": {
          "color": [
           "rgb(248, 143, 14)"
          ]
         },
         "name": "IEF",
         "showlegend": true,
         "type": "bar",
         "x": [
          "Pre-2008 Financial Crisis"
         ],
         "y": [
          1.6143618413028752e-10
         ]
        },
        {
         "hoverinfo": "y",
         "hovertemplate": "MSFT<br>%{y:.2f}",
         "marker": {
          "color": [
           "rgb(2, 1, 9)"
          ]
         },
         "name": "MSFT",
         "showlegend": true,
         "type": "bar",
         "x": [
          "Pre-2008 Financial Crisis"
         ],
         "y": [
          1.605520404151755e-10
         ]
        },
        {
         "hoverinfo": "y",
         "hovertemplate": "GOVT<br>%{y:.2f}",
         "marker": {
          "color": [
           "rgb(250, 150, 9)"
          ]
         },
         "name": "GOVT",
         "showlegend": true,
         "type": "bar",
         "x": [
          "Pre-2008 Financial Crisis"
         ],
         "y": [
          1.4857317951347484e-10
         ]
        },
        {
         "hoverinfo": "y",
         "hovertemplate": "ED<br>%{y:.2f}",
         "marker": {
          "color": [
           "rgb(208, 69, 69)"
          ]
         },
         "name": "ED",
         "showlegend": true,
         "type": "bar",
         "x": [
          "Pre-2008 Financial Crisis"
         ],
         "y": [
          1.4186150616570567e-10
         ]
        },
        {
         "hoverinfo": "y",
         "hovertemplate": "GS<br>%{y:.2f}",
         "marker": {
          "color": [
           "rgb(127, 30, 107)"
          ]
         },
         "name": "GS",
         "showlegend": true,
         "type": "bar",
         "x": [
          "Pre-2008 Financial Crisis"
         ],
         "y": [
          1.4172454043494595e-10
         ]
        },
        {
         "hoverinfo": "y",
         "hovertemplate": "BND<br>%{y:.2f}",
         "marker": {
          "color": [
           "rgb(251, 154, 7)"
          ]
         },
         "name": "BND",
         "showlegend": true,
         "type": "bar",
         "x": [
          "Pre-2008 Financial Crisis"
         ],
         "y": [
          1.3850463775800714e-10
         ]
        },
        {
         "hoverinfo": "y",
         "hovertemplate": "GIS<br>%{y:.2f}",
         "marker": {
          "color": [
           "rgb(79, 14, 107)"
          ]
         },
         "name": "GIS",
         "showlegend": true,
         "type": "bar",
         "x": [
          "Pre-2008 Financial Crisis"
         ],
         "y": [
          1.3842937389109195e-10
         ]
        },
        {
         "hoverinfo": "y",
         "hovertemplate": "BAC<br>%{y:.2f}",
         "marker": {
          "color": [
           "rgb(123, 29, 108)"
          ]
         },
         "name": "BAC",
         "showlegend": true,
         "type": "bar",
         "x": [
          "Pre-2008 Financial Crisis"
         ],
         "y": [
          1.3790030573570392e-10
         ]
        },
        {
         "hoverinfo": "y",
         "hovertemplate": "AEP<br>%{y:.2f}",
         "marker": {
          "color": [
           "rgb(195, 61, 77)"
          ]
         },
         "name": "AEP",
         "showlegend": true,
         "type": "bar",
         "x": [
          "Pre-2008 Financial Crisis"
         ],
         "y": [
          1.3704146626459934e-10
         ]
        },
        {
         "hoverinfo": "y",
         "hovertemplate": "C<br>%{y:.2f}",
         "marker": {
          "color": [
           "rgb(134, 33, 105)"
          ]
         },
         "name": "C",
         "showlegend": true,
         "type": "bar",
         "x": [
          "Pre-2008 Financial Crisis"
         ],
         "y": [
          1.3502546266060712e-10
         ]
        },
        {
         "hoverinfo": "y",
         "hovertemplate": "HAL<br>%{y:.2f}",
         "marker": {
          "color": [
           "rgb(244, 131, 21)"
          ]
         },
         "name": "HAL",
         "showlegend": true,
         "type": "bar",
         "x": [
          "Pre-2008 Financial Crisis"
         ],
         "y": [
          1.3201502150056513e-10
         ]
        },
        {
         "hoverinfo": "y",
         "hovertemplate": "CSCO<br>%{y:.2f}",
         "marker": {
          "color": [
           "rgb(18, 8, 45)"
          ]
         },
         "name": "CSCO",
         "showlegend": true,
         "type": "bar",
         "x": [
          "Pre-2008 Financial Crisis"
         ],
         "y": [
          1.305350476195038e-10
         ]
        },
        {
         "hoverinfo": "y",
         "hovertemplate": "CRM<br>%{y:.2f}",
         "marker": {
          "color": [
           "rgb(14, 6, 36)"
          ]
         },
         "name": "CRM",
         "showlegend": true,
         "type": "bar",
         "x": [
          "Pre-2008 Financial Crisis"
         ],
         "y": [
          1.1562022478104483e-10
         ]
        },
        {
         "hoverinfo": "y",
         "hovertemplate": "CVX<br>%{y:.2f}",
         "marker": {
          "color": [
           "rgb(238, 109, 35)"
          ]
         },
         "name": "CVX",
         "showlegend": true,
         "type": "bar",
         "x": [
          "Pre-2008 Financial Crisis"
         ],
         "y": [
          1.1364173354126511e-10
         ]
        },
        {
         "hoverinfo": "y",
         "hovertemplate": "T<br>%{y:.2f}",
         "marker": {
          "color": [
           "rgb(217, 80, 59)"
          ]
         },
         "name": "T",
         "showlegend": true,
         "type": "bar",
         "x": [
          "Pre-2008 Financial Crisis"
         ],
         "y": [
          1.0292516518282977e-10
         ]
        },
        {
         "hoverinfo": "y",
         "hovertemplate": "RTX<br>%{y:.2f}",
         "marker": {
          "color": [
           "rgb(177, 51, 89)"
          ]
         },
         "name": "RTX",
         "showlegend": true,
         "type": "bar",
         "x": [
          "Pre-2008 Financial Crisis"
         ],
         "y": [
          9.859059808790296e-11
         ]
        },
        {
         "hoverinfo": "y",
         "hovertemplate": "ABBV<br>%{y:.2f}",
         "marker": {
          "color": [
           "rgb(36, 12, 73)"
          ]
         },
         "name": "ABBV",
         "showlegend": true,
         "type": "bar",
         "x": [
          "Pre-2008 Financial Crisis"
         ],
         "y": [
          9.459240269903296e-11
         ]
        },
        {
         "hoverinfo": "y",
         "hovertemplate": "USB<br>%{y:.2f}",
         "marker": {
          "color": [
           "rgb(150, 39, 100)"
          ]
         },
         "name": "USB",
         "showlegend": true,
         "type": "bar",
         "x": [
          "Pre-2008 Financial Crisis"
         ],
         "y": [
          8.368941352206123e-11
         ]
        },
        {
         "hoverinfo": "y",
         "hovertemplate": "UNH<br>%{y:.2f}",
         "marker": {
          "color": [
           "rgb(26, 12, 63)"
          ]
         },
         "name": "UNH",
         "showlegend": true,
         "type": "bar",
         "x": [
          "Pre-2008 Financial Crisis"
         ],
         "y": [
          7.296675571999496e-11
         ]
        },
        {
         "hoverinfo": "y",
         "hovertemplate": "ROST<br>%{y:.2f}",
         "marker": {
          "color": [
           "rgb(113, 26, 109)"
          ]
         },
         "name": "ROST",
         "showlegend": true,
         "type": "bar",
         "x": [
          "Pre-2008 Financial Crisis"
         ],
         "y": [
          7.163907772826806e-11
         ]
        },
        {
         "hoverinfo": "y",
         "hovertemplate": "NFLX<br>%{y:.2f}",
         "marker": {
          "color": [
           "rgb(224, 88, 52)"
          ]
         },
         "name": "NFLX",
         "showlegend": true,
         "type": "bar",
         "x": [
          "Pre-2008 Financial Crisis"
         ],
         "y": [
          7.038308403184116e-11
         ]
        },
        {
         "hoverinfo": "y",
         "hovertemplate": "TIP<br>%{y:.2f}",
         "marker": {
          "color": [
           "rgb(250, 166, 17)"
          ]
         },
         "name": "TIP",
         "showlegend": true,
         "type": "bar",
         "x": [
          "Pre-2008 Financial Crisis"
         ],
         "y": [
          null
         ]
        },
        {
         "hoverinfo": "y",
         "hovertemplate": "AGG<br>%{y:.2f}",
         "marker": {
          "color": [
           "rgb(250, 170, 21)"
          ]
         },
         "name": "AGG",
         "showlegend": true,
         "type": "bar",
         "x": [
          "Pre-2008 Financial Crisis"
         ],
         "y": [
          null
         ]
        },
        {
         "hoverinfo": "y",
         "hovertemplate": "VCIT<br>%{y:.2f}",
         "marker": {
          "color": [
           "rgb(250, 174, 25)"
          ]
         },
         "name": "VCIT",
         "showlegend": true,
         "type": "bar",
         "x": [
          "Pre-2008 Financial Crisis"
         ],
         "y": [
          null
         ]
        },
        {
         "hoverinfo": "y",
         "hovertemplate": "VCSH<br>%{y:.2f}",
         "marker": {
          "color": [
           "rgb(249, 178, 29)"
          ]
         },
         "name": "VCSH",
         "showlegend": true,
         "type": "bar",
         "x": [
          "Pre-2008 Financial Crisis"
         ],
         "y": [
          null
         ]
        },
        {
         "hoverinfo": "y",
         "hovertemplate": "VNQ<br>%{y:.2f}",
         "marker": {
          "color": [
           "rgb(249, 182, 34)"
          ]
         },
         "name": "VNQ",
         "showlegend": true,
         "type": "bar",
         "x": [
          "Pre-2008 Financial Crisis"
         ],
         "y": [
          null
         ]
        },
        {
         "hoverinfo": "y",
         "hovertemplate": "IYR<br>%{y:.2f}",
         "marker": {
          "color": [
           "rgb(249, 186, 38)"
          ]
         },
         "name": "IYR",
         "showlegend": true,
         "type": "bar",
         "x": [
          "Pre-2008 Financial Crisis"
         ],
         "y": [
          null
         ]
        },
        {
         "hoverinfo": "y",
         "hovertemplate": "SCHH<br>%{y:.2f}",
         "marker": {
          "color": [
           "rgb(248, 190, 42)"
          ]
         },
         "name": "SCHH",
         "showlegend": true,
         "type": "bar",
         "x": [
          "Pre-2008 Financial Crisis"
         ],
         "y": [
          null
         ]
        },
        {
         "hoverinfo": "y",
         "hovertemplate": "RWR<br>%{y:.2f}",
         "marker": {
          "color": [
           "rgb(248, 194, 46)"
          ]
         },
         "name": "RWR",
         "showlegend": true,
         "type": "bar",
         "x": [
          "Pre-2008 Financial Crisis"
         ],
         "y": [
          null
         ]
        },
        {
         "hoverinfo": "y",
         "hovertemplate": "XLRE<br>%{y:.2f}",
         "marker": {
          "color": [
           "rgb(248, 198, 50)"
          ]
         },
         "name": "XLRE",
         "showlegend": true,
         "type": "bar",
         "x": [
          "Pre-2008 Financial Crisis"
         ],
         "y": [
          null
         ]
        },
        {
         "hoverinfo": "y",
         "hovertemplate": "PLD<br>%{y:.2f}",
         "marker": {
          "color": [
           "rgb(248, 202, 54)"
          ]
         },
         "name": "PLD",
         "showlegend": true,
         "type": "bar",
         "x": [
          "Pre-2008 Financial Crisis"
         ],
         "y": [
          null
         ]
        },
        {
         "hoverinfo": "y",
         "hovertemplate": "O<br>%{y:.2f}",
         "marker": {
          "color": [
           "rgb(247, 206, 58)"
          ]
         },
         "name": "O",
         "showlegend": true,
         "type": "bar",
         "x": [
          "Pre-2008 Financial Crisis"
         ],
         "y": [
          null
         ]
        },
        {
         "hoverinfo": "y",
         "hovertemplate": "SPG<br>%{y:.2f}",
         "marker": {
          "color": [
           "rgb(247, 210, 64)"
          ]
         },
         "name": "SPG",
         "showlegend": true,
         "type": "bar",
         "x": [
          "Pre-2008 Financial Crisis"
         ],
         "y": [
          null
         ]
        },
        {
         "hoverinfo": "y",
         "hovertemplate": "AVB<br>%{y:.2f}",
         "marker": {
          "color": [
           "rgb(248, 214, 71)"
          ]
         },
         "name": "AVB",
         "showlegend": true,
         "type": "bar",
         "x": [
          "Pre-2008 Financial Crisis"
         ],
         "y": [
          null
         ]
        },
        {
         "hoverinfo": "y",
         "hovertemplate": "EQR<br>%{y:.2f}",
         "marker": {
          "color": [
           "rgb(248, 217, 79)"
          ]
         },
         "name": "EQR",
         "showlegend": true,
         "type": "bar",
         "x": [
          "Pre-2008 Financial Crisis"
         ],
         "y": [
          null
         ]
        },
        {
         "hoverinfo": "y",
         "hovertemplate": "GLD<br>%{y:.2f}",
         "marker": {
          "color": [
           "rgb(248, 220, 87)"
          ]
         },
         "name": "GLD",
         "showlegend": true,
         "type": "bar",
         "x": [
          "Pre-2008 Financial Crisis"
         ],
         "y": [
          null
         ]
        },
        {
         "hoverinfo": "y",
         "hovertemplate": "IAU<br>%{y:.2f}",
         "marker": {
          "color": [
           "rgb(249, 224, 94)"
          ]
         },
         "name": "IAU",
         "showlegend": true,
         "type": "bar",
         "x": [
          "Pre-2008 Financial Crisis"
         ],
         "y": [
          null
         ]
        },
        {
         "hoverinfo": "y",
         "hovertemplate": "SLV<br>%{y:.2f}",
         "marker": {
          "color": [
           "rgb(249, 227, 102)"
          ]
         },
         "name": "SLV",
         "showlegend": true,
         "type": "bar",
         "x": [
          "Pre-2008 Financial Crisis"
         ],
         "y": [
          null
         ]
        },
        {
         "hoverinfo": "y",
         "hovertemplate": "PDBC<br>%{y:.2f}",
         "marker": {
          "color": [
           "rgb(249, 231, 110)"
          ]
         },
         "name": "PDBC",
         "showlegend": true,
         "type": "bar",
         "x": [
          "Pre-2008 Financial Crisis"
         ],
         "y": [
          null
         ]
        },
        {
         "hoverinfo": "y",
         "hovertemplate": "DBC<br>%{y:.2f}",
         "marker": {
          "color": [
           "rgb(250, 234, 118)"
          ]
         },
         "name": "DBC",
         "showlegend": true,
         "type": "bar",
         "x": [
          "Pre-2008 Financial Crisis"
         ],
         "y": [
          null
         ]
        },
        {
         "hoverinfo": "y",
         "hovertemplate": "USO<br>%{y:.2f}",
         "marker": {
          "color": [
           "rgb(250, 238, 125)"
          ]
         },
         "name": "USO",
         "showlegend": true,
         "type": "bar",
         "x": [
          "Pre-2008 Financial Crisis"
         ],
         "y": [
          null
         ]
        },
        {
         "hoverinfo": "y",
         "hovertemplate": "UNG<br>%{y:.2f}",
         "marker": {
          "color": [
           "rgb(251, 241, 133)"
          ]
         },
         "name": "UNG",
         "showlegend": true,
         "type": "bar",
         "x": [
          "Pre-2008 Financial Crisis"
         ],
         "y": [
          null
         ]
        },
        {
         "hoverinfo": "y",
         "hovertemplate": "BNO<br>%{y:.2f}",
         "marker": {
          "color": [
           "rgb(251, 245, 141)"
          ]
         },
         "name": "BNO",
         "showlegend": true,
         "type": "bar",
         "x": [
          "Pre-2008 Financial Crisis"
         ],
         "y": [
          null
         ]
        },
        {
         "hoverinfo": "y",
         "hovertemplate": "GSG<br>%{y:.2f}",
         "marker": {
          "color": [
           "rgb(251, 248, 149)"
          ]
         },
         "name": "GSG",
         "showlegend": true,
         "type": "bar",
         "x": [
          "Pre-2008 Financial Crisis"
         ],
         "y": [
          null
         ]
        },
        {
         "hoverinfo": "y",
         "hovertemplate": "CORN<br>%{y:.2f}",
         "marker": {
          "color": [
           "rgb(252, 252, 156)"
          ]
         },
         "name": "CORN",
         "showlegend": true,
         "type": "bar",
         "x": [
          "Pre-2008 Financial Crisis"
         ],
         "y": [
          null
         ]
        },
        {
         "hoverinfo": "y",
         "hovertemplate": "AXP<br>%{y:.2f}",
         "marker": {
          "color": [
           "rgb(137, 34, 104)"
          ]
         },
         "name": "",
         "showlegend": false,
         "type": "bar",
         "x": [
          "Global Financial Crisis"
         ],
         "y": [
          0.4391714939124361
         ]
        },
        {
         "hoverinfo": "y",
         "hovertemplate": "UNH<br>%{y:.2f}",
         "marker": {
          "color": [
           "rgb(26, 12, 63)"
          ]
         },
         "name": "",
         "showlegend": false,
         "type": "bar",
         "x": [
          "Global Financial Crisis"
         ],
         "y": [
          0.18568012423155647
         ]
        },
        {
         "hoverinfo": "y",
         "hovertemplate": "TGT<br>%{y:.2f}",
         "marker": {
          "color": [
           "rgb(99, 21, 108)"
          ]
         },
         "name": "",
         "showlegend": false,
         "type": "bar",
         "x": [
          "Global Financial Crisis"
         ],
         "y": [
          0.09522292921984889
         ]
        },
        {
         "hoverinfo": "y",
         "hovertemplate": "C<br>%{y:.2f}",
         "marker": {
          "color": [
           "rgb(134, 33, 105)"
          ]
         },
         "name": "",
         "showlegend": false,
         "type": "bar",
         "x": [
          "Global Financial Crisis"
         ],
         "y": [
          0.0688286866894773
         ]
        },
        {
         "hoverinfo": "y",
         "hovertemplate": "D<br>%{y:.2f}",
         "marker": {
          "color": [
           "rgb(202, 65, 73)"
          ]
         },
         "name": "",
         "showlegend": false,
         "type": "bar",
         "x": [
          "Global Financial Crisis"
         ],
         "y": [
          0.0587138221923485
         ]
        },
        {
         "hoverinfo": "y",
         "hovertemplate": "META<br>%{y:.2f}",
         "marker": {
          "color": [
           "rgb(228, 94, 47)"
          ]
         },
         "name": "",
         "showlegend": false,
         "type": "bar",
         "x": [
          "Global Financial Crisis"
         ],
         "y": [
          0.05012006911144407
         ]
        },
        {
         "hoverinfo": "y",
         "hovertemplate": "AMZN<br>%{y:.2f}",
         "marker": {
          "color": [
           "rgb(6, 3, 18)"
          ]
         },
         "name": "",
         "showlegend": false,
         "type": "bar",
         "x": [
          "Global Financial Crisis"
         ],
         "y": [
          0.030824941859637155
         ]
        },
        {
         "hoverinfo": "y",
         "hovertemplate": "HD<br>%{y:.2f}",
         "marker": {
          "color": [
           "rgb(103, 22, 108)"
          ]
         },
         "name": "",
         "showlegend": false,
         "type": "bar",
         "x": [
          "Global Financial Crisis"
         ],
         "y": [
          0.030330852010855492
         ]
        },
        {
         "hoverinfo": "y",
         "hovertemplate": "LMT<br>%{y:.2f}",
         "marker": {
          "color": [
           "rgb(170, 47, 93)"
          ]
         },
         "name": "",
         "showlegend": false,
         "type": "bar",
         "x": [
          "Global Financial Crisis"
         ],
         "y": [
          0.019334036077661387
         ]
        },
        {
         "hoverinfo": "y",
         "hovertemplate": "ADBE<br>%{y:.2f}",
         "marker": {
          "color": [
           "rgb(10, 4, 27)"
          ]
         },
         "name": "",
         "showlegend": false,
         "type": "bar",
         "x": [
          "Global Financial Crisis"
         ],
         "y": [
          0.015610715603155047
         ]
        },
        {
         "hoverinfo": "y",
         "hovertemplate": "IYR<br>%{y:.2f}",
         "marker": {
          "color": [
           "rgb(249, 186, 38)"
          ]
         },
         "name": "",
         "showlegend": false,
         "type": "bar",
         "x": [
          "Global Financial Crisis"
         ],
         "y": [
          0.005131702459927758
         ]
        },
        {
         "hoverinfo": "y",
         "hovertemplate": "USB<br>%{y:.2f}",
         "marker": {
          "color": [
           "rgb(150, 39, 100)"
          ]
         },
         "name": "",
         "showlegend": false,
         "type": "bar",
         "x": [
          "Global Financial Crisis"
         ],
         "y": [
          0.0010301828329937694
         ]
        },
        {
         "hoverinfo": "y",
         "hovertemplate": "BKR<br>%{y:.2f}",
         "marker": {
          "color": [
           "rgb(245, 135, 18)"
          ]
         },
         "name": "",
         "showlegend": false,
         "type": "bar",
         "x": [
          "Global Financial Crisis"
         ],
         "y": [
          1.276737741361516e-7
         ]
        },
        {
         "hoverinfo": "y",
         "hovertemplate": "IEF<br>%{y:.2f}",
         "marker": {
          "color": [
           "rgb(248, 143, 14)"
          ]
         },
         "name": "",
         "showlegend": false,
         "type": "bar",
         "x": [
          "Global Financial Crisis"
         ],
         "y": [
          2.5467476748841575e-8
         ]
        },
        {
         "hoverinfo": "y",
         "hovertemplate": "WFC<br>%{y:.2f}",
         "marker": {
          "color": [
           "rgb(130, 32, 106)"
          ]
         },
         "name": "",
         "showlegend": false,
         "type": "bar",
         "x": [
          "Global Financial Crisis"
         ],
         "y": [
          1.6332003329957345e-8
         ]
        },
        {
         "hoverinfo": "y",
         "hovertemplate": "TSLA<br>%{y:.2f}",
         "marker": {
          "color": [
           "rgb(86, 16, 108)"
          ]
         },
         "name": "",
         "showlegend": false,
         "type": "bar",
         "x": [
          "Global Financial Crisis"
         ],
         "y": [
          8.875346207364852e-9
         ]
        },
        {
         "hoverinfo": "y",
         "hovertemplate": "SCHH<br>%{y:.2f}",
         "marker": {
          "color": [
           "rgb(248, 190, 42)"
          ]
         },
         "name": "",
         "showlegend": false,
         "type": "bar",
         "x": [
          "Global Financial Crisis"
         ],
         "y": [
          7.255235263903171e-9
         ]
        },
        {
         "hoverinfo": "y",
         "hovertemplate": "OXY<br>%{y:.2f}",
         "marker": {
          "color": [
           "rgb(246, 139, 16)"
          ]
         },
         "name": "",
         "showlegend": false,
         "type": "bar",
         "x": [
          "Global Financial Crisis"
         ],
         "y": [
          6.786819154034111e-9
         ]
        },
        {
         "hoverinfo": "y",
         "hovertemplate": "AAPL<br>%{y:.2f}",
         "marker": {
          "color": [
           "rgb(0, 0, 4)"
          ]
         },
         "name": "",
         "showlegend": false,
         "type": "bar",
         "x": [
          "Global Financial Crisis"
         ],
         "y": [
          6.701477770098911e-9
         ]
        },
        {
         "hoverinfo": "y",
         "hovertemplate": "COP<br>%{y:.2f}",
         "marker": {
          "color": [
           "rgb(239, 113, 32)"
          ]
         },
         "name": "",
         "showlegend": false,
         "type": "bar",
         "x": [
          "Global Financial Crisis"
         ],
         "y": [
          6.1304715836669324e-9
         ]
        },
        {
         "hoverinfo": "y",
         "hovertemplate": "GE<br>%{y:.2f}",
         "marker": {
          "color": [
           "rgb(173, 49, 91)"
          ]
         },
         "name": "",
         "showlegend": false,
         "type": "bar",
         "x": [
          "Global Financial Crisis"
         ],
         "y": [
          5.9004066517122155e-9
         ]
        },
        {
         "hoverinfo": "y",
         "hovertemplate": "ABBV<br>%{y:.2f}",
         "marker": {
          "color": [
           "rgb(36, 12, 73)"
          ]
         },
         "name": "",
         "showlegend": false,
         "type": "bar",
         "x": [
          "Global Financial Crisis"
         ],
         "y": [
          5.580173070279684e-9
         ]
        },
        {
         "hoverinfo": "y",
         "hovertemplate": "MRK<br>%{y:.2f}",
         "marker": {
          "color": [
           "rgb(24, 11, 59)"
          ]
         },
         "name": "",
         "showlegend": false,
         "type": "bar",
         "x": [
          "Global Financial Crisis"
         ],
         "y": [
          5.302104709864661e-9
         ]
        },
        {
         "hoverinfo": "y",
         "hovertemplate": "NEE<br>%{y:.2f}",
         "marker": {
          "color": [
           "rgb(186, 56, 83)"
          ]
         },
         "name": "",
         "showlegend": false,
         "type": "bar",
         "x": [
          "Global Financial Crisis"
         ],
         "y": [
          5.239330034386644e-9
         ]
        },
        {
         "hoverinfo": "y",
         "hovertemplate": "GIS<br>%{y:.2f}",
         "marker": {
          "color": [
           "rgb(79, 14, 107)"
          ]
         },
         "name": "",
         "showlegend": false,
         "type": "bar",
         "x": [
          "Global Financial Crisis"
         ],
         "y": [
          4.871778496799094e-9
         ]
        },
        {
         "hoverinfo": "y",
         "hovertemplate": "BA<br>%{y:.2f}",
         "marker": {
          "color": [
           "rgb(154, 40, 99)"
          ]
         },
         "name": "",
         "showlegend": false,
         "type": "bar",
         "x": [
          "Global Financial Crisis"
         ],
         "y": [
          4.864940464565496e-9
         ]
        },
        {
         "hoverinfo": "y",
         "hovertemplate": "BLK<br>%{y:.2f}",
         "marker": {
          "color": [
           "rgb(147, 38, 101)"
          ]
         },
         "name": "",
         "showlegend": false,
         "type": "bar",
         "x": [
          "Global Financial Crisis"
         ],
         "y": [
          4.700737852271387e-9
         ]
        },
        {
         "hoverinfo": "y",
         "hovertemplate": "RWR<br>%{y:.2f}",
         "marker": {
          "color": [
           "rgb(248, 194, 46)"
          ]
         },
         "name": "",
         "showlegend": false,
         "type": "bar",
         "x": [
          "Global Financial Crisis"
         ],
         "y": [
          4.638593293679523e-9
         ]
        },
        {
         "hoverinfo": "y",
         "hovertemplate": "BAC<br>%{y:.2f}",
         "marker": {
          "color": [
           "rgb(123, 29, 108)"
          ]
         },
         "name": "",
         "showlegend": false,
         "type": "bar",
         "x": [
          "Global Financial Crisis"
         ],
         "y": [
          4.457095324197318e-9
         ]
        },
        {
         "hoverinfo": "y",
         "hovertemplate": "TIP<br>%{y:.2f}",
         "marker": {
          "color": [
           "rgb(250, 166, 17)"
          ]
         },
         "name": "",
         "showlegend": false,
         "type": "bar",
         "x": [
          "Global Financial Crisis"
         ],
         "y": [
          4.379880477036036e-9
         ]
        },
        {
         "hoverinfo": "y",
         "hovertemplate": "SRE<br>%{y:.2f}",
         "marker": {
          "color": [
           "rgb(210, 72, 67)"
          ]
         },
         "name": "",
         "showlegend": false,
         "type": "bar",
         "x": [
          "Global Financial Crisis"
         ],
         "y": [
          4.146686696572657e-9
         ]
        },
        {
         "hoverinfo": "y",
         "hovertemplate": "SBUX<br>%{y:.2f}",
         "marker": {
          "color": [
           "rgb(96, 20, 108)"
          ]
         },
         "name": "",
         "showlegend": false,
         "type": "bar",
         "x": [
          "Global Financial Crisis"
         ],
         "y": [
          4.125399618423101e-9
         ]
        },
        {
         "hoverinfo": "y",
         "hovertemplate": "SLB<br>%{y:.2f}",
         "marker": {
          "color": [
           "rgb(240, 116, 30)"
          ]
         },
         "name": "",
         "showlegend": false,
         "type": "bar",
         "x": [
          "Global Financial Crisis"
         ],
         "y": [
          4.114544668420759e-9
         ]
        },
        {
         "hoverinfo": "y",
         "hovertemplate": "CAT<br>%{y:.2f}",
         "marker": {
          "color": [
           "rgb(157, 41, 98)"
          ]
         },
         "name": "",
         "showlegend": false,
         "type": "bar",
         "x": [
          "Global Financial Crisis"
         ],
         "y": [
          4.103108484394431e-9
         ]
        },
        {
         "hoverinfo": "y",
         "hovertemplate": "DE<br>%{y:.2f}",
         "marker": {
          "color": [
           "rgb(183, 54, 85)"
          ]
         },
         "name": "",
         "showlegend": false,
         "type": "bar",
         "x": [
          "Global Financial Crisis"
         ],
         "y": [
          4.06243563662061e-9
         ]
        },
        {
         "hoverinfo": "y",
         "hovertemplate": "SPOT<br>%{y:.2f}",
         "marker": {
          "color": [
           "rgb(235, 102, 39)"
          ]
         },
         "name": "",
         "showlegend": false,
         "type": "bar",
         "x": [
          "Global Financial Crisis"
         ],
         "y": [
          4.059399112645994e-9
         ]
        },
        {
         "hoverinfo": "y",
         "hovertemplate": "PPL<br>%{y:.2f}",
         "marker": {
          "color": [
           "rgb(212, 74, 64)"
          ]
         },
         "name": "",
         "showlegend": false,
         "type": "bar",
         "x": [
          "Global Financial Crisis"
         ],
         "y": [
          4.043638477807576e-9
         ]
        },
        {
         "hoverinfo": "y",
         "hovertemplate": "LQD<br>%{y:.2f}",
         "marker": {
          "color": [
           "rgb(251, 158, 9)"
          ]
         },
         "name": "",
         "showlegend": false,
         "type": "bar",
         "x": [
          "Global Financial Crisis"
         ],
         "y": [
          3.992385371498094e-9
         ]
        },
        {
         "hoverinfo": "y",
         "hovertemplate": "XEL<br>%{y:.2f}",
         "marker": {
          "color": [
           "rgb(205, 67, 71)"
          ]
         },
         "name": "",
         "showlegend": false,
         "type": "bar",
         "x": [
          "Global Financial Crisis"
         ],
         "y": [
          3.9710528004575946e-9
         ]
        },
        {
         "hoverinfo": "y",
         "hovertemplate": "UNP<br>%{y:.2f}",
         "marker": {
          "color": [
           "rgb(167, 45, 95)"
          ]
         },
         "name": "",
         "showlegend": false,
         "type": "bar",
         "x": [
          "Global Financial Crisis"
         ],
         "y": [
          3.852576711425166e-9
         ]
        },
        {
         "hoverinfo": "y",
         "hovertemplate": "MDLZ<br>%{y:.2f}",
         "marker": {
          "color": [
           "rgb(75, 12, 107)"
          ]
         },
         "name": "",
         "showlegend": false,
         "type": "bar",
         "x": [
          "Global Financial Crisis"
         ],
         "y": [
          3.753177450935184e-9
         ]
        },
        {
         "hoverinfo": "y",
         "hovertemplate": "PSX<br>%{y:.2f}",
         "marker": {
          "color": [
           "rgb(241, 120, 28)"
          ]
         },
         "name": "",
         "showlegend": false,
         "type": "bar",
         "x": [
          "Global Financial Crisis"
         ],
         "y": [
          3.653766019768127e-9
         ]
        },
        {
         "hoverinfo": "y",
         "hovertemplate": "PFE<br>%{y:.2f}",
         "marker": {
          "color": [
           "rgb(22, 10, 54)"
          ]
         },
         "name": "",
         "showlegend": false,
         "type": "bar",
         "x": [
          "Global Financial Crisis"
         ],
         "y": [
          3.592846805279258e-9
         ]
        },
        {
         "hoverinfo": "y",
         "hovertemplate": "PG<br>%{y:.2f}",
         "marker": {
          "color": [
           "rgb(51, 12, 86)"
          ]
         },
         "name": "",
         "showlegend": false,
         "type": "bar",
         "x": [
          "Global Financial Crisis"
         ],
         "y": [
          3.5616004927032185e-9
         ]
        },
        {
         "hoverinfo": "y",
         "hovertemplate": "NVDA<br>%{y:.2f}",
         "marker": {
          "color": [
           "rgb(8, 4, 22)"
          ]
         },
         "name": "",
         "showlegend": false,
         "type": "bar",
         "x": [
          "Global Financial Crisis"
         ],
         "y": [
          3.556231308624236e-9
         ]
        },
        {
         "hoverinfo": "y",
         "hovertemplate": "RTX<br>%{y:.2f}",
         "marker": {
          "color": [
           "rgb(177, 51, 89)"
          ]
         },
         "name": "",
         "showlegend": false,
         "type": "bar",
         "x": [
          "Global Financial Crisis"
         ],
         "y": [
          3.519512454053149e-9
         ]
        },
        {
         "hoverinfo": "y",
         "hovertemplate": "ORCL<br>%{y:.2f}",
         "marker": {
          "color": [
           "rgb(12, 5, 31)"
          ]
         },
         "name": "",
         "showlegend": false,
         "type": "bar",
         "x": [
          "Global Financial Crisis"
         ],
         "y": [
          3.46762366778176e-9
         ]
        },
        {
         "hoverinfo": "y",
         "hovertemplate": "LOW<br>%{y:.2f}",
         "marker": {
          "color": [
           "rgb(106, 23, 108)"
          ]
         },
         "name": "",
         "showlegend": false,
         "type": "bar",
         "x": [
          "Global Financial Crisis"
         ],
         "y": [
          3.2687457270696867e-9
         ]
        },
        {
         "hoverinfo": "y",
         "hovertemplate": "TJX<br>%{y:.2f}",
         "marker": {
          "color": [
           "rgb(110, 24, 109)"
          ]
         },
         "name": "",
         "showlegend": false,
         "type": "bar",
         "x": [
          "Global Financial Crisis"
         ],
         "y": [
          3.2687452462651766e-9
         ]
        },
        {
         "hoverinfo": "y",
         "hovertemplate": "CL<br>%{y:.2f}",
         "marker": {
          "color": [
           "rgb(65, 12, 99)"
          ]
         },
         "name": "",
         "showlegend": false,
         "type": "bar",
         "x": [
          "Global Financial Crisis"
         ],
         "y": [
          3.1892304964263005e-9
         ]
        },
        {
         "hoverinfo": "y",
         "hovertemplate": "UPS<br>%{y:.2f}",
         "marker": {
          "color": [
           "rgb(180, 52, 87)"
          ]
         },
         "name": "",
         "showlegend": false,
         "type": "bar",
         "x": [
          "Global Financial Crisis"
         ],
         "y": [
          3.1052425891866574e-9
         ]
        },
        {
         "hoverinfo": "y",
         "hovertemplate": "WMT<br>%{y:.2f}",
         "marker": {
          "color": [
           "rgb(61, 12, 95)"
          ]
         },
         "name": "",
         "showlegend": false,
         "type": "bar",
         "x": [
          "Global Financial Crisis"
         ],
         "y": [
          3.0774232728767284e-9
         ]
        },
        {
         "hoverinfo": "y",
         "hovertemplate": "DIS<br>%{y:.2f}",
         "marker": {
          "color": [
           "rgb(221, 86, 54)"
          ]
         },
         "name": "",
         "showlegend": false,
         "type": "bar",
         "x": [
          "Global Financial Crisis"
         ],
         "y": [
          3.0756840692164325e-9
         ]
        },
        {
         "hoverinfo": "y",
         "hovertemplate": "T<br>%{y:.2f}",
         "marker": {
          "color": [
           "rgb(217, 80, 59)"
          ]
         },
         "name": "",
         "showlegend": false,
         "type": "bar",
         "x": [
          "Global Financial Crisis"
         ],
         "y": [
          3.0545339702501943e-9
         ]
        },
        {
         "hoverinfo": "y",
         "hovertemplate": "CHTR<br>%{y:.2f}",
         "marker": {
          "color": [
           "rgb(230, 97, 44)"
          ]
         },
         "name": "",
         "showlegend": false,
         "type": "bar",
         "x": [
          "Global Financial Crisis"
         ],
         "y": [
          3.016910513991681e-9
         ]
        },
        {
         "hoverinfo": "y",
         "hovertemplate": "VLO<br>%{y:.2f}",
         "marker": {
          "color": [
           "rgb(242, 124, 25)"
          ]
         },
         "name": "",
         "showlegend": false,
         "type": "bar",
         "x": [
          "Global Financial Crisis"
         ],
         "y": [
          2.8300521780425664e-9
         ]
        },
        {
         "hoverinfo": "y",
         "hovertemplate": "MO<br>%{y:.2f}",
         "marker": {
          "color": [
           "rgb(72, 12, 105)"
          ]
         },
         "name": "",
         "showlegend": false,
         "type": "bar",
         "x": [
          "Global Financial Crisis"
         ],
         "y": [
          2.8233257235991377e-9
         ]
        },
        {
         "hoverinfo": "y",
         "hovertemplate": "AEP<br>%{y:.2f}",
         "marker": {
          "color": [
           "rgb(195, 61, 77)"
          ]
         },
         "name": "",
         "showlegend": false,
         "type": "bar",
         "x": [
          "Global Financial Crisis"
         ],
         "y": [
          2.744323130274738e-9
         ]
        },
        {
         "hoverinfo": "y",
         "hovertemplate": "GILD<br>%{y:.2f}",
         "marker": {
          "color": [
           "rgb(40, 12, 77)"
          ]
         },
         "name": "",
         "showlegend": false,
         "type": "bar",
         "x": [
          "Global Financial Crisis"
         ],
         "y": [
          2.7424041150588843e-9
         ]
        },
        {
         "hoverinfo": "y",
         "hovertemplate": "ELV<br>%{y:.2f}",
         "marker": {
          "color": [
           "rgb(47, 12, 83)"
          ]
         },
         "name": "",
         "showlegend": false,
         "type": "bar",
         "x": [
          "Global Financial Crisis"
         ],
         "y": [
          2.7341631247216824e-9
         ]
        },
        {
         "hoverinfo": "y",
         "hovertemplate": "CMCSA<br>%{y:.2f}",
         "marker": {
          "color": [
           "rgb(219, 83, 57)"
          ]
         },
         "name": "",
         "showlegend": false,
         "type": "bar",
         "x": [
          "Global Financial Crisis"
         ],
         "y": [
          2.683268355187029e-9
         ]
        },
        {
         "hoverinfo": "y",
         "hovertemplate": "HAL<br>%{y:.2f}",
         "marker": {
          "color": [
           "rgb(244, 131, 21)"
          ]
         },
         "name": "",
         "showlegend": false,
         "type": "bar",
         "x": [
          "Global Financial Crisis"
         ],
         "y": [
          2.6705908177857755e-9
         ]
        },
        {
         "hoverinfo": "y",
         "hovertemplate": "VNQ<br>%{y:.2f}",
         "marker": {
          "color": [
           "rgb(249, 182, 34)"
          ]
         },
         "name": "",
         "showlegend": false,
         "type": "bar",
         "x": [
          "Global Financial Crisis"
         ],
         "y": [
          2.6274663173787742e-9
         ]
        },
        {
         "hoverinfo": "y",
         "hovertemplate": "HYG<br>%{y:.2f}",
         "marker": {
          "color": [
           "rgb(250, 162, 13)"
          ]
         },
         "name": "",
         "showlegend": false,
         "type": "bar",
         "x": [
          "Global Financial Crisis"
         ],
         "y": [
          2.5818920892665816e-9
         ]
        },
        {
         "hoverinfo": "y",
         "hovertemplate": "VZ<br>%{y:.2f}",
         "marker": {
          "color": [
           "rgb(214, 77, 62)"
          ]
         },
         "name": "",
         "showlegend": false,
         "type": "bar",
         "x": [
          "Global Financial Crisis"
         ],
         "y": [
          2.541986389165032e-9
         ]
        },
        {
         "hoverinfo": "y",
         "hovertemplate": "GOOG<br>%{y:.2f}",
         "marker": {
          "color": [
           "rgb(4, 2, 13)"
          ]
         },
         "name": "",
         "showlegend": false,
         "type": "bar",
         "x": [
          "Global Financial Crisis"
         ],
         "y": [
          2.5181757556786644e-9
         ]
        },
        {
         "hoverinfo": "y",
         "hovertemplate": "CRM<br>%{y:.2f}",
         "marker": {
          "color": [
           "rgb(14, 6, 36)"
          ]
         },
         "name": "",
         "showlegend": false,
         "type": "bar",
         "x": [
          "Global Financial Crisis"
         ],
         "y": [
          2.512634105181644e-9
         ]
        },
        {
         "hoverinfo": "y",
         "hovertemplate": "ROST<br>%{y:.2f}",
         "marker": {
          "color": [
           "rgb(113, 26, 109)"
          ]
         },
         "name": "",
         "showlegend": false,
         "type": "bar",
         "x": [
          "Global Financial Crisis"
         ],
         "y": [
          2.408406164741446e-9
         ]
        },
        {
         "hoverinfo": "y",
         "hovertemplate": "KO<br>%{y:.2f}",
         "marker": {
          "color": [
           "rgb(54, 12, 89)"
          ]
         },
         "name": "",
         "showlegend": false,
         "type": "bar",
         "x": [
          "Global Financial Crisis"
         ],
         "y": [
          2.34686502770115e-9
         ]
        },
        {
         "hoverinfo": "y",
         "hovertemplate": "EXC<br>%{y:.2f}",
         "marker": {
          "color": [
           "rgb(199, 63, 75)"
          ]
         },
         "name": "",
         "showlegend": false,
         "type": "bar",
         "x": [
          "Global Financial Crisis"
         ],
         "y": [
          2.2624795039407965e-9
         ]
        },
        {
         "hoverinfo": "y",
         "hovertemplate": "HON<br>%{y:.2f}",
         "marker": {
          "color": [
           "rgb(164, 44, 96)"
          ]
         },
         "name": "",
         "showlegend": false,
         "type": "bar",
         "x": [
          "Global Financial Crisis"
         ],
         "y": [
          2.2596195795535345e-9
         ]
        },
        {
         "hoverinfo": "y",
         "hovertemplate": "XOM<br>%{y:.2f}",
         "marker": {
          "color": [
           "rgb(237, 105, 37)"
          ]
         },
         "name": "",
         "showlegend": false,
         "type": "bar",
         "x": [
          "Global Financial Crisis"
         ],
         "y": [
          2.1879438730919303e-9
         ]
        },
        {
         "hoverinfo": "y",
         "hovertemplate": "CSCO<br>%{y:.2f}",
         "marker": {
          "color": [
           "rgb(18, 8, 45)"
          ]
         },
         "name": "",
         "showlegend": false,
         "type": "bar",
         "x": [
          "Global Financial Crisis"
         ],
         "y": [
          2.1813730195437475e-9
         ]
        },
        {
         "hoverinfo": "y",
         "hovertemplate": "MSFT<br>%{y:.2f}",
         "marker": {
          "color": [
           "rgb(2, 1, 9)"
          ]
         },
         "name": "",
         "showlegend": false,
         "type": "bar",
         "x": [
          "Global Financial Crisis"
         ],
         "y": [
          2.1639291474472682e-9
         ]
        },
        {
         "hoverinfo": "y",
         "hovertemplate": "SCHW<br>%{y:.2f}",
         "marker": {
          "color": [
           "rgb(140, 35, 103)"
          ]
         },
         "name": "",
         "showlegend": false,
         "type": "bar",
         "x": [
          "Global Financial Crisis"
         ],
         "y": [
          2.096454903871308e-9
         ]
        },
        {
         "hoverinfo": "y",
         "hovertemplate": "MPC<br>%{y:.2f}",
         "marker": {
          "color": [
           "rgb(243, 128, 23)"
          ]
         },
         "name": "",
         "showlegend": false,
         "type": "bar",
         "x": [
          "Global Financial Crisis"
         ],
         "y": [
          2.094726677169549e-9
         ]
        },
        {
         "hoverinfo": "y",
         "hovertemplate": "PEP<br>%{y:.2f}",
         "marker": {
          "color": [
           "rgb(58, 12, 92)"
          ]
         },
         "name": "",
         "showlegend": false,
         "type": "bar",
         "x": [
          "Global Financial Crisis"
         ],
         "y": [
          2.0688740599110826e-9
         ]
        },
        {
         "hoverinfo": "y",
         "hovertemplate": "AMT<br>%{y:.2f}",
         "marker": {
          "color": [
           "rgb(117, 27, 109)"
          ]
         },
         "name": "",
         "showlegend": false,
         "type": "bar",
         "x": [
          "Global Financial Crisis"
         ],
         "y": [
          2.058849562283454e-9
         ]
        },
        {
         "hoverinfo": "y",
         "hovertemplate": "VCSH<br>%{y:.2f}",
         "marker": {
          "color": [
           "rgb(249, 178, 29)"
          ]
         },
         "name": "",
         "showlegend": false,
         "type": "bar",
         "x": [
          "Global Financial Crisis"
         ],
         "y": [
          2.039838346327334e-9
         ]
        },
        {
         "hoverinfo": "y",
         "hovertemplate": "COST<br>%{y:.2f}",
         "marker": {
          "color": [
           "rgb(82, 15, 107)"
          ]
         },
         "name": "",
         "showlegend": false,
         "type": "bar",
         "x": [
          "Global Financial Crisis"
         ],
         "y": [
          2.0252189251532305e-9
         ]
        },
        {
         "hoverinfo": "y",
         "hovertemplate": "LLY<br>%{y:.2f}",
         "marker": {
          "color": [
           "rgb(33, 12, 70)"
          ]
         },
         "name": "",
         "showlegend": false,
         "type": "bar",
         "x": [
          "Global Financial Crisis"
         ],
         "y": [
          1.9587495535554484e-9
         ]
        },
        {
         "hoverinfo": "y",
         "hovertemplate": "GOOGL<br>%{y:.2f}",
         "marker": {
          "color": [
           "rgb(226, 91, 49)"
          ]
         },
         "name": "",
         "showlegend": false,
         "type": "bar",
         "x": [
          "Global Financial Crisis"
         ],
         "y": [
          1.9057137625162328e-9
         ]
        },
        {
         "hoverinfo": "y",
         "hovertemplate": "JPM<br>%{y:.2f}",
         "marker": {
          "color": [
           "rgb(120, 28, 109)"
          ]
         },
         "name": "",
         "showlegend": false,
         "type": "bar",
         "x": [
          "Global Financial Crisis"
         ],
         "y": [
          1.874704483496867e-9
         ]
        },
        {
         "hoverinfo": "y",
         "hovertemplate": "MMM<br>%{y:.2f}",
         "marker": {
          "color": [
           "rgb(161, 42, 97)"
          ]
         },
         "name": "",
         "showlegend": false,
         "type": "bar",
         "x": [
          "Global Financial Crisis"
         ],
         "y": [
          1.8551341574793626e-9
         ]
        },
        {
         "hoverinfo": "y",
         "hovertemplate": "XLRE<br>%{y:.2f}",
         "marker": {
          "color": [
           "rgb(248, 198, 50)"
          ]
         },
         "name": "",
         "showlegend": false,
         "type": "bar",
         "x": [
          "Global Financial Crisis"
         ],
         "y": [
          1.8229776633686295e-9
         ]
        },
        {
         "hoverinfo": "y",
         "hovertemplate": "MS<br>%{y:.2f}",
         "marker": {
          "color": [
           "rgb(144, 36, 102)"
          ]
         },
         "name": "",
         "showlegend": false,
         "type": "bar",
         "x": [
          "Global Financial Crisis"
         ],
         "y": [
          1.8156558231495302e-9
         ]
        },
        {
         "hoverinfo": "y",
         "hovertemplate": "DUK<br>%{y:.2f}",
         "marker": {
          "color": [
           "rgb(189, 58, 81)"
          ]
         },
         "name": "",
         "showlegend": false,
         "type": "bar",
         "x": [
          "Global Financial Crisis"
         ],
         "y": [
          1.8021932993083134e-9
         ]
        },
        {
         "hoverinfo": "y",
         "hovertemplate": "TMUS<br>%{y:.2f}",
         "marker": {
          "color": [
           "rgb(233, 99, 42)"
          ]
         },
         "name": "",
         "showlegend": false,
         "type": "bar",
         "x": [
          "Global Financial Crisis"
         ],
         "y": [
          1.787805750039491e-9
         ]
        },
        {
         "hoverinfo": "y",
         "hovertemplate": "INTC<br>%{y:.2f}",
         "marker": {
          "color": [
           "rgb(16, 7, 41)"
          ]
         },
         "name": "",
         "showlegend": false,
         "type": "bar",
         "x": [
          "Global Financial Crisis"
         ],
         "y": [
          1.7820765290419712e-9
         ]
        },
        {
         "hoverinfo": "y",
         "hovertemplate": "SO<br>%{y:.2f}",
         "marker": {
          "color": [
           "rgb(192, 60, 79)"
          ]
         },
         "name": "",
         "showlegend": false,
         "type": "bar",
         "x": [
          "Global Financial Crisis"
         ],
         "y": [
          1.713988450809794e-9
         ]
        },
        {
         "hoverinfo": "y",
         "hovertemplate": "AGG<br>%{y:.2f}",
         "marker": {
          "color": [
           "rgb(250, 170, 21)"
          ]
         },
         "name": "",
         "showlegend": false,
         "type": "bar",
         "x": [
          "Global Financial Crisis"
         ],
         "y": [
          1.6925972700122586e-9
         ]
        },
        {
         "hoverinfo": "y",
         "hovertemplate": "GS<br>%{y:.2f}",
         "marker": {
          "color": [
           "rgb(127, 30, 107)"
          ]
         },
         "name": "",
         "showlegend": false,
         "type": "bar",
         "x": [
          "Global Financial Crisis"
         ],
         "y": [
          1.635786196312979e-9
         ]
        },
        {
         "hoverinfo": "y",
         "hovertemplate": "CVX<br>%{y:.2f}",
         "marker": {
          "color": [
           "rgb(238, 109, 35)"
          ]
         },
         "name": "",
         "showlegend": false,
         "type": "bar",
         "x": [
          "Global Financial Crisis"
         ],
         "y": [
          1.6129709881705122e-9
         ]
        },
        {
         "hoverinfo": "y",
         "hovertemplate": "NKE<br>%{y:.2f}",
         "marker": {
          "color": [
           "rgb(89, 17, 108)"
          ]
         },
         "name": "",
         "showlegend": false,
         "type": "bar",
         "x": [
          "Global Financial Crisis"
         ],
         "y": [
          1.558261586900407e-9
         ]
        },
        {
         "hoverinfo": "y",
         "hovertemplate": "ED<br>%{y:.2f}",
         "marker": {
          "color": [
           "rgb(208, 69, 69)"
          ]
         },
         "name": "",
         "showlegend": false,
         "type": "bar",
         "x": [
          "Global Financial Crisis"
         ],
         "y": [
          1.4771507075337867e-9
         ]
        },
        {
         "hoverinfo": "y",
         "hovertemplate": "BND<br>%{y:.2f}",
         "marker": {
          "color": [
           "rgb(251, 154, 7)"
          ]
         },
         "name": "",
         "showlegend": false,
         "type": "bar",
         "x": [
          "Global Financial Crisis"
         ],
         "y": [
          1.4552686662741384e-9
         ]
        },
        {
         "hoverinfo": "y",
         "hovertemplate": "KMB<br>%{y:.2f}",
         "marker": {
          "color": [
           "rgb(68, 12, 102)"
          ]
         },
         "name": "",
         "showlegend": false,
         "type": "bar",
         "x": [
          "Global Financial Crisis"
         ],
         "y": [
          1.425393377843904e-9
         ]
        },
        {
         "hoverinfo": "y",
         "hovertemplate": "MDT<br>%{y:.2f}",
         "marker": {
          "color": [
           "rgb(43, 12, 80)"
          ]
         },
         "name": "",
         "showlegend": false,
         "type": "bar",
         "x": [
          "Global Financial Crisis"
         ],
         "y": [
          1.3241236992867928e-9
         ]
        },
        {
         "hoverinfo": "y",
         "hovertemplate": "MCD<br>%{y:.2f}",
         "marker": {
          "color": [
           "rgb(92, 18, 108)"
          ]
         },
         "name": "",
         "showlegend": false,
         "type": "bar",
         "x": [
          "Global Financial Crisis"
         ],
         "y": [
          1.2805076722888546e-9
         ]
        },
        {
         "hoverinfo": "y",
         "hovertemplate": "TLT<br>%{y:.2f}",
         "marker": {
          "color": [
           "rgb(249, 146, 11)"
          ]
         },
         "name": "",
         "showlegend": false,
         "type": "bar",
         "x": [
          "Global Financial Crisis"
         ],
         "y": [
          1.222262811846049e-9
         ]
        },
        {
         "hoverinfo": "y",
         "hovertemplate": "NFLX<br>%{y:.2f}",
         "marker": {
          "color": [
           "rgb(224, 88, 52)"
          ]
         },
         "name": "",
         "showlegend": false,
         "type": "bar",
         "x": [
          "Global Financial Crisis"
         ],
         "y": [
          1.1531880541517186e-9
         ]
        },
        {
         "hoverinfo": "y",
         "hovertemplate": "JNJ<br>%{y:.2f}",
         "marker": {
          "color": [
           "rgb(20, 9, 50)"
          ]
         },
         "name": "",
         "showlegend": false,
         "type": "bar",
         "x": [
          "Global Financial Crisis"
         ],
         "y": [
          1.1131494156068863e-9
         ]
        },
        {
         "hoverinfo": "y",
         "hovertemplate": "GOVT<br>%{y:.2f}",
         "marker": {
          "color": [
           "rgb(250, 150, 9)"
          ]
         },
         "name": "",
         "showlegend": false,
         "type": "bar",
         "x": [
          "Global Financial Crisis"
         ],
         "y": [
          1.0862863612530917e-9
         ]
        },
        {
         "hoverinfo": "y",
         "hovertemplate": "BMY<br>%{y:.2f}",
         "marker": {
          "color": [
           "rgb(29, 12, 67)"
          ]
         },
         "name": "",
         "showlegend": false,
         "type": "bar",
         "x": [
          "Global Financial Crisis"
         ],
         "y": [
          7.882827538363006e-10
         ]
        },
        {
         "hoverinfo": "y",
         "hovertemplate": "VCIT<br>%{y:.2f}",
         "marker": {
          "color": [
           "rgb(250, 174, 25)"
          ]
         },
         "name": "",
         "showlegend": false,
         "type": "bar",
         "x": [
          "Global Financial Crisis"
         ],
         "y": [
          6.596523294169315e-10
         ]
        },
        {
         "hoverinfo": "y",
         "hovertemplate": "PLD<br>%{y:.2f}",
         "marker": {
          "color": [
           "rgb(248, 202, 54)"
          ]
         },
         "name": "",
         "showlegend": false,
         "type": "bar",
         "x": [
          "Global Financial Crisis"
         ],
         "y": [
          null
         ]
        },
        {
         "hoverinfo": "y",
         "hovertemplate": "O<br>%{y:.2f}",
         "marker": {
          "color": [
           "rgb(247, 206, 58)"
          ]
         },
         "name": "",
         "showlegend": false,
         "type": "bar",
         "x": [
          "Global Financial Crisis"
         ],
         "y": [
          null
         ]
        },
        {
         "hoverinfo": "y",
         "hovertemplate": "SPG<br>%{y:.2f}",
         "marker": {
          "color": [
           "rgb(247, 210, 64)"
          ]
         },
         "name": "",
         "showlegend": false,
         "type": "bar",
         "x": [
          "Global Financial Crisis"
         ],
         "y": [
          null
         ]
        },
        {
         "hoverinfo": "y",
         "hovertemplate": "AVB<br>%{y:.2f}",
         "marker": {
          "color": [
           "rgb(248, 214, 71)"
          ]
         },
         "name": "",
         "showlegend": false,
         "type": "bar",
         "x": [
          "Global Financial Crisis"
         ],
         "y": [
          null
         ]
        },
        {
         "hoverinfo": "y",
         "hovertemplate": "EQR<br>%{y:.2f}",
         "marker": {
          "color": [
           "rgb(248, 217, 79)"
          ]
         },
         "name": "",
         "showlegend": false,
         "type": "bar",
         "x": [
          "Global Financial Crisis"
         ],
         "y": [
          null
         ]
        },
        {
         "hoverinfo": "y",
         "hovertemplate": "GLD<br>%{y:.2f}",
         "marker": {
          "color": [
           "rgb(248, 220, 87)"
          ]
         },
         "name": "",
         "showlegend": false,
         "type": "bar",
         "x": [
          "Global Financial Crisis"
         ],
         "y": [
          null
         ]
        },
        {
         "hoverinfo": "y",
         "hovertemplate": "IAU<br>%{y:.2f}",
         "marker": {
          "color": [
           "rgb(249, 224, 94)"
          ]
         },
         "name": "",
         "showlegend": false,
         "type": "bar",
         "x": [
          "Global Financial Crisis"
         ],
         "y": [
          null
         ]
        },
        {
         "hoverinfo": "y",
         "hovertemplate": "SLV<br>%{y:.2f}",
         "marker": {
          "color": [
           "rgb(249, 227, 102)"
          ]
         },
         "name": "",
         "showlegend": false,
         "type": "bar",
         "x": [
          "Global Financial Crisis"
         ],
         "y": [
          null
         ]
        },
        {
         "hoverinfo": "y",
         "hovertemplate": "PDBC<br>%{y:.2f}",
         "marker": {
          "color": [
           "rgb(249, 231, 110)"
          ]
         },
         "name": "",
         "showlegend": false,
         "type": "bar",
         "x": [
          "Global Financial Crisis"
         ],
         "y": [
          null
         ]
        },
        {
         "hoverinfo": "y",
         "hovertemplate": "DBC<br>%{y:.2f}",
         "marker": {
          "color": [
           "rgb(250, 234, 118)"
          ]
         },
         "name": "",
         "showlegend": false,
         "type": "bar",
         "x": [
          "Global Financial Crisis"
         ],
         "y": [
          null
         ]
        },
        {
         "hoverinfo": "y",
         "hovertemplate": "USO<br>%{y:.2f}",
         "marker": {
          "color": [
           "rgb(250, 238, 125)"
          ]
         },
         "name": "",
         "showlegend": false,
         "type": "bar",
         "x": [
          "Global Financial Crisis"
         ],
         "y": [
          null
         ]
        },
        {
         "hoverinfo": "y",
         "hovertemplate": "UNG<br>%{y:.2f}",
         "marker": {
          "color": [
           "rgb(251, 241, 133)"
          ]
         },
         "name": "",
         "showlegend": false,
         "type": "bar",
         "x": [
          "Global Financial Crisis"
         ],
         "y": [
          null
         ]
        },
        {
         "hoverinfo": "y",
         "hovertemplate": "BNO<br>%{y:.2f}",
         "marker": {
          "color": [
           "rgb(251, 245, 141)"
          ]
         },
         "name": "",
         "showlegend": false,
         "type": "bar",
         "x": [
          "Global Financial Crisis"
         ],
         "y": [
          null
         ]
        },
        {
         "hoverinfo": "y",
         "hovertemplate": "GSG<br>%{y:.2f}",
         "marker": {
          "color": [
           "rgb(251, 248, 149)"
          ]
         },
         "name": "",
         "showlegend": false,
         "type": "bar",
         "x": [
          "Global Financial Crisis"
         ],
         "y": [
          null
         ]
        },
        {
         "hoverinfo": "y",
         "hovertemplate": "CORN<br>%{y:.2f}",
         "marker": {
          "color": [
           "rgb(252, 252, 156)"
          ]
         },
         "name": "",
         "showlegend": false,
         "type": "bar",
         "x": [
          "Global Financial Crisis"
         ],
         "y": [
          null
         ]
        },
        {
         "hoverinfo": "y",
         "hovertemplate": "IEF<br>%{y:.2f}",
         "marker": {
          "color": [
           "rgb(248, 143, 14)"
          ]
         },
         "name": "",
         "showlegend": false,
         "type": "bar",
         "x": [
          "Post-Crisis Recovery"
         ],
         "y": [
          0.3177710547109944
         ]
        },
        {
         "hoverinfo": "y",
         "hovertemplate": "NEE<br>%{y:.2f}",
         "marker": {
          "color": [
           "rgb(186, 56, 83)"
          ]
         },
         "name": "",
         "showlegend": false,
         "type": "bar",
         "x": [
          "Post-Crisis Recovery"
         ],
         "y": [
          0.16021269054453952
         ]
        },
        {
         "hoverinfo": "y",
         "hovertemplate": "BAC<br>%{y:.2f}",
         "marker": {
          "color": [
           "rgb(123, 29, 108)"
          ]
         },
         "name": "",
         "showlegend": false,
         "type": "bar",
         "x": [
          "Post-Crisis Recovery"
         ],
         "y": [
          0.09155038612389413
         ]
        },
        {
         "hoverinfo": "y",
         "hovertemplate": "AXP<br>%{y:.2f}",
         "marker": {
          "color": [
           "rgb(137, 34, 104)"
          ]
         },
         "name": "",
         "showlegend": false,
         "type": "bar",
         "x": [
          "Post-Crisis Recovery"
         ],
         "y": [
          0.08198011681330021
         ]
        },
        {
         "hoverinfo": "y",
         "hovertemplate": "HON<br>%{y:.2f}",
         "marker": {
          "color": [
           "rgb(164, 44, 96)"
          ]
         },
         "name": "",
         "showlegend": false,
         "type": "bar",
         "x": [
          "Post-Crisis Recovery"
         ],
         "y": [
          0.0744837556873288
         ]
        },
        {
         "hoverinfo": "y",
         "hovertemplate": "META<br>%{y:.2f}",
         "marker": {
          "color": [
           "rgb(228, 94, 47)"
          ]
         },
         "name": "",
         "showlegend": false,
         "type": "bar",
         "x": [
          "Post-Crisis Recovery"
         ],
         "y": [
          0.05772939635448307
         ]
        },
        {
         "hoverinfo": "y",
         "hovertemplate": "D<br>%{y:.2f}",
         "marker": {
          "color": [
           "rgb(202, 65, 73)"
          ]
         },
         "name": "",
         "showlegend": false,
         "type": "bar",
         "x": [
          "Post-Crisis Recovery"
         ],
         "y": [
          0.0390542580644624
         ]
        },
        {
         "hoverinfo": "y",
         "hovertemplate": "SBUX<br>%{y:.2f}",
         "marker": {
          "color": [
           "rgb(96, 20, 108)"
          ]
         },
         "name": "",
         "showlegend": false,
         "type": "bar",
         "x": [
          "Post-Crisis Recovery"
         ],
         "y": [
          0.03199026388546033
         ]
        },
        {
         "hoverinfo": "y",
         "hovertemplate": "BND<br>%{y:.2f}",
         "marker": {
          "color": [
           "rgb(251, 154, 7)"
          ]
         },
         "name": "",
         "showlegend": false,
         "type": "bar",
         "x": [
          "Post-Crisis Recovery"
         ],
         "y": [
          0.026145418681772774
         ]
        },
        {
         "hoverinfo": "y",
         "hovertemplate": "SPOT<br>%{y:.2f}",
         "marker": {
          "color": [
           "rgb(235, 102, 39)"
          ]
         },
         "name": "",
         "showlegend": false,
         "type": "bar",
         "x": [
          "Post-Crisis Recovery"
         ],
         "y": [
          0.02556615416248364
         ]
        },
        {
         "hoverinfo": "y",
         "hovertemplate": "AAPL<br>%{y:.2f}",
         "marker": {
          "color": [
           "rgb(0, 0, 4)"
          ]
         },
         "name": "",
         "showlegend": false,
         "type": "bar",
         "x": [
          "Post-Crisis Recovery"
         ],
         "y": [
          0.025096642058872888
         ]
        },
        {
         "hoverinfo": "y",
         "hovertemplate": "MRK<br>%{y:.2f}",
         "marker": {
          "color": [
           "rgb(24, 11, 59)"
          ]
         },
         "name": "",
         "showlegend": false,
         "type": "bar",
         "x": [
          "Post-Crisis Recovery"
         ],
         "y": [
          0.01681413297558972
         ]
        },
        {
         "hoverinfo": "y",
         "hovertemplate": "VNQ<br>%{y:.2f}",
         "marker": {
          "color": [
           "rgb(249, 182, 34)"
          ]
         },
         "name": "",
         "showlegend": false,
         "type": "bar",
         "x": [
          "Post-Crisis Recovery"
         ],
         "y": [
          0.013604498096130038
         ]
        },
        {
         "hoverinfo": "y",
         "hovertemplate": "XEL<br>%{y:.2f}",
         "marker": {
          "color": [
           "rgb(205, 67, 71)"
          ]
         },
         "name": "",
         "showlegend": false,
         "type": "bar",
         "x": [
          "Post-Crisis Recovery"
         ],
         "y": [
          0.0111999336337318
         ]
        },
        {
         "hoverinfo": "y",
         "hovertemplate": "MMM<br>%{y:.2f}",
         "marker": {
          "color": [
           "rgb(161, 42, 97)"
          ]
         },
         "name": "",
         "showlegend": false,
         "type": "bar",
         "x": [
          "Post-Crisis Recovery"
         ],
         "y": [
          0.010965793019028298
         ]
        },
        {
         "hoverinfo": "y",
         "hovertemplate": "GILD<br>%{y:.2f}",
         "marker": {
          "color": [
           "rgb(40, 12, 77)"
          ]
         },
         "name": "",
         "showlegend": false,
         "type": "bar",
         "x": [
          "Post-Crisis Recovery"
         ],
         "y": [
          0.00809126906104102
         ]
        },
        {
         "hoverinfo": "y",
         "hovertemplate": "TLT<br>%{y:.2f}",
         "marker": {
          "color": [
           "rgb(249, 146, 11)"
          ]
         },
         "name": "",
         "showlegend": false,
         "type": "bar",
         "x": [
          "Post-Crisis Recovery"
         ],
         "y": [
          0.007093117710730832
         ]
        },
        {
         "hoverinfo": "y",
         "hovertemplate": "OXY<br>%{y:.2f}",
         "marker": {
          "color": [
           "rgb(246, 139, 16)"
          ]
         },
         "name": "",
         "showlegend": false,
         "type": "bar",
         "x": [
          "Post-Crisis Recovery"
         ],
         "y": [
          0.0006510429886073057
         ]
        },
        {
         "hoverinfo": "y",
         "hovertemplate": "PG<br>%{y:.2f}",
         "marker": {
          "color": [
           "rgb(51, 12, 86)"
          ]
         },
         "name": "",
         "showlegend": false,
         "type": "bar",
         "x": [
          "Post-Crisis Recovery"
         ],
         "y": [
          1.1787252155024303e-8
         ]
        },
        {
         "hoverinfo": "y",
         "hovertemplate": "ELV<br>%{y:.2f}",
         "marker": {
          "color": [
           "rgb(47, 12, 83)"
          ]
         },
         "name": "",
         "showlegend": false,
         "type": "bar",
         "x": [
          "Post-Crisis Recovery"
         ],
         "y": [
          7.693845471385657e-9
         ]
        },
        {
         "hoverinfo": "y",
         "hovertemplate": "ADBE<br>%{y:.2f}",
         "marker": {
          "color": [
           "rgb(10, 4, 27)"
          ]
         },
         "name": "",
         "showlegend": false,
         "type": "bar",
         "x": [
          "Post-Crisis Recovery"
         ],
         "y": [
          7.2097466206542615e-9
         ]
        },
        {
         "hoverinfo": "y",
         "hovertemplate": "BA<br>%{y:.2f}",
         "marker": {
          "color": [
           "rgb(154, 40, 99)"
          ]
         },
         "name": "",
         "showlegend": false,
         "type": "bar",
         "x": [
          "Post-Crisis Recovery"
         ],
         "y": [
          4.8849714710925e-9
         ]
        },
        {
         "hoverinfo": "y",
         "hovertemplate": "RTX<br>%{y:.2f}",
         "marker": {
          "color": [
           "rgb(177, 51, 89)"
          ]
         },
         "name": "",
         "showlegend": false,
         "type": "bar",
         "x": [
          "Post-Crisis Recovery"
         ],
         "y": [
          3.688032479133083e-9
         ]
        },
        {
         "hoverinfo": "y",
         "hovertemplate": "VCIT<br>%{y:.2f}",
         "marker": {
          "color": [
           "rgb(250, 174, 25)"
          ]
         },
         "name": "",
         "showlegend": false,
         "type": "bar",
         "x": [
          "Post-Crisis Recovery"
         ],
         "y": [
          3.0738702166778053e-9
         ]
        },
        {
         "hoverinfo": "y",
         "hovertemplate": "MO<br>%{y:.2f}",
         "marker": {
          "color": [
           "rgb(72, 12, 105)"
          ]
         },
         "name": "",
         "showlegend": false,
         "type": "bar",
         "x": [
          "Post-Crisis Recovery"
         ],
         "y": [
          2.661447845467507e-9
         ]
        },
        {
         "hoverinfo": "y",
         "hovertemplate": "VCSH<br>%{y:.2f}",
         "marker": {
          "color": [
           "rgb(249, 178, 29)"
          ]
         },
         "name": "",
         "showlegend": false,
         "type": "bar",
         "x": [
          "Post-Crisis Recovery"
         ],
         "y": [
          2.4072406746392072e-9
         ]
        },
        {
         "hoverinfo": "y",
         "hovertemplate": "UNH<br>%{y:.2f}",
         "marker": {
          "color": [
           "rgb(26, 12, 63)"
          ]
         },
         "name": "",
         "showlegend": false,
         "type": "bar",
         "x": [
          "Post-Crisis Recovery"
         ],
         "y": [
          2.0821098739923227e-9
         ]
        },
        {
         "hoverinfo": "y",
         "hovertemplate": "AMZN<br>%{y:.2f}",
         "marker": {
          "color": [
           "rgb(6, 3, 18)"
          ]
         },
         "name": "",
         "showlegend": false,
         "type": "bar",
         "x": [
          "Post-Crisis Recovery"
         ],
         "y": [
          1.894554836144684e-9
         ]
        },
        {
         "hoverinfo": "y",
         "hovertemplate": "LMT<br>%{y:.2f}",
         "marker": {
          "color": [
           "rgb(170, 47, 93)"
          ]
         },
         "name": "",
         "showlegend": false,
         "type": "bar",
         "x": [
          "Post-Crisis Recovery"
         ],
         "y": [
          1.3115198624702347e-9
         ]
        },
        {
         "hoverinfo": "y",
         "hovertemplate": "BKR<br>%{y:.2f}",
         "marker": {
          "color": [
           "rgb(245, 135, 18)"
          ]
         },
         "name": "",
         "showlegend": false,
         "type": "bar",
         "x": [
          "Post-Crisis Recovery"
         ],
         "y": [
          1.048585774106965e-9
         ]
        },
        {
         "hoverinfo": "y",
         "hovertemplate": "GE<br>%{y:.2f}",
         "marker": {
          "color": [
           "rgb(173, 49, 91)"
          ]
         },
         "name": "",
         "showlegend": false,
         "type": "bar",
         "x": [
          "Post-Crisis Recovery"
         ],
         "y": [
          9.819869194589806e-10
         ]
        },
        {
         "hoverinfo": "y",
         "hovertemplate": "T<br>%{y:.2f}",
         "marker": {
          "color": [
           "rgb(217, 80, 59)"
          ]
         },
         "name": "",
         "showlegend": false,
         "type": "bar",
         "x": [
          "Post-Crisis Recovery"
         ],
         "y": [
          7.141157726299858e-10
         ]
        },
        {
         "hoverinfo": "y",
         "hovertemplate": "EXC<br>%{y:.2f}",
         "marker": {
          "color": [
           "rgb(199, 63, 75)"
          ]
         },
         "name": "",
         "showlegend": false,
         "type": "bar",
         "x": [
          "Post-Crisis Recovery"
         ],
         "y": [
          6.947750342195776e-10
         ]
        },
        {
         "hoverinfo": "y",
         "hovertemplate": "SCHH<br>%{y:.2f}",
         "marker": {
          "color": [
           "rgb(248, 190, 42)"
          ]
         },
         "name": "",
         "showlegend": false,
         "type": "bar",
         "x": [
          "Post-Crisis Recovery"
         ],
         "y": [
          6.706730845169873e-10
         ]
        },
        {
         "hoverinfo": "y",
         "hovertemplate": "WMT<br>%{y:.2f}",
         "marker": {
          "color": [
           "rgb(61, 12, 95)"
          ]
         },
         "name": "",
         "showlegend": false,
         "type": "bar",
         "x": [
          "Post-Crisis Recovery"
         ],
         "y": [
          6.1094598896359e-10
         ]
        },
        {
         "hoverinfo": "y",
         "hovertemplate": "TGT<br>%{y:.2f}",
         "marker": {
          "color": [
           "rgb(99, 21, 108)"
          ]
         },
         "name": "",
         "showlegend": false,
         "type": "bar",
         "x": [
          "Post-Crisis Recovery"
         ],
         "y": [
          5.928036838332846e-10
         ]
        },
        {
         "hoverinfo": "y",
         "hovertemplate": "SLB<br>%{y:.2f}",
         "marker": {
          "color": [
           "rgb(240, 116, 30)"
          ]
         },
         "name": "",
         "showlegend": false,
         "type": "bar",
         "x": [
          "Post-Crisis Recovery"
         ],
         "y": [
          5.809621690837854e-10
         ]
        },
        {
         "hoverinfo": "y",
         "hovertemplate": "UNP<br>%{y:.2f}",
         "marker": {
          "color": [
           "rgb(167, 45, 95)"
          ]
         },
         "name": "",
         "showlegend": false,
         "type": "bar",
         "x": [
          "Post-Crisis Recovery"
         ],
         "y": [
          5.428508887725391e-10
         ]
        },
        {
         "hoverinfo": "y",
         "hovertemplate": "PLD<br>%{y:.2f}",
         "marker": {
          "color": [
           "rgb(248, 202, 54)"
          ]
         },
         "name": "",
         "showlegend": false,
         "type": "bar",
         "x": [
          "Post-Crisis Recovery"
         ],
         "y": [
          5.312994779416645e-10
         ]
        },
        {
         "hoverinfo": "y",
         "hovertemplate": "COST<br>%{y:.2f}",
         "marker": {
          "color": [
           "rgb(82, 15, 107)"
          ]
         },
         "name": "",
         "showlegend": false,
         "type": "bar",
         "x": [
          "Post-Crisis Recovery"
         ],
         "y": [
          5.254876973519678e-10
         ]
        },
        {
         "hoverinfo": "y",
         "hovertemplate": "BLK<br>%{y:.2f}",
         "marker": {
          "color": [
           "rgb(147, 38, 101)"
          ]
         },
         "name": "",
         "showlegend": false,
         "type": "bar",
         "x": [
          "Post-Crisis Recovery"
         ],
         "y": [
          5.063354717258936e-10
         ]
        },
        {
         "hoverinfo": "y",
         "hovertemplate": "C<br>%{y:.2f}",
         "marker": {
          "color": [
           "rgb(134, 33, 105)"
          ]
         },
         "name": "",
         "showlegend": false,
         "type": "bar",
         "x": [
          "Post-Crisis Recovery"
         ],
         "y": [
          5.062394716360036e-10
         ]
        },
        {
         "hoverinfo": "y",
         "hovertemplate": "HD<br>%{y:.2f}",
         "marker": {
          "color": [
           "rgb(103, 22, 108)"
          ]
         },
         "name": "",
         "showlegend": false,
         "type": "bar",
         "x": [
          "Post-Crisis Recovery"
         ],
         "y": [
          4.970744582005115e-10
         ]
        },
        {
         "hoverinfo": "y",
         "hovertemplate": "WFC<br>%{y:.2f}",
         "marker": {
          "color": [
           "rgb(130, 32, 106)"
          ]
         },
         "name": "",
         "showlegend": false,
         "type": "bar",
         "x": [
          "Post-Crisis Recovery"
         ],
         "y": [
          4.952443235769145e-10
         ]
        },
        {
         "hoverinfo": "y",
         "hovertemplate": "MPC<br>%{y:.2f}",
         "marker": {
          "color": [
           "rgb(243, 128, 23)"
          ]
         },
         "name": "",
         "showlegend": false,
         "type": "bar",
         "x": [
          "Post-Crisis Recovery"
         ],
         "y": [
          4.877906724425243e-10
         ]
        },
        {
         "hoverinfo": "y",
         "hovertemplate": "MDLZ<br>%{y:.2f}",
         "marker": {
          "color": [
           "rgb(75, 12, 107)"
          ]
         },
         "name": "",
         "showlegend": false,
         "type": "bar",
         "x": [
          "Post-Crisis Recovery"
         ],
         "y": [
          4.816596229273358e-10
         ]
        },
        {
         "hoverinfo": "y",
         "hovertemplate": "MCD<br>%{y:.2f}",
         "marker": {
          "color": [
           "rgb(92, 18, 108)"
          ]
         },
         "name": "",
         "showlegend": false,
         "type": "bar",
         "x": [
          "Post-Crisis Recovery"
         ],
         "y": [
          4.75030115985402e-10
         ]
        },
        {
         "hoverinfo": "y",
         "hovertemplate": "GOOG<br>%{y:.2f}",
         "marker": {
          "color": [
           "rgb(4, 2, 13)"
          ]
         },
         "name": "",
         "showlegend": false,
         "type": "bar",
         "x": [
          "Post-Crisis Recovery"
         ],
         "y": [
          4.6197370489931984e-10
         ]
        },
        {
         "hoverinfo": "y",
         "hovertemplate": "CAT<br>%{y:.2f}",
         "marker": {
          "color": [
           "rgb(157, 41, 98)"
          ]
         },
         "name": "",
         "showlegend": false,
         "type": "bar",
         "x": [
          "Post-Crisis Recovery"
         ],
         "y": [
          4.4657213801066533e-10
         ]
        },
        {
         "hoverinfo": "y",
         "hovertemplate": "SRE<br>%{y:.2f}",
         "marker": {
          "color": [
           "rgb(210, 72, 67)"
          ]
         },
         "name": "",
         "showlegend": false,
         "type": "bar",
         "x": [
          "Post-Crisis Recovery"
         ],
         "y": [
          4.4441953991657286e-10
         ]
        },
        {
         "hoverinfo": "y",
         "hovertemplate": "INTC<br>%{y:.2f}",
         "marker": {
          "color": [
           "rgb(16, 7, 41)"
          ]
         },
         "name": "",
         "showlegend": false,
         "type": "bar",
         "x": [
          "Post-Crisis Recovery"
         ],
         "y": [
          4.352267365182536e-10
         ]
        },
        {
         "hoverinfo": "y",
         "hovertemplate": "LQD<br>%{y:.2f}",
         "marker": {
          "color": [
           "rgb(251, 158, 9)"
          ]
         },
         "name": "",
         "showlegend": false,
         "type": "bar",
         "x": [
          "Post-Crisis Recovery"
         ],
         "y": [
          4.3516361329199534e-10
         ]
        },
        {
         "hoverinfo": "y",
         "hovertemplate": "ORCL<br>%{y:.2f}",
         "marker": {
          "color": [
           "rgb(12, 5, 31)"
          ]
         },
         "name": "",
         "showlegend": false,
         "type": "bar",
         "x": [
          "Post-Crisis Recovery"
         ],
         "y": [
          4.2802363257094267e-10
         ]
        },
        {
         "hoverinfo": "y",
         "hovertemplate": "GIS<br>%{y:.2f}",
         "marker": {
          "color": [
           "rgb(79, 14, 107)"
          ]
         },
         "name": "",
         "showlegend": false,
         "type": "bar",
         "x": [
          "Post-Crisis Recovery"
         ],
         "y": [
          4.049627994330703e-10
         ]
        },
        {
         "hoverinfo": "y",
         "hovertemplate": "PSX<br>%{y:.2f}",
         "marker": {
          "color": [
           "rgb(241, 120, 28)"
          ]
         },
         "name": "",
         "showlegend": false,
         "type": "bar",
         "x": [
          "Post-Crisis Recovery"
         ],
         "y": [
          4.0410905424700683e-10
         ]
        },
        {
         "hoverinfo": "y",
         "hovertemplate": "ABBV<br>%{y:.2f}",
         "marker": {
          "color": [
           "rgb(36, 12, 73)"
          ]
         },
         "name": "",
         "showlegend": false,
         "type": "bar",
         "x": [
          "Post-Crisis Recovery"
         ],
         "y": [
          3.983504711741625e-10
         ]
        },
        {
         "hoverinfo": "y",
         "hovertemplate": "CMCSA<br>%{y:.2f}",
         "marker": {
          "color": [
           "rgb(219, 83, 57)"
          ]
         },
         "name": "",
         "showlegend": false,
         "type": "bar",
         "x": [
          "Post-Crisis Recovery"
         ],
         "y": [
          3.978171852246331e-10
         ]
        },
        {
         "hoverinfo": "y",
         "hovertemplate": "GS<br>%{y:.2f}",
         "marker": {
          "color": [
           "rgb(127, 30, 107)"
          ]
         },
         "name": "",
         "showlegend": false,
         "type": "bar",
         "x": [
          "Post-Crisis Recovery"
         ],
         "y": [
          3.937009221013928e-10
         ]
        },
        {
         "hoverinfo": "y",
         "hovertemplate": "TJX<br>%{y:.2f}",
         "marker": {
          "color": [
           "rgb(110, 24, 109)"
          ]
         },
         "name": "",
         "showlegend": false,
         "type": "bar",
         "x": [
          "Post-Crisis Recovery"
         ],
         "y": [
          3.8961029461855376e-10
         ]
        },
        {
         "hoverinfo": "y",
         "hovertemplate": "MSFT<br>%{y:.2f}",
         "marker": {
          "color": [
           "rgb(2, 1, 9)"
          ]
         },
         "name": "",
         "showlegend": false,
         "type": "bar",
         "x": [
          "Post-Crisis Recovery"
         ],
         "y": [
          3.7763021700986747e-10
         ]
        },
        {
         "hoverinfo": "y",
         "hovertemplate": "TSLA<br>%{y:.2f}",
         "marker": {
          "color": [
           "rgb(86, 16, 108)"
          ]
         },
         "name": "",
         "showlegend": false,
         "type": "bar",
         "x": [
          "Post-Crisis Recovery"
         ],
         "y": [
          3.7207070050931356e-10
         ]
        },
        {
         "hoverinfo": "y",
         "hovertemplate": "LOW<br>%{y:.2f}",
         "marker": {
          "color": [
           "rgb(106, 23, 108)"
          ]
         },
         "name": "",
         "showlegend": false,
         "type": "bar",
         "x": [
          "Post-Crisis Recovery"
         ],
         "y": [
          3.659414972832634e-10
         ]
        },
        {
         "hoverinfo": "y",
         "hovertemplate": "SCHW<br>%{y:.2f}",
         "marker": {
          "color": [
           "rgb(140, 35, 103)"
          ]
         },
         "name": "",
         "showlegend": false,
         "type": "bar",
         "x": [
          "Post-Crisis Recovery"
         ],
         "y": [
          3.5646867518137114e-10
         ]
        },
        {
         "hoverinfo": "y",
         "hovertemplate": "HYG<br>%{y:.2f}",
         "marker": {
          "color": [
           "rgb(250, 162, 13)"
          ]
         },
         "name": "",
         "showlegend": false,
         "type": "bar",
         "x": [
          "Post-Crisis Recovery"
         ],
         "y": [
          3.464401904726856e-10
         ]
        },
        {
         "hoverinfo": "y",
         "hovertemplate": "DIS<br>%{y:.2f}",
         "marker": {
          "color": [
           "rgb(221, 86, 54)"
          ]
         },
         "name": "",
         "showlegend": false,
         "type": "bar",
         "x": [
          "Post-Crisis Recovery"
         ],
         "y": [
          3.44067799941492e-10
         ]
        },
        {
         "hoverinfo": "y",
         "hovertemplate": "TIP<br>%{y:.2f}",
         "marker": {
          "color": [
           "rgb(250, 166, 17)"
          ]
         },
         "name": "",
         "showlegend": false,
         "type": "bar",
         "x": [
          "Post-Crisis Recovery"
         ],
         "y": [
          3.3672223555989713e-10
         ]
        },
        {
         "hoverinfo": "y",
         "hovertemplate": "DE<br>%{y:.2f}",
         "marker": {
          "color": [
           "rgb(183, 54, 85)"
          ]
         },
         "name": "",
         "showlegend": false,
         "type": "bar",
         "x": [
          "Post-Crisis Recovery"
         ],
         "y": [
          3.3557180537485813e-10
         ]
        },
        {
         "hoverinfo": "y",
         "hovertemplate": "VLO<br>%{y:.2f}",
         "marker": {
          "color": [
           "rgb(242, 124, 25)"
          ]
         },
         "name": "",
         "showlegend": false,
         "type": "bar",
         "x": [
          "Post-Crisis Recovery"
         ],
         "y": [
          3.345139782722309e-10
         ]
        },
        {
         "hoverinfo": "y",
         "hovertemplate": "XOM<br>%{y:.2f}",
         "marker": {
          "color": [
           "rgb(237, 105, 37)"
          ]
         },
         "name": "",
         "showlegend": false,
         "type": "bar",
         "x": [
          "Post-Crisis Recovery"
         ],
         "y": [
          3.234966857503381e-10
         ]
        },
        {
         "hoverinfo": "y",
         "hovertemplate": "RWR<br>%{y:.2f}",
         "marker": {
          "color": [
           "rgb(248, 194, 46)"
          ]
         },
         "name": "",
         "showlegend": false,
         "type": "bar",
         "x": [
          "Post-Crisis Recovery"
         ],
         "y": [
          3.1901463047236197e-10
         ]
        },
        {
         "hoverinfo": "y",
         "hovertemplate": "AEP<br>%{y:.2f}",
         "marker": {
          "color": [
           "rgb(195, 61, 77)"
          ]
         },
         "name": "",
         "showlegend": false,
         "type": "bar",
         "x": [
          "Post-Crisis Recovery"
         ],
         "y": [
          3.189086051760778e-10
         ]
        },
        {
         "hoverinfo": "y",
         "hovertemplate": "NVDA<br>%{y:.2f}",
         "marker": {
          "color": [
           "rgb(8, 4, 22)"
          ]
         },
         "name": "",
         "showlegend": false,
         "type": "bar",
         "x": [
          "Post-Crisis Recovery"
         ],
         "y": [
          2.812159761816701e-10
         ]
        },
        {
         "hoverinfo": "y",
         "hovertemplate": "COP<br>%{y:.2f}",
         "marker": {
          "color": [
           "rgb(239, 113, 32)"
          ]
         },
         "name": "",
         "showlegend": false,
         "type": "bar",
         "x": [
          "Post-Crisis Recovery"
         ],
         "y": [
          2.747893756745989e-10
         ]
        },
        {
         "hoverinfo": "y",
         "hovertemplate": "DUK<br>%{y:.2f}",
         "marker": {
          "color": [
           "rgb(189, 58, 81)"
          ]
         },
         "name": "",
         "showlegend": false,
         "type": "bar",
         "x": [
          "Post-Crisis Recovery"
         ],
         "y": [
          2.640988189301535e-10
         ]
        },
        {
         "hoverinfo": "y",
         "hovertemplate": "HAL<br>%{y:.2f}",
         "marker": {
          "color": [
           "rgb(244, 131, 21)"
          ]
         },
         "name": "",
         "showlegend": false,
         "type": "bar",
         "x": [
          "Post-Crisis Recovery"
         ],
         "y": [
          2.588038789277828e-10
         ]
        },
        {
         "hoverinfo": "y",
         "hovertemplate": "USB<br>%{y:.2f}",
         "marker": {
          "color": [
           "rgb(150, 39, 100)"
          ]
         },
         "name": "",
         "showlegend": false,
         "type": "bar",
         "x": [
          "Post-Crisis Recovery"
         ],
         "y": [
          2.583204964739349e-10
         ]
        },
        {
         "hoverinfo": "y",
         "hovertemplate": "UPS<br>%{y:.2f}",
         "marker": {
          "color": [
           "rgb(180, 52, 87)"
          ]
         },
         "name": "",
         "showlegend": false,
         "type": "bar",
         "x": [
          "Post-Crisis Recovery"
         ],
         "y": [
          2.5541830157506496e-10
         ]
        },
        {
         "hoverinfo": "y",
         "hovertemplate": "GOOGL<br>%{y:.2f}",
         "marker": {
          "color": [
           "rgb(226, 91, 49)"
          ]
         },
         "name": "",
         "showlegend": false,
         "type": "bar",
         "x": [
          "Post-Crisis Recovery"
         ],
         "y": [
          2.5532717067584445e-10
         ]
        },
        {
         "hoverinfo": "y",
         "hovertemplate": "MDT<br>%{y:.2f}",
         "marker": {
          "color": [
           "rgb(43, 12, 80)"
          ]
         },
         "name": "",
         "showlegend": false,
         "type": "bar",
         "x": [
          "Post-Crisis Recovery"
         ],
         "y": [
          2.3542277214712986e-10
         ]
        },
        {
         "hoverinfo": "y",
         "hovertemplate": "XLRE<br>%{y:.2f}",
         "marker": {
          "color": [
           "rgb(248, 198, 50)"
          ]
         },
         "name": "",
         "showlegend": false,
         "type": "bar",
         "x": [
          "Post-Crisis Recovery"
         ],
         "y": [
          2.219813715712779e-10
         ]
        },
        {
         "hoverinfo": "y",
         "hovertemplate": "IYR<br>%{y:.2f}",
         "marker": {
          "color": [
           "rgb(249, 186, 38)"
          ]
         },
         "name": "",
         "showlegend": false,
         "type": "bar",
         "x": [
          "Post-Crisis Recovery"
         ],
         "y": [
          2.1220150734138894e-10
         ]
        },
        {
         "hoverinfo": "y",
         "hovertemplate": "TMUS<br>%{y:.2f}",
         "marker": {
          "color": [
           "rgb(233, 99, 42)"
          ]
         },
         "name": "",
         "showlegend": false,
         "type": "bar",
         "x": [
          "Post-Crisis Recovery"
         ],
         "y": [
          2.1201632905375426e-10
         ]
        },
        {
         "hoverinfo": "y",
         "hovertemplate": "ED<br>%{y:.2f}",
         "marker": {
          "color": [
           "rgb(208, 69, 69)"
          ]
         },
         "name": "",
         "showlegend": false,
         "type": "bar",
         "x": [
          "Post-Crisis Recovery"
         ],
         "y": [
          2.085523329007163e-10
         ]
        },
        {
         "hoverinfo": "y",
         "hovertemplate": "O<br>%{y:.2f}",
         "marker": {
          "color": [
           "rgb(247, 206, 58)"
          ]
         },
         "name": "",
         "showlegend": false,
         "type": "bar",
         "x": [
          "Post-Crisis Recovery"
         ],
         "y": [
          2.071400075010811e-10
         ]
        },
        {
         "hoverinfo": "y",
         "hovertemplate": "KMB<br>%{y:.2f}",
         "marker": {
          "color": [
           "rgb(68, 12, 102)"
          ]
         },
         "name": "",
         "showlegend": false,
         "type": "bar",
         "x": [
          "Post-Crisis Recovery"
         ],
         "y": [
          2.0636323642382807e-10
         ]
        },
        {
         "hoverinfo": "y",
         "hovertemplate": "CRM<br>%{y:.2f}",
         "marker": {
          "color": [
           "rgb(14, 6, 36)"
          ]
         },
         "name": "",
         "showlegend": false,
         "type": "bar",
         "x": [
          "Post-Crisis Recovery"
         ],
         "y": [
          2.0498380263841403e-10
         ]
        },
        {
         "hoverinfo": "y",
         "hovertemplate": "PEP<br>%{y:.2f}",
         "marker": {
          "color": [
           "rgb(58, 12, 92)"
          ]
         },
         "name": "",
         "showlegend": false,
         "type": "bar",
         "x": [
          "Post-Crisis Recovery"
         ],
         "y": [
          2.04078559130296e-10
         ]
        },
        {
         "hoverinfo": "y",
         "hovertemplate": "MS<br>%{y:.2f}",
         "marker": {
          "color": [
           "rgb(144, 36, 102)"
          ]
         },
         "name": "",
         "showlegend": false,
         "type": "bar",
         "x": [
          "Post-Crisis Recovery"
         ],
         "y": [
          1.9433135497786798e-10
         ]
        },
        {
         "hoverinfo": "y",
         "hovertemplate": "CHTR<br>%{y:.2f}",
         "marker": {
          "color": [
           "rgb(230, 97, 44)"
          ]
         },
         "name": "",
         "showlegend": false,
         "type": "bar",
         "x": [
          "Post-Crisis Recovery"
         ],
         "y": [
          1.9291979968906392e-10
         ]
        },
        {
         "hoverinfo": "y",
         "hovertemplate": "PPL<br>%{y:.2f}",
         "marker": {
          "color": [
           "rgb(212, 74, 64)"
          ]
         },
         "name": "",
         "showlegend": false,
         "type": "bar",
         "x": [
          "Post-Crisis Recovery"
         ],
         "y": [
          1.6872764584872642e-10
         ]
        },
        {
         "hoverinfo": "y",
         "hovertemplate": "KO<br>%{y:.2f}",
         "marker": {
          "color": [
           "rgb(54, 12, 89)"
          ]
         },
         "name": "",
         "showlegend": false,
         "type": "bar",
         "x": [
          "Post-Crisis Recovery"
         ],
         "y": [
          1.6725701786319996e-10
         ]
        },
        {
         "hoverinfo": "y",
         "hovertemplate": "BMY<br>%{y:.2f}",
         "marker": {
          "color": [
           "rgb(29, 12, 67)"
          ]
         },
         "name": "",
         "showlegend": false,
         "type": "bar",
         "x": [
          "Post-Crisis Recovery"
         ],
         "y": [
          1.6574201528227285e-10
         ]
        },
        {
         "hoverinfo": "y",
         "hovertemplate": "ROST<br>%{y:.2f}",
         "marker": {
          "color": [
           "rgb(113, 26, 109)"
          ]
         },
         "name": "",
         "showlegend": false,
         "type": "bar",
         "x": [
          "Post-Crisis Recovery"
         ],
         "y": [
          1.5841418001936307e-10
         ]
        },
        {
         "hoverinfo": "y",
         "hovertemplate": "LLY<br>%{y:.2f}",
         "marker": {
          "color": [
           "rgb(33, 12, 70)"
          ]
         },
         "name": "",
         "showlegend": false,
         "type": "bar",
         "x": [
          "Post-Crisis Recovery"
         ],
         "y": [
          1.5244656456554357e-10
         ]
        },
        {
         "hoverinfo": "y",
         "hovertemplate": "JNJ<br>%{y:.2f}",
         "marker": {
          "color": [
           "rgb(20, 9, 50)"
          ]
         },
         "name": "",
         "showlegend": false,
         "type": "bar",
         "x": [
          "Post-Crisis Recovery"
         ],
         "y": [
          1.50391325059238e-10
         ]
        },
        {
         "hoverinfo": "y",
         "hovertemplate": "NFLX<br>%{y:.2f}",
         "marker": {
          "color": [
           "rgb(224, 88, 52)"
          ]
         },
         "name": "",
         "showlegend": false,
         "type": "bar",
         "x": [
          "Post-Crisis Recovery"
         ],
         "y": [
          1.4794839798215038e-10
         ]
        },
        {
         "hoverinfo": "y",
         "hovertemplate": "PFE<br>%{y:.2f}",
         "marker": {
          "color": [
           "rgb(22, 10, 54)"
          ]
         },
         "name": "",
         "showlegend": false,
         "type": "bar",
         "x": [
          "Post-Crisis Recovery"
         ],
         "y": [
          1.460317626991732e-10
         ]
        },
        {
         "hoverinfo": "y",
         "hovertemplate": "CVX<br>%{y:.2f}",
         "marker": {
          "color": [
           "rgb(238, 109, 35)"
          ]
         },
         "name": "",
         "showlegend": false,
         "type": "bar",
         "x": [
          "Post-Crisis Recovery"
         ],
         "y": [
          1.446328389513795e-10
         ]
        },
        {
         "hoverinfo": "y",
         "hovertemplate": "JPM<br>%{y:.2f}",
         "marker": {
          "color": [
           "rgb(120, 28, 109)"
          ]
         },
         "name": "",
         "showlegend": false,
         "type": "bar",
         "x": [
          "Post-Crisis Recovery"
         ],
         "y": [
          1.441609879430996e-10
         ]
        },
        {
         "hoverinfo": "y",
         "hovertemplate": "SO<br>%{y:.2f}",
         "marker": {
          "color": [
           "rgb(192, 60, 79)"
          ]
         },
         "name": "",
         "showlegend": false,
         "type": "bar",
         "x": [
          "Post-Crisis Recovery"
         ],
         "y": [
          1.4220225213229748e-10
         ]
        },
        {
         "hoverinfo": "y",
         "hovertemplate": "CL<br>%{y:.2f}",
         "marker": {
          "color": [
           "rgb(65, 12, 99)"
          ]
         },
         "name": "",
         "showlegend": false,
         "type": "bar",
         "x": [
          "Post-Crisis Recovery"
         ],
         "y": [
          1.3472486568311254e-10
         ]
        },
        {
         "hoverinfo": "y",
         "hovertemplate": "VZ<br>%{y:.2f}",
         "marker": {
          "color": [
           "rgb(214, 77, 62)"
          ]
         },
         "name": "",
         "showlegend": false,
         "type": "bar",
         "x": [
          "Post-Crisis Recovery"
         ],
         "y": [
          1.315403634012426e-10
         ]
        },
        {
         "hoverinfo": "y",
         "hovertemplate": "CSCO<br>%{y:.2f}",
         "marker": {
          "color": [
           "rgb(18, 8, 45)"
          ]
         },
         "name": "",
         "showlegend": false,
         "type": "bar",
         "x": [
          "Post-Crisis Recovery"
         ],
         "y": [
          1.3085013594301622e-10
         ]
        },
        {
         "hoverinfo": "y",
         "hovertemplate": "NKE<br>%{y:.2f}",
         "marker": {
          "color": [
           "rgb(89, 17, 108)"
          ]
         },
         "name": "",
         "showlegend": false,
         "type": "bar",
         "x": [
          "Post-Crisis Recovery"
         ],
         "y": [
          1.2118436413126056e-10
         ]
        },
        {
         "hoverinfo": "y",
         "hovertemplate": "AMT<br>%{y:.2f}",
         "marker": {
          "color": [
           "rgb(117, 27, 109)"
          ]
         },
         "name": "",
         "showlegend": false,
         "type": "bar",
         "x": [
          "Post-Crisis Recovery"
         ],
         "y": [
          1.1195465719672971e-10
         ]
        },
        {
         "hoverinfo": "y",
         "hovertemplate": "AGG<br>%{y:.2f}",
         "marker": {
          "color": [
           "rgb(250, 170, 21)"
          ]
         },
         "name": "",
         "showlegend": false,
         "type": "bar",
         "x": [
          "Post-Crisis Recovery"
         ],
         "y": [
          8.173824044853203e-11
         ]
        },
        {
         "hoverinfo": "y",
         "hovertemplate": "GOVT<br>%{y:.2f}",
         "marker": {
          "color": [
           "rgb(250, 150, 9)"
          ]
         },
         "name": "",
         "showlegend": false,
         "type": "bar",
         "x": [
          "Post-Crisis Recovery"
         ],
         "y": [
          7.038471105842408e-11
         ]
        },
        {
         "hoverinfo": "y",
         "hovertemplate": "SPG<br>%{y:.2f}",
         "marker": {
          "color": [
           "rgb(247, 210, 64)"
          ]
         },
         "name": "",
         "showlegend": false,
         "type": "bar",
         "x": [
          "Post-Crisis Recovery"
         ],
         "y": [
          null
         ]
        },
        {
         "hoverinfo": "y",
         "hovertemplate": "AVB<br>%{y:.2f}",
         "marker": {
          "color": [
           "rgb(248, 214, 71)"
          ]
         },
         "name": "",
         "showlegend": false,
         "type": "bar",
         "x": [
          "Post-Crisis Recovery"
         ],
         "y": [
          null
         ]
        },
        {
         "hoverinfo": "y",
         "hovertemplate": "EQR<br>%{y:.2f}",
         "marker": {
          "color": [
           "rgb(248, 217, 79)"
          ]
         },
         "name": "",
         "showlegend": false,
         "type": "bar",
         "x": [
          "Post-Crisis Recovery"
         ],
         "y": [
          null
         ]
        },
        {
         "hoverinfo": "y",
         "hovertemplate": "GLD<br>%{y:.2f}",
         "marker": {
          "color": [
           "rgb(248, 220, 87)"
          ]
         },
         "name": "",
         "showlegend": false,
         "type": "bar",
         "x": [
          "Post-Crisis Recovery"
         ],
         "y": [
          null
         ]
        },
        {
         "hoverinfo": "y",
         "hovertemplate": "IAU<br>%{y:.2f}",
         "marker": {
          "color": [
           "rgb(249, 224, 94)"
          ]
         },
         "name": "",
         "showlegend": false,
         "type": "bar",
         "x": [
          "Post-Crisis Recovery"
         ],
         "y": [
          null
         ]
        },
        {
         "hoverinfo": "y",
         "hovertemplate": "SLV<br>%{y:.2f}",
         "marker": {
          "color": [
           "rgb(249, 227, 102)"
          ]
         },
         "name": "",
         "showlegend": false,
         "type": "bar",
         "x": [
          "Post-Crisis Recovery"
         ],
         "y": [
          null
         ]
        },
        {
         "hoverinfo": "y",
         "hovertemplate": "PDBC<br>%{y:.2f}",
         "marker": {
          "color": [
           "rgb(249, 231, 110)"
          ]
         },
         "name": "",
         "showlegend": false,
         "type": "bar",
         "x": [
          "Post-Crisis Recovery"
         ],
         "y": [
          null
         ]
        },
        {
         "hoverinfo": "y",
         "hovertemplate": "DBC<br>%{y:.2f}",
         "marker": {
          "color": [
           "rgb(250, 234, 118)"
          ]
         },
         "name": "",
         "showlegend": false,
         "type": "bar",
         "x": [
          "Post-Crisis Recovery"
         ],
         "y": [
          null
         ]
        },
        {
         "hoverinfo": "y",
         "hovertemplate": "USO<br>%{y:.2f}",
         "marker": {
          "color": [
           "rgb(250, 238, 125)"
          ]
         },
         "name": "",
         "showlegend": false,
         "type": "bar",
         "x": [
          "Post-Crisis Recovery"
         ],
         "y": [
          null
         ]
        },
        {
         "hoverinfo": "y",
         "hovertemplate": "UNG<br>%{y:.2f}",
         "marker": {
          "color": [
           "rgb(251, 241, 133)"
          ]
         },
         "name": "",
         "showlegend": false,
         "type": "bar",
         "x": [
          "Post-Crisis Recovery"
         ],
         "y": [
          null
         ]
        },
        {
         "hoverinfo": "y",
         "hovertemplate": "BNO<br>%{y:.2f}",
         "marker": {
          "color": [
           "rgb(251, 245, 141)"
          ]
         },
         "name": "",
         "showlegend": false,
         "type": "bar",
         "x": [
          "Post-Crisis Recovery"
         ],
         "y": [
          null
         ]
        },
        {
         "hoverinfo": "y",
         "hovertemplate": "GSG<br>%{y:.2f}",
         "marker": {
          "color": [
           "rgb(251, 248, 149)"
          ]
         },
         "name": "",
         "showlegend": false,
         "type": "bar",
         "x": [
          "Post-Crisis Recovery"
         ],
         "y": [
          null
         ]
        },
        {
         "hoverinfo": "y",
         "hovertemplate": "CORN<br>%{y:.2f}",
         "marker": {
          "color": [
           "rgb(252, 252, 156)"
          ]
         },
         "name": "",
         "showlegend": false,
         "type": "bar",
         "x": [
          "Post-Crisis Recovery"
         ],
         "y": [
          null
         ]
        },
        {
         "hoverinfo": "y",
         "hovertemplate": "GS<br>%{y:.2f}",
         "marker": {
          "color": [
           "rgb(127, 30, 107)"
          ]
         },
         "name": "",
         "showlegend": false,
         "type": "bar",
         "x": [
          "COVID-19 Pandemic"
         ],
         "y": [
          0.42597482705632933
         ]
        },
        {
         "hoverinfo": "y",
         "hovertemplate": "VCSH<br>%{y:.2f}",
         "marker": {
          "color": [
           "rgb(249, 178, 29)"
          ]
         },
         "name": "",
         "showlegend": false,
         "type": "bar",
         "x": [
          "COVID-19 Pandemic"
         ],
         "y": [
          0.1243999414488983
         ]
        },
        {
         "hoverinfo": "y",
         "hovertemplate": "PEP<br>%{y:.2f}",
         "marker": {
          "color": [
           "rgb(58, 12, 92)"
          ]
         },
         "name": "",
         "showlegend": false,
         "type": "bar",
         "x": [
          "COVID-19 Pandemic"
         ],
         "y": [
          0.07184396948442931
         ]
        },
        {
         "hoverinfo": "y",
         "hovertemplate": "RWR<br>%{y:.2f}",
         "marker": {
          "color": [
           "rgb(248, 194, 46)"
          ]
         },
         "name": "",
         "showlegend": false,
         "type": "bar",
         "x": [
          "COVID-19 Pandemic"
         ],
         "y": [
          0.06025283839410351
         ]
        },
        {
         "hoverinfo": "y",
         "hovertemplate": "RTX<br>%{y:.2f}",
         "marker": {
          "color": [
           "rgb(177, 51, 89)"
          ]
         },
         "name": "",
         "showlegend": false,
         "type": "bar",
         "x": [
          "COVID-19 Pandemic"
         ],
         "y": [
          0.05857522824637298
         ]
        },
        {
         "hoverinfo": "y",
         "hovertemplate": "BA<br>%{y:.2f}",
         "marker": {
          "color": [
           "rgb(154, 40, 99)"
          ]
         },
         "name": "",
         "showlegend": false,
         "type": "bar",
         "x": [
          "COVID-19 Pandemic"
         ],
         "y": [
          0.05485425552109455
         ]
        },
        {
         "hoverinfo": "y",
         "hovertemplate": "IYR<br>%{y:.2f}",
         "marker": {
          "color": [
           "rgb(249, 186, 38)"
          ]
         },
         "name": "",
         "showlegend": false,
         "type": "bar",
         "x": [
          "COVID-19 Pandemic"
         ],
         "y": [
          0.045920137023060276
         ]
        },
        {
         "hoverinfo": "y",
         "hovertemplate": "WMT<br>%{y:.2f}",
         "marker": {
          "color": [
           "rgb(61, 12, 95)"
          ]
         },
         "name": "",
         "showlegend": false,
         "type": "bar",
         "x": [
          "COVID-19 Pandemic"
         ],
         "y": [
          0.042285412543990555
         ]
        },
        {
         "hoverinfo": "y",
         "hovertemplate": "SPG<br>%{y:.2f}",
         "marker": {
          "color": [
           "rgb(247, 210, 64)"
          ]
         },
         "name": "",
         "showlegend": false,
         "type": "bar",
         "x": [
          "COVID-19 Pandemic"
         ],
         "y": [
          0.037863082824023245
         ]
        },
        {
         "hoverinfo": "y",
         "hovertemplate": "IEF<br>%{y:.2f}",
         "marker": {
          "color": [
           "rgb(248, 143, 14)"
          ]
         },
         "name": "",
         "showlegend": false,
         "type": "bar",
         "x": [
          "COVID-19 Pandemic"
         ],
         "y": [
          0.02900247030333566
         ]
        },
        {
         "hoverinfo": "y",
         "hovertemplate": "XOM<br>%{y:.2f}",
         "marker": {
          "color": [
           "rgb(237, 105, 37)"
          ]
         },
         "name": "",
         "showlegend": false,
         "type": "bar",
         "x": [
          "COVID-19 Pandemic"
         ],
         "y": [
          0.02243569191155353
         ]
        },
        {
         "hoverinfo": "y",
         "hovertemplate": "NFLX<br>%{y:.2f}",
         "marker": {
          "color": [
           "rgb(224, 88, 52)"
          ]
         },
         "name": "",
         "showlegend": false,
         "type": "bar",
         "x": [
          "COVID-19 Pandemic"
         ],
         "y": [
          0.01586260642178654
         ]
        },
        {
         "hoverinfo": "y",
         "hovertemplate": "VCIT<br>%{y:.2f}",
         "marker": {
          "color": [
           "rgb(250, 174, 25)"
          ]
         },
         "name": "",
         "showlegend": false,
         "type": "bar",
         "x": [
          "COVID-19 Pandemic"
         ],
         "y": [
          0.010729517292841788
         ]
        },
        {
         "hoverinfo": "y",
         "hovertemplate": "COST<br>%{y:.2f}",
         "marker": {
          "color": [
           "rgb(82, 15, 107)"
          ]
         },
         "name": "",
         "showlegend": false,
         "type": "bar",
         "x": [
          "COVID-19 Pandemic"
         ],
         "y": [
          3.1003973951293146e-9
         ]
        },
        {
         "hoverinfo": "y",
         "hovertemplate": "IAU<br>%{y:.2f}",
         "marker": {
          "color": [
           "rgb(249, 224, 94)"
          ]
         },
         "name": "",
         "showlegend": false,
         "type": "bar",
         "x": [
          "COVID-19 Pandemic"
         ],
         "y": [
          6.714422906734438e-10
         ]
        },
        {
         "hoverinfo": "y",
         "hovertemplate": "ROST<br>%{y:.2f}",
         "marker": {
          "color": [
           "rgb(113, 26, 109)"
          ]
         },
         "name": "",
         "showlegend": false,
         "type": "bar",
         "x": [
          "COVID-19 Pandemic"
         ],
         "y": [
          6.456852696903904e-10
         ]
        },
        {
         "hoverinfo": "y",
         "hovertemplate": "USB<br>%{y:.2f}",
         "marker": {
          "color": [
           "rgb(150, 39, 100)"
          ]
         },
         "name": "",
         "showlegend": false,
         "type": "bar",
         "x": [
          "COVID-19 Pandemic"
         ],
         "y": [
          6.424843995623773e-10
         ]
        },
        {
         "hoverinfo": "y",
         "hovertemplate": "AMT<br>%{y:.2f}",
         "marker": {
          "color": [
           "rgb(117, 27, 109)"
          ]
         },
         "name": "",
         "showlegend": false,
         "type": "bar",
         "x": [
          "COVID-19 Pandemic"
         ],
         "y": [
          6.140256668034128e-10
         ]
        },
        {
         "hoverinfo": "y",
         "hovertemplate": "NVDA<br>%{y:.2f}",
         "marker": {
          "color": [
           "rgb(8, 4, 22)"
          ]
         },
         "name": "",
         "showlegend": false,
         "type": "bar",
         "x": [
          "COVID-19 Pandemic"
         ],
         "y": [
          4.895875480852716e-10
         ]
        },
        {
         "hoverinfo": "y",
         "hovertemplate": "TMUS<br>%{y:.2f}",
         "marker": {
          "color": [
           "rgb(233, 99, 42)"
          ]
         },
         "name": "",
         "showlegend": false,
         "type": "bar",
         "x": [
          "COVID-19 Pandemic"
         ],
         "y": [
          4.851144866746149e-10
         ]
        },
        {
         "hoverinfo": "y",
         "hovertemplate": "GILD<br>%{y:.2f}",
         "marker": {
          "color": [
           "rgb(40, 12, 77)"
          ]
         },
         "name": "",
         "showlegend": false,
         "type": "bar",
         "x": [
          "COVID-19 Pandemic"
         ],
         "y": [
          4.40325161140496e-10
         ]
        },
        {
         "hoverinfo": "y",
         "hovertemplate": "BMY<br>%{y:.2f}",
         "marker": {
          "color": [
           "rgb(29, 12, 67)"
          ]
         },
         "name": "",
         "showlegend": false,
         "type": "bar",
         "x": [
          "COVID-19 Pandemic"
         ],
         "y": [
          4.323527145335589e-10
         ]
        },
        {
         "hoverinfo": "y",
         "hovertemplate": "GLD<br>%{y:.2f}",
         "marker": {
          "color": [
           "rgb(248, 220, 87)"
          ]
         },
         "name": "",
         "showlegend": false,
         "type": "bar",
         "x": [
          "COVID-19 Pandemic"
         ],
         "y": [
          3.8730588749639686e-10
         ]
        },
        {
         "hoverinfo": "y",
         "hovertemplate": "MSFT<br>%{y:.2f}",
         "marker": {
          "color": [
           "rgb(2, 1, 9)"
          ]
         },
         "name": "",
         "showlegend": false,
         "type": "bar",
         "x": [
          "COVID-19 Pandemic"
         ],
         "y": [
          3.7496946601321394e-10
         ]
        },
        {
         "hoverinfo": "y",
         "hovertemplate": "GIS<br>%{y:.2f}",
         "marker": {
          "color": [
           "rgb(79, 14, 107)"
          ]
         },
         "name": "",
         "showlegend": false,
         "type": "bar",
         "x": [
          "COVID-19 Pandemic"
         ],
         "y": [
          3.7385611094742086e-10
         ]
        },
        {
         "hoverinfo": "y",
         "hovertemplate": "JPM<br>%{y:.2f}",
         "marker": {
          "color": [
           "rgb(120, 28, 109)"
          ]
         },
         "name": "",
         "showlegend": false,
         "type": "bar",
         "x": [
          "COVID-19 Pandemic"
         ],
         "y": [
          3.4931521497739426e-10
         ]
        },
        {
         "hoverinfo": "y",
         "hovertemplate": "BAC<br>%{y:.2f}",
         "marker": {
          "color": [
           "rgb(123, 29, 108)"
          ]
         },
         "name": "",
         "showlegend": false,
         "type": "bar",
         "x": [
          "COVID-19 Pandemic"
         ],
         "y": [
          3.219997134611271e-10
         ]
        },
        {
         "hoverinfo": "y",
         "hovertemplate": "DIS<br>%{y:.2f}",
         "marker": {
          "color": [
           "rgb(221, 86, 54)"
          ]
         },
         "name": "",
         "showlegend": false,
         "type": "bar",
         "x": [
          "COVID-19 Pandemic"
         ],
         "y": [
          3.0618523091096517e-10
         ]
        },
        {
         "hoverinfo": "y",
         "hovertemplate": "PPL<br>%{y:.2f}",
         "marker": {
          "color": [
           "rgb(212, 74, 64)"
          ]
         },
         "name": "",
         "showlegend": false,
         "type": "bar",
         "x": [
          "COVID-19 Pandemic"
         ],
         "y": [
          2.8767860873683905e-10
         ]
        },
        {
         "hoverinfo": "y",
         "hovertemplate": "META<br>%{y:.2f}",
         "marker": {
          "color": [
           "rgb(228, 94, 47)"
          ]
         },
         "name": "",
         "showlegend": false,
         "type": "bar",
         "x": [
          "COVID-19 Pandemic"
         ],
         "y": [
          2.7645073145534876e-10
         ]
        },
        {
         "hoverinfo": "y",
         "hovertemplate": "COP<br>%{y:.2f}",
         "marker": {
          "color": [
           "rgb(239, 113, 32)"
          ]
         },
         "name": "",
         "showlegend": false,
         "type": "bar",
         "x": [
          "COVID-19 Pandemic"
         ],
         "y": [
          2.7439276505125566e-10
         ]
        },
        {
         "hoverinfo": "y",
         "hovertemplate": "TJX<br>%{y:.2f}",
         "marker": {
          "color": [
           "rgb(110, 24, 109)"
          ]
         },
         "name": "",
         "showlegend": false,
         "type": "bar",
         "x": [
          "COVID-19 Pandemic"
         ],
         "y": [
          2.564045109152197e-10
         ]
        },
        {
         "hoverinfo": "y",
         "hovertemplate": "AAPL<br>%{y:.2f}",
         "marker": {
          "color": [
           "rgb(0, 0, 4)"
          ]
         },
         "name": "",
         "showlegend": false,
         "type": "bar",
         "x": [
          "COVID-19 Pandemic"
         ],
         "y": [
          2.513169945145199e-10
         ]
        },
        {
         "hoverinfo": "y",
         "hovertemplate": "CVX<br>%{y:.2f}",
         "marker": {
          "color": [
           "rgb(238, 109, 35)"
          ]
         },
         "name": "",
         "showlegend": false,
         "type": "bar",
         "x": [
          "COVID-19 Pandemic"
         ],
         "y": [
          2.419972986042368e-10
         ]
        },
        {
         "hoverinfo": "y",
         "hovertemplate": "DE<br>%{y:.2f}",
         "marker": {
          "color": [
           "rgb(183, 54, 85)"
          ]
         },
         "name": "",
         "showlegend": false,
         "type": "bar",
         "x": [
          "COVID-19 Pandemic"
         ],
         "y": [
          2.404674510654012e-10
         ]
        },
        {
         "hoverinfo": "y",
         "hovertemplate": "CMCSA<br>%{y:.2f}",
         "marker": {
          "color": [
           "rgb(219, 83, 57)"
          ]
         },
         "name": "",
         "showlegend": false,
         "type": "bar",
         "x": [
          "COVID-19 Pandemic"
         ],
         "y": [
          2.399328643747536e-10
         ]
        },
        {
         "hoverinfo": "y",
         "hovertemplate": "UNG<br>%{y:.2f}",
         "marker": {
          "color": [
           "rgb(251, 241, 133)"
          ]
         },
         "name": "",
         "showlegend": false,
         "type": "bar",
         "x": [
          "COVID-19 Pandemic"
         ],
         "y": [
          2.22618644218624e-10
         ]
        },
        {
         "hoverinfo": "y",
         "hovertemplate": "NEE<br>%{y:.2f}",
         "marker": {
          "color": [
           "rgb(186, 56, 83)"
          ]
         },
         "name": "",
         "showlegend": false,
         "type": "bar",
         "x": [
          "COVID-19 Pandemic"
         ],
         "y": [
          2.2244664407766062e-10
         ]
        },
        {
         "hoverinfo": "y",
         "hovertemplate": "HON<br>%{y:.2f}",
         "marker": {
          "color": [
           "rgb(164, 44, 96)"
          ]
         },
         "name": "",
         "showlegend": false,
         "type": "bar",
         "x": [
          "COVID-19 Pandemic"
         ],
         "y": [
          2.1393382249550094e-10
         ]
        },
        {
         "hoverinfo": "y",
         "hovertemplate": "ELV<br>%{y:.2f}",
         "marker": {
          "color": [
           "rgb(47, 12, 83)"
          ]
         },
         "name": "",
         "showlegend": false,
         "type": "bar",
         "x": [
          "COVID-19 Pandemic"
         ],
         "y": [
          2.1267247781527653e-10
         ]
        },
        {
         "hoverinfo": "y",
         "hovertemplate": "ORCL<br>%{y:.2f}",
         "marker": {
          "color": [
           "rgb(12, 5, 31)"
          ]
         },
         "name": "",
         "showlegend": false,
         "type": "bar",
         "x": [
          "COVID-19 Pandemic"
         ],
         "y": [
          2.0576316397741198e-10
         ]
        },
        {
         "hoverinfo": "y",
         "hovertemplate": "MCD<br>%{y:.2f}",
         "marker": {
          "color": [
           "rgb(92, 18, 108)"
          ]
         },
         "name": "",
         "showlegend": false,
         "type": "bar",
         "x": [
          "COVID-19 Pandemic"
         ],
         "y": [
          2.0257411468529956e-10
         ]
        },
        {
         "hoverinfo": "y",
         "hovertemplate": "MRK<br>%{y:.2f}",
         "marker": {
          "color": [
           "rgb(24, 11, 59)"
          ]
         },
         "name": "",
         "showlegend": false,
         "type": "bar",
         "x": [
          "COVID-19 Pandemic"
         ],
         "y": [
          2.0079944401222504e-10
         ]
        },
        {
         "hoverinfo": "y",
         "hovertemplate": "SCHW<br>%{y:.2f}",
         "marker": {
          "color": [
           "rgb(140, 35, 103)"
          ]
         },
         "name": "",
         "showlegend": false,
         "type": "bar",
         "x": [
          "COVID-19 Pandemic"
         ],
         "y": [
          1.9380462830322668e-10
         ]
        },
        {
         "hoverinfo": "y",
         "hovertemplate": "PLD<br>%{y:.2f}",
         "marker": {
          "color": [
           "rgb(248, 202, 54)"
          ]
         },
         "name": "",
         "showlegend": false,
         "type": "bar",
         "x": [
          "COVID-19 Pandemic"
         ],
         "y": [
          1.922790209241693e-10
         ]
        },
        {
         "hoverinfo": "y",
         "hovertemplate": "BLK<br>%{y:.2f}",
         "marker": {
          "color": [
           "rgb(147, 38, 101)"
          ]
         },
         "name": "",
         "showlegend": false,
         "type": "bar",
         "x": [
          "COVID-19 Pandemic"
         ],
         "y": [
          1.9052957651694758e-10
         ]
        },
        {
         "hoverinfo": "y",
         "hovertemplate": "WFC<br>%{y:.2f}",
         "marker": {
          "color": [
           "rgb(130, 32, 106)"
          ]
         },
         "name": "",
         "showlegend": false,
         "type": "bar",
         "x": [
          "COVID-19 Pandemic"
         ],
         "y": [
          1.8052360260331448e-10
         ]
        },
        {
         "hoverinfo": "y",
         "hovertemplate": "GOVT<br>%{y:.2f}",
         "marker": {
          "color": [
           "rgb(250, 150, 9)"
          ]
         },
         "name": "",
         "showlegend": false,
         "type": "bar",
         "x": [
          "COVID-19 Pandemic"
         ],
         "y": [
          1.7915526905672278e-10
         ]
        },
        {
         "hoverinfo": "y",
         "hovertemplate": "T<br>%{y:.2f}",
         "marker": {
          "color": [
           "rgb(217, 80, 59)"
          ]
         },
         "name": "",
         "showlegend": false,
         "type": "bar",
         "x": [
          "COVID-19 Pandemic"
         ],
         "y": [
          1.7700692217580872e-10
         ]
        },
        {
         "hoverinfo": "y",
         "hovertemplate": "SBUX<br>%{y:.2f}",
         "marker": {
          "color": [
           "rgb(96, 20, 108)"
          ]
         },
         "name": "",
         "showlegend": false,
         "type": "bar",
         "x": [
          "COVID-19 Pandemic"
         ],
         "y": [
          1.5856880784482594e-10
         ]
        },
        {
         "hoverinfo": "y",
         "hovertemplate": "D<br>%{y:.2f}",
         "marker": {
          "color": [
           "rgb(202, 65, 73)"
          ]
         },
         "name": "",
         "showlegend": false,
         "type": "bar",
         "x": [
          "COVID-19 Pandemic"
         ],
         "y": [
          1.577496291394051e-10
         ]
        },
        {
         "hoverinfo": "y",
         "hovertemplate": "JNJ<br>%{y:.2f}",
         "marker": {
          "color": [
           "rgb(20, 9, 50)"
          ]
         },
         "name": "",
         "showlegend": false,
         "type": "bar",
         "x": [
          "COVID-19 Pandemic"
         ],
         "y": [
          1.5644898693024593e-10
         ]
        },
        {
         "hoverinfo": "y",
         "hovertemplate": "NKE<br>%{y:.2f}",
         "marker": {
          "color": [
           "rgb(89, 17, 108)"
          ]
         },
         "name": "",
         "showlegend": false,
         "type": "bar",
         "x": [
          "COVID-19 Pandemic"
         ],
         "y": [
          1.5334349352130375e-10
         ]
        },
        {
         "hoverinfo": "y",
         "hovertemplate": "LMT<br>%{y:.2f}",
         "marker": {
          "color": [
           "rgb(170, 47, 93)"
          ]
         },
         "name": "",
         "showlegend": false,
         "type": "bar",
         "x": [
          "COVID-19 Pandemic"
         ],
         "y": [
          1.4840179397752435e-10
         ]
        },
        {
         "hoverinfo": "y",
         "hovertemplate": "O<br>%{y:.2f}",
         "marker": {
          "color": [
           "rgb(247, 206, 58)"
          ]
         },
         "name": "",
         "showlegend": false,
         "type": "bar",
         "x": [
          "COVID-19 Pandemic"
         ],
         "y": [
          1.4586211906671704e-10
         ]
        },
        {
         "hoverinfo": "y",
         "hovertemplate": "VZ<br>%{y:.2f}",
         "marker": {
          "color": [
           "rgb(214, 77, 62)"
          ]
         },
         "name": "",
         "showlegend": false,
         "type": "bar",
         "x": [
          "COVID-19 Pandemic"
         ],
         "y": [
          1.4527013496643615e-10
         ]
        },
        {
         "hoverinfo": "y",
         "hovertemplate": "CRM<br>%{y:.2f}",
         "marker": {
          "color": [
           "rgb(14, 6, 36)"
          ]
         },
         "name": "",
         "showlegend": false,
         "type": "bar",
         "x": [
          "COVID-19 Pandemic"
         ],
         "y": [
          1.4476539077372753e-10
         ]
        },
        {
         "hoverinfo": "y",
         "hovertemplate": "DUK<br>%{y:.2f}",
         "marker": {
          "color": [
           "rgb(189, 58, 81)"
          ]
         },
         "name": "",
         "showlegend": false,
         "type": "bar",
         "x": [
          "COVID-19 Pandemic"
         ],
         "y": [
          1.4306266033928256e-10
         ]
        },
        {
         "hoverinfo": "y",
         "hovertemplate": "SCHH<br>%{y:.2f}",
         "marker": {
          "color": [
           "rgb(248, 190, 42)"
          ]
         },
         "name": "",
         "showlegend": false,
         "type": "bar",
         "x": [
          "COVID-19 Pandemic"
         ],
         "y": [
          1.4271473433289976e-10
         ]
        },
        {
         "hoverinfo": "y",
         "hovertemplate": "TGT<br>%{y:.2f}",
         "marker": {
          "color": [
           "rgb(99, 21, 108)"
          ]
         },
         "name": "",
         "showlegend": false,
         "type": "bar",
         "x": [
          "COVID-19 Pandemic"
         ],
         "y": [
          1.4029003975496158e-10
         ]
        },
        {
         "hoverinfo": "y",
         "hovertemplate": "BND<br>%{y:.2f}",
         "marker": {
          "color": [
           "rgb(251, 154, 7)"
          ]
         },
         "name": "",
         "showlegend": false,
         "type": "bar",
         "x": [
          "COVID-19 Pandemic"
         ],
         "y": [
          1.39942030738183e-10
         ]
        },
        {
         "hoverinfo": "y",
         "hovertemplate": "SPOT<br>%{y:.2f}",
         "marker": {
          "color": [
           "rgb(235, 102, 39)"
          ]
         },
         "name": "",
         "showlegend": false,
         "type": "bar",
         "x": [
          "COVID-19 Pandemic"
         ],
         "y": [
          1.385344885138249e-10
         ]
        },
        {
         "hoverinfo": "y",
         "hovertemplate": "XEL<br>%{y:.2f}",
         "marker": {
          "color": [
           "rgb(205, 67, 71)"
          ]
         },
         "name": "",
         "showlegend": false,
         "type": "bar",
         "x": [
          "COVID-19 Pandemic"
         ],
         "y": [
          1.364976029311777e-10
         ]
        },
        {
         "hoverinfo": "y",
         "hovertemplate": "HYG<br>%{y:.2f}",
         "marker": {
          "color": [
           "rgb(250, 162, 13)"
          ]
         },
         "name": "",
         "showlegend": false,
         "type": "bar",
         "x": [
          "COVID-19 Pandemic"
         ],
         "y": [
          1.3534170715692697e-10
         ]
        },
        {
         "hoverinfo": "y",
         "hovertemplate": "KMB<br>%{y:.2f}",
         "marker": {
          "color": [
           "rgb(68, 12, 102)"
          ]
         },
         "name": "",
         "showlegend": false,
         "type": "bar",
         "x": [
          "COVID-19 Pandemic"
         ],
         "y": [
          1.3399480148445137e-10
         ]
        },
        {
         "hoverinfo": "y",
         "hovertemplate": "GE<br>%{y:.2f}",
         "marker": {
          "color": [
           "rgb(173, 49, 91)"
          ]
         },
         "name": "",
         "showlegend": false,
         "type": "bar",
         "x": [
          "COVID-19 Pandemic"
         ],
         "y": [
          1.326708061860258e-10
         ]
        },
        {
         "hoverinfo": "y",
         "hovertemplate": "AMZN<br>%{y:.2f}",
         "marker": {
          "color": [
           "rgb(6, 3, 18)"
          ]
         },
         "name": "",
         "showlegend": false,
         "type": "bar",
         "x": [
          "COVID-19 Pandemic"
         ],
         "y": [
          1.3212771059085997e-10
         ]
        },
        {
         "hoverinfo": "y",
         "hovertemplate": "GSG<br>%{y:.2f}",
         "marker": {
          "color": [
           "rgb(251, 248, 149)"
          ]
         },
         "name": "",
         "showlegend": false,
         "type": "bar",
         "x": [
          "COVID-19 Pandemic"
         ],
         "y": [
          1.2809323930931158e-10
         ]
        },
        {
         "hoverinfo": "y",
         "hovertemplate": "C<br>%{y:.2f}",
         "marker": {
          "color": [
           "rgb(134, 33, 105)"
          ]
         },
         "name": "",
         "showlegend": false,
         "type": "bar",
         "x": [
          "COVID-19 Pandemic"
         ],
         "y": [
          1.267007409267734e-10
         ]
        },
        {
         "hoverinfo": "y",
         "hovertemplate": "DBC<br>%{y:.2f}",
         "marker": {
          "color": [
           "rgb(250, 234, 118)"
          ]
         },
         "name": "",
         "showlegend": false,
         "type": "bar",
         "x": [
          "COVID-19 Pandemic"
         ],
         "y": [
          1.262099068063435e-10
         ]
        },
        {
         "hoverinfo": "y",
         "hovertemplate": "EXC<br>%{y:.2f}",
         "marker": {
          "color": [
           "rgb(199, 63, 75)"
          ]
         },
         "name": "",
         "showlegend": false,
         "type": "bar",
         "x": [
          "COVID-19 Pandemic"
         ],
         "y": [
          1.25400008586259e-10
         ]
        },
        {
         "hoverinfo": "y",
         "hovertemplate": "MDT<br>%{y:.2f}",
         "marker": {
          "color": [
           "rgb(43, 12, 80)"
          ]
         },
         "name": "",
         "showlegend": false,
         "type": "bar",
         "x": [
          "COVID-19 Pandemic"
         ],
         "y": [
          1.24961732309147e-10
         ]
        },
        {
         "hoverinfo": "y",
         "hovertemplate": "SO<br>%{y:.2f}",
         "marker": {
          "color": [
           "rgb(192, 60, 79)"
          ]
         },
         "name": "",
         "showlegend": false,
         "type": "bar",
         "x": [
          "COVID-19 Pandemic"
         ],
         "y": [
          1.209718898417832e-10
         ]
        },
        {
         "hoverinfo": "y",
         "hovertemplate": "BNO<br>%{y:.2f}",
         "marker": {
          "color": [
           "rgb(251, 245, 141)"
          ]
         },
         "name": "",
         "showlegend": false,
         "type": "bar",
         "x": [
          "COVID-19 Pandemic"
         ],
         "y": [
          1.1910122864635233e-10
         ]
        },
        {
         "hoverinfo": "y",
         "hovertemplate": "MDLZ<br>%{y:.2f}",
         "marker": {
          "color": [
           "rgb(75, 12, 107)"
          ]
         },
         "name": "",
         "showlegend": false,
         "type": "bar",
         "x": [
          "COVID-19 Pandemic"
         ],
         "y": [
          1.176060712102372e-10
         ]
        },
        {
         "hoverinfo": "y",
         "hovertemplate": "UNP<br>%{y:.2f}",
         "marker": {
          "color": [
           "rgb(167, 45, 95)"
          ]
         },
         "name": "",
         "showlegend": false,
         "type": "bar",
         "x": [
          "COVID-19 Pandemic"
         ],
         "y": [
          1.1475639270769861e-10
         ]
        },
        {
         "hoverinfo": "y",
         "hovertemplate": "XLRE<br>%{y:.2f}",
         "marker": {
          "color": [
           "rgb(248, 198, 50)"
          ]
         },
         "name": "",
         "showlegend": false,
         "type": "bar",
         "x": [
          "COVID-19 Pandemic"
         ],
         "y": [
          1.1376305211889242e-10
         ]
        },
        {
         "hoverinfo": "y",
         "hovertemplate": "VNQ<br>%{y:.2f}",
         "marker": {
          "color": [
           "rgb(249, 182, 34)"
          ]
         },
         "name": "",
         "showlegend": false,
         "type": "bar",
         "x": [
          "COVID-19 Pandemic"
         ],
         "y": [
          1.1350106834482825e-10
         ]
        },
        {
         "hoverinfo": "y",
         "hovertemplate": "INTC<br>%{y:.2f}",
         "marker": {
          "color": [
           "rgb(16, 7, 41)"
          ]
         },
         "name": "",
         "showlegend": false,
         "type": "bar",
         "x": [
          "COVID-19 Pandemic"
         ],
         "y": [
          1.1196523634936996e-10
         ]
        },
        {
         "hoverinfo": "y",
         "hovertemplate": "ADBE<br>%{y:.2f}",
         "marker": {
          "color": [
           "rgb(10, 4, 27)"
          ]
         },
         "name": "",
         "showlegend": false,
         "type": "bar",
         "x": [
          "COVID-19 Pandemic"
         ],
         "y": [
          1.0894197853273437e-10
         ]
        },
        {
         "hoverinfo": "y",
         "hovertemplate": "LOW<br>%{y:.2f}",
         "marker": {
          "color": [
           "rgb(106, 23, 108)"
          ]
         },
         "name": "",
         "showlegend": false,
         "type": "bar",
         "x": [
          "COVID-19 Pandemic"
         ],
         "y": [
          1.0709505327096691e-10
         ]
        },
        {
         "hoverinfo": "y",
         "hovertemplate": "UNH<br>%{y:.2f}",
         "marker": {
          "color": [
           "rgb(26, 12, 63)"
          ]
         },
         "name": "",
         "showlegend": false,
         "type": "bar",
         "x": [
          "COVID-19 Pandemic"
         ],
         "y": [
          1.050532536815408e-10
         ]
        },
        {
         "hoverinfo": "y",
         "hovertemplate": "LLY<br>%{y:.2f}",
         "marker": {
          "color": [
           "rgb(33, 12, 70)"
          ]
         },
         "name": "",
         "showlegend": false,
         "type": "bar",
         "x": [
          "COVID-19 Pandemic"
         ],
         "y": [
          1.0237740731375793e-10
         ]
        },
        {
         "hoverinfo": "y",
         "hovertemplate": "PDBC<br>%{y:.2f}",
         "marker": {
          "color": [
           "rgb(249, 231, 110)"
          ]
         },
         "name": "",
         "showlegend": false,
         "type": "bar",
         "x": [
          "COVID-19 Pandemic"
         ],
         "y": [
          1.0183597640236528e-10
         ]
        },
        {
         "hoverinfo": "y",
         "hovertemplate": "MMM<br>%{y:.2f}",
         "marker": {
          "color": [
           "rgb(161, 42, 97)"
          ]
         },
         "name": "",
         "showlegend": false,
         "type": "bar",
         "x": [
          "COVID-19 Pandemic"
         ],
         "y": [
          9.962285601474202e-11
         ]
        },
        {
         "hoverinfo": "y",
         "hovertemplate": "UPS<br>%{y:.2f}",
         "marker": {
          "color": [
           "rgb(180, 52, 87)"
          ]
         },
         "name": "",
         "showlegend": false,
         "type": "bar",
         "x": [
          "COVID-19 Pandemic"
         ],
         "y": [
          9.943514707622016e-11
         ]
        },
        {
         "hoverinfo": "y",
         "hovertemplate": "HD<br>%{y:.2f}",
         "marker": {
          "color": [
           "rgb(103, 22, 108)"
          ]
         },
         "name": "",
         "showlegend": false,
         "type": "bar",
         "x": [
          "COVID-19 Pandemic"
         ],
         "y": [
          9.874240781790236e-11
         ]
        },
        {
         "hoverinfo": "y",
         "hovertemplate": "HAL<br>%{y:.2f}",
         "marker": {
          "color": [
           "rgb(244, 131, 21)"
          ]
         },
         "name": "",
         "showlegend": false,
         "type": "bar",
         "x": [
          "COVID-19 Pandemic"
         ],
         "y": [
          9.774156893000942e-11
         ]
        },
        {
         "hoverinfo": "y",
         "hovertemplate": "MS<br>%{y:.2f}",
         "marker": {
          "color": [
           "rgb(144, 36, 102)"
          ]
         },
         "name": "",
         "showlegend": false,
         "type": "bar",
         "x": [
          "COVID-19 Pandemic"
         ],
         "y": [
          9.753711254187337e-11
         ]
        },
        {
         "hoverinfo": "y",
         "hovertemplate": "CORN<br>%{y:.2f}",
         "marker": {
          "color": [
           "rgb(252, 252, 156)"
          ]
         },
         "name": "",
         "showlegend": false,
         "type": "bar",
         "x": [
          "COVID-19 Pandemic"
         ],
         "y": [
          9.649704656152855e-11
         ]
        },
        {
         "hoverinfo": "y",
         "hovertemplate": "BKR<br>%{y:.2f}",
         "marker": {
          "color": [
           "rgb(245, 135, 18)"
          ]
         },
         "name": "",
         "showlegend": false,
         "type": "bar",
         "x": [
          "COVID-19 Pandemic"
         ],
         "y": [
          9.615343564188157e-11
         ]
        },
        {
         "hoverinfo": "y",
         "hovertemplate": "AVB<br>%{y:.2f}",
         "marker": {
          "color": [
           "rgb(248, 214, 71)"
          ]
         },
         "name": "",
         "showlegend": false,
         "type": "bar",
         "x": [
          "COVID-19 Pandemic"
         ],
         "y": [
          9.467994960496872e-11
         ]
        },
        {
         "hoverinfo": "y",
         "hovertemplate": "CL<br>%{y:.2f}",
         "marker": {
          "color": [
           "rgb(65, 12, 99)"
          ]
         },
         "name": "",
         "showlegend": false,
         "type": "bar",
         "x": [
          "COVID-19 Pandemic"
         ],
         "y": [
          9.374189309853718e-11
         ]
        },
        {
         "hoverinfo": "y",
         "hovertemplate": "PG<br>%{y:.2f}",
         "marker": {
          "color": [
           "rgb(51, 12, 86)"
          ]
         },
         "name": "",
         "showlegend": false,
         "type": "bar",
         "x": [
          "COVID-19 Pandemic"
         ],
         "y": [
          9.22733942322118e-11
         ]
        },
        {
         "hoverinfo": "y",
         "hovertemplate": "LQD<br>%{y:.2f}",
         "marker": {
          "color": [
           "rgb(251, 158, 9)"
          ]
         },
         "name": "",
         "showlegend": false,
         "type": "bar",
         "x": [
          "COVID-19 Pandemic"
         ],
         "y": [
          9.061691491639458e-11
         ]
        },
        {
         "hoverinfo": "y",
         "hovertemplate": "SRE<br>%{y:.2f}",
         "marker": {
          "color": [
           "rgb(210, 72, 67)"
          ]
         },
         "name": "",
         "showlegend": false,
         "type": "bar",
         "x": [
          "COVID-19 Pandemic"
         ],
         "y": [
          8.921284164402163e-11
         ]
        },
        {
         "hoverinfo": "y",
         "hovertemplate": "TSLA<br>%{y:.2f}",
         "marker": {
          "color": [
           "rgb(86, 16, 108)"
          ]
         },
         "name": "",
         "showlegend": false,
         "type": "bar",
         "x": [
          "COVID-19 Pandemic"
         ],
         "y": [
          8.615249071397425e-11
         ]
        },
        {
         "hoverinfo": "y",
         "hovertemplate": "OXY<br>%{y:.2f}",
         "marker": {
          "color": [
           "rgb(246, 139, 16)"
          ]
         },
         "name": "",
         "showlegend": false,
         "type": "bar",
         "x": [
          "COVID-19 Pandemic"
         ],
         "y": [
          8.50287227718894e-11
         ]
        },
        {
         "hoverinfo": "y",
         "hovertemplate": "SLB<br>%{y:.2f}",
         "marker": {
          "color": [
           "rgb(240, 116, 30)"
          ]
         },
         "name": "",
         "showlegend": false,
         "type": "bar",
         "x": [
          "COVID-19 Pandemic"
         ],
         "y": [
          8.385776772708716e-11
         ]
        },
        {
         "hoverinfo": "y",
         "hovertemplate": "GOOG<br>%{y:.2f}",
         "marker": {
          "color": [
           "rgb(4, 2, 13)"
          ]
         },
         "name": "",
         "showlegend": false,
         "type": "bar",
         "x": [
          "COVID-19 Pandemic"
         ],
         "y": [
          7.861470758647468e-11
         ]
        },
        {
         "hoverinfo": "y",
         "hovertemplate": "USO<br>%{y:.2f}",
         "marker": {
          "color": [
           "rgb(250, 238, 125)"
          ]
         },
         "name": "",
         "showlegend": false,
         "type": "bar",
         "x": [
          "COVID-19 Pandemic"
         ],
         "y": [
          7.736837341519458e-11
         ]
        },
        {
         "hoverinfo": "y",
         "hovertemplate": "KO<br>%{y:.2f}",
         "marker": {
          "color": [
           "rgb(54, 12, 89)"
          ]
         },
         "name": "",
         "showlegend": false,
         "type": "bar",
         "x": [
          "COVID-19 Pandemic"
         ],
         "y": [
          7.297302997966535e-11
         ]
        },
        {
         "hoverinfo": "y",
         "hovertemplate": "GOOGL<br>%{y:.2f}",
         "marker": {
          "color": [
           "rgb(226, 91, 49)"
          ]
         },
         "name": "",
         "showlegend": false,
         "type": "bar",
         "x": [
          "COVID-19 Pandemic"
         ],
         "y": [
          7.076021969108906e-11
         ]
        },
        {
         "hoverinfo": "y",
         "hovertemplate": "AEP<br>%{y:.2f}",
         "marker": {
          "color": [
           "rgb(195, 61, 77)"
          ]
         },
         "name": "",
         "showlegend": false,
         "type": "bar",
         "x": [
          "COVID-19 Pandemic"
         ],
         "y": [
          7.056212831946328e-11
         ]
        },
        {
         "hoverinfo": "y",
         "hovertemplate": "TIP<br>%{y:.2f}",
         "marker": {
          "color": [
           "rgb(250, 166, 17)"
          ]
         },
         "name": "",
         "showlegend": false,
         "type": "bar",
         "x": [
          "COVID-19 Pandemic"
         ],
         "y": [
          6.990495805847393e-11
         ]
        },
        {
         "hoverinfo": "y",
         "hovertemplate": "SLV<br>%{y:.2f}",
         "marker": {
          "color": [
           "rgb(249, 227, 102)"
          ]
         },
         "name": "",
         "showlegend": false,
         "type": "bar",
         "x": [
          "COVID-19 Pandemic"
         ],
         "y": [
          6.797993585076366e-11
         ]
        },
        {
         "hoverinfo": "y",
         "hovertemplate": "MO<br>%{y:.2f}",
         "marker": {
          "color": [
           "rgb(72, 12, 105)"
          ]
         },
         "name": "",
         "showlegend": false,
         "type": "bar",
         "x": [
          "COVID-19 Pandemic"
         ],
         "y": [
          6.794206443196897e-11
         ]
        },
        {
         "hoverinfo": "y",
         "hovertemplate": "AGG<br>%{y:.2f}",
         "marker": {
          "color": [
           "rgb(250, 170, 21)"
          ]
         },
         "name": "",
         "showlegend": false,
         "type": "bar",
         "x": [
          "COVID-19 Pandemic"
         ],
         "y": [
          6.791162194974545e-11
         ]
        },
        {
         "hoverinfo": "y",
         "hovertemplate": "ED<br>%{y:.2f}",
         "marker": {
          "color": [
           "rgb(208, 69, 69)"
          ]
         },
         "name": "",
         "showlegend": false,
         "type": "bar",
         "x": [
          "COVID-19 Pandemic"
         ],
         "y": [
          6.655538649641368e-11
         ]
        },
        {
         "hoverinfo": "y",
         "hovertemplate": "MPC<br>%{y:.2f}",
         "marker": {
          "color": [
           "rgb(243, 128, 23)"
          ]
         },
         "name": "",
         "showlegend": false,
         "type": "bar",
         "x": [
          "COVID-19 Pandemic"
         ],
         "y": [
          6.386450440891177e-11
         ]
        },
        {
         "hoverinfo": "y",
         "hovertemplate": "PFE<br>%{y:.2f}",
         "marker": {
          "color": [
           "rgb(22, 10, 54)"
          ]
         },
         "name": "",
         "showlegend": false,
         "type": "bar",
         "x": [
          "COVID-19 Pandemic"
         ],
         "y": [
          6.21597433884263e-11
         ]
        },
        {
         "hoverinfo": "y",
         "hovertemplate": "VLO<br>%{y:.2f}",
         "marker": {
          "color": [
           "rgb(242, 124, 25)"
          ]
         },
         "name": "",
         "showlegend": false,
         "type": "bar",
         "x": [
          "COVID-19 Pandemic"
         ],
         "y": [
          6.014220894953179e-11
         ]
        },
        {
         "hoverinfo": "y",
         "hovertemplate": "CHTR<br>%{y:.2f}",
         "marker": {
          "color": [
           "rgb(230, 97, 44)"
          ]
         },
         "name": "",
         "showlegend": false,
         "type": "bar",
         "x": [
          "COVID-19 Pandemic"
         ],
         "y": [
          5.550104791892157e-11
         ]
        },
        {
         "hoverinfo": "y",
         "hovertemplate": "AXP<br>%{y:.2f}",
         "marker": {
          "color": [
           "rgb(137, 34, 104)"
          ]
         },
         "name": "",
         "showlegend": false,
         "type": "bar",
         "x": [
          "COVID-19 Pandemic"
         ],
         "y": [
          5.4183771816730316e-11
         ]
        },
        {
         "hoverinfo": "y",
         "hovertemplate": "TLT<br>%{y:.2f}",
         "marker": {
          "color": [
           "rgb(249, 146, 11)"
          ]
         },
         "name": "",
         "showlegend": false,
         "type": "bar",
         "x": [
          "COVID-19 Pandemic"
         ],
         "y": [
          5.297621773360033e-11
         ]
        },
        {
         "hoverinfo": "y",
         "hovertemplate": "PSX<br>%{y:.2f}",
         "marker": {
          "color": [
           "rgb(241, 120, 28)"
          ]
         },
         "name": "",
         "showlegend": false,
         "type": "bar",
         "x": [
          "COVID-19 Pandemic"
         ],
         "y": [
          5.099021387781505e-11
         ]
        },
        {
         "hoverinfo": "y",
         "hovertemplate": "ABBV<br>%{y:.2f}",
         "marker": {
          "color": [
           "rgb(36, 12, 73)"
          ]
         },
         "name": "",
         "showlegend": false,
         "type": "bar",
         "x": [
          "COVID-19 Pandemic"
         ],
         "y": [
          4.780624242546811e-11
         ]
        },
        {
         "hoverinfo": "y",
         "hovertemplate": "CAT<br>%{y:.2f}",
         "marker": {
          "color": [
           "rgb(157, 41, 98)"
          ]
         },
         "name": "",
         "showlegend": false,
         "type": "bar",
         "x": [
          "COVID-19 Pandemic"
         ],
         "y": [
          4.3917310644663495e-11
         ]
        },
        {
         "hoverinfo": "y",
         "hovertemplate": "EQR<br>%{y:.2f}",
         "marker": {
          "color": [
           "rgb(248, 217, 79)"
          ]
         },
         "name": "",
         "showlegend": false,
         "type": "bar",
         "x": [
          "COVID-19 Pandemic"
         ],
         "y": [
          4.3825507193896884e-11
         ]
        },
        {
         "hoverinfo": "y",
         "hovertemplate": "CSCO<br>%{y:.2f}",
         "marker": {
          "color": [
           "rgb(18, 8, 45)"
          ]
         },
         "name": "",
         "showlegend": false,
         "type": "bar",
         "x": [
          "COVID-19 Pandemic"
         ],
         "y": [
          2.923268086340415e-11
         ]
        },
        {
         "hoverinfo": "y",
         "hovertemplate": "IAU<br>%{y:.2f}",
         "marker": {
          "color": [
           "rgb(249, 224, 94)"
          ]
         },
         "name": "",
         "showlegend": false,
         "type": "bar",
         "x": [
          "Recent Period"
         ],
         "y": [
          0.4183520413677454
         ]
        },
        {
         "hoverinfo": "y",
         "hovertemplate": "USB<br>%{y:.2f}",
         "marker": {
          "color": [
           "rgb(150, 39, 100)"
          ]
         },
         "name": "",
         "showlegend": false,
         "type": "bar",
         "x": [
          "Recent Period"
         ],
         "y": [
          0.1204958923304442
         ]
        },
        {
         "hoverinfo": "y",
         "hovertemplate": "RTX<br>%{y:.2f}",
         "marker": {
          "color": [
           "rgb(177, 51, 89)"
          ]
         },
         "name": "",
         "showlegend": false,
         "type": "bar",
         "x": [
          "Recent Period"
         ],
         "y": [
          0.11389083657437385
         ]
        },
        {
         "hoverinfo": "y",
         "hovertemplate": "LOW<br>%{y:.2f}",
         "marker": {
          "color": [
           "rgb(106, 23, 108)"
          ]
         },
         "name": "",
         "showlegend": false,
         "type": "bar",
         "x": [
          "Recent Period"
         ],
         "y": [
          0.07408932386990866
         ]
        },
        {
         "hoverinfo": "y",
         "hovertemplate": "UPS<br>%{y:.2f}",
         "marker": {
          "color": [
           "rgb(180, 52, 87)"
          ]
         },
         "name": "",
         "showlegend": false,
         "type": "bar",
         "x": [
          "Recent Period"
         ],
         "y": [
          0.07169952899485829
         ]
        },
        {
         "hoverinfo": "y",
         "hovertemplate": "UNG<br>%{y:.2f}",
         "marker": {
          "color": [
           "rgb(251, 241, 133)"
          ]
         },
         "name": "",
         "showlegend": false,
         "type": "bar",
         "x": [
          "Recent Period"
         ],
         "y": [
          0.061626232112036924
         ]
        },
        {
         "hoverinfo": "y",
         "hovertemplate": "ED<br>%{y:.2f}",
         "marker": {
          "color": [
           "rgb(208, 69, 69)"
          ]
         },
         "name": "",
         "showlegend": false,
         "type": "bar",
         "x": [
          "Recent Period"
         ],
         "y": [
          0.051202825743178755
         ]
        },
        {
         "hoverinfo": "y",
         "hovertemplate": "MSFT<br>%{y:.2f}",
         "marker": {
          "color": [
           "rgb(2, 1, 9)"
          ]
         },
         "name": "",
         "showlegend": false,
         "type": "bar",
         "x": [
          "Recent Period"
         ],
         "y": [
          0.027953374352521664
         ]
        },
        {
         "hoverinfo": "y",
         "hovertemplate": "SRE<br>%{y:.2f}",
         "marker": {
          "color": [
           "rgb(210, 72, 67)"
          ]
         },
         "name": "",
         "showlegend": false,
         "type": "bar",
         "x": [
          "Recent Period"
         ],
         "y": [
          0.023797415188045713
         ]
        },
        {
         "hoverinfo": "y",
         "hovertemplate": "NFLX<br>%{y:.2f}",
         "marker": {
          "color": [
           "rgb(224, 88, 52)"
          ]
         },
         "name": "",
         "showlegend": false,
         "type": "bar",
         "x": [
          "Recent Period"
         ],
         "y": [
          0.016424946055309128
         ]
        },
        {
         "hoverinfo": "y",
         "hovertemplate": "CORN<br>%{y:.2f}",
         "marker": {
          "color": [
           "rgb(252, 252, 156)"
          ]
         },
         "name": "",
         "showlegend": false,
         "type": "bar",
         "x": [
          "Recent Period"
         ],
         "y": [
          0.010866877743738896
         ]
        },
        {
         "hoverinfo": "y",
         "hovertemplate": "SCHH<br>%{y:.2f}",
         "marker": {
          "color": [
           "rgb(248, 190, 42)"
          ]
         },
         "name": "",
         "showlegend": false,
         "type": "bar",
         "x": [
          "Recent Period"
         ],
         "y": [
          0.009600557290901767
         ]
        },
        {
         "hoverinfo": "y",
         "hovertemplate": "AMT<br>%{y:.2f}",
         "marker": {
          "color": [
           "rgb(117, 27, 109)"
          ]
         },
         "name": "",
         "showlegend": false,
         "type": "bar",
         "x": [
          "Recent Period"
         ],
         "y": [
          1.21398630075411e-7
         ]
        },
        {
         "hoverinfo": "y",
         "hovertemplate": "META<br>%{y:.2f}",
         "marker": {
          "color": [
           "rgb(228, 94, 47)"
          ]
         },
         "name": "",
         "showlegend": false,
         "type": "bar",
         "x": [
          "Recent Period"
         ],
         "y": [
          2.5684333486235663e-9
         ]
        },
        {
         "hoverinfo": "y",
         "hovertemplate": "ROST<br>%{y:.2f}",
         "marker": {
          "color": [
           "rgb(113, 26, 109)"
          ]
         },
         "name": "",
         "showlegend": false,
         "type": "bar",
         "x": [
          "Recent Period"
         ],
         "y": [
          2.5270725927547627e-9
         ]
        },
        {
         "hoverinfo": "y",
         "hovertemplate": "AGG<br>%{y:.2f}",
         "marker": {
          "color": [
           "rgb(250, 170, 21)"
          ]
         },
         "name": "",
         "showlegend": false,
         "type": "bar",
         "x": [
          "Recent Period"
         ],
         "y": [
          1.115848348773523e-9
         ]
        },
        {
         "hoverinfo": "y",
         "hovertemplate": "GS<br>%{y:.2f}",
         "marker": {
          "color": [
           "rgb(127, 30, 107)"
          ]
         },
         "name": "",
         "showlegend": false,
         "type": "bar",
         "x": [
          "Recent Period"
         ],
         "y": [
          6.786534467766302e-10
         ]
        },
        {
         "hoverinfo": "y",
         "hovertemplate": "XEL<br>%{y:.2f}",
         "marker": {
          "color": [
           "rgb(205, 67, 71)"
          ]
         },
         "name": "",
         "showlegend": false,
         "type": "bar",
         "x": [
          "Recent Period"
         ],
         "y": [
          5.854727762689137e-10
         ]
        },
        {
         "hoverinfo": "y",
         "hovertemplate": "PEP<br>%{y:.2f}",
         "marker": {
          "color": [
           "rgb(58, 12, 92)"
          ]
         },
         "name": "",
         "showlegend": false,
         "type": "bar",
         "x": [
          "Recent Period"
         ],
         "y": [
          5.502263737574068e-10
         ]
        },
        {
         "hoverinfo": "y",
         "hovertemplate": "BMY<br>%{y:.2f}",
         "marker": {
          "color": [
           "rgb(29, 12, 67)"
          ]
         },
         "name": "",
         "showlegend": false,
         "type": "bar",
         "x": [
          "Recent Period"
         ],
         "y": [
          5.361257758240847e-10
         ]
        },
        {
         "hoverinfo": "y",
         "hovertemplate": "NVDA<br>%{y:.2f}",
         "marker": {
          "color": [
           "rgb(8, 4, 22)"
          ]
         },
         "name": "",
         "showlegend": false,
         "type": "bar",
         "x": [
          "Recent Period"
         ],
         "y": [
          5.31230855317725e-10
         ]
        },
        {
         "hoverinfo": "y",
         "hovertemplate": "LLY<br>%{y:.2f}",
         "marker": {
          "color": [
           "rgb(33, 12, 70)"
          ]
         },
         "name": "",
         "showlegend": false,
         "type": "bar",
         "x": [
          "Recent Period"
         ],
         "y": [
          5.134375007276321e-10
         ]
        },
        {
         "hoverinfo": "y",
         "hovertemplate": "VCSH<br>%{y:.2f}",
         "marker": {
          "color": [
           "rgb(249, 178, 29)"
          ]
         },
         "name": "",
         "showlegend": false,
         "type": "bar",
         "x": [
          "Recent Period"
         ],
         "y": [
          4.673694392100532e-10
         ]
        },
        {
         "hoverinfo": "y",
         "hovertemplate": "PSX<br>%{y:.2f}",
         "marker": {
          "color": [
           "rgb(241, 120, 28)"
          ]
         },
         "name": "",
         "showlegend": false,
         "type": "bar",
         "x": [
          "Recent Period"
         ],
         "y": [
          4.553201871919019e-10
         ]
        },
        {
         "hoverinfo": "y",
         "hovertemplate": "ELV<br>%{y:.2f}",
         "marker": {
          "color": [
           "rgb(47, 12, 83)"
          ]
         },
         "name": "",
         "showlegend": false,
         "type": "bar",
         "x": [
          "Recent Period"
         ],
         "y": [
          4.4784869741972605e-10
         ]
        },
        {
         "hoverinfo": "y",
         "hovertemplate": "GLD<br>%{y:.2f}",
         "marker": {
          "color": [
           "rgb(248, 220, 87)"
          ]
         },
         "name": "",
         "showlegend": false,
         "type": "bar",
         "x": [
          "Recent Period"
         ],
         "y": [
          4.2358792742548773e-10
         ]
        },
        {
         "hoverinfo": "y",
         "hovertemplate": "BA<br>%{y:.2f}",
         "marker": {
          "color": [
           "rgb(154, 40, 99)"
          ]
         },
         "name": "",
         "showlegend": false,
         "type": "bar",
         "x": [
          "Recent Period"
         ],
         "y": [
          4.1878143649897355e-10
         ]
        },
        {
         "hoverinfo": "y",
         "hovertemplate": "EQR<br>%{y:.2f}",
         "marker": {
          "color": [
           "rgb(248, 217, 79)"
          ]
         },
         "name": "",
         "showlegend": false,
         "type": "bar",
         "x": [
          "Recent Period"
         ],
         "y": [
          3.873324397775856e-10
         ]
        },
        {
         "hoverinfo": "y",
         "hovertemplate": "GE<br>%{y:.2f}",
         "marker": {
          "color": [
           "rgb(173, 49, 91)"
          ]
         },
         "name": "",
         "showlegend": false,
         "type": "bar",
         "x": [
          "Recent Period"
         ],
         "y": [
          3.7698588743473115e-10
         ]
        },
        {
         "hoverinfo": "y",
         "hovertemplate": "C<br>%{y:.2f}",
         "marker": {
          "color": [
           "rgb(134, 33, 105)"
          ]
         },
         "name": "",
         "showlegend": false,
         "type": "bar",
         "x": [
          "Recent Period"
         ],
         "y": [
          3.686322279465856e-10
         ]
        },
        {
         "hoverinfo": "y",
         "hovertemplate": "TJX<br>%{y:.2f}",
         "marker": {
          "color": [
           "rgb(110, 24, 109)"
          ]
         },
         "name": "",
         "showlegend": false,
         "type": "bar",
         "x": [
          "Recent Period"
         ],
         "y": [
          3.521195018455201e-10
         ]
        },
        {
         "hoverinfo": "y",
         "hovertemplate": "LMT<br>%{y:.2f}",
         "marker": {
          "color": [
           "rgb(170, 47, 93)"
          ]
         },
         "name": "",
         "showlegend": false,
         "type": "bar",
         "x": [
          "Recent Period"
         ],
         "y": [
          3.475608943490934e-10
         ]
        },
        {
         "hoverinfo": "y",
         "hovertemplate": "SLV<br>%{y:.2f}",
         "marker": {
          "color": [
           "rgb(249, 227, 102)"
          ]
         },
         "name": "",
         "showlegend": false,
         "type": "bar",
         "x": [
          "Recent Period"
         ],
         "y": [
          3.437619832864525e-10
         ]
        },
        {
         "hoverinfo": "y",
         "hovertemplate": "TMUS<br>%{y:.2f}",
         "marker": {
          "color": [
           "rgb(233, 99, 42)"
          ]
         },
         "name": "",
         "showlegend": false,
         "type": "bar",
         "x": [
          "Recent Period"
         ],
         "y": [
          3.2324870471397735e-10
         ]
        },
        {
         "hoverinfo": "y",
         "hovertemplate": "VNQ<br>%{y:.2f}",
         "marker": {
          "color": [
           "rgb(249, 182, 34)"
          ]
         },
         "name": "",
         "showlegend": false,
         "type": "bar",
         "x": [
          "Recent Period"
         ],
         "y": [
          3.2198401699157077e-10
         ]
        },
        {
         "hoverinfo": "y",
         "hovertemplate": "MCD<br>%{y:.2f}",
         "marker": {
          "color": [
           "rgb(92, 18, 108)"
          ]
         },
         "name": "",
         "showlegend": false,
         "type": "bar",
         "x": [
          "Recent Period"
         ],
         "y": [
          3.208720605817876e-10
         ]
        },
        {
         "hoverinfo": "y",
         "hovertemplate": "BND<br>%{y:.2f}",
         "marker": {
          "color": [
           "rgb(251, 154, 7)"
          ]
         },
         "name": "",
         "showlegend": false,
         "type": "bar",
         "x": [
          "Recent Period"
         ],
         "y": [
          3.183307183533152e-10
         ]
        },
        {
         "hoverinfo": "y",
         "hovertemplate": "GIS<br>%{y:.2f}",
         "marker": {
          "color": [
           "rgb(79, 14, 107)"
          ]
         },
         "name": "",
         "showlegend": false,
         "type": "bar",
         "x": [
          "Recent Period"
         ],
         "y": [
          3.162003379377575e-10
         ]
        },
        {
         "hoverinfo": "y",
         "hovertemplate": "DUK<br>%{y:.2f}",
         "marker": {
          "color": [
           "rgb(189, 58, 81)"
          ]
         },
         "name": "",
         "showlegend": false,
         "type": "bar",
         "x": [
          "Recent Period"
         ],
         "y": [
          3.003951601423793e-10
         ]
        },
        {
         "hoverinfo": "y",
         "hovertemplate": "BLK<br>%{y:.2f}",
         "marker": {
          "color": [
           "rgb(147, 38, 101)"
          ]
         },
         "name": "",
         "showlegend": false,
         "type": "bar",
         "x": [
          "Recent Period"
         ],
         "y": [
          2.9511363008829736e-10
         ]
        },
        {
         "hoverinfo": "y",
         "hovertemplate": "GILD<br>%{y:.2f}",
         "marker": {
          "color": [
           "rgb(40, 12, 77)"
          ]
         },
         "name": "",
         "showlegend": false,
         "type": "bar",
         "x": [
          "Recent Period"
         ],
         "y": [
          2.683175719324267e-10
         ]
        },
        {
         "hoverinfo": "y",
         "hovertemplate": "NEE<br>%{y:.2f}",
         "marker": {
          "color": [
           "rgb(186, 56, 83)"
          ]
         },
         "name": "",
         "showlegend": false,
         "type": "bar",
         "x": [
          "Recent Period"
         ],
         "y": [
          2.666133874935743e-10
         ]
        },
        {
         "hoverinfo": "y",
         "hovertemplate": "CVX<br>%{y:.2f}",
         "marker": {
          "color": [
           "rgb(238, 109, 35)"
          ]
         },
         "name": "",
         "showlegend": false,
         "type": "bar",
         "x": [
          "Recent Period"
         ],
         "y": [
          2.60600444513466e-10
         ]
        },
        {
         "hoverinfo": "y",
         "hovertemplate": "MPC<br>%{y:.2f}",
         "marker": {
          "color": [
           "rgb(243, 128, 23)"
          ]
         },
         "name": "",
         "showlegend": false,
         "type": "bar",
         "x": [
          "Recent Period"
         ],
         "y": [
          2.587532654827235e-10
         ]
        },
        {
         "hoverinfo": "y",
         "hovertemplate": "HON<br>%{y:.2f}",
         "marker": {
          "color": [
           "rgb(164, 44, 96)"
          ]
         },
         "name": "",
         "showlegend": false,
         "type": "bar",
         "x": [
          "Recent Period"
         ],
         "y": [
          2.583191334349252e-10
         ]
        },
        {
         "hoverinfo": "y",
         "hovertemplate": "SO<br>%{y:.2f}",
         "marker": {
          "color": [
           "rgb(192, 60, 79)"
          ]
         },
         "name": "",
         "showlegend": false,
         "type": "bar",
         "x": [
          "Recent Period"
         ],
         "y": [
          2.5535517307587946e-10
         ]
        },
        {
         "hoverinfo": "y",
         "hovertemplate": "PLD<br>%{y:.2f}",
         "marker": {
          "color": [
           "rgb(248, 202, 54)"
          ]
         },
         "name": "",
         "showlegend": false,
         "type": "bar",
         "x": [
          "Recent Period"
         ],
         "y": [
          2.5378150591771146e-10
         ]
        },
        {
         "hoverinfo": "y",
         "hovertemplate": "WMT<br>%{y:.2f}",
         "marker": {
          "color": [
           "rgb(61, 12, 95)"
          ]
         },
         "name": "",
         "showlegend": false,
         "type": "bar",
         "x": [
          "Recent Period"
         ],
         "y": [
          2.528077281352014e-10
         ]
        },
        {
         "hoverinfo": "y",
         "hovertemplate": "DBC<br>%{y:.2f}",
         "marker": {
          "color": [
           "rgb(250, 234, 118)"
          ]
         },
         "name": "",
         "showlegend": false,
         "type": "bar",
         "x": [
          "Recent Period"
         ],
         "y": [
          2.4599686266668616e-10
         ]
        },
        {
         "hoverinfo": "y",
         "hovertemplate": "CHTR<br>%{y:.2f}",
         "marker": {
          "color": [
           "rgb(230, 97, 44)"
          ]
         },
         "name": "",
         "showlegend": false,
         "type": "bar",
         "x": [
          "Recent Period"
         ],
         "y": [
          2.344546483620288e-10
         ]
        },
        {
         "hoverinfo": "y",
         "hovertemplate": "MO<br>%{y:.2f}",
         "marker": {
          "color": [
           "rgb(72, 12, 105)"
          ]
         },
         "name": "",
         "showlegend": false,
         "type": "bar",
         "x": [
          "Recent Period"
         ],
         "y": [
          2.204969350686723e-10
         ]
        },
        {
         "hoverinfo": "y",
         "hovertemplate": "SPOT<br>%{y:.2f}",
         "marker": {
          "color": [
           "rgb(235, 102, 39)"
          ]
         },
         "name": "",
         "showlegend": false,
         "type": "bar",
         "x": [
          "Recent Period"
         ],
         "y": [
          2.192614631399999e-10
         ]
        },
        {
         "hoverinfo": "y",
         "hovertemplate": "NKE<br>%{y:.2f}",
         "marker": {
          "color": [
           "rgb(89, 17, 108)"
          ]
         },
         "name": "",
         "showlegend": false,
         "type": "bar",
         "x": [
          "Recent Period"
         ],
         "y": [
          2.1650434143800417e-10
         ]
        },
        {
         "hoverinfo": "y",
         "hovertemplate": "TIP<br>%{y:.2f}",
         "marker": {
          "color": [
           "rgb(250, 166, 17)"
          ]
         },
         "name": "",
         "showlegend": false,
         "type": "bar",
         "x": [
          "Recent Period"
         ],
         "y": [
          2.0275296921441514e-10
         ]
        },
        {
         "hoverinfo": "y",
         "hovertemplate": "PFE<br>%{y:.2f}",
         "marker": {
          "color": [
           "rgb(22, 10, 54)"
          ]
         },
         "name": "",
         "showlegend": false,
         "type": "bar",
         "x": [
          "Recent Period"
         ],
         "y": [
          1.9848390321298668e-10
         ]
        },
        {
         "hoverinfo": "y",
         "hovertemplate": "UNH<br>%{y:.2f}",
         "marker": {
          "color": [
           "rgb(26, 12, 63)"
          ]
         },
         "name": "",
         "showlegend": false,
         "type": "bar",
         "x": [
          "Recent Period"
         ],
         "y": [
          1.9755757475595912e-10
         ]
        },
        {
         "hoverinfo": "y",
         "hovertemplate": "AMZN<br>%{y:.2f}",
         "marker": {
          "color": [
           "rgb(6, 3, 18)"
          ]
         },
         "name": "",
         "showlegend": false,
         "type": "bar",
         "x": [
          "Recent Period"
         ],
         "y": [
          1.9459296063894194e-10
         ]
        },
        {
         "hoverinfo": "y",
         "hovertemplate": "KO<br>%{y:.2f}",
         "marker": {
          "color": [
           "rgb(54, 12, 89)"
          ]
         },
         "name": "",
         "showlegend": false,
         "type": "bar",
         "x": [
          "Recent Period"
         ],
         "y": [
          1.9342478551400265e-10
         ]
        },
        {
         "hoverinfo": "y",
         "hovertemplate": "UNP<br>%{y:.2f}",
         "marker": {
          "color": [
           "rgb(167, 45, 95)"
          ]
         },
         "name": "",
         "showlegend": false,
         "type": "bar",
         "x": [
          "Recent Period"
         ],
         "y": [
          1.9114152522942453e-10
         ]
        },
        {
         "hoverinfo": "y",
         "hovertemplate": "GOVT<br>%{y:.2f}",
         "marker": {
          "color": [
           "rgb(250, 150, 9)"
          ]
         },
         "name": "",
         "showlegend": false,
         "type": "bar",
         "x": [
          "Recent Period"
         ],
         "y": [
          1.8780291918405797e-10
         ]
        },
        {
         "hoverinfo": "y",
         "hovertemplate": "INTC<br>%{y:.2f}",
         "marker": {
          "color": [
           "rgb(16, 7, 41)"
          ]
         },
         "name": "",
         "showlegend": false,
         "type": "bar",
         "x": [
          "Recent Period"
         ],
         "y": [
          1.8085415957779207e-10
         ]
        },
        {
         "hoverinfo": "y",
         "hovertemplate": "SBUX<br>%{y:.2f}",
         "marker": {
          "color": [
           "rgb(96, 20, 108)"
          ]
         },
         "name": "",
         "showlegend": false,
         "type": "bar",
         "x": [
          "Recent Period"
         ],
         "y": [
          1.721270972908615e-10
         ]
        },
        {
         "hoverinfo": "y",
         "hovertemplate": "SLB<br>%{y:.2f}",
         "marker": {
          "color": [
           "rgb(240, 116, 30)"
          ]
         },
         "name": "",
         "showlegend": false,
         "type": "bar",
         "x": [
          "Recent Period"
         ],
         "y": [
          1.6118133495054694e-10
         ]
        },
        {
         "hoverinfo": "y",
         "hovertemplate": "BNO<br>%{y:.2f}",
         "marker": {
          "color": [
           "rgb(251, 245, 141)"
          ]
         },
         "name": "",
         "showlegend": false,
         "type": "bar",
         "x": [
          "Recent Period"
         ],
         "y": [
          1.5937473769404745e-10
         ]
        },
        {
         "hoverinfo": "y",
         "hovertemplate": "IYR<br>%{y:.2f}",
         "marker": {
          "color": [
           "rgb(249, 186, 38)"
          ]
         },
         "name": "",
         "showlegend": false,
         "type": "bar",
         "x": [
          "Recent Period"
         ],
         "y": [
          1.5878404832273142e-10
         ]
        },
        {
         "hoverinfo": "y",
         "hovertemplate": "TLT<br>%{y:.2f}",
         "marker": {
          "color": [
           "rgb(249, 146, 11)"
          ]
         },
         "name": "",
         "showlegend": false,
         "type": "bar",
         "x": [
          "Recent Period"
         ],
         "y": [
          1.580190622187771e-10
         ]
        },
        {
         "hoverinfo": "y",
         "hovertemplate": "VLO<br>%{y:.2f}",
         "marker": {
          "color": [
           "rgb(242, 124, 25)"
          ]
         },
         "name": "",
         "showlegend": false,
         "type": "bar",
         "x": [
          "Recent Period"
         ],
         "y": [
          1.5434916646908426e-10
         ]
        },
        {
         "hoverinfo": "y",
         "hovertemplate": "USO<br>%{y:.2f}",
         "marker": {
          "color": [
           "rgb(250, 238, 125)"
          ]
         },
         "name": "",
         "showlegend": false,
         "type": "bar",
         "x": [
          "Recent Period"
         ],
         "y": [
          1.4555342794638907e-10
         ]
        },
        {
         "hoverinfo": "y",
         "hovertemplate": "HD<br>%{y:.2f}",
         "marker": {
          "color": [
           "rgb(103, 22, 108)"
          ]
         },
         "name": "",
         "showlegend": false,
         "type": "bar",
         "x": [
          "Recent Period"
         ],
         "y": [
          1.4451766499128115e-10
         ]
        },
        {
         "hoverinfo": "y",
         "hovertemplate": "WFC<br>%{y:.2f}",
         "marker": {
          "color": [
           "rgb(130, 32, 106)"
          ]
         },
         "name": "",
         "showlegend": false,
         "type": "bar",
         "x": [
          "Recent Period"
         ],
         "y": [
          1.4443238333823157e-10
         ]
        },
        {
         "hoverinfo": "y",
         "hovertemplate": "COST<br>%{y:.2f}",
         "marker": {
          "color": [
           "rgb(82, 15, 107)"
          ]
         },
         "name": "",
         "showlegend": false,
         "type": "bar",
         "x": [
          "Recent Period"
         ],
         "y": [
          1.443001409318098e-10
         ]
        },
        {
         "hoverinfo": "y",
         "hovertemplate": "EXC<br>%{y:.2f}",
         "marker": {
          "color": [
           "rgb(199, 63, 75)"
          ]
         },
         "name": "",
         "showlegend": false,
         "type": "bar",
         "x": [
          "Recent Period"
         ],
         "y": [
          1.441168696189647e-10
         ]
        },
        {
         "hoverinfo": "y",
         "hovertemplate": "GOOGL<br>%{y:.2f}",
         "marker": {
          "color": [
           "rgb(226, 91, 49)"
          ]
         },
         "name": "",
         "showlegend": false,
         "type": "bar",
         "x": [
          "Recent Period"
         ],
         "y": [
          1.412094583704508e-10
         ]
        },
        {
         "hoverinfo": "y",
         "hovertemplate": "AEP<br>%{y:.2f}",
         "marker": {
          "color": [
           "rgb(195, 61, 77)"
          ]
         },
         "name": "",
         "showlegend": false,
         "type": "bar",
         "x": [
          "Recent Period"
         ],
         "y": [
          1.372933169983097e-10
         ]
        },
        {
         "hoverinfo": "y",
         "hovertemplate": "VZ<br>%{y:.2f}",
         "marker": {
          "color": [
           "rgb(214, 77, 62)"
          ]
         },
         "name": "",
         "showlegend": false,
         "type": "bar",
         "x": [
          "Recent Period"
         ],
         "y": [
          1.3130521615899478e-10
         ]
        },
        {
         "hoverinfo": "y",
         "hovertemplate": "O<br>%{y:.2f}",
         "marker": {
          "color": [
           "rgb(247, 206, 58)"
          ]
         },
         "name": "",
         "showlegend": false,
         "type": "bar",
         "x": [
          "Recent Period"
         ],
         "y": [
          1.308439129374756e-10
         ]
        },
        {
         "hoverinfo": "y",
         "hovertemplate": "AAPL<br>%{y:.2f}",
         "marker": {
          "color": [
           "rgb(0, 0, 4)"
          ]
         },
         "name": "",
         "showlegend": false,
         "type": "bar",
         "x": [
          "Recent Period"
         ],
         "y": [
          1.3049367493897895e-10
         ]
        },
        {
         "hoverinfo": "y",
         "hovertemplate": "HYG<br>%{y:.2f}",
         "marker": {
          "color": [
           "rgb(250, 162, 13)"
          ]
         },
         "name": "",
         "showlegend": false,
         "type": "bar",
         "x": [
          "Recent Period"
         ],
         "y": [
          1.2431187678162295e-10
         ]
        },
        {
         "hoverinfo": "y",
         "hovertemplate": "D<br>%{y:.2f}",
         "marker": {
          "color": [
           "rgb(202, 65, 73)"
          ]
         },
         "name": "",
         "showlegend": false,
         "type": "bar",
         "x": [
          "Recent Period"
         ],
         "y": [
          1.2042462350752475e-10
         ]
        },
        {
         "hoverinfo": "y",
         "hovertemplate": "MS<br>%{y:.2f}",
         "marker": {
          "color": [
           "rgb(144, 36, 102)"
          ]
         },
         "name": "",
         "showlegend": false,
         "type": "bar",
         "x": [
          "Recent Period"
         ],
         "y": [
          1.126478965236078e-10
         ]
        },
        {
         "hoverinfo": "y",
         "hovertemplate": "PG<br>%{y:.2f}",
         "marker": {
          "color": [
           "rgb(51, 12, 86)"
          ]
         },
         "name": "",
         "showlegend": false,
         "type": "bar",
         "x": [
          "Recent Period"
         ],
         "y": [
          1.1240906911457913e-10
         ]
        },
        {
         "hoverinfo": "y",
         "hovertemplate": "ABBV<br>%{y:.2f}",
         "marker": {
          "color": [
           "rgb(36, 12, 73)"
          ]
         },
         "name": "",
         "showlegend": false,
         "type": "bar",
         "x": [
          "Recent Period"
         ],
         "y": [
          1.0682278245473801e-10
         ]
        },
        {
         "hoverinfo": "y",
         "hovertemplate": "LQD<br>%{y:.2f}",
         "marker": {
          "color": [
           "rgb(251, 158, 9)"
          ]
         },
         "name": "",
         "showlegend": false,
         "type": "bar",
         "x": [
          "Recent Period"
         ],
         "y": [
          1.0660665791098415e-10
         ]
        },
        {
         "hoverinfo": "y",
         "hovertemplate": "JPM<br>%{y:.2f}",
         "marker": {
          "color": [
           "rgb(120, 28, 109)"
          ]
         },
         "name": "",
         "showlegend": false,
         "type": "bar",
         "x": [
          "Recent Period"
         ],
         "y": [
          1.0563852622184472e-10
         ]
        },
        {
         "hoverinfo": "y",
         "hovertemplate": "AXP<br>%{y:.2f}",
         "marker": {
          "color": [
           "rgb(137, 34, 104)"
          ]
         },
         "name": "",
         "showlegend": false,
         "type": "bar",
         "x": [
          "Recent Period"
         ],
         "y": [
          1.0541973528483797e-10
         ]
        },
        {
         "hoverinfo": "y",
         "hovertemplate": "MDLZ<br>%{y:.2f}",
         "marker": {
          "color": [
           "rgb(75, 12, 107)"
          ]
         },
         "name": "",
         "showlegend": false,
         "type": "bar",
         "x": [
          "Recent Period"
         ],
         "y": [
          1.0537839883739522e-10
         ]
        },
        {
         "hoverinfo": "y",
         "hovertemplate": "PPL<br>%{y:.2f}",
         "marker": {
          "color": [
           "rgb(212, 74, 64)"
          ]
         },
         "name": "",
         "showlegend": false,
         "type": "bar",
         "x": [
          "Recent Period"
         ],
         "y": [
          1.051640979794856e-10
         ]
        },
        {
         "hoverinfo": "y",
         "hovertemplate": "BAC<br>%{y:.2f}",
         "marker": {
          "color": [
           "rgb(123, 29, 108)"
          ]
         },
         "name": "",
         "showlegend": false,
         "type": "bar",
         "x": [
          "Recent Period"
         ],
         "y": [
          1.041001628274967e-10
         ]
        },
        {
         "hoverinfo": "y",
         "hovertemplate": "KMB<br>%{y:.2f}",
         "marker": {
          "color": [
           "rgb(68, 12, 102)"
          ]
         },
         "name": "",
         "showlegend": false,
         "type": "bar",
         "x": [
          "Recent Period"
         ],
         "y": [
          1.0390462121896355e-10
         ]
        },
        {
         "hoverinfo": "y",
         "hovertemplate": "CMCSA<br>%{y:.2f}",
         "marker": {
          "color": [
           "rgb(219, 83, 57)"
          ]
         },
         "name": "",
         "showlegend": false,
         "type": "bar",
         "x": [
          "Recent Period"
         ],
         "y": [
          9.981410735221052e-11
         ]
        },
        {
         "hoverinfo": "y",
         "hovertemplate": "DE<br>%{y:.2f}",
         "marker": {
          "color": [
           "rgb(183, 54, 85)"
          ]
         },
         "name": "",
         "showlegend": false,
         "type": "bar",
         "x": [
          "Recent Period"
         ],
         "y": [
          9.782561011327328e-11
         ]
        },
        {
         "hoverinfo": "y",
         "hovertemplate": "CRM<br>%{y:.2f}",
         "marker": {
          "color": [
           "rgb(14, 6, 36)"
          ]
         },
         "name": "",
         "showlegend": false,
         "type": "bar",
         "x": [
          "Recent Period"
         ],
         "y": [
          9.776772119038223e-11
         ]
        },
        {
         "hoverinfo": "y",
         "hovertemplate": "SCHW<br>%{y:.2f}",
         "marker": {
          "color": [
           "rgb(140, 35, 103)"
          ]
         },
         "name": "",
         "showlegend": false,
         "type": "bar",
         "x": [
          "Recent Period"
         ],
         "y": [
          9.395006579757123e-11
         ]
        },
        {
         "hoverinfo": "y",
         "hovertemplate": "T<br>%{y:.2f}",
         "marker": {
          "color": [
           "rgb(217, 80, 59)"
          ]
         },
         "name": "",
         "showlegend": false,
         "type": "bar",
         "x": [
          "Recent Period"
         ],
         "y": [
          9.119701650320202e-11
         ]
        },
        {
         "hoverinfo": "y",
         "hovertemplate": "BKR<br>%{y:.2f}",
         "marker": {
          "color": [
           "rgb(245, 135, 18)"
          ]
         },
         "name": "",
         "showlegend": false,
         "type": "bar",
         "x": [
          "Recent Period"
         ],
         "y": [
          9.107493854803954e-11
         ]
        },
        {
         "hoverinfo": "y",
         "hovertemplate": "AVB<br>%{y:.2f}",
         "marker": {
          "color": [
           "rgb(248, 214, 71)"
          ]
         },
         "name": "",
         "showlegend": false,
         "type": "bar",
         "x": [
          "Recent Period"
         ],
         "y": [
          8.99120158828391e-11
         ]
        },
        {
         "hoverinfo": "y",
         "hovertemplate": "TGT<br>%{y:.2f}",
         "marker": {
          "color": [
           "rgb(99, 21, 108)"
          ]
         },
         "name": "",
         "showlegend": false,
         "type": "bar",
         "x": [
          "Recent Period"
         ],
         "y": [
          8.902636825974278e-11
         ]
        },
        {
         "hoverinfo": "y",
         "hovertemplate": "IEF<br>%{y:.2f}",
         "marker": {
          "color": [
           "rgb(248, 143, 14)"
          ]
         },
         "name": "",
         "showlegend": false,
         "type": "bar",
         "x": [
          "Recent Period"
         ],
         "y": [
          8.863743963945433e-11
         ]
        },
        {
         "hoverinfo": "y",
         "hovertemplate": "JNJ<br>%{y:.2f}",
         "marker": {
          "color": [
           "rgb(20, 9, 50)"
          ]
         },
         "name": "",
         "showlegend": false,
         "type": "bar",
         "x": [
          "Recent Period"
         ],
         "y": [
          8.589150919408927e-11
         ]
        },
        {
         "hoverinfo": "y",
         "hovertemplate": "HAL<br>%{y:.2f}",
         "marker": {
          "color": [
           "rgb(244, 131, 21)"
          ]
         },
         "name": "",
         "showlegend": false,
         "type": "bar",
         "x": [
          "Recent Period"
         ],
         "y": [
          8.404621310775676e-11
         ]
        },
        {
         "hoverinfo": "y",
         "hovertemplate": "CL<br>%{y:.2f}",
         "marker": {
          "color": [
           "rgb(65, 12, 99)"
          ]
         },
         "name": "",
         "showlegend": false,
         "type": "bar",
         "x": [
          "Recent Period"
         ],
         "y": [
          8.328632115860879e-11
         ]
        },
        {
         "hoverinfo": "y",
         "hovertemplate": "OXY<br>%{y:.2f}",
         "marker": {
          "color": [
           "rgb(246, 139, 16)"
          ]
         },
         "name": "",
         "showlegend": false,
         "type": "bar",
         "x": [
          "Recent Period"
         ],
         "y": [
          8.218369298999564e-11
         ]
        },
        {
         "hoverinfo": "y",
         "hovertemplate": "MMM<br>%{y:.2f}",
         "marker": {
          "color": [
           "rgb(161, 42, 97)"
          ]
         },
         "name": "",
         "showlegend": false,
         "type": "bar",
         "x": [
          "Recent Period"
         ],
         "y": [
          8.072626889791033e-11
         ]
        },
        {
         "hoverinfo": "y",
         "hovertemplate": "GSG<br>%{y:.2f}",
         "marker": {
          "color": [
           "rgb(251, 248, 149)"
          ]
         },
         "name": "",
         "showlegend": false,
         "type": "bar",
         "x": [
          "Recent Period"
         ],
         "y": [
          8.052194323168135e-11
         ]
        },
        {
         "hoverinfo": "y",
         "hovertemplate": "ADBE<br>%{y:.2f}",
         "marker": {
          "color": [
           "rgb(10, 4, 27)"
          ]
         },
         "name": "",
         "showlegend": false,
         "type": "bar",
         "x": [
          "Recent Period"
         ],
         "y": [
          7.941292421014984e-11
         ]
        },
        {
         "hoverinfo": "y",
         "hovertemplate": "PDBC<br>%{y:.2f}",
         "marker": {
          "color": [
           "rgb(249, 231, 110)"
          ]
         },
         "name": "",
         "showlegend": false,
         "type": "bar",
         "x": [
          "Recent Period"
         ],
         "y": [
          7.927628829570385e-11
         ]
        },
        {
         "hoverinfo": "y",
         "hovertemplate": "MRK<br>%{y:.2f}",
         "marker": {
          "color": [
           "rgb(24, 11, 59)"
          ]
         },
         "name": "",
         "showlegend": false,
         "type": "bar",
         "x": [
          "Recent Period"
         ],
         "y": [
          7.769604903290833e-11
         ]
        },
        {
         "hoverinfo": "y",
         "hovertemplate": "XOM<br>%{y:.2f}",
         "marker": {
          "color": [
           "rgb(237, 105, 37)"
          ]
         },
         "name": "",
         "showlegend": false,
         "type": "bar",
         "x": [
          "Recent Period"
         ],
         "y": [
          7.434343409414051e-11
         ]
        },
        {
         "hoverinfo": "y",
         "hovertemplate": "ORCL<br>%{y:.2f}",
         "marker": {
          "color": [
           "rgb(12, 5, 31)"
          ]
         },
         "name": "",
         "showlegend": false,
         "type": "bar",
         "x": [
          "Recent Period"
         ],
         "y": [
          7.365310369124953e-11
         ]
        },
        {
         "hoverinfo": "y",
         "hovertemplate": "GOOG<br>%{y:.2f}",
         "marker": {
          "color": [
           "rgb(4, 2, 13)"
          ]
         },
         "name": "",
         "showlegend": false,
         "type": "bar",
         "x": [
          "Recent Period"
         ],
         "y": [
          7.288876407621027e-11
         ]
        },
        {
         "hoverinfo": "y",
         "hovertemplate": "SPG<br>%{y:.2f}",
         "marker": {
          "color": [
           "rgb(247, 210, 64)"
          ]
         },
         "name": "",
         "showlegend": false,
         "type": "bar",
         "x": [
          "Recent Period"
         ],
         "y": [
          7.102867058440837e-11
         ]
        },
        {
         "hoverinfo": "y",
         "hovertemplate": "XLRE<br>%{y:.2f}",
         "marker": {
          "color": [
           "rgb(248, 198, 50)"
          ]
         },
         "name": "",
         "showlegend": false,
         "type": "bar",
         "x": [
          "Recent Period"
         ],
         "y": [
          6.31617508996209e-11
         ]
        },
        {
         "hoverinfo": "y",
         "hovertemplate": "VCIT<br>%{y:.2f}",
         "marker": {
          "color": [
           "rgb(250, 174, 25)"
          ]
         },
         "name": "",
         "showlegend": false,
         "type": "bar",
         "x": [
          "Recent Period"
         ],
         "y": [
          6.066680819098255e-11
         ]
        },
        {
         "hoverinfo": "y",
         "hovertemplate": "RWR<br>%{y:.2f}",
         "marker": {
          "color": [
           "rgb(248, 194, 46)"
          ]
         },
         "name": "",
         "showlegend": false,
         "type": "bar",
         "x": [
          "Recent Period"
         ],
         "y": [
          6.043607794318353e-11
         ]
        },
        {
         "hoverinfo": "y",
         "hovertemplate": "CSCO<br>%{y:.2f}",
         "marker": {
          "color": [
           "rgb(18, 8, 45)"
          ]
         },
         "name": "",
         "showlegend": false,
         "type": "bar",
         "x": [
          "Recent Period"
         ],
         "y": [
          6.038101614207911e-11
         ]
        },
        {
         "hoverinfo": "y",
         "hovertemplate": "COP<br>%{y:.2f}",
         "marker": {
          "color": [
           "rgb(239, 113, 32)"
          ]
         },
         "name": "",
         "showlegend": false,
         "type": "bar",
         "x": [
          "Recent Period"
         ],
         "y": [
          5.70693356453338e-11
         ]
        },
        {
         "hoverinfo": "y",
         "hovertemplate": "TSLA<br>%{y:.2f}",
         "marker": {
          "color": [
           "rgb(86, 16, 108)"
          ]
         },
         "name": "",
         "showlegend": false,
         "type": "bar",
         "x": [
          "Recent Period"
         ],
         "y": [
          5.675735106052011e-11
         ]
        },
        {
         "hoverinfo": "y",
         "hovertemplate": "MDT<br>%{y:.2f}",
         "marker": {
          "color": [
           "rgb(43, 12, 80)"
          ]
         },
         "name": "",
         "showlegend": false,
         "type": "bar",
         "x": [
          "Recent Period"
         ],
         "y": [
          4.964299784332013e-11
         ]
        },
        {
         "hoverinfo": "y",
         "hovertemplate": "DIS<br>%{y:.2f}",
         "marker": {
          "color": [
           "rgb(221, 86, 54)"
          ]
         },
         "name": "",
         "showlegend": false,
         "type": "bar",
         "x": [
          "Recent Period"
         ],
         "y": [
          4.517536336659124e-11
         ]
        },
        {
         "hoverinfo": "y",
         "hovertemplate": "CAT<br>%{y:.2f}",
         "marker": {
          "color": [
           "rgb(157, 41, 98)"
          ]
         },
         "name": "",
         "showlegend": false,
         "type": "bar",
         "x": [
          "Recent Period"
         ],
         "y": [
          4.009380240274162e-11
         ]
        }
       ],
       "layout": {
        "barmode": "stack",
        "height": 600,
        "legend": {
         "title": {
          "text": "Assets"
         },
         "xanchor": "left",
         "yanchor": "top"
        },
        "template": {
         "data": {
          "bar": [
           {
            "error_x": {
             "color": "#2a3f5f"
            },
            "error_y": {
             "color": "#2a3f5f"
            },
            "marker": {
             "line": {
              "color": "#E5ECF6",
              "width": 0.5
             },
             "pattern": {
              "fillmode": "overlay",
              "size": 10,
              "solidity": 0.2
             }
            },
            "type": "bar"
           }
          ],
          "barpolar": [
           {
            "marker": {
             "line": {
              "color": "#E5ECF6",
              "width": 0.5
             },
             "pattern": {
              "fillmode": "overlay",
              "size": 10,
              "solidity": 0.2
             }
            },
            "type": "barpolar"
           }
          ],
          "carpet": [
           {
            "aaxis": {
             "endlinecolor": "#2a3f5f",
             "gridcolor": "white",
             "linecolor": "white",
             "minorgridcolor": "white",
             "startlinecolor": "#2a3f5f"
            },
            "baxis": {
             "endlinecolor": "#2a3f5f",
             "gridcolor": "white",
             "linecolor": "white",
             "minorgridcolor": "white",
             "startlinecolor": "#2a3f5f"
            },
            "type": "carpet"
           }
          ],
          "choropleth": [
           {
            "colorbar": {
             "outlinewidth": 0,
             "ticks": ""
            },
            "type": "choropleth"
           }
          ],
          "contour": [
           {
            "colorbar": {
             "outlinewidth": 0,
             "ticks": ""
            },
            "colorscale": [
             [
              0,
              "#0d0887"
             ],
             [
              0.1111111111111111,
              "#46039f"
             ],
             [
              0.2222222222222222,
              "#7201a8"
             ],
             [
              0.3333333333333333,
              "#9c179e"
             ],
             [
              0.4444444444444444,
              "#bd3786"
             ],
             [
              0.5555555555555556,
              "#d8576b"
             ],
             [
              0.6666666666666666,
              "#ed7953"
             ],
             [
              0.7777777777777778,
              "#fb9f3a"
             ],
             [
              0.8888888888888888,
              "#fdca26"
             ],
             [
              1,
              "#f0f921"
             ]
            ],
            "type": "contour"
           }
          ],
          "contourcarpet": [
           {
            "colorbar": {
             "outlinewidth": 0,
             "ticks": ""
            },
            "type": "contourcarpet"
           }
          ],
          "heatmap": [
           {
            "colorbar": {
             "outlinewidth": 0,
             "ticks": ""
            },
            "colorscale": [
             [
              0,
              "#0d0887"
             ],
             [
              0.1111111111111111,
              "#46039f"
             ],
             [
              0.2222222222222222,
              "#7201a8"
             ],
             [
              0.3333333333333333,
              "#9c179e"
             ],
             [
              0.4444444444444444,
              "#bd3786"
             ],
             [
              0.5555555555555556,
              "#d8576b"
             ],
             [
              0.6666666666666666,
              "#ed7953"
             ],
             [
              0.7777777777777778,
              "#fb9f3a"
             ],
             [
              0.8888888888888888,
              "#fdca26"
             ],
             [
              1,
              "#f0f921"
             ]
            ],
            "type": "heatmap"
           }
          ],
          "heatmapgl": [
           {
            "colorbar": {
             "outlinewidth": 0,
             "ticks": ""
            },
            "colorscale": [
             [
              0,
              "#0d0887"
             ],
             [
              0.1111111111111111,
              "#46039f"
             ],
             [
              0.2222222222222222,
              "#7201a8"
             ],
             [
              0.3333333333333333,
              "#9c179e"
             ],
             [
              0.4444444444444444,
              "#bd3786"
             ],
             [
              0.5555555555555556,
              "#d8576b"
             ],
             [
              0.6666666666666666,
              "#ed7953"
             ],
             [
              0.7777777777777778,
              "#fb9f3a"
             ],
             [
              0.8888888888888888,
              "#fdca26"
             ],
             [
              1,
              "#f0f921"
             ]
            ],
            "type": "heatmapgl"
           }
          ],
          "histogram": [
           {
            "marker": {
             "pattern": {
              "fillmode": "overlay",
              "size": 10,
              "solidity": 0.2
             }
            },
            "type": "histogram"
           }
          ],
          "histogram2d": [
           {
            "colorbar": {
             "outlinewidth": 0,
             "ticks": ""
            },
            "colorscale": [
             [
              0,
              "#0d0887"
             ],
             [
              0.1111111111111111,
              "#46039f"
             ],
             [
              0.2222222222222222,
              "#7201a8"
             ],
             [
              0.3333333333333333,
              "#9c179e"
             ],
             [
              0.4444444444444444,
              "#bd3786"
             ],
             [
              0.5555555555555556,
              "#d8576b"
             ],
             [
              0.6666666666666666,
              "#ed7953"
             ],
             [
              0.7777777777777778,
              "#fb9f3a"
             ],
             [
              0.8888888888888888,
              "#fdca26"
             ],
             [
              1,
              "#f0f921"
             ]
            ],
            "type": "histogram2d"
           }
          ],
          "histogram2dcontour": [
           {
            "colorbar": {
             "outlinewidth": 0,
             "ticks": ""
            },
            "colorscale": [
             [
              0,
              "#0d0887"
             ],
             [
              0.1111111111111111,
              "#46039f"
             ],
             [
              0.2222222222222222,
              "#7201a8"
             ],
             [
              0.3333333333333333,
              "#9c179e"
             ],
             [
              0.4444444444444444,
              "#bd3786"
             ],
             [
              0.5555555555555556,
              "#d8576b"
             ],
             [
              0.6666666666666666,
              "#ed7953"
             ],
             [
              0.7777777777777778,
              "#fb9f3a"
             ],
             [
              0.8888888888888888,
              "#fdca26"
             ],
             [
              1,
              "#f0f921"
             ]
            ],
            "type": "histogram2dcontour"
           }
          ],
          "mesh3d": [
           {
            "colorbar": {
             "outlinewidth": 0,
             "ticks": ""
            },
            "type": "mesh3d"
           }
          ],
          "parcoords": [
           {
            "line": {
             "colorbar": {
              "outlinewidth": 0,
              "ticks": ""
             }
            },
            "type": "parcoords"
           }
          ],
          "pie": [
           {
            "automargin": true,
            "type": "pie"
           }
          ],
          "scatter": [
           {
            "fillpattern": {
             "fillmode": "overlay",
             "size": 10,
             "solidity": 0.2
            },
            "type": "scatter"
           }
          ],
          "scatter3d": [
           {
            "line": {
             "colorbar": {
              "outlinewidth": 0,
              "ticks": ""
             }
            },
            "marker": {
             "colorbar": {
              "outlinewidth": 0,
              "ticks": ""
             }
            },
            "type": "scatter3d"
           }
          ],
          "scattercarpet": [
           {
            "marker": {
             "colorbar": {
              "outlinewidth": 0,
              "ticks": ""
             }
            },
            "type": "scattercarpet"
           }
          ],
          "scattergeo": [
           {
            "marker": {
             "colorbar": {
              "outlinewidth": 0,
              "ticks": ""
             }
            },
            "type": "scattergeo"
           }
          ],
          "scattergl": [
           {
            "marker": {
             "colorbar": {
              "outlinewidth": 0,
              "ticks": ""
             }
            },
            "type": "scattergl"
           }
          ],
          "scattermapbox": [
           {
            "marker": {
             "colorbar": {
              "outlinewidth": 0,
              "ticks": ""
             }
            },
            "type": "scattermapbox"
           }
          ],
          "scatterpolar": [
           {
            "marker": {
             "colorbar": {
              "outlinewidth": 0,
              "ticks": ""
             }
            },
            "type": "scatterpolar"
           }
          ],
          "scatterpolargl": [
           {
            "marker": {
             "colorbar": {
              "outlinewidth": 0,
              "ticks": ""
             }
            },
            "type": "scatterpolargl"
           }
          ],
          "scatterternary": [
           {
            "marker": {
             "colorbar": {
              "outlinewidth": 0,
              "ticks": ""
             }
            },
            "type": "scatterternary"
           }
          ],
          "surface": [
           {
            "colorbar": {
             "outlinewidth": 0,
             "ticks": ""
            },
            "colorscale": [
             [
              0,
              "#0d0887"
             ],
             [
              0.1111111111111111,
              "#46039f"
             ],
             [
              0.2222222222222222,
              "#7201a8"
             ],
             [
              0.3333333333333333,
              "#9c179e"
             ],
             [
              0.4444444444444444,
              "#bd3786"
             ],
             [
              0.5555555555555556,
              "#d8576b"
             ],
             [
              0.6666666666666666,
              "#ed7953"
             ],
             [
              0.7777777777777778,
              "#fb9f3a"
             ],
             [
              0.8888888888888888,
              "#fdca26"
             ],
             [
              1,
              "#f0f921"
             ]
            ],
            "type": "surface"
           }
          ],
          "table": [
           {
            "cells": {
             "fill": {
              "color": "#EBF0F8"
             },
             "line": {
              "color": "white"
             }
            },
            "header": {
             "fill": {
              "color": "#C8D4E3"
             },
             "line": {
              "color": "white"
             }
            },
            "type": "table"
           }
          ]
         },
         "layout": {
          "annotationdefaults": {
           "arrowcolor": "#2a3f5f",
           "arrowhead": 0,
           "arrowwidth": 1
          },
          "autotypenumbers": "strict",
          "coloraxis": {
           "colorbar": {
            "outlinewidth": 0,
            "ticks": ""
           }
          },
          "colorscale": {
           "diverging": [
            [
             0,
             "#8e0152"
            ],
            [
             0.1,
             "#c51b7d"
            ],
            [
             0.2,
             "#de77ae"
            ],
            [
             0.3,
             "#f1b6da"
            ],
            [
             0.4,
             "#fde0ef"
            ],
            [
             0.5,
             "#f7f7f7"
            ],
            [
             0.6,
             "#e6f5d0"
            ],
            [
             0.7,
             "#b8e186"
            ],
            [
             0.8,
             "#7fbc41"
            ],
            [
             0.9,
             "#4d9221"
            ],
            [
             1,
             "#276419"
            ]
           ],
           "sequential": [
            [
             0,
             "#0d0887"
            ],
            [
             0.1111111111111111,
             "#46039f"
            ],
            [
             0.2222222222222222,
             "#7201a8"
            ],
            [
             0.3333333333333333,
             "#9c179e"
            ],
            [
             0.4444444444444444,
             "#bd3786"
            ],
            [
             0.5555555555555556,
             "#d8576b"
            ],
            [
             0.6666666666666666,
             "#ed7953"
            ],
            [
             0.7777777777777778,
             "#fb9f3a"
            ],
            [
             0.8888888888888888,
             "#fdca26"
            ],
            [
             1,
             "#f0f921"
            ]
           ],
           "sequentialminus": [
            [
             0,
             "#0d0887"
            ],
            [
             0.1111111111111111,
             "#46039f"
            ],
            [
             0.2222222222222222,
             "#7201a8"
            ],
            [
             0.3333333333333333,
             "#9c179e"
            ],
            [
             0.4444444444444444,
             "#bd3786"
            ],
            [
             0.5555555555555556,
             "#d8576b"
            ],
            [
             0.6666666666666666,
             "#ed7953"
            ],
            [
             0.7777777777777778,
             "#fb9f3a"
            ],
            [
             0.8888888888888888,
             "#fdca26"
            ],
            [
             1,
             "#f0f921"
            ]
           ]
          },
          "colorway": [
           "#636efa",
           "#EF553B",
           "#00cc96",
           "#ab63fa",
           "#FFA15A",
           "#19d3f3",
           "#FF6692",
           "#B6E880",
           "#FF97FF",
           "#FECB52"
          ],
          "font": {
           "color": "#2a3f5f"
          },
          "geo": {
           "bgcolor": "white",
           "lakecolor": "white",
           "landcolor": "#E5ECF6",
           "showlakes": true,
           "showland": true,
           "subunitcolor": "white"
          },
          "hoverlabel": {
           "align": "left"
          },
          "hovermode": "closest",
          "mapbox": {
           "style": "light"
          },
          "paper_bgcolor": "white",
          "plot_bgcolor": "#E5ECF6",
          "polar": {
           "angularaxis": {
            "gridcolor": "white",
            "linecolor": "white",
            "ticks": ""
           },
           "bgcolor": "#E5ECF6",
           "radialaxis": {
            "gridcolor": "white",
            "linecolor": "white",
            "ticks": ""
           }
          },
          "scene": {
           "xaxis": {
            "backgroundcolor": "#E5ECF6",
            "gridcolor": "white",
            "gridwidth": 2,
            "linecolor": "white",
            "showbackground": true,
            "ticks": "",
            "zerolinecolor": "white"
           },
           "yaxis": {
            "backgroundcolor": "#E5ECF6",
            "gridcolor": "white",
            "gridwidth": 2,
            "linecolor": "white",
            "showbackground": true,
            "ticks": "",
            "zerolinecolor": "white"
           },
           "zaxis": {
            "backgroundcolor": "#E5ECF6",
            "gridcolor": "white",
            "gridwidth": 2,
            "linecolor": "white",
            "showbackground": true,
            "ticks": "",
            "zerolinecolor": "white"
           }
          },
          "shapedefaults": {
           "line": {
            "color": "#2a3f5f"
           }
          },
          "ternary": {
           "aaxis": {
            "gridcolor": "white",
            "linecolor": "white",
            "ticks": ""
           },
           "baxis": {
            "gridcolor": "white",
            "linecolor": "white",
            "ticks": ""
           },
           "bgcolor": "#E5ECF6",
           "caxis": {
            "gridcolor": "white",
            "linecolor": "white",
            "ticks": ""
           }
          },
          "title": {
           "x": 0.05
          },
          "xaxis": {
           "automargin": true,
           "gridcolor": "white",
           "linecolor": "white",
           "ticks": "",
           "title": {
            "standoff": 15
           },
           "zerolinecolor": "white",
           "zerolinewidth": 2
          },
          "yaxis": {
           "automargin": true,
           "gridcolor": "white",
           "linecolor": "white",
           "ticks": "",
           "title": {
            "standoff": 15
           },
           "zerolinecolor": "white",
           "zerolinewidth": 2
          }
         }
        },
        "title": {
         "text": "Optimal Portfolio Weights Over Time"
        },
        "width": 1000,
        "xaxis": {
         "tickangle": 45,
         "title": {
          "text": "Time Periods"
         }
        },
        "yaxis": {
         "title": {
          "text": "Weight"
         }
        }
       }
      }
     },
     "metadata": {},
     "output_type": "display_data"
    },
    {
     "data": {
      "application/vnd.plotly.v1+json": {
       "config": {
        "plotlyServerURL": "https://plot.ly"
       },
       "data": [
        {
         "hovertemplate": "Return: %{y:.2f}<extra></extra>",
         "line": {
          "color": "blue"
         },
         "mode": "lines+markers",
         "name": "Return",
         "type": "scatter",
         "x": [
          "Pre-2008 Financial Crisis",
          "Global Financial Crisis",
          "Post-Crisis Recovery",
          "COVID-19 Pandemic",
          "Recent Period"
         ],
         "y": [
          0.24468574202500565,
          0.12658969168676792,
          0.20905058313247543,
          0.23178952696533822,
          0.1938557858897095
         ]
        },
        {
         "hovertemplate": "Risk: %{y:.2f}<extra></extra>",
         "line": {
          "color": "red"
         },
         "mode": "lines+markers",
         "name": "Risk",
         "type": "scatter",
         "x": [
          "Pre-2008 Financial Crisis",
          "Global Financial Crisis",
          "Post-Crisis Recovery",
          "COVID-19 Pandemic",
          "Recent Period"
         ],
         "y": [
          0.08000000132880203,
          0.08000005244829944,
          0.08000000139328473,
          0.08000000123391662,
          0.0800000013609083
         ]
        }
       ],
       "layout": {
        "height": 600,
        "legend": {
         "title": {
          "text": "Metrics"
         },
         "xanchor": "left",
         "yanchor": "top"
        },
        "template": {
         "data": {
          "bar": [
           {
            "error_x": {
             "color": "#2a3f5f"
            },
            "error_y": {
             "color": "#2a3f5f"
            },
            "marker": {
             "line": {
              "color": "#E5ECF6",
              "width": 0.5
             },
             "pattern": {
              "fillmode": "overlay",
              "size": 10,
              "solidity": 0.2
             }
            },
            "type": "bar"
           }
          ],
          "barpolar": [
           {
            "marker": {
             "line": {
              "color": "#E5ECF6",
              "width": 0.5
             },
             "pattern": {
              "fillmode": "overlay",
              "size": 10,
              "solidity": 0.2
             }
            },
            "type": "barpolar"
           }
          ],
          "carpet": [
           {
            "aaxis": {
             "endlinecolor": "#2a3f5f",
             "gridcolor": "white",
             "linecolor": "white",
             "minorgridcolor": "white",
             "startlinecolor": "#2a3f5f"
            },
            "baxis": {
             "endlinecolor": "#2a3f5f",
             "gridcolor": "white",
             "linecolor": "white",
             "minorgridcolor": "white",
             "startlinecolor": "#2a3f5f"
            },
            "type": "carpet"
           }
          ],
          "choropleth": [
           {
            "colorbar": {
             "outlinewidth": 0,
             "ticks": ""
            },
            "type": "choropleth"
           }
          ],
          "contour": [
           {
            "colorbar": {
             "outlinewidth": 0,
             "ticks": ""
            },
            "colorscale": [
             [
              0,
              "#0d0887"
             ],
             [
              0.1111111111111111,
              "#46039f"
             ],
             [
              0.2222222222222222,
              "#7201a8"
             ],
             [
              0.3333333333333333,
              "#9c179e"
             ],
             [
              0.4444444444444444,
              "#bd3786"
             ],
             [
              0.5555555555555556,
              "#d8576b"
             ],
             [
              0.6666666666666666,
              "#ed7953"
             ],
             [
              0.7777777777777778,
              "#fb9f3a"
             ],
             [
              0.8888888888888888,
              "#fdca26"
             ],
             [
              1,
              "#f0f921"
             ]
            ],
            "type": "contour"
           }
          ],
          "contourcarpet": [
           {
            "colorbar": {
             "outlinewidth": 0,
             "ticks": ""
            },
            "type": "contourcarpet"
           }
          ],
          "heatmap": [
           {
            "colorbar": {
             "outlinewidth": 0,
             "ticks": ""
            },
            "colorscale": [
             [
              0,
              "#0d0887"
             ],
             [
              0.1111111111111111,
              "#46039f"
             ],
             [
              0.2222222222222222,
              "#7201a8"
             ],
             [
              0.3333333333333333,
              "#9c179e"
             ],
             [
              0.4444444444444444,
              "#bd3786"
             ],
             [
              0.5555555555555556,
              "#d8576b"
             ],
             [
              0.6666666666666666,
              "#ed7953"
             ],
             [
              0.7777777777777778,
              "#fb9f3a"
             ],
             [
              0.8888888888888888,
              "#fdca26"
             ],
             [
              1,
              "#f0f921"
             ]
            ],
            "type": "heatmap"
           }
          ],
          "heatmapgl": [
           {
            "colorbar": {
             "outlinewidth": 0,
             "ticks": ""
            },
            "colorscale": [
             [
              0,
              "#0d0887"
             ],
             [
              0.1111111111111111,
              "#46039f"
             ],
             [
              0.2222222222222222,
              "#7201a8"
             ],
             [
              0.3333333333333333,
              "#9c179e"
             ],
             [
              0.4444444444444444,
              "#bd3786"
             ],
             [
              0.5555555555555556,
              "#d8576b"
             ],
             [
              0.6666666666666666,
              "#ed7953"
             ],
             [
              0.7777777777777778,
              "#fb9f3a"
             ],
             [
              0.8888888888888888,
              "#fdca26"
             ],
             [
              1,
              "#f0f921"
             ]
            ],
            "type": "heatmapgl"
           }
          ],
          "histogram": [
           {
            "marker": {
             "pattern": {
              "fillmode": "overlay",
              "size": 10,
              "solidity": 0.2
             }
            },
            "type": "histogram"
           }
          ],
          "histogram2d": [
           {
            "colorbar": {
             "outlinewidth": 0,
             "ticks": ""
            },
            "colorscale": [
             [
              0,
              "#0d0887"
             ],
             [
              0.1111111111111111,
              "#46039f"
             ],
             [
              0.2222222222222222,
              "#7201a8"
             ],
             [
              0.3333333333333333,
              "#9c179e"
             ],
             [
              0.4444444444444444,
              "#bd3786"
             ],
             [
              0.5555555555555556,
              "#d8576b"
             ],
             [
              0.6666666666666666,
              "#ed7953"
             ],
             [
              0.7777777777777778,
              "#fb9f3a"
             ],
             [
              0.8888888888888888,
              "#fdca26"
             ],
             [
              1,
              "#f0f921"
             ]
            ],
            "type": "histogram2d"
           }
          ],
          "histogram2dcontour": [
           {
            "colorbar": {
             "outlinewidth": 0,
             "ticks": ""
            },
            "colorscale": [
             [
              0,
              "#0d0887"
             ],
             [
              0.1111111111111111,
              "#46039f"
             ],
             [
              0.2222222222222222,
              "#7201a8"
             ],
             [
              0.3333333333333333,
              "#9c179e"
             ],
             [
              0.4444444444444444,
              "#bd3786"
             ],
             [
              0.5555555555555556,
              "#d8576b"
             ],
             [
              0.6666666666666666,
              "#ed7953"
             ],
             [
              0.7777777777777778,
              "#fb9f3a"
             ],
             [
              0.8888888888888888,
              "#fdca26"
             ],
             [
              1,
              "#f0f921"
             ]
            ],
            "type": "histogram2dcontour"
           }
          ],
          "mesh3d": [
           {
            "colorbar": {
             "outlinewidth": 0,
             "ticks": ""
            },
            "type": "mesh3d"
           }
          ],
          "parcoords": [
           {
            "line": {
             "colorbar": {
              "outlinewidth": 0,
              "ticks": ""
             }
            },
            "type": "parcoords"
           }
          ],
          "pie": [
           {
            "automargin": true,
            "type": "pie"
           }
          ],
          "scatter": [
           {
            "fillpattern": {
             "fillmode": "overlay",
             "size": 10,
             "solidity": 0.2
            },
            "type": "scatter"
           }
          ],
          "scatter3d": [
           {
            "line": {
             "colorbar": {
              "outlinewidth": 0,
              "ticks": ""
             }
            },
            "marker": {
             "colorbar": {
              "outlinewidth": 0,
              "ticks": ""
             }
            },
            "type": "scatter3d"
           }
          ],
          "scattercarpet": [
           {
            "marker": {
             "colorbar": {
              "outlinewidth": 0,
              "ticks": ""
             }
            },
            "type": "scattercarpet"
           }
          ],
          "scattergeo": [
           {
            "marker": {
             "colorbar": {
              "outlinewidth": 0,
              "ticks": ""
             }
            },
            "type": "scattergeo"
           }
          ],
          "scattergl": [
           {
            "marker": {
             "colorbar": {
              "outlinewidth": 0,
              "ticks": ""
             }
            },
            "type": "scattergl"
           }
          ],
          "scattermapbox": [
           {
            "marker": {
             "colorbar": {
              "outlinewidth": 0,
              "ticks": ""
             }
            },
            "type": "scattermapbox"
           }
          ],
          "scatterpolar": [
           {
            "marker": {
             "colorbar": {
              "outlinewidth": 0,
              "ticks": ""
             }
            },
            "type": "scatterpolar"
           }
          ],
          "scatterpolargl": [
           {
            "marker": {
             "colorbar": {
              "outlinewidth": 0,
              "ticks": ""
             }
            },
            "type": "scatterpolargl"
           }
          ],
          "scatterternary": [
           {
            "marker": {
             "colorbar": {
              "outlinewidth": 0,
              "ticks": ""
             }
            },
            "type": "scatterternary"
           }
          ],
          "surface": [
           {
            "colorbar": {
             "outlinewidth": 0,
             "ticks": ""
            },
            "colorscale": [
             [
              0,
              "#0d0887"
             ],
             [
              0.1111111111111111,
              "#46039f"
             ],
             [
              0.2222222222222222,
              "#7201a8"
             ],
             [
              0.3333333333333333,
              "#9c179e"
             ],
             [
              0.4444444444444444,
              "#bd3786"
             ],
             [
              0.5555555555555556,
              "#d8576b"
             ],
             [
              0.6666666666666666,
              "#ed7953"
             ],
             [
              0.7777777777777778,
              "#fb9f3a"
             ],
             [
              0.8888888888888888,
              "#fdca26"
             ],
             [
              1,
              "#f0f921"
             ]
            ],
            "type": "surface"
           }
          ],
          "table": [
           {
            "cells": {
             "fill": {
              "color": "#EBF0F8"
             },
             "line": {
              "color": "white"
             }
            },
            "header": {
             "fill": {
              "color": "#C8D4E3"
             },
             "line": {
              "color": "white"
             }
            },
            "type": "table"
           }
          ]
         },
         "layout": {
          "annotationdefaults": {
           "arrowcolor": "#2a3f5f",
           "arrowhead": 0,
           "arrowwidth": 1
          },
          "autotypenumbers": "strict",
          "coloraxis": {
           "colorbar": {
            "outlinewidth": 0,
            "ticks": ""
           }
          },
          "colorscale": {
           "diverging": [
            [
             0,
             "#8e0152"
            ],
            [
             0.1,
             "#c51b7d"
            ],
            [
             0.2,
             "#de77ae"
            ],
            [
             0.3,
             "#f1b6da"
            ],
            [
             0.4,
             "#fde0ef"
            ],
            [
             0.5,
             "#f7f7f7"
            ],
            [
             0.6,
             "#e6f5d0"
            ],
            [
             0.7,
             "#b8e186"
            ],
            [
             0.8,
             "#7fbc41"
            ],
            [
             0.9,
             "#4d9221"
            ],
            [
             1,
             "#276419"
            ]
           ],
           "sequential": [
            [
             0,
             "#0d0887"
            ],
            [
             0.1111111111111111,
             "#46039f"
            ],
            [
             0.2222222222222222,
             "#7201a8"
            ],
            [
             0.3333333333333333,
             "#9c179e"
            ],
            [
             0.4444444444444444,
             "#bd3786"
            ],
            [
             0.5555555555555556,
             "#d8576b"
            ],
            [
             0.6666666666666666,
             "#ed7953"
            ],
            [
             0.7777777777777778,
             "#fb9f3a"
            ],
            [
             0.8888888888888888,
             "#fdca26"
            ],
            [
             1,
             "#f0f921"
            ]
           ],
           "sequentialminus": [
            [
             0,
             "#0d0887"
            ],
            [
             0.1111111111111111,
             "#46039f"
            ],
            [
             0.2222222222222222,
             "#7201a8"
            ],
            [
             0.3333333333333333,
             "#9c179e"
            ],
            [
             0.4444444444444444,
             "#bd3786"
            ],
            [
             0.5555555555555556,
             "#d8576b"
            ],
            [
             0.6666666666666666,
             "#ed7953"
            ],
            [
             0.7777777777777778,
             "#fb9f3a"
            ],
            [
             0.8888888888888888,
             "#fdca26"
            ],
            [
             1,
             "#f0f921"
            ]
           ]
          },
          "colorway": [
           "#636efa",
           "#EF553B",
           "#00cc96",
           "#ab63fa",
           "#FFA15A",
           "#19d3f3",
           "#FF6692",
           "#B6E880",
           "#FF97FF",
           "#FECB52"
          ],
          "font": {
           "color": "#2a3f5f"
          },
          "geo": {
           "bgcolor": "white",
           "lakecolor": "white",
           "landcolor": "#E5ECF6",
           "showlakes": true,
           "showland": true,
           "subunitcolor": "white"
          },
          "hoverlabel": {
           "align": "left"
          },
          "hovermode": "closest",
          "mapbox": {
           "style": "light"
          },
          "paper_bgcolor": "white",
          "plot_bgcolor": "#E5ECF6",
          "polar": {
           "angularaxis": {
            "gridcolor": "white",
            "linecolor": "white",
            "ticks": ""
           },
           "bgcolor": "#E5ECF6",
           "radialaxis": {
            "gridcolor": "white",
            "linecolor": "white",
            "ticks": ""
           }
          },
          "scene": {
           "xaxis": {
            "backgroundcolor": "#E5ECF6",
            "gridcolor": "white",
            "gridwidth": 2,
            "linecolor": "white",
            "showbackground": true,
            "ticks": "",
            "zerolinecolor": "white"
           },
           "yaxis": {
            "backgroundcolor": "#E5ECF6",
            "gridcolor": "white",
            "gridwidth": 2,
            "linecolor": "white",
            "showbackground": true,
            "ticks": "",
            "zerolinecolor": "white"
           },
           "zaxis": {
            "backgroundcolor": "#E5ECF6",
            "gridcolor": "white",
            "gridwidth": 2,
            "linecolor": "white",
            "showbackground": true,
            "ticks": "",
            "zerolinecolor": "white"
           }
          },
          "shapedefaults": {
           "line": {
            "color": "#2a3f5f"
           }
          },
          "ternary": {
           "aaxis": {
            "gridcolor": "white",
            "linecolor": "white",
            "ticks": ""
           },
           "baxis": {
            "gridcolor": "white",
            "linecolor": "white",
            "ticks": ""
           },
           "bgcolor": "#E5ECF6",
           "caxis": {
            "gridcolor": "white",
            "linecolor": "white",
            "ticks": ""
           }
          },
          "title": {
           "x": 0.05
          },
          "xaxis": {
           "automargin": true,
           "gridcolor": "white",
           "linecolor": "white",
           "ticks": "",
           "title": {
            "standoff": 15
           },
           "zerolinecolor": "white",
           "zerolinewidth": 2
          },
          "yaxis": {
           "automargin": true,
           "gridcolor": "white",
           "linecolor": "white",
           "ticks": "",
           "title": {
            "standoff": 15
           },
           "zerolinecolor": "white",
           "zerolinewidth": 2
          }
         }
        },
        "title": {
         "text": "Optimal Portfolio Returns and Risks Over Time"
        },
        "width": 1000,
        "xaxis": {
         "tickangle": 45,
         "title": {
          "text": "Time Periods"
         }
        },
        "yaxis": {
         "title": {
          "text": "Value"
         }
        }
       }
      }
     },
     "metadata": {},
     "output_type": "display_data"
    }
   ],
   "source": [
    "# Calculate daily returns and removing first row\n",
    "daily_returns = data.pct_change().iloc[1:,:]\n",
    "\n",
    "# Lists to store optimal portfolio weights, returns, risks, and period labels\n",
    "all_weights = []\n",
    "optimal_returns = []\n",
    "optimal_risks = []  # To store the portfolio risks\n",
    "period_labels = []\n",
    "\n",
    "# Run the optimization for each time window\n",
    "for period, (start_date, end_date) in time_windows.items():\n",
    "    sub_returns = daily_returns.loc[start_date:end_date]\n",
    "\n",
    "    # Drop columns (assets) that have NaN values for this window\n",
    "    sub_returns = sub_returns.dropna(axis=1, how='any')\n",
    "\n",
    "    # If there are fewer than 2 assets left, skip this window\n",
    "    if len(sub_returns.columns) < 2:\n",
    "        continue\n",
    "\n",
    "    sub_cov_matrix = sub_returns.cov() * 252  # Annualized covariance matrix\n",
    "    sub_expected_returns = sub_returns.mean() * 252  # Annualized expected returns\n",
    "    \n",
    "    # Number of assets (after dropping assets with NaN values)\n",
    "    n_assets = len(sub_expected_returns)\n",
    "\n",
    "    # Define portfolio weights\n",
    "    weights = cp.Variable(n_assets)\n",
    "\n",
    "    # Define portfolio return and risk (variance)\n",
    "    portfolio_return = sub_expected_returns.values @ weights\n",
    "    # portfolio_risk = cp.quad_form(weights, cp.psd_wrap(sub_cov_matrix.values))\n",
    "    portfolio_risk = weights.T @ cp.psd_wrap(sub_cov_matrix.values) @ weights\n",
    "\n",
    "    # Optimize to maximize return for given risk\n",
    "    target_risk = 0.08  # Set the target risk directly as the desired standard deviation\n",
    "\n",
    "    problem = cp.Problem(cp.Maximize(portfolio_return), [\n",
    "        cp.sum(weights) == 1,  # Sum of weights = 1\n",
    "        weights >= 0,  # No short selling\n",
    "        portfolio_risk <= target_risk**2  # Constrain risk to target risk (variance)\n",
    "    ])\n",
    "    \n",
    "    result = problem.solve()\n",
    "    \n",
    "    print(\"Solver used:\", problem.solver_stats.solver_name)\n",
    "\n",
    "    # Ensure the problem was solved successfully\n",
    "    if problem.status != cp.OPTIMAL:\n",
    "        print(f\"Optimization problem not solved: {problem.status}\")\n",
    "        continue\n",
    "    \n",
    "    # Ensure weights.value is a flat array\n",
    "    optimal_weights = np.array(weights.value).flatten()\n",
    "\n",
    "    # Store the optimal portfolio weights, returns, and risks for this time window\n",
    "    all_weights.append(optimal_weights)  # Store the weights array\n",
    "    optimal_returns.append(portfolio_return.value)  # Store return\n",
    "    \n",
    "    # Check if portfolio_risk.value is valid before calculating standard deviation\n",
    "    if portfolio_risk.value is not None:\n",
    "        optimal_risks.append(np.sqrt(portfolio_risk.value))  # Store the risk (standard deviation)\n",
    "    else:\n",
    "        print(\"Warning: Portfolio risk is None\")\n",
    "        optimal_risks.append(None)  # Handle None risk values as needed\n",
    "\n",
    "    # Store the start and end dates of this period for labeling\n",
    "    period_labels.append(period)\n",
    "\n",
    "# Convert the list of weights to a DataFrame for better plotting\n",
    "weights_df = pd.DataFrame(all_weights, columns=tickers, index=period_labels)\n",
    "\n",
    "# Now you also have the risks and returns for each period\n",
    "risks_df = pd.DataFrame({\n",
    "    'Period': period_labels,\n",
    "    'Return': optimal_returns,\n",
    "    'Risk': optimal_risks\n",
    "})\n",
    "\n",
    "period_labels = weights_df.index.tolist()\n",
    "\n",
    "# Get a qualitative color scale from Plotly\n",
    "color_scale = px.colors.qualitative.Plotly\n",
    "\n",
    "# Dynamically assign colors to tickers (expand the color scale to cover all tickers if necessary)\n",
    "tickers = weights_df.columns\n",
    "\n",
    "# Generate a unique color for each ticker using a continuous color scale\n",
    "color_scale = px.colors.sequential.Inferno  # You can choose another color scale if preferred\n",
    "color_map = {ticker: px.colors.sample_colorscale(color_scale, i / len(tickers)) for i, ticker in enumerate(tickers)}\n",
    "\n",
    "# Sort the weights_df for each time period so that larger values are at the bottom\n",
    "sorted_assets = sorted(weights_df.columns)\n",
    "\n",
    "# Plot 1: Stacked Bar Plot of Optimal Weights Over Time\n",
    "fig_weights = go.Figure()\n",
    "\n",
    "# Add a bar for each asset in the sorted dataframe, adding smaller weights last\n",
    "for period in period_labels:\n",
    "    # Sort the assets by weight for this period in descending order\n",
    "    sorted_weights = weights_df.loc[period].sort_values(ascending=False)\n",
    "    for asset in sorted_weights.index:\n",
    "        fig_weights.add_trace(go.Bar(\n",
    "            x=[period], \n",
    "            y=[sorted_weights[asset]], \n",
    "            name=asset if period == period_labels[0] else '',  # Show asset name in legend only once\n",
    "            hovertemplate=asset + '<br>%{y:.2f}',  # Asset name first, then y-axis value\n",
    "            hoverinfo='y',  # Show only the y value\n",
    "            showlegend=(period == period_labels[0]),  # Show legend only once\n",
    "            marker=dict(color=color_map[asset])  # Use dynamically generated unique colors\n",
    "        ))\n",
    "\n",
    "# Set plot layout for the stacked bar chart\n",
    "fig_weights.update_layout(\n",
    "    barmode='stack',\n",
    "    title='Optimal Portfolio Weights Over Time',\n",
    "    xaxis=dict(title='Time Periods', tickangle=45),\n",
    "    yaxis=dict(title='Weight'),\n",
    "    legend=dict(title=\"Assets\", yanchor=\"top\", xanchor=\"left\"),\n",
    "    height=600,\n",
    "    width=1000\n",
    ")\n",
    "\n",
    "# Display the sorted stacked bar chart\n",
    "fig_weights.show()\n",
    "\n",
    "# Plot portfolio returns and risks over time (unchanged)\n",
    "fig_risk_return = go.Figure()\n",
    "\n",
    "# Add line plot for returns\n",
    "fig_risk_return.add_trace(go.Scatter(\n",
    "    x=risks_df['Period'],\n",
    "    y=risks_df['Return'],\n",
    "    mode='lines+markers',\n",
    "    name='Return',\n",
    "    line=dict(color='blue'),\n",
    "    hovertemplate='Return: %{y:.2f}<extra></extra>'\n",
    "))\n",
    "\n",
    "# Add line plot for risks\n",
    "fig_risk_return.add_trace(go.Scatter(\n",
    "    x=risks_df['Period'],\n",
    "    y=risks_df['Risk'],\n",
    "    mode='lines+markers',\n",
    "    name='Risk',\n",
    "    line=dict(color='red'),\n",
    "    hovertemplate='Risk: %{y:.2f}<extra></extra>'\n",
    "))\n",
    "\n",
    "# Update the layout for the risk-return plot\n",
    "fig_risk_return.update_layout(\n",
    "    title='Optimal Portfolio Returns and Risks Over Time',\n",
    "    xaxis=dict(title='Time Periods', tickangle=45),\n",
    "    yaxis=dict(title='Value'),\n",
    "    legend=dict(title=\"Metrics\", yanchor=\"top\", xanchor=\"left\"),\n",
    "    height=600,\n",
    "    width=1000\n",
    ")\n",
    "\n",
    "# Show the risk-return plot\n",
    "fig_risk_return.show()"
   ]
  }
 ],
 "metadata": {
  "kernelspec": {
   "display_name": "main",
   "language": "python",
   "name": "python3"
  },
  "language_info": {
   "codemirror_mode": {
    "name": "ipython",
    "version": 3
   },
   "file_extension": ".py",
   "mimetype": "text/x-python",
   "name": "python",
   "nbconvert_exporter": "python",
   "pygments_lexer": "ipython3",
   "version": "3.9.7"
  }
 },
 "nbformat": 4,
 "nbformat_minor": 2
}
