{
 "cells": [
  {
   "cell_type": "code",
   "execution_count": 49,
   "metadata": {},
   "outputs": [],
   "source": [
    "import pandas as pd\n",
    "import numpy as np\n",
    "import yfinance as yf\n",
    "import cvxpy as cp\n",
    "import matplotlib.pyplot as plt\n",
    "import plotly.graph_objects as go\n",
    "import plotly.express as px\n",
    "from utils import *"
   ]
  },
  {
   "cell_type": "code",
   "execution_count": 50,
   "metadata": {},
   "outputs": [],
   "source": [
    "# Set display format for floats to regular decimal notation\n",
    "pd.set_option('display.float_format', '{:.20f}'.format)"
   ]
  },
  {
   "cell_type": "code",
   "execution_count": 51,
   "metadata": {},
   "outputs": [
    {
     "name": "stdout",
     "output_type": "stream",
     "text": [
      "[*********************100%%**********************]  120 of 120 completed\n"
     ]
    }
   ],
   "source": [
    "tickers = [\n",
    "    \"AAPL\", \"MSFT\", \"GOOG\", \"AMZN\", \"NVDA\", \"ADBE\", \"ORCL\", \"CRM\", \"INTC\", \"CSCO\",  # Technology\n",
    "    \"JNJ\", \"PFE\", \"MRK\", \"UNH\", \"BMY\", \"LLY\", \"ABBV\", \"GILD\", \"MDT\", \"ELV\",         # Healthcare\n",
    "    \"PG\", \"KO\", \"PEP\", \"WMT\", \"CL\", \"KMB\", \"MO\", \"MDLZ\", \"GIS\", \"COST\",             # Consumer Staples\n",
    "    \"TSLA\", \"NKE\", \"MCD\", \"SBUX\", \"TGT\", \"HD\", \"LOW\", \"TJX\", \"ROST\", \"AMT\",         # Consumer Discretionary\n",
    "    \"JPM\", \"BAC\", \"GS\", \"WFC\", \"C\", \"AXP\", \"SCHW\", \"MS\", \"BLK\", \"USB\",              # Financials\n",
    "    \"BA\", \"CAT\", \"MMM\", \"HON\", \"UNP\", \"LMT\", \"GE\", \"RTX\", \"UPS\", \"DE\",              # Industrials\n",
    "    \"NEE\", \"DUK\", \"SO\", \"AEP\", \"EXC\", \"D\", \"XEL\", \"ED\", \"SRE\", \"PPL\",               # Utilities\n",
    "    \"VZ\", \"T\", \"CMCSA\", \"DIS\", \"NFLX\", \"GOOGL\", \"META\", \"CHTR\", \"TMUS\", \"SPOT\",     # Communication Services\n",
    "    \"XOM\", \"CVX\", \"COP\", \"SLB\", \"PSX\", \"VLO\", \"MPC\", \"HAL\", \"BKR\", \"OXY\",           # Energy\n",
    "    \"IEF\", \"TLT\", \"GOVT\", \"BND\", \"LQD\", \"HYG\", \"TIP\", \"AGG\", \"VCIT\", \"VCSH\",        # Bonds\n",
    "    \"VNQ\", \"IYR\", \"SCHH\", \"RWR\", \"XLRE\", \"PLD\", \"O\", \"SPG\", \"AVB\", \"EQR\",           # REITs\n",
    "    \"GLD\", \"IAU\", \"SLV\", \"PDBC\", \"DBC\", \"USO\", \"UNG\", \"BNO\", \"GSG\", \"CORN\"          # Commodities\n",
    "]\n",
    "\n",
    "# Download historical data for all tickers\n",
    "data = yf.download(tickers, start=\"2005-01-01\", end=\"2024-10-01\")['Adj Close']\n",
    "\n",
    "# Display the first few rows\n",
    "# print(data.head())"
   ]
  },
  {
   "cell_type": "markdown",
   "metadata": {},
   "source": [
    "## Calculating Metrics"
   ]
  },
  {
   "cell_type": "code",
   "execution_count": 52,
   "metadata": {},
   "outputs": [],
   "source": [
    "target_risk = 0.08"
   ]
  },
  {
   "cell_type": "code",
   "execution_count": 53,
   "metadata": {},
   "outputs": [
    {
     "name": "stderr",
     "output_type": "stream",
     "text": [
      "/Users/meganng/Desktop/DSA4212/Assignment/final/utils.py:14: FutureWarning:\n",
      "\n",
      "The default fill_method='pad' in DataFrame.pct_change is deprecated and will be removed in a future version. Call ffill before calling pct_change to retain current behavior and silence this warning.\n",
      "\n"
     ]
    }
   ],
   "source": [
    "daily_returns = daily_returns_calc(data)\n",
    "expected_daily_metrics = expected_daily_metric_calc(daily_returns)\n",
    "expected_daily_returns = expected_daily_metrics['daily_returns']\n",
    "daily_covariance_matrix = expected_daily_metrics['daily_covariance']\n",
    "annual_metrics = annual_metrics_calc(expected_daily_returns, daily_covariance_matrix)\n",
    "annual_returns = annual_metrics['annual_returns']\n",
    "annual_covariance = annual_metrics['cov_matrix']"
   ]
  },
  {
   "cell_type": "markdown",
   "metadata": {},
   "source": [
    "## Running Optimisation on Unperturbed Data"
   ]
  },
  {
   "cell_type": "code",
   "execution_count": 54,
   "metadata": {},
   "outputs": [],
   "source": [
    "# Running optimisation with target risk as 0.05\n",
    "res = optimise_weights(annual_returns, annual_covariance, target_risk)\n",
    "original_weights = res[0]"
   ]
  },
  {
   "cell_type": "markdown",
   "metadata": {},
   "source": [
    "## Stability with Random Perturbations "
   ]
  },
  {
   "cell_type": "code",
   "execution_count": 55,
   "metadata": {},
   "outputs": [],
   "source": [
    "# Set random seed\n",
    "np.random.seed(6701)\n",
    "# Generate 20 values between 0.001 and 0.02\n",
    "perturbations = np.linspace(0.0001, 0.02, 50)"
   ]
  },
  {
   "cell_type": "code",
   "execution_count": 56,
   "metadata": {},
   "outputs": [
    {
     "name": "stdout",
     "output_type": "stream",
     "text": [
      "       Perturbation Level         Average Change  Average Maximum Change  \\\n",
      "0  0.00010000000000000000 0.00027539768276297461  0.00082429418154864498   \n",
      "1  0.00050612244897959191 0.00207343412216459948  0.00601094036179607508   \n",
      "2  0.00091224489795918378 0.00352430045815131177  0.00610132805249742009   \n",
      "3  0.00131836734693877564 0.00418517032229672337  0.00797482664456651384   \n",
      "4  0.00172448979591836751 0.00536283329687551203  0.01282626859554369253   \n",
      "5  0.00213061224489795916 0.00523435419898341404  0.01190298092140393803   \n",
      "6  0.00253673469387755103 0.00542801528358220677  0.01247105207368559912   \n",
      "7  0.00294285714285714289 0.00437045526569491451  0.01149468137794890446   \n",
      "8  0.00334897959183673476 0.00506192248423490126  0.01260502286955336899   \n",
      "9  0.00375510204081632663 0.00636419596312908561  0.01624401467541804894   \n",
      "10 0.00416122448979591893 0.00628585049753843141  0.01434479492268962188   \n",
      "11 0.00456734693877551123 0.00775973820142942475  0.01609777683060545361   \n",
      "12 0.00497346938775510266 0.00928504445736455866  0.01886651777026328997   \n",
      "13 0.00537959183673469409 0.00747063185081678002  0.01758338848314672243   \n",
      "14 0.00578571428571428639 0.00757425391954073216  0.01617499865696636965   \n",
      "15 0.00619183673469387869 0.00785081052831032924  0.01768459105133118534   \n",
      "16 0.00659795918367347013 0.00947431579625069090  0.02002840543799791137   \n",
      "17 0.00700408163265306156 0.00890315846822035788  0.01922647867516138337   \n",
      "18 0.00741020408163265386 0.00891652705528335650  0.01731938637253758323   \n",
      "19 0.00781632653061224529 0.00817575732432395536  0.01735647867088135551   \n",
      "20 0.00822244897959183672 0.00931430034895966256  0.01883499860593943614   \n",
      "21 0.00862857142857142816 0.00991680725290262563  0.02045583188163573041   \n",
      "22 0.00903469387755102132 0.01034661253248776551  0.01890229492958369825   \n",
      "23 0.00944081632653061276 0.00983070649316325484  0.01825397859040617590   \n",
      "24 0.00984693877551020419 0.00883490469296380893  0.01835840539698836357   \n",
      "25 0.01025306122448979562 0.00978996116622577947  0.01912960794893885444   \n",
      "26 0.01065918367346938705 0.00978158487165194795  0.01777731185502414227   \n",
      "27 0.01106530612244898022 0.01049190553936973566  0.01844276384855002629   \n",
      "28 0.01147142857142857165 0.01004994671132240433  0.01684581997261620084   \n",
      "29 0.01187755102040816309 0.01087118256628847278  0.01764188628108567108   \n",
      "30 0.01228367346938775626 0.01067410061087799462  0.01724249851795348412   \n",
      "31 0.01268979591836734769 0.01049696276962163062  0.01673466431133365656   \n",
      "32 0.01309591836734693912 0.01122631592733903602  0.01789897857315420407   \n",
      "33 0.01350204081632653055 0.01173741116942433535  0.01729340537013256823   \n",
      "34 0.01390816326530612199 0.01144487421589325711  0.01720541135654663628   \n",
      "35 0.01431428571428571515 0.01133509446434125857  0.01564923871159131646   \n",
      "36 0.01472040816326530659 0.01148174058145987053  0.01692070135929317487   \n",
      "37 0.01512653061224489802 0.01167997761525341183  0.01639979977115724880   \n",
      "38 0.01553265306122449119                    NaN                     NaN   \n",
      "39 0.01593877551020408262                    NaN                     NaN   \n",
      "40 0.01634489795918367405                    NaN                     NaN   \n",
      "41 0.01675102040816326548                    NaN                     NaN   \n",
      "42 0.01715714285714285692                    NaN                     NaN   \n",
      "43 0.01756326530612244835                    NaN                     NaN   \n",
      "44 0.01796938775510204325                    NaN                     NaN   \n",
      "45 0.01837551020408163469                    NaN                     NaN   \n",
      "46 0.01878163265306122612                    NaN                     NaN   \n",
      "47 0.01918775510204081755                    NaN                     NaN   \n",
      "48 0.01959387755102040898                    NaN                     NaN   \n",
      "49 0.02000000000000000042                    NaN                     NaN   \n",
      "\n",
      "               Average SD        Average Returns           Average Risk  \n",
      "0  0.00033198651368021261 0.15388047213078775988 0.00640000039570212675  \n",
      "1  0.00227555688915128231 0.15420644044708226028 0.00640000044621888593  \n",
      "2  0.00219287791593228507 0.15467212776984182176 0.00640000076207906683  \n",
      "3  0.00301601678573504891 0.15535671565980219144 0.00640000025987015348  \n",
      "4  0.00491945196269263571 0.15723421085950065046 0.00640000035364159635  \n",
      "5  0.00463839935152840412 0.15725858932232114618 0.00640000048563455805  \n",
      "6  0.00516112976564565579 0.15322075935189313767 0.00640000047139154676  \n",
      "7  0.00449420207140527501 0.15632727221925230010 0.00640000067915921528  \n",
      "8  0.00507178000350658100 0.15922543346730533287 0.00640000028261857468  \n",
      "9  0.00682963477732345670 0.15704406072159735053 0.00640000075630767738  \n",
      "10 0.00568151126267107953 0.15735478345050293858 0.00640000072952561470  \n",
      "11 0.00585415097864201792 0.15155625144939444127 0.00640000026955168683  \n",
      "12 0.00669821405246940910 0.15456276401510130047 0.00640000063686187344  \n",
      "13 0.00690808274490814847 0.15033684076970782462 0.00640000042847420087  \n",
      "14 0.00576854480459646456 0.15381271511641164684 0.00640000020058604895  \n",
      "15 0.00679563722301258777 0.15743288656923931645 0.00640000048195432658  \n",
      "16 0.00733654136449990793 0.15888893051335700735 0.00640000079008430384  \n",
      "17 0.00707392430348159802 0.15924799105220222017 0.00640000110488378720  \n",
      "18 0.00596285684291973910 0.14096954394142277578 0.00640000142366681495  \n",
      "19 0.00640875297149161565 0.14479245501994791878 0.00640000095660032964  \n",
      "20 0.00643035331461654178 0.14825334345404880820 0.00640000098964859689  \n",
      "21 0.00737313988532044013 0.15537342186007441214 0.00640000129097525062  \n",
      "22 0.00608490426082671735 0.14442840245389679255 0.00640000068648287606  \n",
      "23 0.00605052370847908045 0.14823242130109359760 0.00640000074188834360  \n",
      "24 0.00654098446839970239 0.15262536336066875875 0.00640000123525533843  \n",
      "25 0.00627781340241653860 0.15737156703576871131 0.00640000097037713832  \n",
      "26 0.00564286923621579173 0.14916970932943129924 0.00640000108404699397  \n",
      "27 0.00589560174145761003 0.13880373198206810703 0.00640000081542899980  \n",
      "28 0.00509512276686291399 0.14853152173087744159 0.00640000109397239215  \n",
      "29 0.00468938252441592797 0.13673956476033671814 0.00640000136627882649  \n",
      "30 0.00493571596120510707 0.13563557009434140666 0.00640000126773891502  \n",
      "31 0.00433374231982288412 0.12053804023377456822 0.00640000226247022276  \n",
      "32 0.00490613420688496525 0.13917764615037417353 0.00640000286162081562  \n",
      "33 0.00416255968639435685 0.11275559732794764034 0.00640000453043901817  \n",
      "34 0.00434506333421784754 0.11610993922124761280 0.00640000081328085963  \n",
      "35 0.00319414700256222825 0.11255040718236189456 0.00640000252526973408  \n",
      "36 0.00397822665210163275 0.11301161581325747107 0.00640000173671047019  \n",
      "37 0.00348947397813787440 0.09848746405485571398 0.00640000408656263720  \n",
      "38                    NaN                    NaN                    NaN  \n",
      "39                    NaN                    NaN                    NaN  \n",
      "40                    NaN                    NaN                    NaN  \n",
      "41                    NaN                    NaN                    NaN  \n",
      "42                    NaN                    NaN                    NaN  \n",
      "43                    NaN                    NaN                    NaN  \n",
      "44                    NaN                    NaN                    NaN  \n",
      "45                    NaN                    NaN                    NaN  \n",
      "46                    NaN                    NaN                    NaN  \n",
      "47                    NaN                    NaN                    NaN  \n",
      "48                    NaN                    NaN                    NaN  \n",
      "49                    NaN                    NaN                    NaN  \n"
     ]
    }
   ],
   "source": [
    "# Lists to store final results\n",
    "tot_mean = []\n",
    "tot_max = []\n",
    "tot_std = []\n",
    "optimal_returns = []\n",
    "optimal_risks = []\n",
    "\n",
    "for perturbation in perturbations:\n",
    "    # List to store differences in weights for each run\n",
    "    weight_differences = []\n",
    "    portfolio_returns = []\n",
    "    portfolio_risks = []\n",
    "    \n",
    "    feasible_solution = True  # Flag to check if any solution is feasible\n",
    "\n",
    "    for i in range(5):\n",
    "        # Add random perturbation to the returns data\n",
    "        perturbed_returns = daily_returns + np.random.normal(0, perturbation, daily_returns.shape)\n",
    "\n",
    "        # Calculate covariance matrix and expected returns from perturbed data\n",
    "        perturbed_cov_matrix = perturbed_returns.cov() * 252  # Annualized covariance matrix\n",
    "        perturbed_expected_returns = perturbed_returns.mean() * 252  # Annualized expected returns\n",
    "\n",
    "        # Define portfolio weights\n",
    "        n_assets = len(perturbed_expected_returns)\n",
    "        weights = cp.Variable(n_assets)\n",
    "\n",
    "        # Define portfolio return and risk (variance)\n",
    "        portfolio_return = perturbed_expected_returns.values @ weights\n",
    "        portfolio_risk = cp.quad_form(weights, cp.psd_wrap(perturbed_cov_matrix))\n",
    "\n",
    "        # Optimize to maximize return for a given risk\n",
    "        target_risk = 0.08\n",
    "        problem = cp.Problem(cp.Maximize(portfolio_return), [\n",
    "            cp.sum(weights) == 1,\n",
    "            weights >= 0,\n",
    "            portfolio_risk <= target_risk**2\n",
    "        ])\n",
    "        \n",
    "        problem.solve()\n",
    "\n",
    "        # Check if the solution is feasible\n",
    "        if problem.status != cp.OPTIMAL:\n",
    "            feasible_solution = False\n",
    "            break  # Stop further iterations if no feasible solution is found\n",
    "\n",
    "        # Collect weights and portfolio metrics if feasible\n",
    "        perturbed_weights = np.round(weights.value, 4)\n",
    "        weight_diff = np.abs(original_weights - perturbed_weights)\n",
    "        weight_differences.append(weight_diff)\n",
    "\n",
    "        portfolio_returns.append(portfolio_return.value)\n",
    "        portfolio_risks.append(portfolio_risk.value)\n",
    "\n",
    "    if feasible_solution:\n",
    "        # Calculate mean, max, std change in weights if solution was feasible\n",
    "        diff_df = pd.DataFrame(weight_differences)\n",
    "        tot_mean.append(diff_df.mean().mean())\n",
    "        tot_max.append(diff_df.max().mean())\n",
    "        tot_std.append(diff_df.std().mean())\n",
    "        optimal_returns.append(sum(portfolio_returns) / len(portfolio_returns))\n",
    "        optimal_risks.append(sum(portfolio_risks) / len(portfolio_risks))\n",
    "    else:\n",
    "        # Append None for all columns if no feasible solution was found\n",
    "        tot_mean.append(None)\n",
    "        tot_max.append(None)\n",
    "        tot_std.append(None)\n",
    "        optimal_returns.append(None)\n",
    "        optimal_risks.append(None)\n",
    "\n",
    "# Creating a new DataFrame\n",
    "final_df = pd.DataFrame({\n",
    "    'Perturbation Level': perturbations,\n",
    "    'Average Change': tot_mean,\n",
    "    'Average Maximum Change': tot_max,\n",
    "    'Average SD': tot_std,\n",
    "    'Average Returns': optimal_returns,\n",
    "    'Average Risk': optimal_risks\n",
    "})\n",
    "\n",
    "# Display the final dataframe\n",
    "print(final_df)\n"
   ]
  },
  {
   "cell_type": "code",
   "execution_count": 57,
   "metadata": {},
   "outputs": [
    {
     "data": {
      "image/png": "[encoded data removed]",
      "text/plain": [
       "<Figure size 1500x600 with 1 Axes>"
      ]
     },
     "metadata": {},
     "output_type": "display_data"
    }
   ],
   "source": [
    "# Plotting the results\n",
    "plt.figure(figsize=(15, 6))\n",
    "\n",
    "# Plot each line, skipping NaNs\n",
    "for column, label, marker in zip(\n",
    "        ['Average Change', 'Average Maximum Change', 'Average Risk', 'Average Returns'],\n",
    "        ['Average Change', 'Average Maximum Change', 'Average Portfolio Risk', 'Average Portfolio Returns'],\n",
    "        ['o', 'x', '^', 'd']):\n",
    "    \n",
    "    # Plot the main line (excluding NaNs)\n",
    "    plt.plot(final_df['Perturbation Level'], final_df[column], label=label, marker=marker, linestyle='-')\n",
    "\n",
    "# Plot the \"No Solution\" markers for all columns at once\n",
    "nan_indices = final_df['Perturbation Level'][final_df.isna().any(axis=1)]\n",
    "plt.scatter(nan_indices, [0] * len(nan_indices), color='red', marker='x', label='No Solution', zorder=3)\n",
    "\n",
    "# Set the labels and title\n",
    "plt.xlabel('Perturbation Level')\n",
    "plt.ylabel('Value')\n",
    "plt.title('Perturbation Level vs Metrics')\n",
    "\n",
    "# Display the legend\n",
    "plt.legend()\n",
    "plt.grid(True)\n",
    "plt.show()\n"
   ]
  },
  {
   "cell_type": "markdown",
   "metadata": {},
   "source": [
    "### Stabilising the Portfolio"
   ]
  },
  {
   "cell_type": "markdown",
   "metadata": {},
   "source": [
    "#### Only Exponential Shrinkage"
   ]
  },
  {
   "cell_type": "code",
   "execution_count": 58,
   "metadata": {},
   "outputs": [
    {
     "data": {
      "image/png": "[encoded data removed]",
      "text/plain": [
       "<Figure size 1500x600 with 1 Axes>"
      ]
     },
     "metadata": {},
     "output_type": "display_data"
    }
   ],
   "source": [
    "# Lists to store final results\n",
    "tot_mean = []\n",
    "tot_max = []\n",
    "tot_std = []\n",
    "optimal_returns = []\n",
    "optimal_risks = []\n",
    "\n",
    "# Exponential weighting factor (closer to 1 emphasizes recent data more strongly)\n",
    "alpha = 0.8  # Adjust this as needed to control the weighting\n",
    "\n",
    "for perturbation in perturbations:\n",
    "    weight_differences = []\n",
    "    portfolio_returns = []\n",
    "    portfolio_risks = []\n",
    "    feasible_solution = True\n",
    "\n",
    "    for i in range(5):\n",
    "        # Add random perturbation to the returns data\n",
    "        perturbed_returns = daily_returns + np.random.normal(0, perturbation, daily_returns.shape)\n",
    "\n",
    "        # Calculate exponentially weighted covariance matrix\n",
    "        weights = alpha ** np.arange(len(perturbed_returns) - 1, -1, -1)\n",
    "        weights /= weights.sum()  # Normalize weights to sum to 1\n",
    "        weighted_returns = perturbed_returns.multiply(weights, axis=0)\n",
    "        perturbed_cov_matrix = weighted_returns.cov() * 252  # Annualize covariance\n",
    "\n",
    "        # Calculate expected returns (annualized)\n",
    "        perturbed_expected_returns = perturbed_returns.mean() * 252\n",
    "\n",
    "        # Define the optimization problem with cvxpy\n",
    "        n_assets = len(perturbed_expected_returns)\n",
    "        weights = cp.Variable(n_assets)\n",
    "\n",
    "        # Portfolio return and risk (variance)\n",
    "        portfolio_return = perturbed_expected_returns.values @ weights\n",
    "        portfolio_risk = cp.quad_form(weights, cp.psd_wrap(perturbed_cov_matrix))\n",
    "\n",
    "        # Optimization problem: Maximize return with risk constraint\n",
    "        target_risk = 0.08  # Set target risk level\n",
    "        problem = cp.Problem(cp.Maximize(portfolio_return), [\n",
    "            cp.sum(weights) == 1,  # Sum of weights must be 1\n",
    "            weights >= 0,  # No short-selling\n",
    "            portfolio_risk <= target_risk**2  # Risk constraint\n",
    "        ])\n",
    "        \n",
    "        problem.solve()\n",
    "\n",
    "        # Check if solution is feasible\n",
    "        if problem.status != cp.OPTIMAL:\n",
    "            feasible_solution = False\n",
    "            break\n",
    "\n",
    "        # Collect results if feasible\n",
    "        perturbed_weights = np.round(weights.value, 4)\n",
    "        weight_diff = np.abs(original_weights - perturbed_weights)\n",
    "        weight_differences.append(weight_diff)\n",
    "        portfolio_returns.append(portfolio_return.value)\n",
    "        portfolio_risks.append(portfolio_risk.value)\n",
    "\n",
    "    # Append results if feasible\n",
    "    if feasible_solution:\n",
    "        diff_df = pd.DataFrame(weight_differences)\n",
    "        tot_mean.append(diff_df.mean().mean())\n",
    "        tot_max.append(diff_df.max().mean())\n",
    "        tot_std.append(diff_df.std().mean())\n",
    "        optimal_returns.append(np.mean(portfolio_returns))\n",
    "        optimal_risks.append(np.mean(portfolio_risks))\n",
    "    else:\n",
    "        tot_mean.append(None)\n",
    "        tot_max.append(None)\n",
    "        tot_std.append(None)\n",
    "        optimal_returns.append(None)\n",
    "        optimal_risks.append(None)\n",
    "\n",
    "# Creating a new DataFrame for analysis\n",
    "final_df = pd.DataFrame({\n",
    "    'Perturbation Level': perturbations,\n",
    "    'Average Change': tot_mean,\n",
    "    'Average Maximum Change': tot_max,\n",
    "    'Average SD': tot_std,\n",
    "    'Average Returns': optimal_returns,\n",
    "    'Average Risk': optimal_risks\n",
    "})\n",
    "\n",
    "# Plotting the results\n",
    "plt.figure(figsize=(15, 6))\n",
    "for column, label, marker in zip(\n",
    "        ['Average Change', 'Average Maximum Change', 'Average Risk', 'Average Returns'],\n",
    "        ['Average Change', 'Average Maximum Change', 'Average Portfolio Risk', 'Average Portfolio Returns'],\n",
    "        ['o', 'x', '^', 'd']):\n",
    "    \n",
    "    plt.plot(final_df['Perturbation Level'], final_df[column], label=label, marker=marker, linestyle='-')\n",
    "\n",
    "nan_indices = final_df['Perturbation Level'][final_df.isna().any(axis=1)]\n",
    "plt.scatter(nan_indices, [0] * len(nan_indices), color='red', marker='x', label='No Solution', zorder=3)\n",
    "\n",
    "plt.xlabel('Perturbation Level')\n",
    "plt.ylabel('Value')\n",
    "plt.title('Perturbation Level vs Metrics with Exponential Shrinkage Only')\n",
    "plt.legend()\n",
    "plt.grid(True)\n",
    "plt.show()"
   ]
  },
  {
   "cell_type": "code",
   "execution_count": 59,
   "metadata": {},
   "outputs": [
    {
     "data": {
      "text/html": [
       "<div>\n",
       "<style scoped>\n",
       "    .dataframe tbody tr th:only-of-type {\n",
       "        vertical-align: middle;\n",
       "    }\n",
       "\n",
       "    .dataframe tbody tr th {\n",
       "        vertical-align: top;\n",
       "    }\n",
       "\n",
       "    .dataframe thead th {\n",
       "        text-align: right;\n",
       "    }\n",
       "</style>\n",
       "<table border=\"1\" class=\"dataframe\">\n",
       "  <thead>\n",
       "    <tr style=\"text-align: right;\">\n",
       "      <th></th>\n",
       "      <th>Perturbation Level</th>\n",
       "      <th>Average Change</th>\n",
       "      <th>Average Maximum Change</th>\n",
       "      <th>Average SD</th>\n",
       "      <th>Average Returns</th>\n",
       "      <th>Average Risk</th>\n",
       "    </tr>\n",
       "  </thead>\n",
       "  <tbody>\n",
       "    <tr>\n",
       "      <th>0</th>\n",
       "      <td>0.00010000000000000000</td>\n",
       "      <td>0.01616634433729987816</td>\n",
       "      <td>0.01616634433729987816</td>\n",
       "      <td>0.00000000000000000116</td>\n",
       "      <td>0.61645054514683295110</td>\n",
       "      <td>0.00000669977517334806</td>\n",
       "    </tr>\n",
       "    <tr>\n",
       "      <th>1</th>\n",
       "      <td>0.00050612244897959191</td>\n",
       "      <td>0.01616634433729987816</td>\n",
       "      <td>0.01616634433729987816</td>\n",
       "      <td>0.00000000000000000116</td>\n",
       "      <td>0.61852599738516977901</td>\n",
       "      <td>0.00000672518589974950</td>\n",
       "    </tr>\n",
       "    <tr>\n",
       "      <th>2</th>\n",
       "      <td>0.00091224489795918378</td>\n",
       "      <td>0.01617331222154912151</td>\n",
       "      <td>0.02403419476251282202</td>\n",
       "      <td>0.00702163869219003898</td>\n",
       "      <td>0.61908713082831878793</td>\n",
       "      <td>0.00000645020904474394</td>\n",
       "    </tr>\n",
       "    <tr>\n",
       "      <th>3</th>\n",
       "      <td>0.00131836734693877564</td>\n",
       "      <td>0.01617331222154912151</td>\n",
       "      <td>0.02403419476251282202</td>\n",
       "      <td>0.00702163869219003985</td>\n",
       "      <td>0.61889385669660001987</td>\n",
       "      <td>0.00000640261467568505</td>\n",
       "    </tr>\n",
       "    <tr>\n",
       "      <th>4</th>\n",
       "      <td>0.00172448979591836751</td>\n",
       "      <td>0.01618724799004761863</td>\n",
       "      <td>0.02403419476251282202</td>\n",
       "      <td>0.00859971597702449513</td>\n",
       "      <td>0.61781974544101392333</td>\n",
       "      <td>0.00000563036835941557</td>\n",
       "    </tr>\n",
       "    <tr>\n",
       "      <th>5</th>\n",
       "      <td>0.00213061224489795916</td>\n",
       "      <td>0.01617331222154912151</td>\n",
       "      <td>0.02403419476251282202</td>\n",
       "      <td>0.00702163869219003985</td>\n",
       "      <td>0.61764483703308892260</td>\n",
       "      <td>0.00000626335341640885</td>\n",
       "    </tr>\n",
       "    <tr>\n",
       "      <th>6</th>\n",
       "      <td>0.00253673469387755103</td>\n",
       "      <td>0.01618028010579836834</td>\n",
       "      <td>0.02403419476251282202</td>\n",
       "      <td>0.00859971597702449513</td>\n",
       "      <td>0.62695188711392957348</td>\n",
       "      <td>0.00000603591189770575</td>\n",
       "    </tr>\n",
       "    <tr>\n",
       "      <th>7</th>\n",
       "      <td>0.00294285714285714289</td>\n",
       "      <td>0.01618724799004761863</td>\n",
       "      <td>0.02403419476251282202</td>\n",
       "      <td>0.00859971597702449513</td>\n",
       "      <td>0.62899641604904465986</td>\n",
       "      <td>0.00000558930318153698</td>\n",
       "    </tr>\n",
       "    <tr>\n",
       "      <th>8</th>\n",
       "      <td>0.00334897959183673476</td>\n",
       "      <td>0.01619421587429686199</td>\n",
       "      <td>0.02403419476251282202</td>\n",
       "      <td>0.00702163869219003898</td>\n",
       "      <td>0.62649075034059598099</td>\n",
       "      <td>0.00000524554504490154</td>\n",
       "    </tr>\n",
       "    <tr>\n",
       "      <th>9</th>\n",
       "      <td>0.00375510204081632663</td>\n",
       "      <td>0.01618724799004761863</td>\n",
       "      <td>0.02403419476251282202</td>\n",
       "      <td>0.00859971597702449513</td>\n",
       "      <td>0.62890261790327084412</td>\n",
       "      <td>0.00000587361753051549</td>\n",
       "    </tr>\n",
       "    <tr>\n",
       "      <th>10</th>\n",
       "      <td>0.00416122448979591893</td>\n",
       "      <td>0.01620118375854611228</td>\n",
       "      <td>0.01620118375854611228</td>\n",
       "      <td>0.00000000000000000116</td>\n",
       "      <td>0.63246559183987227648</td>\n",
       "      <td>0.00000558972511652715</td>\n",
       "    </tr>\n",
       "    <tr>\n",
       "      <th>11</th>\n",
       "      <td>0.00456734693877551123</td>\n",
       "      <td>0.01617331222154912151</td>\n",
       "      <td>0.02403419476251282202</td>\n",
       "      <td>0.00702163869219003985</td>\n",
       "      <td>0.60765650187284037109</td>\n",
       "      <td>0.00000597741414277017</td>\n",
       "    </tr>\n",
       "    <tr>\n",
       "      <th>12</th>\n",
       "      <td>0.00497346938775510266</td>\n",
       "      <td>0.01618028010579836834</td>\n",
       "      <td>0.02403419476251282202</td>\n",
       "      <td>0.00859971597702449513</td>\n",
       "      <td>0.63634313878849080304</td>\n",
       "      <td>0.00000586215955004010</td>\n",
       "    </tr>\n",
       "    <tr>\n",
       "      <th>13</th>\n",
       "      <td>0.00537959183673469409</td>\n",
       "      <td>0.01618028010579837181</td>\n",
       "      <td>0.02403419476251282202</td>\n",
       "      <td>0.00859971597702449513</td>\n",
       "      <td>0.61572253286400668859</td>\n",
       "      <td>0.00000658712808911731</td>\n",
       "    </tr>\n",
       "    <tr>\n",
       "      <th>14</th>\n",
       "      <td>0.00578571428571428639</td>\n",
       "      <td>0.01618028010579836834</td>\n",
       "      <td>0.02403419476251282202</td>\n",
       "      <td>0.00859971597702449513</td>\n",
       "      <td>0.65217984710371612600</td>\n",
       "      <td>0.00000775308982868675</td>\n",
       "    </tr>\n",
       "    <tr>\n",
       "      <th>15</th>\n",
       "      <td>0.00619183673469387869</td>\n",
       "      <td>0.01618028010579836834</td>\n",
       "      <td>0.02403419476251282202</td>\n",
       "      <td>0.00859971597702449513</td>\n",
       "      <td>0.62994259057870038987</td>\n",
       "      <td>0.00000598325675792825</td>\n",
       "    </tr>\n",
       "    <tr>\n",
       "      <th>16</th>\n",
       "      <td>0.00659795918367347013</td>\n",
       "      <td>0.01618724799004761863</td>\n",
       "      <td>0.02403419476251282202</td>\n",
       "      <td>0.00859971597702449513</td>\n",
       "      <td>0.64486135936000521518</td>\n",
       "      <td>0.00000693348149750042</td>\n",
       "    </tr>\n",
       "    <tr>\n",
       "      <th>17</th>\n",
       "      <td>0.00700408163265306156</td>\n",
       "      <td>0.01617331222154912498</td>\n",
       "      <td>0.02403419476251282202</td>\n",
       "      <td>0.00702163869219003898</td>\n",
       "      <td>0.63333953756996175244</td>\n",
       "      <td>0.00000635775891376219</td>\n",
       "    </tr>\n",
       "    <tr>\n",
       "      <th>18</th>\n",
       "      <td>0.00741020408163265386</td>\n",
       "      <td>0.01618028010579836834</td>\n",
       "      <td>0.02403419476251282202</td>\n",
       "      <td>0.00859971597702449513</td>\n",
       "      <td>0.63702589606013548806</td>\n",
       "      <td>0.00000649434627746086</td>\n",
       "    </tr>\n",
       "    <tr>\n",
       "      <th>19</th>\n",
       "      <td>0.00781632653061224529</td>\n",
       "      <td>0.01618028010579836834</td>\n",
       "      <td>0.02403419476251282202</td>\n",
       "      <td>0.00859971597702449513</td>\n",
       "      <td>0.65471799089503890379</td>\n",
       "      <td>0.00000614249737915205</td>\n",
       "    </tr>\n",
       "    <tr>\n",
       "      <th>20</th>\n",
       "      <td>0.00822244897959183672</td>\n",
       "      <td>0.01617331222154912498</td>\n",
       "      <td>0.02403419476251282202</td>\n",
       "      <td>0.00702163869219003898</td>\n",
       "      <td>0.63363070750125050079</td>\n",
       "      <td>0.00000703881098854133</td>\n",
       "    </tr>\n",
       "    <tr>\n",
       "      <th>21</th>\n",
       "      <td>0.00862857142857142816</td>\n",
       "      <td>0.01618028010579836834</td>\n",
       "      <td>0.02403419476251282202</td>\n",
       "      <td>0.00859971597702449513</td>\n",
       "      <td>0.62475313861019610151</td>\n",
       "      <td>0.00000657606298211924</td>\n",
       "    </tr>\n",
       "    <tr>\n",
       "      <th>22</th>\n",
       "      <td>0.00903469387755102132</td>\n",
       "      <td>0.01618724799004761863</td>\n",
       "      <td>0.02403419476251282202</td>\n",
       "      <td>0.00859971597702449513</td>\n",
       "      <td>0.66747214527434617359</td>\n",
       "      <td>0.00000637335968787085</td>\n",
       "    </tr>\n",
       "    <tr>\n",
       "      <th>23</th>\n",
       "      <td>0.00944081632653061276</td>\n",
       "      <td>0.01618028010579836834</td>\n",
       "      <td>0.02403419476251282202</td>\n",
       "      <td>0.00859971597702449513</td>\n",
       "      <td>0.64685827391945482923</td>\n",
       "      <td>0.00000685927972698903</td>\n",
       "    </tr>\n",
       "    <tr>\n",
       "      <th>24</th>\n",
       "      <td>0.00984693877551020419</td>\n",
       "      <td>0.01619421587429686199</td>\n",
       "      <td>0.02403419476251282202</td>\n",
       "      <td>0.00702163869219003898</td>\n",
       "      <td>0.62587204702547905022</td>\n",
       "      <td>0.00000723958791829190</td>\n",
       "    </tr>\n",
       "    <tr>\n",
       "      <th>25</th>\n",
       "      <td>0.01025306122448979562</td>\n",
       "      <td>0.01618028010579836834</td>\n",
       "      <td>0.02403419476251282202</td>\n",
       "      <td>0.00859971597702449513</td>\n",
       "      <td>0.63030162802538747258</td>\n",
       "      <td>0.00000905274941315457</td>\n",
       "    </tr>\n",
       "    <tr>\n",
       "      <th>26</th>\n",
       "      <td>0.01065918367346938705</td>\n",
       "      <td>0.01618028010579836834</td>\n",
       "      <td>0.02403419476251282202</td>\n",
       "      <td>0.00859971597702449513</td>\n",
       "      <td>0.65370921292541517289</td>\n",
       "      <td>0.00000966160684449908</td>\n",
       "    </tr>\n",
       "    <tr>\n",
       "      <th>27</th>\n",
       "      <td>0.01106530612244898022</td>\n",
       "      <td>0.01618724799004761863</td>\n",
       "      <td>0.02403419476251282202</td>\n",
       "      <td>0.00859971597702449513</td>\n",
       "      <td>0.62200666618466171620</td>\n",
       "      <td>0.00000656552837828724</td>\n",
       "    </tr>\n",
       "    <tr>\n",
       "      <th>28</th>\n",
       "      <td>0.01147142857142857165</td>\n",
       "      <td>0.01619421587429686199</td>\n",
       "      <td>0.02403419476251282202</td>\n",
       "      <td>0.00702163869219003898</td>\n",
       "      <td>0.61699397406498324159</td>\n",
       "      <td>0.00000650563090060990</td>\n",
       "    </tr>\n",
       "    <tr>\n",
       "      <th>29</th>\n",
       "      <td>0.01187755102040816309</td>\n",
       "      <td>0.01618028010579836834</td>\n",
       "      <td>0.02403419476251282202</td>\n",
       "      <td>0.00859971597702449513</td>\n",
       "      <td>0.63684737217655662533</td>\n",
       "      <td>0.00001030708734139984</td>\n",
       "    </tr>\n",
       "    <tr>\n",
       "      <th>30</th>\n",
       "      <td>0.01228367346938775626</td>\n",
       "      <td>0.01618724799004761863</td>\n",
       "      <td>0.02403419476251282202</td>\n",
       "      <td>0.00859971597702449513</td>\n",
       "      <td>0.64432288738475851364</td>\n",
       "      <td>0.00000985197105223763</td>\n",
       "    </tr>\n",
       "    <tr>\n",
       "      <th>31</th>\n",
       "      <td>0.01268979591836734769</td>\n",
       "      <td>0.01618724799004761863</td>\n",
       "      <td>0.02403419476251282202</td>\n",
       "      <td>0.00859971597702449513</td>\n",
       "      <td>0.69404776298478565444</td>\n",
       "      <td>0.00000736981447930868</td>\n",
       "    </tr>\n",
       "    <tr>\n",
       "      <th>32</th>\n",
       "      <td>0.01309591836734693912</td>\n",
       "      <td>0.01617331222154912151</td>\n",
       "      <td>0.02403419476251282202</td>\n",
       "      <td>0.00702163869219003985</td>\n",
       "      <td>0.67905868204209418604</td>\n",
       "      <td>0.00000950935388743341</td>\n",
       "    </tr>\n",
       "    <tr>\n",
       "      <th>33</th>\n",
       "      <td>0.01350204081632653055</td>\n",
       "      <td>0.01579754169133125094</td>\n",
       "      <td>0.02998835311539017195</td>\n",
       "      <td>0.01047170706274049359</td>\n",
       "      <td>0.66426737591466078481</td>\n",
       "      <td>0.00000929134169044106</td>\n",
       "    </tr>\n",
       "    <tr>\n",
       "      <th>34</th>\n",
       "      <td>0.01390816326530612199</td>\n",
       "      <td>0.01618028010579836834</td>\n",
       "      <td>0.02403419476251282202</td>\n",
       "      <td>0.00859971597702449513</td>\n",
       "      <td>0.69011229742824120592</td>\n",
       "      <td>0.00000897944539645270</td>\n",
       "    </tr>\n",
       "    <tr>\n",
       "      <th>35</th>\n",
       "      <td>0.01431428571428571515</td>\n",
       "      <td>0.01618028010579836834</td>\n",
       "      <td>0.02403419476251282202</td>\n",
       "      <td>0.00859971597702449513</td>\n",
       "      <td>0.66258606481477533290</td>\n",
       "      <td>0.00000857330976400023</td>\n",
       "    </tr>\n",
       "    <tr>\n",
       "      <th>36</th>\n",
       "      <td>0.01472040816326530659</td>\n",
       "      <td>0.01618028010579837181</td>\n",
       "      <td>0.02403419476251282202</td>\n",
       "      <td>0.00859971597702449513</td>\n",
       "      <td>0.68435354781874446761</td>\n",
       "      <td>0.00001072694916225576</td>\n",
       "    </tr>\n",
       "    <tr>\n",
       "      <th>37</th>\n",
       "      <td>0.01512653061224489802</td>\n",
       "      <td>0.01618724799004761863</td>\n",
       "      <td>0.02403419476251282202</td>\n",
       "      <td>0.00859971597702449513</td>\n",
       "      <td>0.67372869265910517722</td>\n",
       "      <td>0.00000887100470443353</td>\n",
       "    </tr>\n",
       "    <tr>\n",
       "      <th>38</th>\n",
       "      <td>0.01553265306122449119</td>\n",
       "      <td>0.01618028010579836834</td>\n",
       "      <td>0.02403419476251282202</td>\n",
       "      <td>0.00859971597702449513</td>\n",
       "      <td>0.65834934206216488839</td>\n",
       "      <td>0.00000931068458701168</td>\n",
       "    </tr>\n",
       "    <tr>\n",
       "      <th>39</th>\n",
       "      <td>0.01593877551020408262</td>\n",
       "      <td>0.01618028010579837181</td>\n",
       "      <td>0.02403419476251282202</td>\n",
       "      <td>0.00859971597702449513</td>\n",
       "      <td>0.71416880929211035145</td>\n",
       "      <td>0.00001106060975966589</td>\n",
       "    </tr>\n",
       "    <tr>\n",
       "      <th>40</th>\n",
       "      <td>0.01634489795918367405</td>\n",
       "      <td>0.01616634433729987816</td>\n",
       "      <td>0.01616634433729987816</td>\n",
       "      <td>0.00000000000000000116</td>\n",
       "      <td>0.73989795704590055614</td>\n",
       "      <td>0.00000996948004102323</td>\n",
       "    </tr>\n",
       "    <tr>\n",
       "      <th>41</th>\n",
       "      <td>0.01675102040816326548</td>\n",
       "      <td>0.01581147745982974459</td>\n",
       "      <td>0.02998835311539017195</td>\n",
       "      <td>0.01047520873680681495</td>\n",
       "      <td>0.65305942401252659035</td>\n",
       "      <td>0.00001442467587341948</td>\n",
       "    </tr>\n",
       "    <tr>\n",
       "      <th>42</th>\n",
       "      <td>0.01715714285714285692</td>\n",
       "      <td>0.01618028010579837181</td>\n",
       "      <td>0.02403419476251282202</td>\n",
       "      <td>0.00859971597702449513</td>\n",
       "      <td>0.72011874457618285650</td>\n",
       "      <td>0.00000892036185566015</td>\n",
       "    </tr>\n",
       "    <tr>\n",
       "      <th>43</th>\n",
       "      <td>0.01756326530612244835</td>\n",
       "      <td>0.01580450957558049777</td>\n",
       "      <td>0.02998835311539017195</td>\n",
       "      <td>0.01126249654219088105</td>\n",
       "      <td>0.68696826753571438307</td>\n",
       "      <td>0.00001261287780205089</td>\n",
       "    </tr>\n",
       "    <tr>\n",
       "      <th>44</th>\n",
       "      <td>0.01796938775510204325</td>\n",
       "      <td>0.01618028010579836834</td>\n",
       "      <td>0.02403419476251282202</td>\n",
       "      <td>0.00859971597702449513</td>\n",
       "      <td>0.66955318047801504200</td>\n",
       "      <td>0.00001011562498351255</td>\n",
       "    </tr>\n",
       "    <tr>\n",
       "      <th>45</th>\n",
       "      <td>0.01837551020408163469</td>\n",
       "      <td>0.01579057380708200412</td>\n",
       "      <td>0.02212050269017722809</td>\n",
       "      <td>0.00616580957984107312</td>\n",
       "      <td>0.64184101339357457761</td>\n",
       "      <td>0.00001111781734879991</td>\n",
       "    </tr>\n",
       "    <tr>\n",
       "      <th>46</th>\n",
       "      <td>0.01878163265306122612</td>\n",
       "      <td>0.01617331222154912151</td>\n",
       "      <td>0.02403419476251282202</td>\n",
       "      <td>0.00702163869219003985</td>\n",
       "      <td>0.68683796413154052374</td>\n",
       "      <td>0.00001352278768284125</td>\n",
       "    </tr>\n",
       "    <tr>\n",
       "      <th>47</th>\n",
       "      <td>0.01918775510204081755</td>\n",
       "      <td>0.01618724799004761863</td>\n",
       "      <td>0.02403419476251282202</td>\n",
       "      <td>0.00859971597702449513</td>\n",
       "      <td>0.63164047890062047230</td>\n",
       "      <td>0.00000879747478683957</td>\n",
       "    </tr>\n",
       "    <tr>\n",
       "      <th>48</th>\n",
       "      <td>0.01959387755102040898</td>\n",
       "      <td>0.01627337668599738649</td>\n",
       "      <td>0.03236752808872085663</td>\n",
       "      <td>0.01153570645688722571</td>\n",
       "      <td>0.71617008713037988432</td>\n",
       "      <td>0.00000782047979010155</td>\n",
       "    </tr>\n",
       "    <tr>\n",
       "      <th>49</th>\n",
       "      <td>0.02000000000000000042</td>\n",
       "      <td>0.01579754169133125094</td>\n",
       "      <td>0.02998835311539017195</td>\n",
       "      <td>0.01047170706274049359</td>\n",
       "      <td>0.63540935080051907935</td>\n",
       "      <td>0.00001118394228223312</td>\n",
       "    </tr>\n",
       "  </tbody>\n",
       "</table>\n",
       "</div>"
      ],
      "text/plain": [
       "       Perturbation Level         Average Change  Average Maximum Change  \\\n",
       "0  0.00010000000000000000 0.01616634433729987816  0.01616634433729987816   \n",
       "1  0.00050612244897959191 0.01616634433729987816  0.01616634433729987816   \n",
       "2  0.00091224489795918378 0.01617331222154912151  0.02403419476251282202   \n",
       "3  0.00131836734693877564 0.01617331222154912151  0.02403419476251282202   \n",
       "4  0.00172448979591836751 0.01618724799004761863  0.02403419476251282202   \n",
       "5  0.00213061224489795916 0.01617331222154912151  0.02403419476251282202   \n",
       "6  0.00253673469387755103 0.01618028010579836834  0.02403419476251282202   \n",
       "7  0.00294285714285714289 0.01618724799004761863  0.02403419476251282202   \n",
       "8  0.00334897959183673476 0.01619421587429686199  0.02403419476251282202   \n",
       "9  0.00375510204081632663 0.01618724799004761863  0.02403419476251282202   \n",
       "10 0.00416122448979591893 0.01620118375854611228  0.01620118375854611228   \n",
       "11 0.00456734693877551123 0.01617331222154912151  0.02403419476251282202   \n",
       "12 0.00497346938775510266 0.01618028010579836834  0.02403419476251282202   \n",
       "13 0.00537959183673469409 0.01618028010579837181  0.02403419476251282202   \n",
       "14 0.00578571428571428639 0.01618028010579836834  0.02403419476251282202   \n",
       "15 0.00619183673469387869 0.01618028010579836834  0.02403419476251282202   \n",
       "16 0.00659795918367347013 0.01618724799004761863  0.02403419476251282202   \n",
       "17 0.00700408163265306156 0.01617331222154912498  0.02403419476251282202   \n",
       "18 0.00741020408163265386 0.01618028010579836834  0.02403419476251282202   \n",
       "19 0.00781632653061224529 0.01618028010579836834  0.02403419476251282202   \n",
       "20 0.00822244897959183672 0.01617331222154912498  0.02403419476251282202   \n",
       "21 0.00862857142857142816 0.01618028010579836834  0.02403419476251282202   \n",
       "22 0.00903469387755102132 0.01618724799004761863  0.02403419476251282202   \n",
       "23 0.00944081632653061276 0.01618028010579836834  0.02403419476251282202   \n",
       "24 0.00984693877551020419 0.01619421587429686199  0.02403419476251282202   \n",
       "25 0.01025306122448979562 0.01618028010579836834  0.02403419476251282202   \n",
       "26 0.01065918367346938705 0.01618028010579836834  0.02403419476251282202   \n",
       "27 0.01106530612244898022 0.01618724799004761863  0.02403419476251282202   \n",
       "28 0.01147142857142857165 0.01619421587429686199  0.02403419476251282202   \n",
       "29 0.01187755102040816309 0.01618028010579836834  0.02403419476251282202   \n",
       "30 0.01228367346938775626 0.01618724799004761863  0.02403419476251282202   \n",
       "31 0.01268979591836734769 0.01618724799004761863  0.02403419476251282202   \n",
       "32 0.01309591836734693912 0.01617331222154912151  0.02403419476251282202   \n",
       "33 0.01350204081632653055 0.01579754169133125094  0.02998835311539017195   \n",
       "34 0.01390816326530612199 0.01618028010579836834  0.02403419476251282202   \n",
       "35 0.01431428571428571515 0.01618028010579836834  0.02403419476251282202   \n",
       "36 0.01472040816326530659 0.01618028010579837181  0.02403419476251282202   \n",
       "37 0.01512653061224489802 0.01618724799004761863  0.02403419476251282202   \n",
       "38 0.01553265306122449119 0.01618028010579836834  0.02403419476251282202   \n",
       "39 0.01593877551020408262 0.01618028010579837181  0.02403419476251282202   \n",
       "40 0.01634489795918367405 0.01616634433729987816  0.01616634433729987816   \n",
       "41 0.01675102040816326548 0.01581147745982974459  0.02998835311539017195   \n",
       "42 0.01715714285714285692 0.01618028010579837181  0.02403419476251282202   \n",
       "43 0.01756326530612244835 0.01580450957558049777  0.02998835311539017195   \n",
       "44 0.01796938775510204325 0.01618028010579836834  0.02403419476251282202   \n",
       "45 0.01837551020408163469 0.01579057380708200412  0.02212050269017722809   \n",
       "46 0.01878163265306122612 0.01617331222154912151  0.02403419476251282202   \n",
       "47 0.01918775510204081755 0.01618724799004761863  0.02403419476251282202   \n",
       "48 0.01959387755102040898 0.01627337668599738649  0.03236752808872085663   \n",
       "49 0.02000000000000000042 0.01579754169133125094  0.02998835311539017195   \n",
       "\n",
       "               Average SD        Average Returns           Average Risk  \n",
       "0  0.00000000000000000116 0.61645054514683295110 0.00000669977517334806  \n",
       "1  0.00000000000000000116 0.61852599738516977901 0.00000672518589974950  \n",
       "2  0.00702163869219003898 0.61908713082831878793 0.00000645020904474394  \n",
       "3  0.00702163869219003985 0.61889385669660001987 0.00000640261467568505  \n",
       "4  0.00859971597702449513 0.61781974544101392333 0.00000563036835941557  \n",
       "5  0.00702163869219003985 0.61764483703308892260 0.00000626335341640885  \n",
       "6  0.00859971597702449513 0.62695188711392957348 0.00000603591189770575  \n",
       "7  0.00859971597702449513 0.62899641604904465986 0.00000558930318153698  \n",
       "8  0.00702163869219003898 0.62649075034059598099 0.00000524554504490154  \n",
       "9  0.00859971597702449513 0.62890261790327084412 0.00000587361753051549  \n",
       "10 0.00000000000000000116 0.63246559183987227648 0.00000558972511652715  \n",
       "11 0.00702163869219003985 0.60765650187284037109 0.00000597741414277017  \n",
       "12 0.00859971597702449513 0.63634313878849080304 0.00000586215955004010  \n",
       "13 0.00859971597702449513 0.61572253286400668859 0.00000658712808911731  \n",
       "14 0.00859971597702449513 0.65217984710371612600 0.00000775308982868675  \n",
       "15 0.00859971597702449513 0.62994259057870038987 0.00000598325675792825  \n",
       "16 0.00859971597702449513 0.64486135936000521518 0.00000693348149750042  \n",
       "17 0.00702163869219003898 0.63333953756996175244 0.00000635775891376219  \n",
       "18 0.00859971597702449513 0.63702589606013548806 0.00000649434627746086  \n",
       "19 0.00859971597702449513 0.65471799089503890379 0.00000614249737915205  \n",
       "20 0.00702163869219003898 0.63363070750125050079 0.00000703881098854133  \n",
       "21 0.00859971597702449513 0.62475313861019610151 0.00000657606298211924  \n",
       "22 0.00859971597702449513 0.66747214527434617359 0.00000637335968787085  \n",
       "23 0.00859971597702449513 0.64685827391945482923 0.00000685927972698903  \n",
       "24 0.00702163869219003898 0.62587204702547905022 0.00000723958791829190  \n",
       "25 0.00859971597702449513 0.63030162802538747258 0.00000905274941315457  \n",
       "26 0.00859971597702449513 0.65370921292541517289 0.00000966160684449908  \n",
       "27 0.00859971597702449513 0.62200666618466171620 0.00000656552837828724  \n",
       "28 0.00702163869219003898 0.61699397406498324159 0.00000650563090060990  \n",
       "29 0.00859971597702449513 0.63684737217655662533 0.00001030708734139984  \n",
       "30 0.00859971597702449513 0.64432288738475851364 0.00000985197105223763  \n",
       "31 0.00859971597702449513 0.69404776298478565444 0.00000736981447930868  \n",
       "32 0.00702163869219003985 0.67905868204209418604 0.00000950935388743341  \n",
       "33 0.01047170706274049359 0.66426737591466078481 0.00000929134169044106  \n",
       "34 0.00859971597702449513 0.69011229742824120592 0.00000897944539645270  \n",
       "35 0.00859971597702449513 0.66258606481477533290 0.00000857330976400023  \n",
       "36 0.00859971597702449513 0.68435354781874446761 0.00001072694916225576  \n",
       "37 0.00859971597702449513 0.67372869265910517722 0.00000887100470443353  \n",
       "38 0.00859971597702449513 0.65834934206216488839 0.00000931068458701168  \n",
       "39 0.00859971597702449513 0.71416880929211035145 0.00001106060975966589  \n",
       "40 0.00000000000000000116 0.73989795704590055614 0.00000996948004102323  \n",
       "41 0.01047520873680681495 0.65305942401252659035 0.00001442467587341948  \n",
       "42 0.00859971597702449513 0.72011874457618285650 0.00000892036185566015  \n",
       "43 0.01126249654219088105 0.68696826753571438307 0.00001261287780205089  \n",
       "44 0.00859971597702449513 0.66955318047801504200 0.00001011562498351255  \n",
       "45 0.00616580957984107312 0.64184101339357457761 0.00001111781734879991  \n",
       "46 0.00702163869219003985 0.68683796413154052374 0.00001352278768284125  \n",
       "47 0.00859971597702449513 0.63164047890062047230 0.00000879747478683957  \n",
       "48 0.01153570645688722571 0.71617008713037988432 0.00000782047979010155  \n",
       "49 0.01047170706274049359 0.63540935080051907935 0.00001118394228223312  "
      ]
     },
     "execution_count": 59,
     "metadata": {},
     "output_type": "execute_result"
    }
   ],
   "source": [
    "final_df"
   ]
  },
  {
   "cell_type": "code",
   "execution_count": 60,
   "metadata": {},
   "outputs": [
    {
     "data": {
      "text/plain": [
       "array([0., 0., 0., 0., 0., 0., 0., 0., 0., 0., 0., 0., 0., 0., 0., 0., 0.,\n",
       "       0., 0., 0., 0., 0., 0., 0., 0., 0., 0., 0., 0., 0., 0., 0., 0., 0.,\n",
       "       0., 0., 0., 0., 0., 0., 0., 0., 0., 0., 0., 0., 0., 0., 0., 0., 0.,\n",
       "       0., 0., 0., 0., 0., 0., 0., 0., 0., 0., 0., 0., 0., 0., 0., 0., 0.,\n",
       "       0., 0., 0., 0., 0., 0., 0., 0., 0., 0., 0., 0., 0., 0., 0., 0., 0.,\n",
       "       0., 0., 0., 0., 0., 0., 0., 0., 0., 0., 0., 0., 0., 0., 0., 0., 0.,\n",
       "       0., 1., 0., 0., 0., 0., 0., 0., 0., 0., 0., 0., 0., 0., 0., 0., 0.,\n",
       "       0.])"
      ]
     },
     "execution_count": 60,
     "metadata": {},
     "output_type": "execute_result"
    }
   ],
   "source": [
    "perturbed_weights"
   ]
  },
  {
   "cell_type": "markdown",
   "metadata": {},
   "source": [
    "#### Exponential Shrinkage + L2 Regularisation"
   ]
  },
  {
   "cell_type": "code",
   "execution_count": 61,
   "metadata": {},
   "outputs": [
    {
     "data": {
      "image/png": "[encoded data removed]",
      "text/plain": [
       "<Figure size 1500x600 with 1 Axes>"
      ]
     },
     "metadata": {},
     "output_type": "display_data"
    }
   ],
   "source": [
    "# Lists to store final results\n",
    "tot_mean = []\n",
    "tot_max = []\n",
    "tot_std = []\n",
    "optimal_returns = []\n",
    "optimal_risks = []\n",
    "\n",
    "# Regularization parameters\n",
    "lambda_l2 = 0.2  # L2 regularisation strength (adjust as needed for diversification)\n",
    "\n",
    "# Define exponential weighting factor\n",
    "alpha = 0.94  # Exponential decay factor (adjust as needed for stabilization)\n",
    "\n",
    "for perturbation in perturbations:\n",
    "    weight_differences = []\n",
    "    portfolio_returns = []\n",
    "    portfolio_risks = []\n",
    "    feasible_solution = True\n",
    "\n",
    "    for i in range(5):\n",
    "        # Add random perturbation to the returns data\n",
    "        perturbed_returns = daily_returns + np.random.normal(0, perturbation, daily_returns.shape)\n",
    "        \n",
    "        # Fill missing values with column means to avoid dropping assets\n",
    "        perturbed_returns = perturbed_returns.fillna(perturbed_returns.mean())\n",
    "\n",
    "        # Calculate exponential shrinkage covariance matrix\n",
    "        weighted_returns = perturbed_returns.copy()\n",
    "        for t in range(1, len(perturbed_returns)):\n",
    "            weighted_returns.iloc[t] *= alpha ** (len(perturbed_returns) - t)\n",
    "        perturbed_cov_matrix = weighted_returns.cov() * 252  # Annualized covariance\n",
    "\n",
    "        # Calculate expected returns (annualized)\n",
    "        perturbed_expected_returns = perturbed_returns.mean() * 252\n",
    "\n",
    "        # Define the optimization problem with cvxpy\n",
    "        n_assets = len(perturbed_expected_returns)\n",
    "        weights = cp.Variable(n_assets)\n",
    "\n",
    "        # Portfolio return and risk (variance)\n",
    "        portfolio_return = perturbed_expected_returns.values @ weights\n",
    "        portfolio_risk = cp.quad_form(weights, cp.psd_wrap(perturbed_cov_matrix))\n",
    "\n",
    "        # L2 penalty to encourage diversified weights\n",
    "        l2_penalty = lambda_l2 * cp.norm(weights, 2)  # L2 regularisation\n",
    "\n",
    "        # Optimization problem: Maximize return with L2 regularisation penalty\n",
    "        target_risk = 0.08  # Set target risk level\n",
    "        problem = cp.Problem(cp.Maximize(portfolio_return - l2_penalty), [\n",
    "            cp.sum(weights) == 1,  # Sum of weights must be 1\n",
    "            weights >= 0,  # No short-selling\n",
    "            portfolio_risk <= target_risk**2  # Risk constraint\n",
    "        ])\n",
    "        \n",
    "        problem.solve()\n",
    "\n",
    "        # Check if solution is feasible\n",
    "        if problem.status != cp.OPTIMAL:\n",
    "            feasible_solution = False\n",
    "            break\n",
    "\n",
    "        # Collect results if feasible\n",
    "        perturbed_weights = np.round(weights.value, 4)\n",
    "        weight_diff = np.abs(original_weights - perturbed_weights)\n",
    "        weight_differences.append(weight_diff)\n",
    "        portfolio_returns.append(portfolio_return.value)\n",
    "        portfolio_risks.append(portfolio_risk.value)\n",
    "\n",
    "    # Append results if feasible\n",
    "    if feasible_solution:\n",
    "        diff_df = pd.DataFrame(weight_differences)\n",
    "        tot_mean.append(diff_df.mean().mean())\n",
    "        tot_max.append(diff_df.max().mean())\n",
    "        tot_std.append(diff_df.std().mean())\n",
    "        optimal_returns.append(np.mean(portfolio_returns))\n",
    "        optimal_risks.append(np.mean(portfolio_risks))\n",
    "    else:\n",
    "        tot_mean.append(None)\n",
    "        tot_max.append(None)\n",
    "        tot_std.append(None)\n",
    "        optimal_returns.append(None)\n",
    "        optimal_risks.append(None)\n",
    "\n",
    "# Creating a new DataFrame for analysis\n",
    "final_df = pd.DataFrame({\n",
    "    'Perturbation Level': perturbations,\n",
    "    'Average Change': tot_mean,\n",
    "    'Average Maximum Change': tot_max,\n",
    "    'Average SD': tot_std,\n",
    "    'Average Returns': optimal_returns,\n",
    "    'Average Risk': optimal_risks\n",
    "})\n",
    "\n",
    "# Plotting the results\n",
    "plt.figure(figsize=(15, 6))\n",
    "for column, label, marker in zip(\n",
    "        ['Average Change', 'Average Maximum Change', 'Average Risk', 'Average Returns'],\n",
    "        ['Average Change', 'Average Maximum Change', 'Average Portfolio Risk', 'Average Portfolio Returns'],\n",
    "        ['o', 'x', '^', 'd']):\n",
    "    \n",
    "    plt.plot(final_df['Perturbation Level'], final_df[column], label=label, marker=marker, linestyle='-')\n",
    "\n",
    "nan_indices = final_df['Perturbation Level'][final_df.isna().any(axis=1)]\n",
    "plt.scatter(nan_indices, [0] * len(nan_indices), color='red', marker='x', label='No Solution', zorder=3)\n",
    "\n",
    "plt.xlabel('Perturbation Level')\n",
    "plt.ylabel('Value')\n",
    "plt.title('Perturbation Level vs Metrics with Exponential Shrinkage and L2 Regularisation')\n",
    "plt.legend()\n",
    "plt.grid(True)\n",
    "plt.show()"
   ]
  },
  {
   "cell_type": "code",
   "execution_count": 62,
   "metadata": {},
   "outputs": [
    {
     "data": {
      "text/html": [
       "<div>\n",
       "<style scoped>\n",
       "    .dataframe tbody tr th:only-of-type {\n",
       "        vertical-align: middle;\n",
       "    }\n",
       "\n",
       "    .dataframe tbody tr th {\n",
       "        vertical-align: top;\n",
       "    }\n",
       "\n",
       "    .dataframe thead th {\n",
       "        text-align: right;\n",
       "    }\n",
       "</style>\n",
       "<table border=\"1\" class=\"dataframe\">\n",
       "  <thead>\n",
       "    <tr style=\"text-align: right;\">\n",
       "      <th></th>\n",
       "      <th>Perturbation Level</th>\n",
       "      <th>Average Change</th>\n",
       "      <th>Average Maximum Change</th>\n",
       "      <th>Average SD</th>\n",
       "      <th>Average Returns</th>\n",
       "      <th>Average Risk</th>\n",
       "    </tr>\n",
       "  </thead>\n",
       "  <tbody>\n",
       "    <tr>\n",
       "      <th>0</th>\n",
       "      <td>0.00010000000000000000</td>\n",
       "      <td>0.01570086142917948707</td>\n",
       "      <td>0.01574252809584615262</td>\n",
       "      <td>0.00003042294455761250</td>\n",
       "      <td>0.61373530203692117091</td>\n",
       "      <td>0.00094301747053193437</td>\n",
       "    </tr>\n",
       "    <tr>\n",
       "      <th>1</th>\n",
       "      <td>0.00050612244897959191</td>\n",
       "      <td>0.01570086142917948707</td>\n",
       "      <td>0.01583836142917948581</td>\n",
       "      <td>0.00011772378217203569</td>\n",
       "      <td>0.61323583166939887867</td>\n",
       "      <td>0.00093399654646050324</td>\n",
       "    </tr>\n",
       "    <tr>\n",
       "      <th>2</th>\n",
       "      <td>0.00091224489795918378</td>\n",
       "      <td>0.01570086142917948707</td>\n",
       "      <td>0.01600419476251281961</td>\n",
       "      <td>0.00026500366873770734</td>\n",
       "      <td>0.61351968161223069398</td>\n",
       "      <td>0.00093572596758652554</td>\n",
       "    </tr>\n",
       "    <tr>\n",
       "      <th>3</th>\n",
       "      <td>0.00131836734693877564</td>\n",
       "      <td>0.01570086142917948707</td>\n",
       "      <td>0.01593669476251281802</td>\n",
       "      <td>0.00019078638432667162</td>\n",
       "      <td>0.61415710066489448415</td>\n",
       "      <td>0.00091756402300363410</td>\n",
       "    </tr>\n",
       "    <tr>\n",
       "      <th>4</th>\n",
       "      <td>0.00172448979591836751</td>\n",
       "      <td>0.01570086142917948707</td>\n",
       "      <td>0.01624836142917948298</td>\n",
       "      <td>0.00044848727220884814</td>\n",
       "      <td>0.61226612074259278984</td>\n",
       "      <td>0.00093529920983037617</td>\n",
       "    </tr>\n",
       "    <tr>\n",
       "      <th>5</th>\n",
       "      <td>0.00213061224489795916</td>\n",
       "      <td>0.01570086142917948707</td>\n",
       "      <td>0.01639919476251281913</td>\n",
       "      <td>0.00054455307873113319</td>\n",
       "      <td>0.60769860726006563745</td>\n",
       "      <td>0.00094291232653781097</td>\n",
       "    </tr>\n",
       "    <tr>\n",
       "      <th>6</th>\n",
       "      <td>0.00253673469387755103</td>\n",
       "      <td>0.01570086142917948707</td>\n",
       "      <td>0.01609502809584615127</td>\n",
       "      <td>0.00028950868342379266</td>\n",
       "      <td>0.61966578973735342295</td>\n",
       "      <td>0.00097849841738443404</td>\n",
       "    </tr>\n",
       "    <tr>\n",
       "      <th>7</th>\n",
       "      <td>0.00294285714285714289</td>\n",
       "      <td>0.01552852809584615024</td>\n",
       "      <td>0.01706169476251281555</td>\n",
       "      <td>0.00142570317365454794</td>\n",
       "      <td>0.61346588799101442468</td>\n",
       "      <td>0.00094956929606242245</td>\n",
       "    </tr>\n",
       "    <tr>\n",
       "      <th>8</th>\n",
       "      <td>0.00334897959183673476</td>\n",
       "      <td>0.01570086142917948707</td>\n",
       "      <td>0.01675419476251282028</td>\n",
       "      <td>0.00082003522959552054</td>\n",
       "      <td>0.61847639365271789291</td>\n",
       "      <td>0.00088643607822182463</td>\n",
       "    </tr>\n",
       "    <tr>\n",
       "      <th>9</th>\n",
       "      <td>0.00375510204081632663</td>\n",
       "      <td>0.01570086142917948707</td>\n",
       "      <td>0.01626586142917948313</td>\n",
       "      <td>0.00043919528685995742</td>\n",
       "      <td>0.62023911491402428098</td>\n",
       "      <td>0.00102491527589886576</td>\n",
       "    </tr>\n",
       "    <tr>\n",
       "      <th>10</th>\n",
       "      <td>0.00416122448979591893</td>\n",
       "      <td>0.01570086142917948707</td>\n",
       "      <td>0.01842336142917948630</td>\n",
       "      <td>0.00209994874276069488</td>\n",
       "      <td>0.62605440353937047426</td>\n",
       "      <td>0.00100841843240988835</td>\n",
       "    </tr>\n",
       "    <tr>\n",
       "      <th>11</th>\n",
       "      <td>0.00456734693877551123</td>\n",
       "      <td>0.01570086142917948707</td>\n",
       "      <td>0.01735919476251281818</td>\n",
       "      <td>0.00127809754452988967</td>\n",
       "      <td>0.61779470920700185754</td>\n",
       "      <td>0.00091218050718212503</td>\n",
       "    </tr>\n",
       "    <tr>\n",
       "      <th>12</th>\n",
       "      <td>0.00497346938775510266</td>\n",
       "      <td>0.01570086142917948707</td>\n",
       "      <td>0.01657086142917948285</td>\n",
       "      <td>0.00082133478760693785</td>\n",
       "      <td>0.62000770611012590017</td>\n",
       "      <td>0.00098097929695779460</td>\n",
       "    </tr>\n",
       "    <tr>\n",
       "      <th>13</th>\n",
       "      <td>0.00537959183673469409</td>\n",
       "      <td>0.01534919476251281854</td>\n",
       "      <td>0.01714752809584614915</td>\n",
       "      <td>0.00195054446106822832</td>\n",
       "      <td>0.61652524647084583354</td>\n",
       "      <td>0.00090326813600872147</td>\n",
       "    </tr>\n",
       "    <tr>\n",
       "      <th>14</th>\n",
       "      <td>0.00578571428571428639</td>\n",
       "      <td>0.01556352809584615055</td>\n",
       "      <td>0.01677669476251281849</td>\n",
       "      <td>0.00117701285723565796</td>\n",
       "      <td>0.61168084555392776558</td>\n",
       "      <td>0.00097296665776160399</td>\n",
       "    </tr>\n",
       "    <tr>\n",
       "      <th>15</th>\n",
       "      <td>0.00619183673469387869</td>\n",
       "      <td>0.01523469476251282026</td>\n",
       "      <td>0.01740669476251282058</td>\n",
       "      <td>0.00194493062405800047</td>\n",
       "      <td>0.61678418841135884687</td>\n",
       "      <td>0.00094956447224084741</td>\n",
       "    </tr>\n",
       "    <tr>\n",
       "      <th>16</th>\n",
       "      <td>0.00659795918367347013</td>\n",
       "      <td>0.01544386142917948505</td>\n",
       "      <td>0.01936586142917948866</td>\n",
       "      <td>0.00292148151039049730</td>\n",
       "      <td>0.64757190396305452929</td>\n",
       "      <td>0.00113949657009039941</td>\n",
       "    </tr>\n",
       "    <tr>\n",
       "      <th>17</th>\n",
       "      <td>0.00700408163265306156</td>\n",
       "      <td>0.01513886142917948360</td>\n",
       "      <td>0.01827086142917948644</td>\n",
       "      <td>0.00274452125382610010</td>\n",
       "      <td>0.62235259189782776712</td>\n",
       "      <td>0.00099012761163732102</td>\n",
       "    </tr>\n",
       "    <tr>\n",
       "      <th>18</th>\n",
       "      <td>0.00741020408163265386</td>\n",
       "      <td>0.01553252809584615250</td>\n",
       "      <td>0.01663002809584615202</td>\n",
       "      <td>0.00110345249827041711</td>\n",
       "      <td>0.61130112925516910671</td>\n",
       "      <td>0.00099697770062513432</td>\n",
       "    </tr>\n",
       "    <tr>\n",
       "      <th>19</th>\n",
       "      <td>0.00781632653061224529</td>\n",
       "      <td>0.01565552809584614888</td>\n",
       "      <td>0.01794669476251281939</td>\n",
       "      <td>0.00181461395934162054</td>\n",
       "      <td>0.61384648541570774327</td>\n",
       "      <td>0.00098820294590711835</td>\n",
       "    </tr>\n",
       "    <tr>\n",
       "      <th>20</th>\n",
       "      <td>0.00822244897959183672</td>\n",
       "      <td>0.01498669476251282030</td>\n",
       "      <td>0.01708086142917948289</td>\n",
       "      <td>0.00188637440812743887</td>\n",
       "      <td>0.62068825444238162614</td>\n",
       "      <td>0.00087614075018072372</td>\n",
       "    </tr>\n",
       "    <tr>\n",
       "      <th>21</th>\n",
       "      <td>0.00862857142857142816</td>\n",
       "      <td>0.01467752477033042700</td>\n",
       "      <td>0.01949502809584615498</td>\n",
       "      <td>0.00326460801309030402</td>\n",
       "      <td>0.63277500171277001328</td>\n",
       "      <td>0.00097872129885320553</td>\n",
       "    </tr>\n",
       "    <tr>\n",
       "      <th>22</th>\n",
       "      <td>0.00903469387755102132</td>\n",
       "      <td>0.01504802407270849213</td>\n",
       "      <td>0.01807419476251281854</td>\n",
       "      <td>0.00275198699006818292</td>\n",
       "      <td>0.64154849906421451688</td>\n",
       "      <td>0.00096617286233931666</td>\n",
       "    </tr>\n",
       "    <tr>\n",
       "      <th>23</th>\n",
       "      <td>0.00944081632653061276</td>\n",
       "      <td>0.01472019309975495550</td>\n",
       "      <td>0.01999919476251281816</td>\n",
       "      <td>0.00407631451102044833</td>\n",
       "      <td>0.61261762389854479416</td>\n",
       "      <td>0.00115477914165463625</td>\n",
       "    </tr>\n",
       "    <tr>\n",
       "      <th>24</th>\n",
       "      <td>0.00984693877551020419</td>\n",
       "      <td>0.01558852809584615126</td>\n",
       "      <td>0.01878836142917948704</td>\n",
       "      <td>0.00276761480813350049</td>\n",
       "      <td>0.61791667228289193226</td>\n",
       "      <td>0.00109248306372763254</td>\n",
       "    </tr>\n",
       "    <tr>\n",
       "      <th>25</th>\n",
       "      <td>0.01025306122448979562</td>\n",
       "      <td>0.01522502643308828833</td>\n",
       "      <td>0.01853836142917948335</td>\n",
       "      <td>0.00258696680718522405</td>\n",
       "      <td>0.62462554575558681957</td>\n",
       "      <td>0.00099380138685802337</td>\n",
       "    </tr>\n",
       "    <tr>\n",
       "      <th>26</th>\n",
       "      <td>0.01065918367346938705</td>\n",
       "      <td>0.01580092589505281350</td>\n",
       "      <td>0.02287252809584615354</td>\n",
       "      <td>0.00586149312602798553</td>\n",
       "      <td>0.71112852613075971941</td>\n",
       "      <td>0.00123459342933044769</td>\n",
       "    </tr>\n",
       "    <tr>\n",
       "      <th>27</th>\n",
       "      <td>0.01106530612244898022</td>\n",
       "      <td>0.01550552809387380042</td>\n",
       "      <td>0.02046252808598439735</td>\n",
       "      <td>0.00398320265230344382</td>\n",
       "      <td>0.59683638221870971563</td>\n",
       "      <td>0.00097627816358211142</td>\n",
       "    </tr>\n",
       "    <tr>\n",
       "      <th>28</th>\n",
       "      <td>0.01147142857142857165</td>\n",
       "      <td>0.01491869309883539323</td>\n",
       "      <td>0.01818002809124834654</td>\n",
       "      <td>0.00275198891261874178</td>\n",
       "      <td>0.61800775654237016798</td>\n",
       "      <td>0.00093341562714614659</td>\n",
       "    </tr>\n",
       "    <tr>\n",
       "      <th>29</th>\n",
       "      <td>0.01187755102040816309</td>\n",
       "      <td>0.01570086142917948707</td>\n",
       "      <td>0.02001836142917948549</td>\n",
       "      <td>0.00310186382142521979</td>\n",
       "      <td>0.67289578637617064594</td>\n",
       "      <td>0.00146103375306581027</td>\n",
       "    </tr>\n",
       "    <tr>\n",
       "      <th>30</th>\n",
       "      <td>0.01228367346938775626</td>\n",
       "      <td>0.01475402642883496575</td>\n",
       "      <td>0.02105252807457953443</td>\n",
       "      <td>0.00488108700778580682</td>\n",
       "      <td>0.60641120401517567551</td>\n",
       "      <td>0.00104715371235643393</td>\n",
       "    </tr>\n",
       "    <tr>\n",
       "      <th>31</th>\n",
       "      <td>0.01268979591836734769</td>\n",
       "      <td>0.01571209256098382231</td>\n",
       "      <td>0.02014836142550121764</td>\n",
       "      <td>0.00340066484498851218</td>\n",
       "      <td>0.63712805734246846789</td>\n",
       "      <td>0.00088090542192223692</td>\n",
       "    </tr>\n",
       "    <tr>\n",
       "      <th>32</th>\n",
       "      <td>0.01309591836734693912</td>\n",
       "      <td>0.01422802310757255960</td>\n",
       "      <td>0.02049751978205683473</td>\n",
       "      <td>0.00474025064342743947</td>\n",
       "      <td>0.62427189259250037701</td>\n",
       "      <td>0.00092523485356731561</td>\n",
       "    </tr>\n",
       "    <tr>\n",
       "      <th>33</th>\n",
       "      <td>0.01350204081632653055</td>\n",
       "      <td>0.01427318977423922865</td>\n",
       "      <td>0.01860168644872350202</td>\n",
       "      <td>0.00353144164213328162</td>\n",
       "      <td>0.59815214487888890282</td>\n",
       "      <td>0.00084364363714271460</td>\n",
       "    </tr>\n",
       "    <tr>\n",
       "      <th>34</th>\n",
       "      <td>0.01390816326530612199</td>\n",
       "      <td>0.01483718581782782729</td>\n",
       "      <td>0.02260752809584615566</td>\n",
       "      <td>0.00572753105887320677</td>\n",
       "      <td>0.68909805033744953029</td>\n",
       "      <td>0.00129249821181045372</td>\n",
       "    </tr>\n",
       "    <tr>\n",
       "      <th>35</th>\n",
       "      <td>0.01431428571428571515</td>\n",
       "      <td>0.01494742588646299879</td>\n",
       "      <td>0.02395919471956377278</td>\n",
       "      <td>0.00648615980499815843</td>\n",
       "      <td>0.61567329419434457805</td>\n",
       "      <td>0.00094878641465404208</td>\n",
       "    </tr>\n",
       "    <tr>\n",
       "      <th>36</th>\n",
       "      <td>0.01472040816326530659</td>\n",
       "      <td>0.01570729134413689429</td>\n",
       "      <td>0.02242169476251281920</td>\n",
       "      <td>0.00535428909841452211</td>\n",
       "      <td>0.67894977345329665663</td>\n",
       "      <td>0.00128240857879900359</td>\n",
       "    </tr>\n",
       "    <tr>\n",
       "      <th>37</th>\n",
       "      <td>0.01512653061224489802</td>\n",
       "      <td>0.01511158631376783266</td>\n",
       "      <td>0.02298483627733417106</td>\n",
       "      <td>0.00615696674628420700</td>\n",
       "      <td>0.64482464164769293102</td>\n",
       "      <td>0.00125862937054140121</td>\n",
       "    </tr>\n",
       "    <tr>\n",
       "      <th>38</th>\n",
       "      <td>0.01553265306122449119</td>\n",
       "      <td>0.01557092589505281073</td>\n",
       "      <td>0.02231419476251282272</td>\n",
       "      <td>0.00517305966504678048</td>\n",
       "      <td>0.65605414506929760066</td>\n",
       "      <td>0.00134130538926179391</td>\n",
       "    </tr>\n",
       "    <tr>\n",
       "      <th>39</th>\n",
       "      <td>0.01593877551020408262</td>\n",
       "      <td>0.01579412467453609678</td>\n",
       "      <td>0.02403502808117548642</td>\n",
       "      <td>0.00597265357931658740</td>\n",
       "      <td>0.64889752663892730222</td>\n",
       "      <td>0.00146304671717614959</td>\n",
       "    </tr>\n",
       "    <tr>\n",
       "      <th>40</th>\n",
       "      <td>0.01634489795918367405</td>\n",
       "      <td>0.01484908922813701383</td>\n",
       "      <td>0.02402835308491824140</td>\n",
       "      <td>0.00649331950086752627</td>\n",
       "      <td>0.62073608129512769516</td>\n",
       "      <td>0.00106035275792006685</td>\n",
       "    </tr>\n",
       "    <tr>\n",
       "      <th>41</th>\n",
       "      <td>0.01675102040816326548</td>\n",
       "      <td>0.01541764951039642853</td>\n",
       "      <td>0.02055419475802568174</td>\n",
       "      <td>0.00459815884961247128</td>\n",
       "      <td>0.71826990545893676376</td>\n",
       "      <td>0.00168021119547184144</td>\n",
       "    </tr>\n",
       "    <tr>\n",
       "      <th>42</th>\n",
       "      <td>0.01715714285714285692</td>\n",
       "      <td>0.01589385580688403021</td>\n",
       "      <td>0.02668919474688186480</td>\n",
       "      <td>0.00721667377996201495</td>\n",
       "      <td>0.66196146385368170861</td>\n",
       "      <td>0.00143929460595663755</td>\n",
       "    </tr>\n",
       "    <tr>\n",
       "      <th>43</th>\n",
       "      <td>0.01756326530612244835</td>\n",
       "      <td>0.01579395800305934128</td>\n",
       "      <td>0.02412336139045838032</td>\n",
       "      <td>0.00645491562892819802</td>\n",
       "      <td>0.70375657261495860872</td>\n",
       "      <td>0.00117318864464016279</td>\n",
       "    </tr>\n",
       "    <tr>\n",
       "      <th>44</th>\n",
       "      <td>0.01796938775510204325</td>\n",
       "      <td>0.01512821959297088771</td>\n",
       "      <td>0.02501085309856238351</td>\n",
       "      <td>0.00747986118971321039</td>\n",
       "      <td>0.64530393846578704142</td>\n",
       "      <td>0.00157210526929016316</td>\n",
       "    </tr>\n",
       "    <tr>\n",
       "      <th>45</th>\n",
       "      <td>0.01837551020408163469</td>\n",
       "      <td>0.01446685081839913477</td>\n",
       "      <td>0.02372918643203602435</td>\n",
       "      <td>0.00687471029384840917</td>\n",
       "      <td>0.68784028732347479718</td>\n",
       "      <td>0.00093273179471130524</td>\n",
       "    </tr>\n",
       "    <tr>\n",
       "      <th>46</th>\n",
       "      <td>0.01878163265306122612</td>\n",
       "      <td>0.01570102808787419979</td>\n",
       "      <td>0.02307336138931971245</td>\n",
       "      <td>0.00464986419607682933</td>\n",
       "      <td>0.66806232606303517230</td>\n",
       "      <td>0.00122997420715701940</td>\n",
       "    </tr>\n",
       "    <tr>\n",
       "      <th>47</th>\n",
       "      <td>0.01918775510204081755</td>\n",
       "      <td>0.01550431617598817084</td>\n",
       "      <td>0.02449002808598439371</td>\n",
       "      <td>0.00773053525492945707</td>\n",
       "      <td>0.74533753770042099340</td>\n",
       "      <td>0.00154185857436587746</td>\n",
       "    </tr>\n",
       "    <tr>\n",
       "      <th>48</th>\n",
       "      <td>0.01959387755102040898</td>\n",
       "      <td>0.01494235247528504125</td>\n",
       "      <td>0.02758251975269704684</td>\n",
       "      <td>0.00811335586142788133</td>\n",
       "      <td>0.64707295470163028739</td>\n",
       "      <td>0.00078299451089593099</td>\n",
       "    </tr>\n",
       "    <tr>\n",
       "      <th>49</th>\n",
       "      <td>0.02000000000000000042</td>\n",
       "      <td>0.01450725588420316223</td>\n",
       "      <td>0.02895418637511073395</td>\n",
       "      <td>0.00895218982521037675</td>\n",
       "      <td>0.60024541481437210244</td>\n",
       "      <td>0.00062372971852546867</td>\n",
       "    </tr>\n",
       "  </tbody>\n",
       "</table>\n",
       "</div>"
      ],
      "text/plain": [
       "       Perturbation Level         Average Change  Average Maximum Change  \\\n",
       "0  0.00010000000000000000 0.01570086142917948707  0.01574252809584615262   \n",
       "1  0.00050612244897959191 0.01570086142917948707  0.01583836142917948581   \n",
       "2  0.00091224489795918378 0.01570086142917948707  0.01600419476251281961   \n",
       "3  0.00131836734693877564 0.01570086142917948707  0.01593669476251281802   \n",
       "4  0.00172448979591836751 0.01570086142917948707  0.01624836142917948298   \n",
       "5  0.00213061224489795916 0.01570086142917948707  0.01639919476251281913   \n",
       "6  0.00253673469387755103 0.01570086142917948707  0.01609502809584615127   \n",
       "7  0.00294285714285714289 0.01552852809584615024  0.01706169476251281555   \n",
       "8  0.00334897959183673476 0.01570086142917948707  0.01675419476251282028   \n",
       "9  0.00375510204081632663 0.01570086142917948707  0.01626586142917948313   \n",
       "10 0.00416122448979591893 0.01570086142917948707  0.01842336142917948630   \n",
       "11 0.00456734693877551123 0.01570086142917948707  0.01735919476251281818   \n",
       "12 0.00497346938775510266 0.01570086142917948707  0.01657086142917948285   \n",
       "13 0.00537959183673469409 0.01534919476251281854  0.01714752809584614915   \n",
       "14 0.00578571428571428639 0.01556352809584615055  0.01677669476251281849   \n",
       "15 0.00619183673469387869 0.01523469476251282026  0.01740669476251282058   \n",
       "16 0.00659795918367347013 0.01544386142917948505  0.01936586142917948866   \n",
       "17 0.00700408163265306156 0.01513886142917948360  0.01827086142917948644   \n",
       "18 0.00741020408163265386 0.01553252809584615250  0.01663002809584615202   \n",
       "19 0.00781632653061224529 0.01565552809584614888  0.01794669476251281939   \n",
       "20 0.00822244897959183672 0.01498669476251282030  0.01708086142917948289   \n",
       "21 0.00862857142857142816 0.01467752477033042700  0.01949502809584615498   \n",
       "22 0.00903469387755102132 0.01504802407270849213  0.01807419476251281854   \n",
       "23 0.00944081632653061276 0.01472019309975495550  0.01999919476251281816   \n",
       "24 0.00984693877551020419 0.01558852809584615126  0.01878836142917948704   \n",
       "25 0.01025306122448979562 0.01522502643308828833  0.01853836142917948335   \n",
       "26 0.01065918367346938705 0.01580092589505281350  0.02287252809584615354   \n",
       "27 0.01106530612244898022 0.01550552809387380042  0.02046252808598439735   \n",
       "28 0.01147142857142857165 0.01491869309883539323  0.01818002809124834654   \n",
       "29 0.01187755102040816309 0.01570086142917948707  0.02001836142917948549   \n",
       "30 0.01228367346938775626 0.01475402642883496575  0.02105252807457953443   \n",
       "31 0.01268979591836734769 0.01571209256098382231  0.02014836142550121764   \n",
       "32 0.01309591836734693912 0.01422802310757255960  0.02049751978205683473   \n",
       "33 0.01350204081632653055 0.01427318977423922865  0.01860168644872350202   \n",
       "34 0.01390816326530612199 0.01483718581782782729  0.02260752809584615566   \n",
       "35 0.01431428571428571515 0.01494742588646299879  0.02395919471956377278   \n",
       "36 0.01472040816326530659 0.01570729134413689429  0.02242169476251281920   \n",
       "37 0.01512653061224489802 0.01511158631376783266  0.02298483627733417106   \n",
       "38 0.01553265306122449119 0.01557092589505281073  0.02231419476251282272   \n",
       "39 0.01593877551020408262 0.01579412467453609678  0.02403502808117548642   \n",
       "40 0.01634489795918367405 0.01484908922813701383  0.02402835308491824140   \n",
       "41 0.01675102040816326548 0.01541764951039642853  0.02055419475802568174   \n",
       "42 0.01715714285714285692 0.01589385580688403021  0.02668919474688186480   \n",
       "43 0.01756326530612244835 0.01579395800305934128  0.02412336139045838032   \n",
       "44 0.01796938775510204325 0.01512821959297088771  0.02501085309856238351   \n",
       "45 0.01837551020408163469 0.01446685081839913477  0.02372918643203602435   \n",
       "46 0.01878163265306122612 0.01570102808787419979  0.02307336138931971245   \n",
       "47 0.01918775510204081755 0.01550431617598817084  0.02449002808598439371   \n",
       "48 0.01959387755102040898 0.01494235247528504125  0.02758251975269704684   \n",
       "49 0.02000000000000000042 0.01450725588420316223  0.02895418637511073395   \n",
       "\n",
       "               Average SD        Average Returns           Average Risk  \n",
       "0  0.00003042294455761250 0.61373530203692117091 0.00094301747053193437  \n",
       "1  0.00011772378217203569 0.61323583166939887867 0.00093399654646050324  \n",
       "2  0.00026500366873770734 0.61351968161223069398 0.00093572596758652554  \n",
       "3  0.00019078638432667162 0.61415710066489448415 0.00091756402300363410  \n",
       "4  0.00044848727220884814 0.61226612074259278984 0.00093529920983037617  \n",
       "5  0.00054455307873113319 0.60769860726006563745 0.00094291232653781097  \n",
       "6  0.00028950868342379266 0.61966578973735342295 0.00097849841738443404  \n",
       "7  0.00142570317365454794 0.61346588799101442468 0.00094956929606242245  \n",
       "8  0.00082003522959552054 0.61847639365271789291 0.00088643607822182463  \n",
       "9  0.00043919528685995742 0.62023911491402428098 0.00102491527589886576  \n",
       "10 0.00209994874276069488 0.62605440353937047426 0.00100841843240988835  \n",
       "11 0.00127809754452988967 0.61779470920700185754 0.00091218050718212503  \n",
       "12 0.00082133478760693785 0.62000770611012590017 0.00098097929695779460  \n",
       "13 0.00195054446106822832 0.61652524647084583354 0.00090326813600872147  \n",
       "14 0.00117701285723565796 0.61168084555392776558 0.00097296665776160399  \n",
       "15 0.00194493062405800047 0.61678418841135884687 0.00094956447224084741  \n",
       "16 0.00292148151039049730 0.64757190396305452929 0.00113949657009039941  \n",
       "17 0.00274452125382610010 0.62235259189782776712 0.00099012761163732102  \n",
       "18 0.00110345249827041711 0.61130112925516910671 0.00099697770062513432  \n",
       "19 0.00181461395934162054 0.61384648541570774327 0.00098820294590711835  \n",
       "20 0.00188637440812743887 0.62068825444238162614 0.00087614075018072372  \n",
       "21 0.00326460801309030402 0.63277500171277001328 0.00097872129885320553  \n",
       "22 0.00275198699006818292 0.64154849906421451688 0.00096617286233931666  \n",
       "23 0.00407631451102044833 0.61261762389854479416 0.00115477914165463625  \n",
       "24 0.00276761480813350049 0.61791667228289193226 0.00109248306372763254  \n",
       "25 0.00258696680718522405 0.62462554575558681957 0.00099380138685802337  \n",
       "26 0.00586149312602798553 0.71112852613075971941 0.00123459342933044769  \n",
       "27 0.00398320265230344382 0.59683638221870971563 0.00097627816358211142  \n",
       "28 0.00275198891261874178 0.61800775654237016798 0.00093341562714614659  \n",
       "29 0.00310186382142521979 0.67289578637617064594 0.00146103375306581027  \n",
       "30 0.00488108700778580682 0.60641120401517567551 0.00104715371235643393  \n",
       "31 0.00340066484498851218 0.63712805734246846789 0.00088090542192223692  \n",
       "32 0.00474025064342743947 0.62427189259250037701 0.00092523485356731561  \n",
       "33 0.00353144164213328162 0.59815214487888890282 0.00084364363714271460  \n",
       "34 0.00572753105887320677 0.68909805033744953029 0.00129249821181045372  \n",
       "35 0.00648615980499815843 0.61567329419434457805 0.00094878641465404208  \n",
       "36 0.00535428909841452211 0.67894977345329665663 0.00128240857879900359  \n",
       "37 0.00615696674628420700 0.64482464164769293102 0.00125862937054140121  \n",
       "38 0.00517305966504678048 0.65605414506929760066 0.00134130538926179391  \n",
       "39 0.00597265357931658740 0.64889752663892730222 0.00146304671717614959  \n",
       "40 0.00649331950086752627 0.62073608129512769516 0.00106035275792006685  \n",
       "41 0.00459815884961247128 0.71826990545893676376 0.00168021119547184144  \n",
       "42 0.00721667377996201495 0.66196146385368170861 0.00143929460595663755  \n",
       "43 0.00645491562892819802 0.70375657261495860872 0.00117318864464016279  \n",
       "44 0.00747986118971321039 0.64530393846578704142 0.00157210526929016316  \n",
       "45 0.00687471029384840917 0.68784028732347479718 0.00093273179471130524  \n",
       "46 0.00464986419607682933 0.66806232606303517230 0.00122997420715701940  \n",
       "47 0.00773053525492945707 0.74533753770042099340 0.00154185857436587746  \n",
       "48 0.00811335586142788133 0.64707295470163028739 0.00078299451089593099  \n",
       "49 0.00895218982521037675 0.60024541481437210244 0.00062372971852546867  "
      ]
     },
     "execution_count": 62,
     "metadata": {},
     "output_type": "execute_result"
    }
   ],
   "source": [
    "final_df"
   ]
  },
  {
   "cell_type": "code",
   "execution_count": 63,
   "metadata": {},
   "outputs": [
    {
     "data": {
      "text/plain": [
       "array([ 0.3642,  0.    ,  0.    , -0.    ,  0.    ,  0.    ,  0.    ,\n",
       "        0.    ,  0.    ,  0.    ,  0.    ,  0.    ,  0.    , -0.    ,\n",
       "        0.    ,  0.    , -0.    ,  0.    ,  0.    ,  0.    ,  0.    ,\n",
       "        0.    ,  0.    ,  0.    ,  0.    ,  0.    , -0.    , -0.    ,\n",
       "        0.    ,  0.    , -0.    , -0.    ,  0.    ,  0.    ,  0.    ,\n",
       "        0.    ,  0.    ,  0.    ,  0.    ,  0.    ,  0.    ,  0.    ,\n",
       "       -0.    , -0.    ,  0.    ,  0.    ,  0.    ,  0.    ,  0.    ,\n",
       "        0.    ,  0.    , -0.    ,  0.    , -0.    ,  0.    ,  0.    ,\n",
       "        0.    ,  0.    ,  0.    ,  0.1521,  0.    ,  0.    ,  0.    ,\n",
       "       -0.    ,  0.    ,  0.    ,  0.    ,  0.    , -0.    , -0.    ,\n",
       "        0.    ,  0.    ,  0.    ,  0.    ,  0.2531,  0.    ,  0.    ,\n",
       "        0.    , -0.    ,  0.    , -0.    ,  0.    ,  0.    ,  0.    ,\n",
       "        0.    ,  0.    , -0.    , -0.    ,  0.    ,  0.    ,  0.    ,\n",
       "        0.    ,  0.    ,  0.    ,  0.    ,  0.    ,  0.    ,  0.    ,\n",
       "        0.    , -0.    ,  0.    ,  0.    ,  0.    ,  0.2306, -0.    ,\n",
       "        0.    ,  0.    ,  0.    , -0.    , -0.    , -0.    , -0.    ,\n",
       "        0.    , -0.    , -0.    ,  0.    ,  0.    ,  0.    ,  0.    ,\n",
       "        0.    ])"
      ]
     },
     "execution_count": 63,
     "metadata": {},
     "output_type": "execute_result"
    }
   ],
   "source": [
    "perturbed_weights"
   ]
  },
  {
   "cell_type": "markdown",
   "metadata": {},
   "source": [
    "#### L2 Regularisation + Dynamic Regularisation Strength + Soft Risk Constraint"
   ]
  },
  {
   "cell_type": "code",
   "execution_count": 64,
   "metadata": {},
   "outputs": [
    {
     "data": {
      "image/png": "[encoded data removed]",
      "text/plain": [
       "<Figure size 1500x600 with 1 Axes>"
      ]
     },
     "metadata": {},
     "output_type": "display_data"
    }
   ],
   "source": [
    "# Lists to store final results\n",
    "tot_mean = []\n",
    "tot_max = []\n",
    "tot_std = []\n",
    "optimal_returns = []\n",
    "optimal_risks = []\n",
    "\n",
    "for perturbation in perturbations:\n",
    "    weight_differences = []\n",
    "    portfolio_returns = []\n",
    "    portfolio_risks = []\n",
    "    feasible_solution = True\n",
    "\n",
    "    # Adjust the regularization strength dynamically\n",
    "    lambda_reg = 0.005 if perturbation > 0.01 else 0.01\n",
    "    target_risk = 0.08  # Adjust target risk if needed\n",
    "\n",
    "    for i in range(5):\n",
    "        # Add random perturbation to the returns data\n",
    "        perturbed_returns = daily_returns + np.random.normal(0, perturbation, daily_returns.shape)\n",
    "\n",
    "        # Calculate sample covariance and expected returns\n",
    "        perturbed_cov_matrix = perturbed_returns.cov() * 252\n",
    "        perturbed_expected_returns = perturbed_returns.mean() * 252\n",
    "\n",
    "        # Define optimization problem with L2 regularization and soft risk constraint\n",
    "        n_assets = len(perturbed_expected_returns)\n",
    "        weights = cp.Variable(n_assets)\n",
    "        portfolio_return = perturbed_expected_returns.values @ weights\n",
    "        portfolio_risk = cp.quad_form(weights, cp.psd_wrap(perturbed_cov_matrix))\n",
    "        l2_penalty = lambda_reg * cp.norm(weights, 2)\n",
    "\n",
    "        # Add soft risk constraint penalty\n",
    "        risk_penalty_weight = 10\n",
    "        problem = cp.Problem(cp.Maximize(portfolio_return - l2_penalty - risk_penalty_weight * cp.pos(portfolio_risk - target_risk**2)), [\n",
    "            cp.sum(weights) == 1,\n",
    "            weights >= 0,\n",
    "        ])\n",
    "        \n",
    "        problem.solve()\n",
    "\n",
    "        if problem.status != cp.OPTIMAL:\n",
    "            feasible_solution = False\n",
    "            break\n",
    "\n",
    "        perturbed_weights = np.round(weights.value, 4)\n",
    "        weight_diff = np.abs(original_weights - perturbed_weights)\n",
    "        weight_differences.append(weight_diff)\n",
    "        portfolio_returns.append(portfolio_return.value)\n",
    "        portfolio_risks.append(portfolio_risk.value)\n",
    "\n",
    "    # Collect results if feasible\n",
    "    if feasible_solution:\n",
    "        diff_df = pd.DataFrame(weight_differences)\n",
    "        tot_mean.append(diff_df.mean().mean())\n",
    "        tot_max.append(diff_df.max().mean())\n",
    "        tot_std.append(diff_df.std().mean())\n",
    "        optimal_returns.append(np.mean(portfolio_returns))\n",
    "        optimal_risks.append(np.mean(portfolio_risks))\n",
    "    else:\n",
    "        tot_mean.append(None)\n",
    "        tot_max.append(None)\n",
    "        tot_std.append(None)\n",
    "        optimal_returns.append(None)\n",
    "        optimal_risks.append(None)\n",
    "\n",
    "# Creating a new DataFrame for analysis\n",
    "final_df = pd.DataFrame({\n",
    "    'Perturbation Level': perturbations,\n",
    "    'Average Change': tot_mean,\n",
    "    'Average Maximum Change': tot_max,\n",
    "    'Average SD': tot_std,\n",
    "    'Average Returns': optimal_returns,\n",
    "    'Average Risk': optimal_risks\n",
    "})\n",
    "\n",
    "# Plotting the results\n",
    "plt.figure(figsize=(15, 6))\n",
    "for column, label, marker in zip(\n",
    "        ['Average Change', 'Average Maximum Change', 'Average Risk', 'Average Returns'],\n",
    "        ['Average Change', 'Average Maximum Change', 'Average Portfolio Risk', 'Average Portfolio Returns'],\n",
    "        ['o', 'x', '^', 'd']):\n",
    "    \n",
    "    plt.plot(final_df['Perturbation Level'], final_df[column], label=label, marker=marker, linestyle='-')\n",
    "\n",
    "nan_indices = final_df['Perturbation Level'][final_df.isna().any(axis=1)]\n",
    "plt.scatter(nan_indices, [0] * len(nan_indices), color='red', marker='x', label='No Solution', zorder=3)\n",
    "\n",
    "plt.xlabel('Perturbation Level')\n",
    "plt.ylabel('Value')\n",
    "plt.title('Perturbation Level vs Metrics with Dynamic L2 Regularisation and Soft Risk Constraint')\n",
    "plt.legend()\n",
    "plt.grid(True)\n",
    "plt.show()"
   ]
  },
  {
   "cell_type": "code",
   "execution_count": 65,
   "metadata": {},
   "outputs": [
    {
     "data": {
      "text/html": [
       "<div>\n",
       "<style scoped>\n",
       "    .dataframe tbody tr th:only-of-type {\n",
       "        vertical-align: middle;\n",
       "    }\n",
       "\n",
       "    .dataframe tbody tr th {\n",
       "        vertical-align: top;\n",
       "    }\n",
       "\n",
       "    .dataframe thead th {\n",
       "        text-align: right;\n",
       "    }\n",
       "</style>\n",
       "<table border=\"1\" class=\"dataframe\">\n",
       "  <thead>\n",
       "    <tr style=\"text-align: right;\">\n",
       "      <th></th>\n",
       "      <th>Perturbation Level</th>\n",
       "      <th>Average Change</th>\n",
       "      <th>Average Maximum Change</th>\n",
       "      <th>Average SD</th>\n",
       "      <th>Average Returns</th>\n",
       "      <th>Average Risk</th>\n",
       "    </tr>\n",
       "  </thead>\n",
       "  <tbody>\n",
       "    <tr>\n",
       "      <th>0</th>\n",
       "      <td>0.00010000000000000000</td>\n",
       "      <td>0.00393971243754725683</td>\n",
       "      <td>0.00435436931895734260</td>\n",
       "      <td>0.00036959721569532618</td>\n",
       "      <td>0.19186364631049981910</td>\n",
       "      <td>0.00978734643228301379</td>\n",
       "    </tr>\n",
       "    <tr>\n",
       "      <th>1</th>\n",
       "      <td>0.00050612244897959191</td>\n",
       "      <td>0.00426068545892760962</td>\n",
       "      <td>0.00701186928145819399</td>\n",
       "      <td>0.00199712925109764771</td>\n",
       "      <td>0.19286024048429561972</td>\n",
       "      <td>0.00982720319396059548</td>\n",
       "    </tr>\n",
       "    <tr>\n",
       "      <th>2</th>\n",
       "      <td>0.00091224489795918378</td>\n",
       "      <td>0.00409696127405654534</td>\n",
       "      <td>0.01014270259369156289</td>\n",
       "      <td>0.00394383576531704815</td>\n",
       "      <td>0.19290730223608157368</td>\n",
       "      <td>0.00980802910240218505</td>\n",
       "    </tr>\n",
       "    <tr>\n",
       "      <th>3</th>\n",
       "      <td>0.00131836734693877564</td>\n",
       "      <td>0.00663982793434236742</td>\n",
       "      <td>0.01112481030514786244</td>\n",
       "      <td>0.00375360323369426001</td>\n",
       "      <td>0.19478723895767252605</td>\n",
       "      <td>0.00991218184378573827</td>\n",
       "    </tr>\n",
       "    <tr>\n",
       "      <th>4</th>\n",
       "      <td>0.00172448979591836751</td>\n",
       "      <td>0.00687276205717368780</td>\n",
       "      <td>0.01152647696130255223</td>\n",
       "      <td>0.00351930587061707227</td>\n",
       "      <td>0.19272876900729563054</td>\n",
       "      <td>0.00956212598804681395</td>\n",
       "    </tr>\n",
       "    <tr>\n",
       "      <th>5</th>\n",
       "      <td>0.00213061224489795916</td>\n",
       "      <td>0.00721736392975165335</td>\n",
       "      <td>0.01544855589169958146</td>\n",
       "      <td>0.00585631929792108843</td>\n",
       "      <td>0.20049848318463911467</td>\n",
       "      <td>0.01036504820839916075</td>\n",
       "    </tr>\n",
       "    <tr>\n",
       "      <th>6</th>\n",
       "      <td>0.00253673469387755103</td>\n",
       "      <td>0.00753618396373569640</td>\n",
       "      <td>0.01331275606461223421</td>\n",
       "      <td>0.00519693922993452219</td>\n",
       "      <td>0.19947217726037561047</td>\n",
       "      <td>0.00996933716752684308</td>\n",
       "    </tr>\n",
       "    <tr>\n",
       "      <th>7</th>\n",
       "      <td>0.00294285714285714289</td>\n",
       "      <td>0.00678676824581738152</td>\n",
       "      <td>0.01446731183267589531</td>\n",
       "      <td>0.00543518892097333804</td>\n",
       "      <td>0.20686284351633585366</td>\n",
       "      <td>0.01036335509572275035</td>\n",
       "    </tr>\n",
       "    <tr>\n",
       "      <th>8</th>\n",
       "      <td>0.00334897959183673476</td>\n",
       "      <td>0.00805573287616715393</td>\n",
       "      <td>0.01723105703163529956</td>\n",
       "      <td>0.00668563345216817602</td>\n",
       "      <td>0.20460062082933472283</td>\n",
       "      <td>0.01018898869029927559</td>\n",
       "    </tr>\n",
       "    <tr>\n",
       "      <th>9</th>\n",
       "      <td>0.00375510204081632663</td>\n",
       "      <td>0.00932441741929563445</td>\n",
       "      <td>0.01893023579401358417</td>\n",
       "      <td>0.00749974839827258991</td>\n",
       "      <td>0.20781407330261814081</td>\n",
       "      <td>0.01073670751908621830</td>\n",
       "    </tr>\n",
       "    <tr>\n",
       "      <th>10</th>\n",
       "      <td>0.00416122448979591893</td>\n",
       "      <td>0.00794011236403730988</td>\n",
       "      <td>0.01766731014601781447</td>\n",
       "      <td>0.00708209491346014752</td>\n",
       "      <td>0.21162472215556310529</td>\n",
       "      <td>0.01054417623719605332</td>\n",
       "    </tr>\n",
       "    <tr>\n",
       "      <th>11</th>\n",
       "      <td>0.00456734693877551123</td>\n",
       "      <td>0.00864578072451858450</td>\n",
       "      <td>0.01850481474037751761</td>\n",
       "      <td>0.00722930664362670707</td>\n",
       "      <td>0.20345694608341663434</td>\n",
       "      <td>0.01046718679591888621</td>\n",
       "    </tr>\n",
       "    <tr>\n",
       "      <th>12</th>\n",
       "      <td>0.00497346938775510266</td>\n",
       "      <td>0.00922959974910112120</td>\n",
       "      <td>0.01708688909478305040</td>\n",
       "      <td>0.00640467886103525830</td>\n",
       "      <td>0.21772965856886639102</td>\n",
       "      <td>0.01116205381912790950</td>\n",
       "    </tr>\n",
       "    <tr>\n",
       "      <th>13</th>\n",
       "      <td>0.00537959183673469409</td>\n",
       "      <td>0.00836143979442226584</td>\n",
       "      <td>0.01585924133154829885</td>\n",
       "      <td>0.00596937808248885083</td>\n",
       "      <td>0.20674910362229809158</td>\n",
       "      <td>0.01034508285304265758</td>\n",
       "    </tr>\n",
       "    <tr>\n",
       "      <th>14</th>\n",
       "      <td>0.00578571428571428639</td>\n",
       "      <td>0.00755313850186533665</td>\n",
       "      <td>0.01952527457147180956</td>\n",
       "      <td>0.00751301720671547751</td>\n",
       "      <td>0.20808294100528609838</td>\n",
       "      <td>0.01057712832109992604</td>\n",
       "    </tr>\n",
       "    <tr>\n",
       "      <th>15</th>\n",
       "      <td>0.00619183673469387869</td>\n",
       "      <td>0.01038072090467231055</td>\n",
       "      <td>0.01941898967609809526</td>\n",
       "      <td>0.00685397319722836577</td>\n",
       "      <td>0.21161411565184584660</td>\n",
       "      <td>0.01116255015211327535</td>\n",
       "    </tr>\n",
       "    <tr>\n",
       "      <th>16</th>\n",
       "      <td>0.00659795918367347013</td>\n",
       "      <td>0.00986217556612321161</td>\n",
       "      <td>0.02112609181091711433</td>\n",
       "      <td>0.00823397212852975714</td>\n",
       "      <td>0.22418901383407074945</td>\n",
       "      <td>0.01176847978731767816</td>\n",
       "    </tr>\n",
       "    <tr>\n",
       "      <th>17</th>\n",
       "      <td>0.00700408163265306156</td>\n",
       "      <td>0.01088645454808735008</td>\n",
       "      <td>0.02263320112371334375</td>\n",
       "      <td>0.00846269645452631461</td>\n",
       "      <td>0.23622167788519687903</td>\n",
       "      <td>0.01198062958542290418</td>\n",
       "    </tr>\n",
       "    <tr>\n",
       "      <th>18</th>\n",
       "      <td>0.00741020408163265386</td>\n",
       "      <td>0.00778930182609157296</td>\n",
       "      <td>0.01880647837781791384</td>\n",
       "      <td>0.00740467921057505214</td>\n",
       "      <td>0.22943209206058826077</td>\n",
       "      <td>0.01166098236380213975</td>\n",
       "    </tr>\n",
       "    <tr>\n",
       "      <th>19</th>\n",
       "      <td>0.00781632653061224529</td>\n",
       "      <td>0.00874499549543781944</td>\n",
       "      <td>0.01911448514515104793</td>\n",
       "      <td>0.00709918742415012894</td>\n",
       "      <td>0.24017084312694864101</td>\n",
       "      <td>0.01161472994834861390</td>\n",
       "    </tr>\n",
       "    <tr>\n",
       "      <th>20</th>\n",
       "      <td>0.00822244897959183672</td>\n",
       "      <td>0.01149478578495936355</td>\n",
       "      <td>0.02419981990111965547</td>\n",
       "      <td>0.00898815511433227049</td>\n",
       "      <td>0.22970767598692179434</td>\n",
       "      <td>0.01245807798506450535</td>\n",
       "    </tr>\n",
       "    <tr>\n",
       "      <th>21</th>\n",
       "      <td>0.00862857142857142816</td>\n",
       "      <td>0.01054587164405282676</td>\n",
       "      <td>0.02087398967485923698</td>\n",
       "      <td>0.00774109989451981541</td>\n",
       "      <td>0.22321402282852628729</td>\n",
       "      <td>0.01226004556240487334</td>\n",
       "    </tr>\n",
       "    <tr>\n",
       "      <th>22</th>\n",
       "      <td>0.00903469387755102132</td>\n",
       "      <td>0.00955909011171334096</td>\n",
       "      <td>0.02127475014107572254</td>\n",
       "      <td>0.00819632943582108454</td>\n",
       "      <td>0.22617701048367502836</td>\n",
       "      <td>0.01207979943824806328</td>\n",
       "    </tr>\n",
       "    <tr>\n",
       "      <th>23</th>\n",
       "      <td>0.00944081632653061276</td>\n",
       "      <td>0.00994687174897616704</td>\n",
       "      <td>0.02113248367116106474</td>\n",
       "      <td>0.00786561795522250709</td>\n",
       "      <td>0.24518653996969988484</td>\n",
       "      <td>0.01253231002923961210</td>\n",
       "    </tr>\n",
       "    <tr>\n",
       "      <th>24</th>\n",
       "      <td>0.00984693877551020419</td>\n",
       "      <td>0.01028786800010474296</td>\n",
       "      <td>0.02332427132847606291</td>\n",
       "      <td>0.00854297475963441445</td>\n",
       "      <td>0.23203840986745211117</td>\n",
       "      <td>0.01200670781355189093</td>\n",
       "    </tr>\n",
       "    <tr>\n",
       "      <th>25</th>\n",
       "      <td>0.01025306122448979562</td>\n",
       "      <td>0.00907859175089856078</td>\n",
       "      <td>0.02207283716312906721</td>\n",
       "      <td>0.00896674296723389691</td>\n",
       "      <td>0.23848048848718078618</td>\n",
       "      <td>0.01275613411650047477</td>\n",
       "    </tr>\n",
       "    <tr>\n",
       "      <th>26</th>\n",
       "      <td>0.01065918367346938705</td>\n",
       "      <td>0.01009143550536247165</td>\n",
       "      <td>0.02295305786309194754</td>\n",
       "      <td>0.00906069709014342174</td>\n",
       "      <td>0.24699304075062755714</td>\n",
       "      <td>0.01297452807687449194</td>\n",
       "    </tr>\n",
       "    <tr>\n",
       "      <th>27</th>\n",
       "      <td>0.01106530612244898022</td>\n",
       "      <td>0.01004034493666611932</td>\n",
       "      <td>0.02262018245377284131</td>\n",
       "      <td>0.00810248167870795434</td>\n",
       "      <td>0.24585716295006038168</td>\n",
       "      <td>0.01344142440570796591</td>\n",
       "    </tr>\n",
       "    <tr>\n",
       "      <th>28</th>\n",
       "      <td>0.01147142857142857165</td>\n",
       "      <td>0.00994373497394085079</td>\n",
       "      <td>0.02390216434339772003</td>\n",
       "      <td>0.00911694007227655326</td>\n",
       "      <td>0.25500703292839072001</td>\n",
       "      <td>0.01340618837418675567</td>\n",
       "    </tr>\n",
       "    <tr>\n",
       "      <th>29</th>\n",
       "      <td>0.01187755102040816309</td>\n",
       "      <td>0.01095893709562398462</td>\n",
       "      <td>0.02330936927362852948</td>\n",
       "      <td>0.00871866688053401367</td>\n",
       "      <td>0.26031616028256560069</td>\n",
       "      <td>0.01349128377693264470</td>\n",
       "    </tr>\n",
       "    <tr>\n",
       "      <th>30</th>\n",
       "      <td>0.01228367346938775626</td>\n",
       "      <td>0.01159291350650644946</td>\n",
       "      <td>0.02459840532015478143</td>\n",
       "      <td>0.00933087285288708955</td>\n",
       "      <td>0.26726541306834261658</td>\n",
       "      <td>0.01399893527826964225</td>\n",
       "    </tr>\n",
       "    <tr>\n",
       "      <th>31</th>\n",
       "      <td>0.01268979591836734769</td>\n",
       "      <td>0.01170058607148709469</td>\n",
       "      <td>0.02468259886569183423</td>\n",
       "      <td>0.00894459024502666962</td>\n",
       "      <td>0.27022982177872401088</td>\n",
       "      <td>0.01392279022650436994</td>\n",
       "    </tr>\n",
       "    <tr>\n",
       "      <th>32</th>\n",
       "      <td>0.01309591836734693912</td>\n",
       "      <td>0.01116981888299020502</td>\n",
       "      <td>0.02364834514660684589</td>\n",
       "      <td>0.00866291896059909021</td>\n",
       "      <td>0.24597431251636323046</td>\n",
       "      <td>0.01337153323874208308</td>\n",
       "    </tr>\n",
       "    <tr>\n",
       "      <th>33</th>\n",
       "      <td>0.01350204081632653055</td>\n",
       "      <td>0.00992033543048462078</td>\n",
       "      <td>0.02161907718650773677</td>\n",
       "      <td>0.00798067886871902006</td>\n",
       "      <td>0.24598128645923594826</td>\n",
       "      <td>0.01282034549440762630</td>\n",
       "    </tr>\n",
       "    <tr>\n",
       "      <th>34</th>\n",
       "      <td>0.01390816326530612199</td>\n",
       "      <td>0.01231123351533492706</td>\n",
       "      <td>0.02932729481905037294</td>\n",
       "      <td>0.01086335597589022789</td>\n",
       "      <td>0.25765039704664732811</td>\n",
       "      <td>0.01482675220230361690</td>\n",
       "    </tr>\n",
       "    <tr>\n",
       "      <th>35</th>\n",
       "      <td>0.01431428571428571515</td>\n",
       "      <td>0.01013901710341911545</td>\n",
       "      <td>0.02205807422068827017</td>\n",
       "      <td>0.00829573260947094257</td>\n",
       "      <td>0.26958887802848557902</td>\n",
       "      <td>0.01443608221698459981</td>\n",
       "    </tr>\n",
       "    <tr>\n",
       "      <th>36</th>\n",
       "      <td>0.01472040816326530659</td>\n",
       "      <td>0.01052503897149869097</td>\n",
       "      <td>0.02521867034315316419</td>\n",
       "      <td>0.00980271650675107638</td>\n",
       "      <td>0.25492664142778365122</td>\n",
       "      <td>0.01411575154762640880</td>\n",
       "    </tr>\n",
       "    <tr>\n",
       "      <th>37</th>\n",
       "      <td>0.01512653061224489802</td>\n",
       "      <td>0.01025578505214963347</td>\n",
       "      <td>0.02348251190684289696</td>\n",
       "      <td>0.00856507788007350966</td>\n",
       "      <td>0.27941675790143272184</td>\n",
       "      <td>0.01554979297634456747</td>\n",
       "    </tr>\n",
       "    <tr>\n",
       "      <th>38</th>\n",
       "      <td>0.01553265306122449119</td>\n",
       "      <td>0.01172399127738163287</td>\n",
       "      <td>0.02733314520880008106</td>\n",
       "      <td>0.01054496433375471526</td>\n",
       "      <td>0.27546905987102104918</td>\n",
       "      <td>0.01499348853967893969</td>\n",
       "    </tr>\n",
       "    <tr>\n",
       "      <th>39</th>\n",
       "      <td>0.01593877551020408262</td>\n",
       "      <td>0.01165285537944746840</td>\n",
       "      <td>0.02595562818700065597</td>\n",
       "      <td>0.00976469116820372074</td>\n",
       "      <td>0.29888697059161040137</td>\n",
       "      <td>0.01619957645985448461</td>\n",
       "    </tr>\n",
       "    <tr>\n",
       "      <th>40</th>\n",
       "      <td>0.01634489795918367405</td>\n",
       "      <td>0.01143244299221484080</td>\n",
       "      <td>0.02499321350497134622</td>\n",
       "      <td>0.00897797252778964952</td>\n",
       "      <td>0.27890775176793991541</td>\n",
       "      <td>0.01584605021983738829</td>\n",
       "    </tr>\n",
       "    <tr>\n",
       "      <th>41</th>\n",
       "      <td>0.01675102040816326548</td>\n",
       "      <td>0.01206318156290461623</td>\n",
       "      <td>0.02710937396935301016</td>\n",
       "      <td>0.01004271269657834413</td>\n",
       "      <td>0.26043019066968653430</td>\n",
       "      <td>0.01492450726979163700</td>\n",
       "    </tr>\n",
       "    <tr>\n",
       "      <th>42</th>\n",
       "      <td>0.01715714285714285692</td>\n",
       "      <td>0.01113505235826695028</td>\n",
       "      <td>0.02530921607162836193</td>\n",
       "      <td>0.00928547991364638177</td>\n",
       "      <td>0.28673740375851913820</td>\n",
       "      <td>0.01503891756635474322</td>\n",
       "    </tr>\n",
       "    <tr>\n",
       "      <th>43</th>\n",
       "      <td>0.01756326530612244835</td>\n",
       "      <td>0.01183256759532204556</td>\n",
       "      <td>0.02680081994296529616</td>\n",
       "      <td>0.01019731725195419277</td>\n",
       "      <td>0.29341299202846993222</td>\n",
       "      <td>0.01597574650663063575</td>\n",
       "    </tr>\n",
       "    <tr>\n",
       "      <th>44</th>\n",
       "      <td>0.01796938775510204325</td>\n",
       "      <td>0.01127012826166198280</td>\n",
       "      <td>0.02445157807879696013</td>\n",
       "      <td>0.00914017399166728445</td>\n",
       "      <td>0.28796125902231051175</td>\n",
       "      <td>0.01592309285790430642</td>\n",
       "    </tr>\n",
       "    <tr>\n",
       "      <th>45</th>\n",
       "      <td>0.01837551020408163469</td>\n",
       "      <td>0.01061753180281752550</td>\n",
       "      <td>0.02535106921792781506</td>\n",
       "      <td>0.00974242882516509513</td>\n",
       "      <td>0.29077498327281547930</td>\n",
       "      <td>0.01679793520439128857</td>\n",
       "    </tr>\n",
       "    <tr>\n",
       "      <th>46</th>\n",
       "      <td>0.01878163265306122612</td>\n",
       "      <td>0.01278660104307999604</td>\n",
       "      <td>0.02807071346902393141</td>\n",
       "      <td>0.01011774317373373595</td>\n",
       "      <td>0.29496972447817249030</td>\n",
       "      <td>0.01640248223206133490</td>\n",
       "    </tr>\n",
       "    <tr>\n",
       "      <th>47</th>\n",
       "      <td>0.01918775510204081755</td>\n",
       "      <td>0.01082522835281087871</td>\n",
       "      <td>0.02574656385940967546</td>\n",
       "      <td>0.00955400454206958329</td>\n",
       "      <td>0.29340449349168995496</td>\n",
       "      <td>0.01584485571211427177</td>\n",
       "    </tr>\n",
       "    <tr>\n",
       "      <th>48</th>\n",
       "      <td>0.01959387755102040898</td>\n",
       "      <td>0.01182586399562803557</td>\n",
       "      <td>0.02840745667151488296</td>\n",
       "      <td>0.01061070707456457547</td>\n",
       "      <td>0.30911158277105638126</td>\n",
       "      <td>0.01723701002005561395</td>\n",
       "    </tr>\n",
       "    <tr>\n",
       "      <th>49</th>\n",
       "      <td>0.02000000000000000042</td>\n",
       "      <td>0.01114728746689425815</td>\n",
       "      <td>0.02403005190047469153</td>\n",
       "      <td>0.00859878519428174462</td>\n",
       "      <td>0.27450481630859979720</td>\n",
       "      <td>0.01700633901584972657</td>\n",
       "    </tr>\n",
       "  </tbody>\n",
       "</table>\n",
       "</div>"
      ],
      "text/plain": [
       "       Perturbation Level         Average Change  Average Maximum Change  \\\n",
       "0  0.00010000000000000000 0.00393971243754725683  0.00435436931895734260   \n",
       "1  0.00050612244897959191 0.00426068545892760962  0.00701186928145819399   \n",
       "2  0.00091224489795918378 0.00409696127405654534  0.01014270259369156289   \n",
       "3  0.00131836734693877564 0.00663982793434236742  0.01112481030514786244   \n",
       "4  0.00172448979591836751 0.00687276205717368780  0.01152647696130255223   \n",
       "5  0.00213061224489795916 0.00721736392975165335  0.01544855589169958146   \n",
       "6  0.00253673469387755103 0.00753618396373569640  0.01331275606461223421   \n",
       "7  0.00294285714285714289 0.00678676824581738152  0.01446731183267589531   \n",
       "8  0.00334897959183673476 0.00805573287616715393  0.01723105703163529956   \n",
       "9  0.00375510204081632663 0.00932441741929563445  0.01893023579401358417   \n",
       "10 0.00416122448979591893 0.00794011236403730988  0.01766731014601781447   \n",
       "11 0.00456734693877551123 0.00864578072451858450  0.01850481474037751761   \n",
       "12 0.00497346938775510266 0.00922959974910112120  0.01708688909478305040   \n",
       "13 0.00537959183673469409 0.00836143979442226584  0.01585924133154829885   \n",
       "14 0.00578571428571428639 0.00755313850186533665  0.01952527457147180956   \n",
       "15 0.00619183673469387869 0.01038072090467231055  0.01941898967609809526   \n",
       "16 0.00659795918367347013 0.00986217556612321161  0.02112609181091711433   \n",
       "17 0.00700408163265306156 0.01088645454808735008  0.02263320112371334375   \n",
       "18 0.00741020408163265386 0.00778930182609157296  0.01880647837781791384   \n",
       "19 0.00781632653061224529 0.00874499549543781944  0.01911448514515104793   \n",
       "20 0.00822244897959183672 0.01149478578495936355  0.02419981990111965547   \n",
       "21 0.00862857142857142816 0.01054587164405282676  0.02087398967485923698   \n",
       "22 0.00903469387755102132 0.00955909011171334096  0.02127475014107572254   \n",
       "23 0.00944081632653061276 0.00994687174897616704  0.02113248367116106474   \n",
       "24 0.00984693877551020419 0.01028786800010474296  0.02332427132847606291   \n",
       "25 0.01025306122448979562 0.00907859175089856078  0.02207283716312906721   \n",
       "26 0.01065918367346938705 0.01009143550536247165  0.02295305786309194754   \n",
       "27 0.01106530612244898022 0.01004034493666611932  0.02262018245377284131   \n",
       "28 0.01147142857142857165 0.00994373497394085079  0.02390216434339772003   \n",
       "29 0.01187755102040816309 0.01095893709562398462  0.02330936927362852948   \n",
       "30 0.01228367346938775626 0.01159291350650644946  0.02459840532015478143   \n",
       "31 0.01268979591836734769 0.01170058607148709469  0.02468259886569183423   \n",
       "32 0.01309591836734693912 0.01116981888299020502  0.02364834514660684589   \n",
       "33 0.01350204081632653055 0.00992033543048462078  0.02161907718650773677   \n",
       "34 0.01390816326530612199 0.01231123351533492706  0.02932729481905037294   \n",
       "35 0.01431428571428571515 0.01013901710341911545  0.02205807422068827017   \n",
       "36 0.01472040816326530659 0.01052503897149869097  0.02521867034315316419   \n",
       "37 0.01512653061224489802 0.01025578505214963347  0.02348251190684289696   \n",
       "38 0.01553265306122449119 0.01172399127738163287  0.02733314520880008106   \n",
       "39 0.01593877551020408262 0.01165285537944746840  0.02595562818700065597   \n",
       "40 0.01634489795918367405 0.01143244299221484080  0.02499321350497134622   \n",
       "41 0.01675102040816326548 0.01206318156290461623  0.02710937396935301016   \n",
       "42 0.01715714285714285692 0.01113505235826695028  0.02530921607162836193   \n",
       "43 0.01756326530612244835 0.01183256759532204556  0.02680081994296529616   \n",
       "44 0.01796938775510204325 0.01127012826166198280  0.02445157807879696013   \n",
       "45 0.01837551020408163469 0.01061753180281752550  0.02535106921792781506   \n",
       "46 0.01878163265306122612 0.01278660104307999604  0.02807071346902393141   \n",
       "47 0.01918775510204081755 0.01082522835281087871  0.02574656385940967546   \n",
       "48 0.01959387755102040898 0.01182586399562803557  0.02840745667151488296   \n",
       "49 0.02000000000000000042 0.01114728746689425815  0.02403005190047469153   \n",
       "\n",
       "               Average SD        Average Returns           Average Risk  \n",
       "0  0.00036959721569532618 0.19186364631049981910 0.00978734643228301379  \n",
       "1  0.00199712925109764771 0.19286024048429561972 0.00982720319396059548  \n",
       "2  0.00394383576531704815 0.19290730223608157368 0.00980802910240218505  \n",
       "3  0.00375360323369426001 0.19478723895767252605 0.00991218184378573827  \n",
       "4  0.00351930587061707227 0.19272876900729563054 0.00956212598804681395  \n",
       "5  0.00585631929792108843 0.20049848318463911467 0.01036504820839916075  \n",
       "6  0.00519693922993452219 0.19947217726037561047 0.00996933716752684308  \n",
       "7  0.00543518892097333804 0.20686284351633585366 0.01036335509572275035  \n",
       "8  0.00668563345216817602 0.20460062082933472283 0.01018898869029927559  \n",
       "9  0.00749974839827258991 0.20781407330261814081 0.01073670751908621830  \n",
       "10 0.00708209491346014752 0.21162472215556310529 0.01054417623719605332  \n",
       "11 0.00722930664362670707 0.20345694608341663434 0.01046718679591888621  \n",
       "12 0.00640467886103525830 0.21772965856886639102 0.01116205381912790950  \n",
       "13 0.00596937808248885083 0.20674910362229809158 0.01034508285304265758  \n",
       "14 0.00751301720671547751 0.20808294100528609838 0.01057712832109992604  \n",
       "15 0.00685397319722836577 0.21161411565184584660 0.01116255015211327535  \n",
       "16 0.00823397212852975714 0.22418901383407074945 0.01176847978731767816  \n",
       "17 0.00846269645452631461 0.23622167788519687903 0.01198062958542290418  \n",
       "18 0.00740467921057505214 0.22943209206058826077 0.01166098236380213975  \n",
       "19 0.00709918742415012894 0.24017084312694864101 0.01161472994834861390  \n",
       "20 0.00898815511433227049 0.22970767598692179434 0.01245807798506450535  \n",
       "21 0.00774109989451981541 0.22321402282852628729 0.01226004556240487334  \n",
       "22 0.00819632943582108454 0.22617701048367502836 0.01207979943824806328  \n",
       "23 0.00786561795522250709 0.24518653996969988484 0.01253231002923961210  \n",
       "24 0.00854297475963441445 0.23203840986745211117 0.01200670781355189093  \n",
       "25 0.00896674296723389691 0.23848048848718078618 0.01275613411650047477  \n",
       "26 0.00906069709014342174 0.24699304075062755714 0.01297452807687449194  \n",
       "27 0.00810248167870795434 0.24585716295006038168 0.01344142440570796591  \n",
       "28 0.00911694007227655326 0.25500703292839072001 0.01340618837418675567  \n",
       "29 0.00871866688053401367 0.26031616028256560069 0.01349128377693264470  \n",
       "30 0.00933087285288708955 0.26726541306834261658 0.01399893527826964225  \n",
       "31 0.00894459024502666962 0.27022982177872401088 0.01392279022650436994  \n",
       "32 0.00866291896059909021 0.24597431251636323046 0.01337153323874208308  \n",
       "33 0.00798067886871902006 0.24598128645923594826 0.01282034549440762630  \n",
       "34 0.01086335597589022789 0.25765039704664732811 0.01482675220230361690  \n",
       "35 0.00829573260947094257 0.26958887802848557902 0.01443608221698459981  \n",
       "36 0.00980271650675107638 0.25492664142778365122 0.01411575154762640880  \n",
       "37 0.00856507788007350966 0.27941675790143272184 0.01554979297634456747  \n",
       "38 0.01054496433375471526 0.27546905987102104918 0.01499348853967893969  \n",
       "39 0.00976469116820372074 0.29888697059161040137 0.01619957645985448461  \n",
       "40 0.00897797252778964952 0.27890775176793991541 0.01584605021983738829  \n",
       "41 0.01004271269657834413 0.26043019066968653430 0.01492450726979163700  \n",
       "42 0.00928547991364638177 0.28673740375851913820 0.01503891756635474322  \n",
       "43 0.01019731725195419277 0.29341299202846993222 0.01597574650663063575  \n",
       "44 0.00914017399166728445 0.28796125902231051175 0.01592309285790430642  \n",
       "45 0.00974242882516509513 0.29077498327281547930 0.01679793520439128857  \n",
       "46 0.01011774317373373595 0.29496972447817249030 0.01640248223206133490  \n",
       "47 0.00955400454206958329 0.29340449349168995496 0.01584485571211427177  \n",
       "48 0.01061070707456457547 0.30911158277105638126 0.01723701002005561395  \n",
       "49 0.00859878519428174462 0.27450481630859979720 0.01700633901584972657  "
      ]
     },
     "execution_count": 65,
     "metadata": {},
     "output_type": "execute_result"
    }
   ],
   "source": [
    "final_df"
   ]
  },
  {
   "cell_type": "code",
   "execution_count": 66,
   "metadata": {},
   "outputs": [
    {
     "data": {
      "text/plain": [
       "array([0.0057, 0.051 , 0.    , 0.    , 0.    , 0.    , 0.    , 0.    ,\n",
       "       0.    , 0.    , 0.    , 0.    , 0.    , 0.    , 0.0323, 0.    ,\n",
       "       0.    , 0.0025, 0.    , 0.    , 0.    , 0.    , 0.    , 0.0898,\n",
       "       0.    , 0.    , 0.    , 0.    , 0.    , 0.0211, 0.    , 0.    ,\n",
       "       0.    , 0.    , 0.    , 0.    , 0.    , 0.    , 0.0135, 0.0365,\n",
       "       0.    , 0.    , 0.0621, 0.    , 0.    , 0.    , 0.    , 0.    ,\n",
       "       0.    , 0.0335, 0.    , 0.    , 0.    , 0.    , 0.    , 0.0196,\n",
       "       0.0425, 0.0666, 0.0008, 0.    , 0.0692, 0.    , 0.    , 0.    ,\n",
       "       0.    , 0.    , 0.0365, 0.    , 0.    , 0.    , 0.0073, 0.    ,\n",
       "       0.    , 0.    , 0.0452, 0.0003, 0.    , 0.    , 0.1008, 0.    ,\n",
       "       0.    , 0.    , 0.    , 0.    , 0.    , 0.    , 0.    , 0.    ,\n",
       "       0.    , 0.    , 0.    , 0.    , 0.    , 0.0054, 0.    , 0.    ,\n",
       "       0.    , 0.    , 0.0149, 0.0489, 0.0087, 0.0167, 0.    , 0.011 ,\n",
       "       0.    , 0.0332, 0.    , 0.    , 0.    , 0.    , 0.    , 0.0542,\n",
       "       0.0197, 0.    , 0.    , 0.    , 0.    , 0.0506, 0.    , 0.    ])"
      ]
     },
     "execution_count": 66,
     "metadata": {},
     "output_type": "execute_result"
    }
   ],
   "source": [
    "perturbed_weights"
   ]
  },
  {
   "cell_type": "markdown",
   "metadata": {},
   "source": [
    "## Stability Across Time Periods"
   ]
  },
  {
   "cell_type": "code",
   "execution_count": 67,
   "metadata": {},
   "outputs": [],
   "source": [
    "# Define time windows for different periods\n",
    "time_windows = {\n",
    "    \"Pre-2008 Financial Crisis\": (\"2005-01-01\", \"2007-12-31\"),\n",
    "    \"Global Financial Crisis\": (\"2008-01-01\", \"2009-12-31\"),\n",
    "    \"Post-Crisis Recovery\": (\"2010-01-01\", \"2015-12-31\"),\n",
    "    \"COVID-19 Pandemic\": (\"2020-01-01\", \"2021-12-31\"),\n",
    "    \"Recent Period\": (\"2022-01-01\", \"2024-10-01\")\n",
    "}"
   ]
  },
  {
   "cell_type": "code",
   "execution_count": 68,
   "metadata": {},
   "outputs": [
    {
     "name": "stderr",
     "output_type": "stream",
     "text": [
      "/var/folders/0q/3_k17wq97378_rpc0k5cjj_m0000gn/T/ipykernel_3771/2915363280.py:2: FutureWarning:\n",
      "\n",
      "The default fill_method='pad' in DataFrame.pct_change is deprecated and will be removed in a future version. Call ffill before calling pct_change to retain current behavior and silence this warning.\n",
      "\n"
     ]
    },
    {
     "name": "stdout",
     "output_type": "stream",
     "text": [
      "Solver used: ECOS\n",
      "Solver used: ECOS\n",
      "Solver used: ECOS\n",
      "Solver used: ECOS\n",
      "Solver used: ECOS\n"
     ]
    },
    {
     "data": {
      "application/vnd.plotly.v1+json": {
       "config": {
        "plotlyServerURL": "https://plot.ly"
       },
       "data": [
        {
         "hoverinfo": "y",
         "hovertemplate": "JPM<br>%{y:.2f}",
         "marker": {
          "color": [
           "rgb(120, 28, 109)"
          ]
         },
         "name": "JPM",
         "showlegend": true,
         "type": "bar",
         "x": [
          "Pre-2008 Financial Crisis"
         ],
         "y": [
          0.33411460980038155
         ]
        },
        {
         "hoverinfo": "y",
         "hovertemplate": "SBUX<br>%{y:.2f}",
         "marker": {
          "color": [
           "rgb(96, 20, 108)"
          ]
         },
         "name": "SBUX",
         "showlegend": true,
         "type": "bar",
         "x": [
          "Pre-2008 Financial Crisis"
         ],
         "y": [
          0.10692289919116506
         ]
        },
        {
         "hoverinfo": "y",
         "hovertemplate": "AAPL<br>%{y:.2f}",
         "marker": {
          "color": [
           "rgb(0, 0, 4)"
          ]
         },
         "name": "AAPL",
         "showlegend": true,
         "type": "bar",
         "x": [
          "Pre-2008 Financial Crisis"
         ],
         "y": [
          0.08148437903274638
         ]
        },
        {
         "hoverinfo": "y",
         "hovertemplate": "BLK<br>%{y:.2f}",
         "marker": {
          "color": [
           "rgb(147, 38, 101)"
          ]
         },
         "name": "BLK",
         "showlegend": true,
         "type": "bar",
         "x": [
          "Pre-2008 Financial Crisis"
         ],
         "y": [
          0.06418866216700907
         ]
        },
        {
         "hoverinfo": "y",
         "hovertemplate": "GE<br>%{y:.2f}",
         "marker": {
          "color": [
           "rgb(173, 49, 91)"
          ]
         },
         "name": "GE",
         "showlegend": true,
         "type": "bar",
         "x": [
          "Pre-2008 Financial Crisis"
         ],
         "y": [
          0.0632832682015416
         ]
        },
        {
         "hoverinfo": "y",
         "hovertemplate": "PFE<br>%{y:.2f}",
         "marker": {
          "color": [
           "rgb(22, 10, 54)"
          ]
         },
         "name": "PFE",
         "showlegend": true,
         "type": "bar",
         "x": [
          "Pre-2008 Financial Crisis"
         ],
         "y": [
          0.05639964843609533
         ]
        },
        {
         "hoverinfo": "y",
         "hovertemplate": "TGT<br>%{y:.2f}",
         "marker": {
          "color": [
           "rgb(99, 21, 108)"
          ]
         },
         "name": "TGT",
         "showlegend": true,
         "type": "bar",
         "x": [
          "Pre-2008 Financial Crisis"
         ],
         "y": [
          0.04745025134277839
         ]
        },
        {
         "hoverinfo": "y",
         "hovertemplate": "LLY<br>%{y:.2f}",
         "marker": {
          "color": [
           "rgb(33, 12, 70)"
          ]
         },
         "name": "LLY",
         "showlegend": true,
         "type": "bar",
         "x": [
          "Pre-2008 Financial Crisis"
         ],
         "y": [
          0.04482045778812339
         ]
        },
        {
         "hoverinfo": "y",
         "hovertemplate": "LMT<br>%{y:.2f}",
         "marker": {
          "color": [
           "rgb(170, 47, 93)"
          ]
         },
         "name": "LMT",
         "showlegend": true,
         "type": "bar",
         "x": [
          "Pre-2008 Financial Crisis"
         ],
         "y": [
          0.04475654762983962
         ]
        },
        {
         "hoverinfo": "y",
         "hovertemplate": "PSX<br>%{y:.2f}",
         "marker": {
          "color": [
           "rgb(241, 120, 28)"
          ]
         },
         "name": "PSX",
         "showlegend": true,
         "type": "bar",
         "x": [
          "Pre-2008 Financial Crisis"
         ],
         "y": [
          0.03608226950616911
         ]
        },
        {
         "hoverinfo": "y",
         "hovertemplate": "ELV<br>%{y:.2f}",
         "marker": {
          "color": [
           "rgb(47, 12, 83)"
          ]
         },
         "name": "ELV",
         "showlegend": true,
         "type": "bar",
         "x": [
          "Pre-2008 Financial Crisis"
         ],
         "y": [
          0.02442838052320264
         ]
        },
        {
         "hoverinfo": "y",
         "hovertemplate": "CAT<br>%{y:.2f}",
         "marker": {
          "color": [
           "rgb(157, 41, 98)"
          ]
         },
         "name": "CAT",
         "showlegend": true,
         "type": "bar",
         "x": [
          "Pre-2008 Financial Crisis"
         ],
         "y": [
          0.024291761148402497
         ]
        },
        {
         "hoverinfo": "y",
         "hovertemplate": "OXY<br>%{y:.2f}",
         "marker": {
          "color": [
           "rgb(246, 139, 16)"
          ]
         },
         "name": "OXY",
         "showlegend": true,
         "type": "bar",
         "x": [
          "Pre-2008 Financial Crisis"
         ],
         "y": [
          0.023151957277517694
         ]
        },
        {
         "hoverinfo": "y",
         "hovertemplate": "META<br>%{y:.2f}",
         "marker": {
          "color": [
           "rgb(228, 94, 47)"
          ]
         },
         "name": "META",
         "showlegend": true,
         "type": "bar",
         "x": [
          "Pre-2008 Financial Crisis"
         ],
         "y": [
          0.013492236918198963
         ]
        },
        {
         "hoverinfo": "y",
         "hovertemplate": "DE<br>%{y:.2f}",
         "marker": {
          "color": [
           "rgb(183, 54, 85)"
          ]
         },
         "name": "DE",
         "showlegend": true,
         "type": "bar",
         "x": [
          "Pre-2008 Financial Crisis"
         ],
         "y": [
          0.01051327324159005
         ]
        },
        {
         "hoverinfo": "y",
         "hovertemplate": "VZ<br>%{y:.2f}",
         "marker": {
          "color": [
           "rgb(214, 77, 62)"
          ]
         },
         "name": "VZ",
         "showlegend": true,
         "type": "bar",
         "x": [
          "Pre-2008 Financial Crisis"
         ],
         "y": [
          0.007896523210793418
         ]
        },
        {
         "hoverinfo": "y",
         "hovertemplate": "NEE<br>%{y:.2f}",
         "marker": {
          "color": [
           "rgb(186, 56, 83)"
          ]
         },
         "name": "NEE",
         "showlegend": true,
         "type": "bar",
         "x": [
          "Pre-2008 Financial Crisis"
         ],
         "y": [
          0.007067070692338428
         ]
        },
        {
         "hoverinfo": "y",
         "hovertemplate": "NKE<br>%{y:.2f}",
         "marker": {
          "color": [
           "rgb(89, 17, 108)"
          ]
         },
         "name": "NKE",
         "showlegend": true,
         "type": "bar",
         "x": [
          "Pre-2008 Financial Crisis"
         ],
         "y": [
          0.0061878700903746225
         ]
        },
        {
         "hoverinfo": "y",
         "hovertemplate": "SO<br>%{y:.2f}",
         "marker": {
          "color": [
           "rgb(192, 60, 79)"
          ]
         },
         "name": "SO",
         "showlegend": true,
         "type": "bar",
         "x": [
          "Pre-2008 Financial Crisis"
         ],
         "y": [
          0.0026381992051130515
         ]
        },
        {
         "hoverinfo": "y",
         "hovertemplate": "HD<br>%{y:.2f}",
         "marker": {
          "color": [
           "rgb(103, 22, 108)"
          ]
         },
         "name": "HD",
         "showlegend": true,
         "type": "bar",
         "x": [
          "Pre-2008 Financial Crisis"
         ],
         "y": [
          0.0008293770423211161
         ]
        },
        {
         "hoverinfo": "y",
         "hovertemplate": "NVDA<br>%{y:.2f}",
         "marker": {
          "color": [
           "rgb(8, 4, 22)"
          ]
         },
         "name": "NVDA",
         "showlegend": true,
         "type": "bar",
         "x": [
          "Pre-2008 Financial Crisis"
         ],
         "y": [
          3.090724391857261e-7
         ]
        },
        {
         "hoverinfo": "y",
         "hovertemplate": "XOM<br>%{y:.2f}",
         "marker": {
          "color": [
           "rgb(237, 105, 37)"
          ]
         },
         "name": "XOM",
         "showlegend": true,
         "type": "bar",
         "x": [
          "Pre-2008 Financial Crisis"
         ],
         "y": [
          1.135038744799274e-8
         ]
        },
        {
         "hoverinfo": "y",
         "hovertemplate": "XEL<br>%{y:.2f}",
         "marker": {
          "color": [
           "rgb(205, 67, 71)"
          ]
         },
         "name": "XEL",
         "showlegend": true,
         "type": "bar",
         "x": [
          "Pre-2008 Financial Crisis"
         ],
         "y": [
          5.056541085080284e-9
         ]
        },
        {
         "hoverinfo": "y",
         "hovertemplate": "COP<br>%{y:.2f}",
         "marker": {
          "color": [
           "rgb(239, 113, 32)"
          ]
         },
         "name": "COP",
         "showlegend": true,
         "type": "bar",
         "x": [
          "Pre-2008 Financial Crisis"
         ],
         "y": [
          4.7387276609492205e-9
         ]
        },
        {
         "hoverinfo": "y",
         "hovertemplate": "AMZN<br>%{y:.2f}",
         "marker": {
          "color": [
           "rgb(6, 3, 18)"
          ]
         },
         "name": "AMZN",
         "showlegend": true,
         "type": "bar",
         "x": [
          "Pre-2008 Financial Crisis"
         ],
         "y": [
          3.383115321692934e-9
         ]
        },
        {
         "hoverinfo": "y",
         "hovertemplate": "SCHW<br>%{y:.2f}",
         "marker": {
          "color": [
           "rgb(140, 35, 103)"
          ]
         },
         "name": "SCHW",
         "showlegend": true,
         "type": "bar",
         "x": [
          "Pre-2008 Financial Crisis"
         ],
         "y": [
          1.7981285450447975e-9
         ]
        },
        {
         "hoverinfo": "y",
         "hovertemplate": "WMT<br>%{y:.2f}",
         "marker": {
          "color": [
           "rgb(61, 12, 95)"
          ]
         },
         "name": "WMT",
         "showlegend": true,
         "type": "bar",
         "x": [
          "Pre-2008 Financial Crisis"
         ],
         "y": [
          1.3823149859163301e-9
         ]
        },
        {
         "hoverinfo": "y",
         "hovertemplate": "BA<br>%{y:.2f}",
         "marker": {
          "color": [
           "rgb(154, 40, 99)"
          ]
         },
         "name": "BA",
         "showlegend": true,
         "type": "bar",
         "x": [
          "Pre-2008 Financial Crisis"
         ],
         "y": [
          1.2188859680984521e-9
         ]
        },
        {
         "hoverinfo": "y",
         "hovertemplate": "D<br>%{y:.2f}",
         "marker": {
          "color": [
           "rgb(202, 65, 73)"
          ]
         },
         "name": "D",
         "showlegend": true,
         "type": "bar",
         "x": [
          "Pre-2008 Financial Crisis"
         ],
         "y": [
          1.2022442939511418e-9
         ]
        },
        {
         "hoverinfo": "y",
         "hovertemplate": "SPOT<br>%{y:.2f}",
         "marker": {
          "color": [
           "rgb(235, 102, 39)"
          ]
         },
         "name": "SPOT",
         "showlegend": true,
         "type": "bar",
         "x": [
          "Pre-2008 Financial Crisis"
         ],
         "y": [
          1.2018652034226403e-9
         ]
        },
        {
         "hoverinfo": "y",
         "hovertemplate": "MDLZ<br>%{y:.2f}",
         "marker": {
          "color": [
           "rgb(75, 12, 107)"
          ]
         },
         "name": "MDLZ",
         "showlegend": true,
         "type": "bar",
         "x": [
          "Pre-2008 Financial Crisis"
         ],
         "y": [
          9.200716658444578e-10
         ]
        },
        {
         "hoverinfo": "y",
         "hovertemplate": "AMT<br>%{y:.2f}",
         "marker": {
          "color": [
           "rgb(117, 27, 109)"
          ]
         },
         "name": "AMT",
         "showlegend": true,
         "type": "bar",
         "x": [
          "Pre-2008 Financial Crisis"
         ],
         "y": [
          8.09851969855944e-10
         ]
        },
        {
         "hoverinfo": "y",
         "hovertemplate": "INTC<br>%{y:.2f}",
         "marker": {
          "color": [
           "rgb(16, 7, 41)"
          ]
         },
         "name": "INTC",
         "showlegend": true,
         "type": "bar",
         "x": [
          "Pre-2008 Financial Crisis"
         ],
         "y": [
          7.873590427323749e-10
         ]
        },
        {
         "hoverinfo": "y",
         "hovertemplate": "COST<br>%{y:.2f}",
         "marker": {
          "color": [
           "rgb(82, 15, 107)"
          ]
         },
         "name": "COST",
         "showlegend": true,
         "type": "bar",
         "x": [
          "Pre-2008 Financial Crisis"
         ],
         "y": [
          7.23285269751006e-10
         ]
        },
        {
         "hoverinfo": "y",
         "hovertemplate": "SRE<br>%{y:.2f}",
         "marker": {
          "color": [
           "rgb(210, 72, 67)"
          ]
         },
         "name": "SRE",
         "showlegend": true,
         "type": "bar",
         "x": [
          "Pre-2008 Financial Crisis"
         ],
         "y": [
          5.808830936282709e-10
         ]
        },
        {
         "hoverinfo": "y",
         "hovertemplate": "MPC<br>%{y:.2f}",
         "marker": {
          "color": [
           "rgb(243, 128, 23)"
          ]
         },
         "name": "MPC",
         "showlegend": true,
         "type": "bar",
         "x": [
          "Pre-2008 Financial Crisis"
         ],
         "y": [
          4.878858930565571e-10
         ]
        },
        {
         "hoverinfo": "y",
         "hovertemplate": "GILD<br>%{y:.2f}",
         "marker": {
          "color": [
           "rgb(40, 12, 77)"
          ]
         },
         "name": "GILD",
         "showlegend": true,
         "type": "bar",
         "x": [
          "Pre-2008 Financial Crisis"
         ],
         "y": [
          4.361448044433149e-10
         ]
        },
        {
         "hoverinfo": "y",
         "hovertemplate": "VLO<br>%{y:.2f}",
         "marker": {
          "color": [
           "rgb(242, 124, 25)"
          ]
         },
         "name": "VLO",
         "showlegend": true,
         "type": "bar",
         "x": [
          "Pre-2008 Financial Crisis"
         ],
         "y": [
          4.1939390393242546e-10
         ]
        },
        {
         "hoverinfo": "y",
         "hovertemplate": "PEP<br>%{y:.2f}",
         "marker": {
          "color": [
           "rgb(58, 12, 92)"
          ]
         },
         "name": "PEP",
         "showlegend": true,
         "type": "bar",
         "x": [
          "Pre-2008 Financial Crisis"
         ],
         "y": [
          4.056190261755655e-10
         ]
        },
        {
         "hoverinfo": "y",
         "hovertemplate": "MCD<br>%{y:.2f}",
         "marker": {
          "color": [
           "rgb(92, 18, 108)"
          ]
         },
         "name": "MCD",
         "showlegend": true,
         "type": "bar",
         "x": [
          "Pre-2008 Financial Crisis"
         ],
         "y": [
          4.0412134898638137e-10
         ]
        },
        {
         "hoverinfo": "y",
         "hovertemplate": "KMB<br>%{y:.2f}",
         "marker": {
          "color": [
           "rgb(68, 12, 102)"
          ]
         },
         "name": "KMB",
         "showlegend": true,
         "type": "bar",
         "x": [
          "Pre-2008 Financial Crisis"
         ],
         "y": [
          3.969991296394288e-10
         ]
        },
        {
         "hoverinfo": "y",
         "hovertemplate": "MDT<br>%{y:.2f}",
         "marker": {
          "color": [
           "rgb(43, 12, 80)"
          ]
         },
         "name": "MDT",
         "showlegend": true,
         "type": "bar",
         "x": [
          "Pre-2008 Financial Crisis"
         ],
         "y": [
          3.8767667674138e-10
         ]
        },
        {
         "hoverinfo": "y",
         "hovertemplate": "WFC<br>%{y:.2f}",
         "marker": {
          "color": [
           "rgb(130, 32, 106)"
          ]
         },
         "name": "WFC",
         "showlegend": true,
         "type": "bar",
         "x": [
          "Pre-2008 Financial Crisis"
         ],
         "y": [
          3.806138890249161e-10
         ]
        },
        {
         "hoverinfo": "y",
         "hovertemplate": "KO<br>%{y:.2f}",
         "marker": {
          "color": [
           "rgb(54, 12, 89)"
          ]
         },
         "name": "KO",
         "showlegend": true,
         "type": "bar",
         "x": [
          "Pre-2008 Financial Crisis"
         ],
         "y": [
          3.801495800572538e-10
         ]
        },
        {
         "hoverinfo": "y",
         "hovertemplate": "GOOG<br>%{y:.2f}",
         "marker": {
          "color": [
           "rgb(4, 2, 13)"
          ]
         },
         "name": "GOOG",
         "showlegend": true,
         "type": "bar",
         "x": [
          "Pre-2008 Financial Crisis"
         ],
         "y": [
          3.5695533928838314e-10
         ]
        },
        {
         "hoverinfo": "y",
         "hovertemplate": "DUK<br>%{y:.2f}",
         "marker": {
          "color": [
           "rgb(189, 58, 81)"
          ]
         },
         "name": "DUK",
         "showlegend": true,
         "type": "bar",
         "x": [
          "Pre-2008 Financial Crisis"
         ],
         "y": [
          3.4857107889943363e-10
         ]
        },
        {
         "hoverinfo": "y",
         "hovertemplate": "GOOGL<br>%{y:.2f}",
         "marker": {
          "color": [
           "rgb(226, 91, 49)"
          ]
         },
         "name": "GOOGL",
         "showlegend": true,
         "type": "bar",
         "x": [
          "Pre-2008 Financial Crisis"
         ],
         "y": [
          3.0549679286240056e-10
         ]
        },
        {
         "hoverinfo": "y",
         "hovertemplate": "MO<br>%{y:.2f}",
         "marker": {
          "color": [
           "rgb(72, 12, 105)"
          ]
         },
         "name": "MO",
         "showlegend": true,
         "type": "bar",
         "x": [
          "Pre-2008 Financial Crisis"
         ],
         "y": [
          2.9747900379387927e-10
         ]
        },
        {
         "hoverinfo": "y",
         "hovertemplate": "PPL<br>%{y:.2f}",
         "marker": {
          "color": [
           "rgb(212, 74, 64)"
          ]
         },
         "name": "PPL",
         "showlegend": true,
         "type": "bar",
         "x": [
          "Pre-2008 Financial Crisis"
         ],
         "y": [
          2.916333339937691e-10
         ]
        },
        {
         "hoverinfo": "y",
         "hovertemplate": "HYG<br>%{y:.2f}",
         "marker": {
          "color": [
           "rgb(250, 162, 13)"
          ]
         },
         "name": "HYG",
         "showlegend": true,
         "type": "bar",
         "x": [
          "Pre-2008 Financial Crisis"
         ],
         "y": [
          2.8814565825616506e-10
         ]
        },
        {
         "hoverinfo": "y",
         "hovertemplate": "CMCSA<br>%{y:.2f}",
         "marker": {
          "color": [
           "rgb(219, 83, 57)"
          ]
         },
         "name": "CMCSA",
         "showlegend": true,
         "type": "bar",
         "x": [
          "Pre-2008 Financial Crisis"
         ],
         "y": [
          2.8720195960834497e-10
         ]
        },
        {
         "hoverinfo": "y",
         "hovertemplate": "EXC<br>%{y:.2f}",
         "marker": {
          "color": [
           "rgb(199, 63, 75)"
          ]
         },
         "name": "EXC",
         "showlegend": true,
         "type": "bar",
         "x": [
          "Pre-2008 Financial Crisis"
         ],
         "y": [
          2.8471421894573197e-10
         ]
        },
        {
         "hoverinfo": "y",
         "hovertemplate": "AXP<br>%{y:.2f}",
         "marker": {
          "color": [
           "rgb(137, 34, 104)"
          ]
         },
         "name": "AXP",
         "showlegend": true,
         "type": "bar",
         "x": [
          "Pre-2008 Financial Crisis"
         ],
         "y": [
          2.8180713435810137e-10
         ]
        },
        {
         "hoverinfo": "y",
         "hovertemplate": "CHTR<br>%{y:.2f}",
         "marker": {
          "color": [
           "rgb(230, 97, 44)"
          ]
         },
         "name": "CHTR",
         "showlegend": true,
         "type": "bar",
         "x": [
          "Pre-2008 Financial Crisis"
         ],
         "y": [
          2.8134375851690025e-10
         ]
        },
        {
         "hoverinfo": "y",
         "hovertemplate": "ADBE<br>%{y:.2f}",
         "marker": {
          "color": [
           "rgb(10, 4, 27)"
          ]
         },
         "name": "ADBE",
         "showlegend": true,
         "type": "bar",
         "x": [
          "Pre-2008 Financial Crisis"
         ],
         "y": [
          2.720905728305402e-10
         ]
        },
        {
         "hoverinfo": "y",
         "hovertemplate": "JNJ<br>%{y:.2f}",
         "marker": {
          "color": [
           "rgb(20, 9, 50)"
          ]
         },
         "name": "JNJ",
         "showlegend": true,
         "type": "bar",
         "x": [
          "Pre-2008 Financial Crisis"
         ],
         "y": [
          2.675045023226123e-10
         ]
        },
        {
         "hoverinfo": "y",
         "hovertemplate": "UPS<br>%{y:.2f}",
         "marker": {
          "color": [
           "rgb(180, 52, 87)"
          ]
         },
         "name": "UPS",
         "showlegend": true,
         "type": "bar",
         "x": [
          "Pre-2008 Financial Crisis"
         ],
         "y": [
          2.637923042718559e-10
         ]
        },
        {
         "hoverinfo": "y",
         "hovertemplate": "LQD<br>%{y:.2f}",
         "marker": {
          "color": [
           "rgb(251, 158, 9)"
          ]
         },
         "name": "LQD",
         "showlegend": true,
         "type": "bar",
         "x": [
          "Pre-2008 Financial Crisis"
         ],
         "y": [
          2.6320278394631834e-10
         ]
        },
        {
         "hoverinfo": "y",
         "hovertemplate": "HON<br>%{y:.2f}",
         "marker": {
          "color": [
           "rgb(164, 44, 96)"
          ]
         },
         "name": "HON",
         "showlegend": true,
         "type": "bar",
         "x": [
          "Pre-2008 Financial Crisis"
         ],
         "y": [
          2.6102027627366006e-10
         ]
        },
        {
         "hoverinfo": "y",
         "hovertemplate": "TLT<br>%{y:.2f}",
         "marker": {
          "color": [
           "rgb(249, 146, 11)"
          ]
         },
         "name": "TLT",
         "showlegend": true,
         "type": "bar",
         "x": [
          "Pre-2008 Financial Crisis"
         ],
         "y": [
          2.4359619438352155e-10
         ]
        },
        {
         "hoverinfo": "y",
         "hovertemplate": "TJX<br>%{y:.2f}",
         "marker": {
          "color": [
           "rgb(110, 24, 109)"
          ]
         },
         "name": "TJX",
         "showlegend": true,
         "type": "bar",
         "x": [
          "Pre-2008 Financial Crisis"
         ],
         "y": [
          2.1304732774625709e-10
         ]
        },
        {
         "hoverinfo": "y",
         "hovertemplate": "MMM<br>%{y:.2f}",
         "marker": {
          "color": [
           "rgb(161, 42, 97)"
          ]
         },
         "name": "MMM",
         "showlegend": true,
         "type": "bar",
         "x": [
          "Pre-2008 Financial Crisis"
         ],
         "y": [
          2.08051403918942e-10
         ]
        },
        {
         "hoverinfo": "y",
         "hovertemplate": "BMY<br>%{y:.2f}",
         "marker": {
          "color": [
           "rgb(29, 12, 67)"
          ]
         },
         "name": "BMY",
         "showlegend": true,
         "type": "bar",
         "x": [
          "Pre-2008 Financial Crisis"
         ],
         "y": [
          2.0765758921598297e-10
         ]
        },
        {
         "hoverinfo": "y",
         "hovertemplate": "LOW<br>%{y:.2f}",
         "marker": {
          "color": [
           "rgb(106, 23, 108)"
          ]
         },
         "name": "LOW",
         "showlegend": true,
         "type": "bar",
         "x": [
          "Pre-2008 Financial Crisis"
         ],
         "y": [
          2.0196521729469535e-10
         ]
        },
        {
         "hoverinfo": "y",
         "hovertemplate": "PG<br>%{y:.2f}",
         "marker": {
          "color": [
           "rgb(51, 12, 86)"
          ]
         },
         "name": "PG",
         "showlegend": true,
         "type": "bar",
         "x": [
          "Pre-2008 Financial Crisis"
         ],
         "y": [
          1.8691049948476585e-10
         ]
        },
        {
         "hoverinfo": "y",
         "hovertemplate": "SLB<br>%{y:.2f}",
         "marker": {
          "color": [
           "rgb(240, 116, 30)"
          ]
         },
         "name": "SLB",
         "showlegend": true,
         "type": "bar",
         "x": [
          "Pre-2008 Financial Crisis"
         ],
         "y": [
          1.858653854587332e-10
         ]
        },
        {
         "hoverinfo": "y",
         "hovertemplate": "MRK<br>%{y:.2f}",
         "marker": {
          "color": [
           "rgb(24, 11, 59)"
          ]
         },
         "name": "MRK",
         "showlegend": true,
         "type": "bar",
         "x": [
          "Pre-2008 Financial Crisis"
         ],
         "y": [
          1.7648616375329218e-10
         ]
        },
        {
         "hoverinfo": "y",
         "hovertemplate": "TMUS<br>%{y:.2f}",
         "marker": {
          "color": [
           "rgb(233, 99, 42)"
          ]
         },
         "name": "TMUS",
         "showlegend": true,
         "type": "bar",
         "x": [
          "Pre-2008 Financial Crisis"
         ],
         "y": [
          1.749576344389682e-10
         ]
        },
        {
         "hoverinfo": "y",
         "hovertemplate": "TSLA<br>%{y:.2f}",
         "marker": {
          "color": [
           "rgb(86, 16, 108)"
          ]
         },
         "name": "TSLA",
         "showlegend": true,
         "type": "bar",
         "x": [
          "Pre-2008 Financial Crisis"
         ],
         "y": [
          1.724310904274407e-10
         ]
        },
        {
         "hoverinfo": "y",
         "hovertemplate": "CL<br>%{y:.2f}",
         "marker": {
          "color": [
           "rgb(65, 12, 99)"
          ]
         },
         "name": "CL",
         "showlegend": true,
         "type": "bar",
         "x": [
          "Pre-2008 Financial Crisis"
         ],
         "y": [
          1.675724117708157e-10
         ]
        },
        {
         "hoverinfo": "y",
         "hovertemplate": "BKR<br>%{y:.2f}",
         "marker": {
          "color": [
           "rgb(245, 135, 18)"
          ]
         },
         "name": "BKR",
         "showlegend": true,
         "type": "bar",
         "x": [
          "Pre-2008 Financial Crisis"
         ],
         "y": [
          1.6442290100241454e-10
         ]
        },
        {
         "hoverinfo": "y",
         "hovertemplate": "UNP<br>%{y:.2f}",
         "marker": {
          "color": [
           "rgb(167, 45, 95)"
          ]
         },
         "name": "UNP",
         "showlegend": true,
         "type": "bar",
         "x": [
          "Pre-2008 Financial Crisis"
         ],
         "y": [
          1.632203218161805e-10
         ]
        },
        {
         "hoverinfo": "y",
         "hovertemplate": "ORCL<br>%{y:.2f}",
         "marker": {
          "color": [
           "rgb(12, 5, 31)"
          ]
         },
         "name": "ORCL",
         "showlegend": true,
         "type": "bar",
         "x": [
          "Pre-2008 Financial Crisis"
         ],
         "y": [
          1.5962643464412411e-10
         ]
        },
        {
         "hoverinfo": "y",
         "hovertemplate": "MS<br>%{y:.2f}",
         "marker": {
          "color": [
           "rgb(144, 36, 102)"
          ]
         },
         "name": "MS",
         "showlegend": true,
         "type": "bar",
         "x": [
          "Pre-2008 Financial Crisis"
         ],
         "y": [
          1.5947784596773917e-10
         ]
        },
        {
         "hoverinfo": "y",
         "hovertemplate": "DIS<br>%{y:.2f}",
         "marker": {
          "color": [
           "rgb(221, 86, 54)"
          ]
         },
         "name": "DIS",
         "showlegend": true,
         "type": "bar",
         "x": [
          "Pre-2008 Financial Crisis"
         ],
         "y": [
          1.531385333378427e-10
         ]
        },
        {
         "hoverinfo": "y",
         "hovertemplate": "IEF<br>%{y:.2f}",
         "marker": {
          "color": [
           "rgb(248, 143, 14)"
          ]
         },
         "name": "IEF",
         "showlegend": true,
         "type": "bar",
         "x": [
          "Pre-2008 Financial Crisis"
         ],
         "y": [
          1.4948642052565347e-10
         ]
        },
        {
         "hoverinfo": "y",
         "hovertemplate": "MSFT<br>%{y:.2f}",
         "marker": {
          "color": [
           "rgb(2, 1, 9)"
          ]
         },
         "name": "MSFT",
         "showlegend": true,
         "type": "bar",
         "x": [
          "Pre-2008 Financial Crisis"
         ],
         "y": [
          1.4861901183943217e-10
         ]
        },
        {
         "hoverinfo": "y",
         "hovertemplate": "GOVT<br>%{y:.2f}",
         "marker": {
          "color": [
           "rgb(250, 150, 9)"
          ]
         },
         "name": "GOVT",
         "showlegend": true,
         "type": "bar",
         "x": [
          "Pre-2008 Financial Crisis"
         ],
         "y": [
          1.3756096871225643e-10
         ]
        },
        {
         "hoverinfo": "y",
         "hovertemplate": "ED<br>%{y:.2f}",
         "marker": {
          "color": [
           "rgb(208, 69, 69)"
          ]
         },
         "name": "ED",
         "showlegend": true,
         "type": "bar",
         "x": [
          "Pre-2008 Financial Crisis"
         ],
         "y": [
          1.312755502682784e-10
         ]
        },
        {
         "hoverinfo": "y",
         "hovertemplate": "GS<br>%{y:.2f}",
         "marker": {
          "color": [
           "rgb(127, 30, 107)"
          ]
         },
         "name": "GS",
         "showlegend": true,
         "type": "bar",
         "x": [
          "Pre-2008 Financial Crisis"
         ],
         "y": [
          1.312128228173657e-10
         ]
        },
        {
         "hoverinfo": "y",
         "hovertemplate": "BND<br>%{y:.2f}",
         "marker": {
          "color": [
           "rgb(251, 154, 7)"
          ]
         },
         "name": "BND",
         "showlegend": true,
         "type": "bar",
         "x": [
          "Pre-2008 Financial Crisis"
         ],
         "y": [
          1.2821916802483693e-10
         ]
        },
        {
         "hoverinfo": "y",
         "hovertemplate": "GIS<br>%{y:.2f}",
         "marker": {
          "color": [
           "rgb(79, 14, 107)"
          ]
         },
         "name": "GIS",
         "showlegend": true,
         "type": "bar",
         "x": [
          "Pre-2008 Financial Crisis"
         ],
         "y": [
          1.2819700587447725e-10
         ]
        },
        {
         "hoverinfo": "y",
         "hovertemplate": "BAC<br>%{y:.2f}",
         "marker": {
          "color": [
           "rgb(123, 29, 108)"
          ]
         },
         "name": "BAC",
         "showlegend": true,
         "type": "bar",
         "x": [
          "Pre-2008 Financial Crisis"
         ],
         "y": [
          1.2763768459798468e-10
         ]
        },
        {
         "hoverinfo": "y",
         "hovertemplate": "AEP<br>%{y:.2f}",
         "marker": {
          "color": [
           "rgb(195, 61, 77)"
          ]
         },
         "name": "AEP",
         "showlegend": true,
         "type": "bar",
         "x": [
          "Pre-2008 Financial Crisis"
         ],
         "y": [
          1.2689285597964837e-10
         ]
        },
        {
         "hoverinfo": "y",
         "hovertemplate": "C<br>%{y:.2f}",
         "marker": {
          "color": [
           "rgb(134, 33, 105)"
          ]
         },
         "name": "C",
         "showlegend": true,
         "type": "bar",
         "x": [
          "Pre-2008 Financial Crisis"
         ],
         "y": [
          1.2500029560001873e-10
         ]
        },
        {
         "hoverinfo": "y",
         "hovertemplate": "HAL<br>%{y:.2f}",
         "marker": {
          "color": [
           "rgb(244, 131, 21)"
          ]
         },
         "name": "HAL",
         "showlegend": true,
         "type": "bar",
         "x": [
          "Pre-2008 Financial Crisis"
         ],
         "y": [
          1.2223141967275643e-10
         ]
        },
        {
         "hoverinfo": "y",
         "hovertemplate": "CSCO<br>%{y:.2f}",
         "marker": {
          "color": [
           "rgb(18, 8, 45)"
          ]
         },
         "name": "CSCO",
         "showlegend": true,
         "type": "bar",
         "x": [
          "Pre-2008 Financial Crisis"
         ],
         "y": [
          1.2083228168870177e-10
         ]
        },
        {
         "hoverinfo": "y",
         "hovertemplate": "CRM<br>%{y:.2f}",
         "marker": {
          "color": [
           "rgb(14, 6, 36)"
          ]
         },
         "name": "CRM",
         "showlegend": true,
         "type": "bar",
         "x": [
          "Pre-2008 Financial Crisis"
         ],
         "y": [
          1.0707815403234319e-10
         ]
        },
        {
         "hoverinfo": "y",
         "hovertemplate": "CVX<br>%{y:.2f}",
         "marker": {
          "color": [
           "rgb(238, 109, 35)"
          ]
         },
         "name": "CVX",
         "showlegend": true,
         "type": "bar",
         "x": [
          "Pre-2008 Financial Crisis"
         ],
         "y": [
          1.0521557256852807e-10
         ]
        },
        {
         "hoverinfo": "y",
         "hovertemplate": "T<br>%{y:.2f}",
         "marker": {
          "color": [
           "rgb(217, 80, 59)"
          ]
         },
         "name": "T",
         "showlegend": true,
         "type": "bar",
         "x": [
          "Pre-2008 Financial Crisis"
         ],
         "y": [
          9.532144393697731e-11
         ]
        },
        {
         "hoverinfo": "y",
         "hovertemplate": "RTX<br>%{y:.2f}",
         "marker": {
          "color": [
           "rgb(177, 51, 89)"
          ]
         },
         "name": "RTX",
         "showlegend": true,
         "type": "bar",
         "x": [
          "Pre-2008 Financial Crisis"
         ],
         "y": [
          9.130011262909635e-11
         ]
        },
        {
         "hoverinfo": "y",
         "hovertemplate": "ABBV<br>%{y:.2f}",
         "marker": {
          "color": [
           "rgb(36, 12, 73)"
          ]
         },
         "name": "ABBV",
         "showlegend": true,
         "type": "bar",
         "x": [
          "Pre-2008 Financial Crisis"
         ],
         "y": [
          8.751190768972418e-11
         ]
        },
        {
         "hoverinfo": "y",
         "hovertemplate": "USB<br>%{y:.2f}",
         "marker": {
          "color": [
           "rgb(150, 39, 100)"
          ]
         },
         "name": "USB",
         "showlegend": true,
         "type": "bar",
         "x": [
          "Pre-2008 Financial Crisis"
         ],
         "y": [
          7.749801682498804e-11
         ]
        },
        {
         "hoverinfo": "y",
         "hovertemplate": "UNH<br>%{y:.2f}",
         "marker": {
          "color": [
           "rgb(26, 12, 63)"
          ]
         },
         "name": "UNH",
         "showlegend": true,
         "type": "bar",
         "x": [
          "Pre-2008 Financial Crisis"
         ],
         "y": [
          6.756130966173379e-11
         ]
        },
        {
         "hoverinfo": "y",
         "hovertemplate": "ROST<br>%{y:.2f}",
         "marker": {
          "color": [
           "rgb(113, 26, 109)"
          ]
         },
         "name": "ROST",
         "showlegend": true,
         "type": "bar",
         "x": [
          "Pre-2008 Financial Crisis"
         ],
         "y": [
          6.6351265065236e-11
         ]
        },
        {
         "hoverinfo": "y",
         "hovertemplate": "NFLX<br>%{y:.2f}",
         "marker": {
          "color": [
           "rgb(224, 88, 52)"
          ]
         },
         "name": "NFLX",
         "showlegend": true,
         "type": "bar",
         "x": [
          "Pre-2008 Financial Crisis"
         ],
         "y": [
          6.517385808974127e-11
         ]
        },
        {
         "hoverinfo": "y",
         "hovertemplate": "TIP<br>%{y:.2f}",
         "marker": {
          "color": [
           "rgb(250, 166, 17)"
          ]
         },
         "name": "TIP",
         "showlegend": true,
         "type": "bar",
         "x": [
          "Pre-2008 Financial Crisis"
         ],
         "y": [
          null
         ]
        },
        {
         "hoverinfo": "y",
         "hovertemplate": "AGG<br>%{y:.2f}",
         "marker": {
          "color": [
           "rgb(250, 170, 21)"
          ]
         },
         "name": "AGG",
         "showlegend": true,
         "type": "bar",
         "x": [
          "Pre-2008 Financial Crisis"
         ],
         "y": [
          null
         ]
        },
        {
         "hoverinfo": "y",
         "hovertemplate": "VCIT<br>%{y:.2f}",
         "marker": {
          "color": [
           "rgb(250, 174, 25)"
          ]
         },
         "name": "VCIT",
         "showlegend": true,
         "type": "bar",
         "x": [
          "Pre-2008 Financial Crisis"
         ],
         "y": [
          null
         ]
        },
        {
         "hoverinfo": "y",
         "hovertemplate": "VCSH<br>%{y:.2f}",
         "marker": {
          "color": [
           "rgb(249, 178, 29)"
          ]
         },
         "name": "VCSH",
         "showlegend": true,
         "type": "bar",
         "x": [
          "Pre-2008 Financial Crisis"
         ],
         "y": [
          null
         ]
        },
        {
         "hoverinfo": "y",
         "hovertemplate": "VNQ<br>%{y:.2f}",
         "marker": {
          "color": [
           "rgb(249, 182, 34)"
          ]
         },
         "name": "VNQ",
         "showlegend": true,
         "type": "bar",
         "x": [
          "Pre-2008 Financial Crisis"
         ],
         "y": [
          null
         ]
        },
        {
         "hoverinfo": "y",
         "hovertemplate": "IYR<br>%{y:.2f}",
         "marker": {
          "color": [
           "rgb(249, 186, 38)"
          ]
         },
         "name": "IYR",
         "showlegend": true,
         "type": "bar",
         "x": [
          "Pre-2008 Financial Crisis"
         ],
         "y": [
          null
         ]
        },
        {
         "hoverinfo": "y",
         "hovertemplate": "SCHH<br>%{y:.2f}",
         "marker": {
          "color": [
           "rgb(248, 190, 42)"
          ]
         },
         "name": "SCHH",
         "showlegend": true,
         "type": "bar",
         "x": [
          "Pre-2008 Financial Crisis"
         ],
         "y": [
          null
         ]
        },
        {
         "hoverinfo": "y",
         "hovertemplate": "RWR<br>%{y:.2f}",
         "marker": {
          "color": [
           "rgb(248, 194, 46)"
          ]
         },
         "name": "RWR",
         "showlegend": true,
         "type": "bar",
         "x": [
          "Pre-2008 Financial Crisis"
         ],
         "y": [
          null
         ]
        },
        {
         "hoverinfo": "y",
         "hovertemplate": "XLRE<br>%{y:.2f}",
         "marker": {
          "color": [
           "rgb(248, 198, 50)"
          ]
         },
         "name": "XLRE",
         "showlegend": true,
         "type": "bar",
         "x": [
          "Pre-2008 Financial Crisis"
         ],
         "y": [
          null
         ]
        },
        {
         "hoverinfo": "y",
         "hovertemplate": "PLD<br>%{y:.2f}",
         "marker": {
          "color": [
           "rgb(248, 202, 54)"
          ]
         },
         "name": "PLD",
         "showlegend": true,
         "type": "bar",
         "x": [
          "Pre-2008 Financial Crisis"
         ],
         "y": [
          null
         ]
        },
        {
         "hoverinfo": "y",
         "hovertemplate": "O<br>%{y:.2f}",
         "marker": {
          "color": [
           "rgb(247, 206, 58)"
          ]
         },
         "name": "O",
         "showlegend": true,
         "type": "bar",
         "x": [
          "Pre-2008 Financial Crisis"
         ],
         "y": [
          null
         ]
        },
        {
         "hoverinfo": "y",
         "hovertemplate": "SPG<br>%{y:.2f}",
         "marker": {
          "color": [
           "rgb(247, 210, 64)"
          ]
         },
         "name": "SPG",
         "showlegend": true,
         "type": "bar",
         "x": [
          "Pre-2008 Financial Crisis"
         ],
         "y": [
          null
         ]
        },
        {
         "hoverinfo": "y",
         "hovertemplate": "AVB<br>%{y:.2f}",
         "marker": {
          "color": [
           "rgb(248, 214, 71)"
          ]
         },
         "name": "AVB",
         "showlegend": true,
         "type": "bar",
         "x": [
          "Pre-2008 Financial Crisis"
         ],
         "y": [
          null
         ]
        },
        {
         "hoverinfo": "y",
         "hovertemplate": "EQR<br>%{y:.2f}",
         "marker": {
          "color": [
           "rgb(248, 217, 79)"
          ]
         },
         "name": "EQR",
         "showlegend": true,
         "type": "bar",
         "x": [
          "Pre-2008 Financial Crisis"
         ],
         "y": [
          null
         ]
        },
        {
         "hoverinfo": "y",
         "hovertemplate": "GLD<br>%{y:.2f}",
         "marker": {
          "color": [
           "rgb(248, 220, 87)"
          ]
         },
         "name": "GLD",
         "showlegend": true,
         "type": "bar",
         "x": [
          "Pre-2008 Financial Crisis"
         ],
         "y": [
          null
         ]
        },
        {
         "hoverinfo": "y",
         "hovertemplate": "IAU<br>%{y:.2f}",
         "marker": {
          "color": [
           "rgb(249, 224, 94)"
          ]
         },
         "name": "IAU",
         "showlegend": true,
         "type": "bar",
         "x": [
          "Pre-2008 Financial Crisis"
         ],
         "y": [
          null
         ]
        },
        {
         "hoverinfo": "y",
         "hovertemplate": "SLV<br>%{y:.2f}",
         "marker": {
          "color": [
           "rgb(249, 227, 102)"
          ]
         },
         "name": "SLV",
         "showlegend": true,
         "type": "bar",
         "x": [
          "Pre-2008 Financial Crisis"
         ],
         "y": [
          null
         ]
        },
        {
         "hoverinfo": "y",
         "hovertemplate": "PDBC<br>%{y:.2f}",
         "marker": {
          "color": [
           "rgb(249, 231, 110)"
          ]
         },
         "name": "PDBC",
         "showlegend": true,
         "type": "bar",
         "x": [
          "Pre-2008 Financial Crisis"
         ],
         "y": [
          null
         ]
        },
        {
         "hoverinfo": "y",
         "hovertemplate": "DBC<br>%{y:.2f}",
         "marker": {
          "color": [
           "rgb(250, 234, 118)"
          ]
         },
         "name": "DBC",
         "showlegend": true,
         "type": "bar",
         "x": [
          "Pre-2008 Financial Crisis"
         ],
         "y": [
          null
         ]
        },
        {
         "hoverinfo": "y",
         "hovertemplate": "USO<br>%{y:.2f}",
         "marker": {
          "color": [
           "rgb(250, 238, 125)"
          ]
         },
         "name": "USO",
         "showlegend": true,
         "type": "bar",
         "x": [
          "Pre-2008 Financial Crisis"
         ],
         "y": [
          null
         ]
        },
        {
         "hoverinfo": "y",
         "hovertemplate": "UNG<br>%{y:.2f}",
         "marker": {
          "color": [
           "rgb(251, 241, 133)"
          ]
         },
         "name": "UNG",
         "showlegend": true,
         "type": "bar",
         "x": [
          "Pre-2008 Financial Crisis"
         ],
         "y": [
          null
         ]
        },
        {
         "hoverinfo": "y",
         "hovertemplate": "BNO<br>%{y:.2f}",
         "marker": {
          "color": [
           "rgb(251, 245, 141)"
          ]
         },
         "name": "BNO",
         "showlegend": true,
         "type": "bar",
         "x": [
          "Pre-2008 Financial Crisis"
         ],
         "y": [
          null
         ]
        },
        {
         "hoverinfo": "y",
         "hovertemplate": "GSG<br>%{y:.2f}",
         "marker": {
          "color": [
           "rgb(251, 248, 149)"
          ]
         },
         "name": "GSG",
         "showlegend": true,
         "type": "bar",
         "x": [
          "Pre-2008 Financial Crisis"
         ],
         "y": [
          null
         ]
        },
        {
         "hoverinfo": "y",
         "hovertemplate": "CORN<br>%{y:.2f}",
         "marker": {
          "color": [
           "rgb(252, 252, 156)"
          ]
         },
         "name": "CORN",
         "showlegend": true,
         "type": "bar",
         "x": [
          "Pre-2008 Financial Crisis"
         ],
         "y": [
          null
         ]
        },
        {
         "hoverinfo": "y",
         "hovertemplate": "AXP<br>%{y:.2f}",
         "marker": {
          "color": [
           "rgb(137, 34, 104)"
          ]
         },
         "name": "",
         "showlegend": false,
         "type": "bar",
         "x": [
          "Global Financial Crisis"
         ],
         "y": [
          0.4391613844130943
         ]
        },
        {
         "hoverinfo": "y",
         "hovertemplate": "UNH<br>%{y:.2f}",
         "marker": {
          "color": [
           "rgb(26, 12, 63)"
          ]
         },
         "name": "",
         "showlegend": false,
         "type": "bar",
         "x": [
          "Global Financial Crisis"
         ],
         "y": [
          0.18567923410605824
         ]
        },
        {
         "hoverinfo": "y",
         "hovertemplate": "TGT<br>%{y:.2f}",
         "marker": {
          "color": [
           "rgb(99, 21, 108)"
          ]
         },
         "name": "",
         "showlegend": false,
         "type": "bar",
         "x": [
          "Global Financial Crisis"
         ],
         "y": [
          0.09522080735827919
         ]
        },
        {
         "hoverinfo": "y",
         "hovertemplate": "C<br>%{y:.2f}",
         "marker": {
          "color": [
           "rgb(134, 33, 105)"
          ]
         },
         "name": "",
         "showlegend": false,
         "type": "bar",
         "x": [
          "Global Financial Crisis"
         ],
         "y": [
          0.06883091276216341
         ]
        },
        {
         "hoverinfo": "y",
         "hovertemplate": "D<br>%{y:.2f}",
         "marker": {
          "color": [
           "rgb(202, 65, 73)"
          ]
         },
         "name": "",
         "showlegend": false,
         "type": "bar",
         "x": [
          "Global Financial Crisis"
         ],
         "y": [
          0.058712821180771126
         ]
        },
        {
         "hoverinfo": "y",
         "hovertemplate": "META<br>%{y:.2f}",
         "marker": {
          "color": [
           "rgb(228, 94, 47)"
          ]
         },
         "name": "",
         "showlegend": false,
         "type": "bar",
         "x": [
          "Global Financial Crisis"
         ],
         "y": [
          0.05012082689981127
         ]
        },
        {
         "hoverinfo": "y",
         "hovertemplate": "AMZN<br>%{y:.2f}",
         "marker": {
          "color": [
           "rgb(6, 3, 18)"
          ]
         },
         "name": "",
         "showlegend": false,
         "type": "bar",
         "x": [
          "Global Financial Crisis"
         ],
         "y": [
          0.030840275883840862
         ]
        },
        {
         "hoverinfo": "y",
         "hovertemplate": "HD<br>%{y:.2f}",
         "marker": {
          "color": [
           "rgb(103, 22, 108)"
          ]
         },
         "name": "",
         "showlegend": false,
         "type": "bar",
         "x": [
          "Global Financial Crisis"
         ],
         "y": [
          0.030328593477766525
         ]
        },
        {
         "hoverinfo": "y",
         "hovertemplate": "LMT<br>%{y:.2f}",
         "marker": {
          "color": [
           "rgb(170, 47, 93)"
          ]
         },
         "name": "",
         "showlegend": false,
         "type": "bar",
         "x": [
          "Global Financial Crisis"
         ],
         "y": [
          0.019331963794531608
         ]
        },
        {
         "hoverinfo": "y",
         "hovertemplate": "ADBE<br>%{y:.2f}",
         "marker": {
          "color": [
           "rgb(10, 4, 27)"
          ]
         },
         "name": "",
         "showlegend": false,
         "type": "bar",
         "x": [
          "Global Financial Crisis"
         ],
         "y": [
          0.01561078859550417
         ]
        },
        {
         "hoverinfo": "y",
         "hovertemplate": "IYR<br>%{y:.2f}",
         "marker": {
          "color": [
           "rgb(249, 186, 38)"
          ]
         },
         "name": "",
         "showlegend": false,
         "type": "bar",
         "x": [
          "Global Financial Crisis"
         ],
         "y": [
          0.005131841337379593
         ]
        },
        {
         "hoverinfo": "y",
         "hovertemplate": "USB<br>%{y:.2f}",
         "marker": {
          "color": [
           "rgb(150, 39, 100)"
          ]
         },
         "name": "",
         "showlegend": false,
         "type": "bar",
         "x": [
          "Global Financial Crisis"
         ],
         "y": [
          0.0010300919805785874
         ]
        },
        {
         "hoverinfo": "y",
         "hovertemplate": "BKR<br>%{y:.2f}",
         "marker": {
          "color": [
           "rgb(245, 135, 18)"
          ]
         },
         "name": "",
         "showlegend": false,
         "type": "bar",
         "x": [
          "Global Financial Crisis"
         ],
         "y": [
          1.3248691294232975e-7
         ]
        },
        {
         "hoverinfo": "y",
         "hovertemplate": "IEF<br>%{y:.2f}",
         "marker": {
          "color": [
           "rgb(248, 143, 14)"
          ]
         },
         "name": "",
         "showlegend": false,
         "type": "bar",
         "x": [
          "Global Financial Crisis"
         ],
         "y": [
          2.597117644569614e-8
         ]
        },
        {
         "hoverinfo": "y",
         "hovertemplate": "WFC<br>%{y:.2f}",
         "marker": {
          "color": [
           "rgb(130, 32, 106)"
          ]
         },
         "name": "",
         "showlegend": false,
         "type": "bar",
         "x": [
          "Global Financial Crisis"
         ],
         "y": [
          1.7169567934701147e-8
         ]
        },
        {
         "hoverinfo": "y",
         "hovertemplate": "TSLA<br>%{y:.2f}",
         "marker": {
          "color": [
           "rgb(86, 16, 108)"
          ]
         },
         "name": "",
         "showlegend": false,
         "type": "bar",
         "x": [
          "Global Financial Crisis"
         ],
         "y": [
          9.439805228591329e-9
         ]
        },
        {
         "hoverinfo": "y",
         "hovertemplate": "SCHH<br>%{y:.2f}",
         "marker": {
          "color": [
           "rgb(248, 190, 42)"
          ]
         },
         "name": "",
         "showlegend": false,
         "type": "bar",
         "x": [
          "Global Financial Crisis"
         ],
         "y": [
          7.488771213938399e-9
         ]
        },
        {
         "hoverinfo": "y",
         "hovertemplate": "AAPL<br>%{y:.2f}",
         "marker": {
          "color": [
           "rgb(0, 0, 4)"
          ]
         },
         "name": "",
         "showlegend": false,
         "type": "bar",
         "x": [
          "Global Financial Crisis"
         ],
         "y": [
          7.062397214144452e-9
         ]
        },
        {
         "hoverinfo": "y",
         "hovertemplate": "OXY<br>%{y:.2f}",
         "marker": {
          "color": [
           "rgb(246, 139, 16)"
          ]
         },
         "name": "",
         "showlegend": false,
         "type": "bar",
         "x": [
          "Global Financial Crisis"
         ],
         "y": [
          7.0317413949367985e-9
         ]
        },
        {
         "hoverinfo": "y",
         "hovertemplate": "COP<br>%{y:.2f}",
         "marker": {
          "color": [
           "rgb(239, 113, 32)"
          ]
         },
         "name": "",
         "showlegend": false,
         "type": "bar",
         "x": [
          "Global Financial Crisis"
         ],
         "y": [
          6.267762150400138e-9
         ]
        },
        {
         "hoverinfo": "y",
         "hovertemplate": "GE<br>%{y:.2f}",
         "marker": {
          "color": [
           "rgb(173, 49, 91)"
          ]
         },
         "name": "",
         "showlegend": false,
         "type": "bar",
         "x": [
          "Global Financial Crisis"
         ],
         "y": [
          6.083700555547548e-9
         ]
        },
        {
         "hoverinfo": "y",
         "hovertemplate": "ABBV<br>%{y:.2f}",
         "marker": {
          "color": [
           "rgb(36, 12, 73)"
          ]
         },
         "name": "",
         "showlegend": false,
         "type": "bar",
         "x": [
          "Global Financial Crisis"
         ],
         "y": [
          5.747516863042763e-9
         ]
        },
        {
         "hoverinfo": "y",
         "hovertemplate": "MRK<br>%{y:.2f}",
         "marker": {
          "color": [
           "rgb(24, 11, 59)"
          ]
         },
         "name": "",
         "showlegend": false,
         "type": "bar",
         "x": [
          "Global Financial Crisis"
         ],
         "y": [
          5.468551137999678e-9
         ]
        },
        {
         "hoverinfo": "y",
         "hovertemplate": "NEE<br>%{y:.2f}",
         "marker": {
          "color": [
           "rgb(186, 56, 83)"
          ]
         },
         "name": "",
         "showlegend": false,
         "type": "bar",
         "x": [
          "Global Financial Crisis"
         ],
         "y": [
          5.396105886488436e-9
         ]
        },
        {
         "hoverinfo": "y",
         "hovertemplate": "GIS<br>%{y:.2f}",
         "marker": {
          "color": [
           "rgb(79, 14, 107)"
          ]
         },
         "name": "",
         "showlegend": false,
         "type": "bar",
         "x": [
          "Global Financial Crisis"
         ],
         "y": [
          5.015740737791842e-9
         ]
        },
        {
         "hoverinfo": "y",
         "hovertemplate": "BA<br>%{y:.2f}",
         "marker": {
          "color": [
           "rgb(154, 40, 99)"
          ]
         },
         "name": "",
         "showlegend": false,
         "type": "bar",
         "x": [
          "Global Financial Crisis"
         ],
         "y": [
          4.9951951059361644e-9
         ]
        },
        {
         "hoverinfo": "y",
         "hovertemplate": "BLK<br>%{y:.2f}",
         "marker": {
          "color": [
           "rgb(147, 38, 101)"
          ]
         },
         "name": "",
         "showlegend": false,
         "type": "bar",
         "x": [
          "Global Financial Crisis"
         ],
         "y": [
          4.816654857318894e-9
         ]
        },
        {
         "hoverinfo": "y",
         "hovertemplate": "RWR<br>%{y:.2f}",
         "marker": {
          "color": [
           "rgb(248, 194, 46)"
          ]
         },
         "name": "",
         "showlegend": false,
         "type": "bar",
         "x": [
          "Global Financial Crisis"
         ],
         "y": [
          4.775073535942208e-9
         ]
        },
        {
         "hoverinfo": "y",
         "hovertemplate": "BAC<br>%{y:.2f}",
         "marker": {
          "color": [
           "rgb(123, 29, 108)"
          ]
         },
         "name": "",
         "showlegend": false,
         "type": "bar",
         "x": [
          "Global Financial Crisis"
         ],
         "y": [
          4.579370980532818e-9
         ]
        },
        {
         "hoverinfo": "y",
         "hovertemplate": "TIP<br>%{y:.2f}",
         "marker": {
          "color": [
           "rgb(250, 166, 17)"
          ]
         },
         "name": "",
         "showlegend": false,
         "type": "bar",
         "x": [
          "Global Financial Crisis"
         ],
         "y": [
          4.499654840832628e-9
         ]
        },
        {
         "hoverinfo": "y",
         "hovertemplate": "SRE<br>%{y:.2f}",
         "marker": {
          "color": [
           "rgb(210, 72, 67)"
          ]
         },
         "name": "",
         "showlegend": false,
         "type": "bar",
         "x": [
          "Global Financial Crisis"
         ],
         "y": [
          4.306436966536731e-9
         ]
        },
        {
         "hoverinfo": "y",
         "hovertemplate": "SLB<br>%{y:.2f}",
         "marker": {
          "color": [
           "rgb(240, 116, 30)"
          ]
         },
         "name": "",
         "showlegend": false,
         "type": "bar",
         "x": [
          "Global Financial Crisis"
         ],
         "y": [
          4.228416611265129e-9
         ]
        },
        {
         "hoverinfo": "y",
         "hovertemplate": "SBUX<br>%{y:.2f}",
         "marker": {
          "color": [
           "rgb(96, 20, 108)"
          ]
         },
         "name": "",
         "showlegend": false,
         "type": "bar",
         "x": [
          "Global Financial Crisis"
         ],
         "y": [
          4.227322629025342e-9
         ]
        },
        {
         "hoverinfo": "y",
         "hovertemplate": "SPOT<br>%{y:.2f}",
         "marker": {
          "color": [
           "rgb(235, 102, 39)"
          ]
         },
         "name": "",
         "showlegend": false,
         "type": "bar",
         "x": [
          "Global Financial Crisis"
         ],
         "y": [
          4.219186872314453e-9
         ]
        },
        {
         "hoverinfo": "y",
         "hovertemplate": "CAT<br>%{y:.2f}",
         "marker": {
          "color": [
           "rgb(157, 41, 98)"
          ]
         },
         "name": "",
         "showlegend": false,
         "type": "bar",
         "x": [
          "Global Financial Crisis"
         ],
         "y": [
          4.2024235612868434e-9
         ]
        },
        {
         "hoverinfo": "y",
         "hovertemplate": "PPL<br>%{y:.2f}",
         "marker": {
          "color": [
           "rgb(212, 74, 64)"
          ]
         },
         "name": "",
         "showlegend": false,
         "type": "bar",
         "x": [
          "Global Financial Crisis"
         ],
         "y": [
          4.187451257704613e-9
         ]
        },
        {
         "hoverinfo": "y",
         "hovertemplate": "DE<br>%{y:.2f}",
         "marker": {
          "color": [
           "rgb(183, 54, 85)"
          ]
         },
         "name": "",
         "showlegend": false,
         "type": "bar",
         "x": [
          "Global Financial Crisis"
         ],
         "y": [
          4.178956627407216e-9
         ]
        },
        {
         "hoverinfo": "y",
         "hovertemplate": "LQD<br>%{y:.2f}",
         "marker": {
          "color": [
           "rgb(251, 158, 9)"
          ]
         },
         "name": "",
         "showlegend": false,
         "type": "bar",
         "x": [
          "Global Financial Crisis"
         ],
         "y": [
          4.1278583133604005e-9
         ]
        },
        {
         "hoverinfo": "y",
         "hovertemplate": "XEL<br>%{y:.2f}",
         "marker": {
          "color": [
           "rgb(205, 67, 71)"
          ]
         },
         "name": "",
         "showlegend": false,
         "type": "bar",
         "x": [
          "Global Financial Crisis"
         ],
         "y": [
          4.095876570860722e-9
         ]
        },
        {
         "hoverinfo": "y",
         "hovertemplate": "UNP<br>%{y:.2f}",
         "marker": {
          "color": [
           "rgb(167, 45, 95)"
          ]
         },
         "name": "",
         "showlegend": false,
         "type": "bar",
         "x": [
          "Global Financial Crisis"
         ],
         "y": [
          3.954202570378642e-9
         ]
        },
        {
         "hoverinfo": "y",
         "hovertemplate": "MDLZ<br>%{y:.2f}",
         "marker": {
          "color": [
           "rgb(75, 12, 107)"
          ]
         },
         "name": "",
         "showlegend": false,
         "type": "bar",
         "x": [
          "Global Financial Crisis"
         ],
         "y": [
          3.854621868344497e-9
         ]
        },
        {
         "hoverinfo": "y",
         "hovertemplate": "PSX<br>%{y:.2f}",
         "marker": {
          "color": [
           "rgb(241, 120, 28)"
          ]
         },
         "name": "",
         "showlegend": false,
         "type": "bar",
         "x": [
          "Global Financial Crisis"
         ],
         "y": [
          3.83704105773629e-9
         ]
        },
        {
         "hoverinfo": "y",
         "hovertemplate": "PG<br>%{y:.2f}",
         "marker": {
          "color": [
           "rgb(51, 12, 86)"
          ]
         },
         "name": "",
         "showlegend": false,
         "type": "bar",
         "x": [
          "Global Financial Crisis"
         ],
         "y": [
          3.79692359772942e-9
         ]
        },
        {
         "hoverinfo": "y",
         "hovertemplate": "PFE<br>%{y:.2f}",
         "marker": {
          "color": [
           "rgb(22, 10, 54)"
          ]
         },
         "name": "",
         "showlegend": false,
         "type": "bar",
         "x": [
          "Global Financial Crisis"
         ],
         "y": [
          3.710451387557715e-9
         ]
        },
        {
         "hoverinfo": "y",
         "hovertemplate": "NVDA<br>%{y:.2f}",
         "marker": {
          "color": [
           "rgb(8, 4, 22)"
          ]
         },
         "name": "",
         "showlegend": false,
         "type": "bar",
         "x": [
          "Global Financial Crisis"
         ],
         "y": [
          3.663146938086042e-9
         ]
        },
        {
         "hoverinfo": "y",
         "hovertemplate": "RTX<br>%{y:.2f}",
         "marker": {
          "color": [
           "rgb(177, 51, 89)"
          ]
         },
         "name": "",
         "showlegend": false,
         "type": "bar",
         "x": [
          "Global Financial Crisis"
         ],
         "y": [
          3.6018195760178273e-9
         ]
        },
        {
         "hoverinfo": "y",
         "hovertemplate": "ORCL<br>%{y:.2f}",
         "marker": {
          "color": [
           "rgb(12, 5, 31)"
          ]
         },
         "name": "",
         "showlegend": false,
         "type": "bar",
         "x": [
          "Global Financial Crisis"
         ],
         "y": [
          3.587877590530563e-9
         ]
        },
        {
         "hoverinfo": "y",
         "hovertemplate": "LOW<br>%{y:.2f}",
         "marker": {
          "color": [
           "rgb(106, 23, 108)"
          ]
         },
         "name": "",
         "showlegend": false,
         "type": "bar",
         "x": [
          "Global Financial Crisis"
         ],
         "y": [
          3.3546083954567967e-9
         ]
        },
        {
         "hoverinfo": "y",
         "hovertemplate": "TJX<br>%{y:.2f}",
         "marker": {
          "color": [
           "rgb(110, 24, 109)"
          ]
         },
         "name": "",
         "showlegend": false,
         "type": "bar",
         "x": [
          "Global Financial Crisis"
         ],
         "y": [
          3.3546033632879235e-9
         ]
        },
        {
         "hoverinfo": "y",
         "hovertemplate": "CL<br>%{y:.2f}",
         "marker": {
          "color": [
           "rgb(65, 12, 99)"
          ]
         },
         "name": "",
         "showlegend": false,
         "type": "bar",
         "x": [
          "Global Financial Crisis"
         ],
         "y": [
          3.2675364241578397e-9
         ]
        },
        {
         "hoverinfo": "y",
         "hovertemplate": "UPS<br>%{y:.2f}",
         "marker": {
          "color": [
           "rgb(180, 52, 87)"
          ]
         },
         "name": "",
         "showlegend": false,
         "type": "bar",
         "x": [
          "Global Financial Crisis"
         ],
         "y": [
          3.177479030238002e-9
         ]
        },
        {
         "hoverinfo": "y",
         "hovertemplate": "WMT<br>%{y:.2f}",
         "marker": {
          "color": [
           "rgb(61, 12, 95)"
          ]
         },
         "name": "",
         "showlegend": false,
         "type": "bar",
         "x": [
          "Global Financial Crisis"
         ],
         "y": [
          3.1565584010621272e-9
         ]
        },
        {
         "hoverinfo": "y",
         "hovertemplate": "DIS<br>%{y:.2f}",
         "marker": {
          "color": [
           "rgb(221, 86, 54)"
          ]
         },
         "name": "",
         "showlegend": false,
         "type": "bar",
         "x": [
          "Global Financial Crisis"
         ],
         "y": [
          3.1512177164615025e-9
         ]
        },
        {
         "hoverinfo": "y",
         "hovertemplate": "T<br>%{y:.2f}",
         "marker": {
          "color": [
           "rgb(217, 80, 59)"
          ]
         },
         "name": "",
         "showlegend": false,
         "type": "bar",
         "x": [
          "Global Financial Crisis"
         ],
         "y": [
          3.129815500061584e-9
         ]
        },
        {
         "hoverinfo": "y",
         "hovertemplate": "CHTR<br>%{y:.2f}",
         "marker": {
          "color": [
           "rgb(230, 97, 44)"
          ]
         },
         "name": "",
         "showlegend": false,
         "type": "bar",
         "x": [
          "Global Financial Crisis"
         ],
         "y": [
          3.0954087319085564e-9
         ]
        },
        {
         "hoverinfo": "y",
         "hovertemplate": "VLO<br>%{y:.2f}",
         "marker": {
          "color": [
           "rgb(242, 124, 25)"
          ]
         },
         "name": "",
         "showlegend": false,
         "type": "bar",
         "x": [
          "Global Financial Crisis"
         ],
         "y": [
          2.9057751025160443e-9
         ]
        },
        {
         "hoverinfo": "y",
         "hovertemplate": "MO<br>%{y:.2f}",
         "marker": {
          "color": [
           "rgb(72, 12, 105)"
          ]
         },
         "name": "",
         "showlegend": false,
         "type": "bar",
         "x": [
          "Global Financial Crisis"
         ],
         "y": [
          2.89607103806757e-9
         ]
        },
        {
         "hoverinfo": "y",
         "hovertemplate": "GILD<br>%{y:.2f}",
         "marker": {
          "color": [
           "rgb(40, 12, 77)"
          ]
         },
         "name": "",
         "showlegend": false,
         "type": "bar",
         "x": [
          "Global Financial Crisis"
         ],
         "y": [
          2.822089242565208e-9
         ]
        },
        {
         "hoverinfo": "y",
         "hovertemplate": "AEP<br>%{y:.2f}",
         "marker": {
          "color": [
           "rgb(195, 61, 77)"
          ]
         },
         "name": "",
         "showlegend": false,
         "type": "bar",
         "x": [
          "Global Financial Crisis"
         ],
         "y": [
          2.8130634070616033e-9
         ]
        },
        {
         "hoverinfo": "y",
         "hovertemplate": "ELV<br>%{y:.2f}",
         "marker": {
          "color": [
           "rgb(47, 12, 83)"
          ]
         },
         "name": "",
         "showlegend": false,
         "type": "bar",
         "x": [
          "Global Financial Crisis"
         ],
         "y": [
          2.7983968601657073e-9
         ]
        },
        {
         "hoverinfo": "y",
         "hovertemplate": "CMCSA<br>%{y:.2f}",
         "marker": {
          "color": [
           "rgb(219, 83, 57)"
          ]
         },
         "name": "",
         "showlegend": false,
         "type": "bar",
         "x": [
          "Global Financial Crisis"
         ],
         "y": [
          2.7460521993278904e-9
         ]
        },
        {
         "hoverinfo": "y",
         "hovertemplate": "HAL<br>%{y:.2f}",
         "marker": {
          "color": [
           "rgb(244, 131, 21)"
          ]
         },
         "name": "",
         "showlegend": false,
         "type": "bar",
         "x": [
          "Global Financial Crisis"
         ],
         "y": [
          2.7341342646625035e-9
         ]
        },
        {
         "hoverinfo": "y",
         "hovertemplate": "VNQ<br>%{y:.2f}",
         "marker": {
          "color": [
           "rgb(249, 182, 34)"
          ]
         },
         "name": "",
         "showlegend": false,
         "type": "bar",
         "x": [
          "Global Financial Crisis"
         ],
         "y": [
          2.6920921171620404e-9
         ]
        },
        {
         "hoverinfo": "y",
         "hovertemplate": "HYG<br>%{y:.2f}",
         "marker": {
          "color": [
           "rgb(250, 162, 13)"
          ]
         },
         "name": "",
         "showlegend": false,
         "type": "bar",
         "x": [
          "Global Financial Crisis"
         ],
         "y": [
          2.646955726086685e-9
         ]
        },
        {
         "hoverinfo": "y",
         "hovertemplate": "VZ<br>%{y:.2f}",
         "marker": {
          "color": [
           "rgb(214, 77, 62)"
          ]
         },
         "name": "",
         "showlegend": false,
         "type": "bar",
         "x": [
          "Global Financial Crisis"
         ],
         "y": [
          2.622191571289762e-9
         ]
        },
        {
         "hoverinfo": "y",
         "hovertemplate": "GOOG<br>%{y:.2f}",
         "marker": {
          "color": [
           "rgb(4, 2, 13)"
          ]
         },
         "name": "",
         "showlegend": false,
         "type": "bar",
         "x": [
          "Global Financial Crisis"
         ],
         "y": [
          2.5815635585826612e-9
         ]
        },
        {
         "hoverinfo": "y",
         "hovertemplate": "CRM<br>%{y:.2f}",
         "marker": {
          "color": [
           "rgb(14, 6, 36)"
          ]
         },
         "name": "",
         "showlegend": false,
         "type": "bar",
         "x": [
          "Global Financial Crisis"
         ],
         "y": [
          2.5753126346680765e-9
         ]
        },
        {
         "hoverinfo": "y",
         "hovertemplate": "ROST<br>%{y:.2f}",
         "marker": {
          "color": [
           "rgb(113, 26, 109)"
          ]
         },
         "name": "",
         "showlegend": false,
         "type": "bar",
         "x": [
          "Global Financial Crisis"
         ],
         "y": [
          2.460462010637748e-9
         ]
        },
        {
         "hoverinfo": "y",
         "hovertemplate": "KO<br>%{y:.2f}",
         "marker": {
          "color": [
           "rgb(54, 12, 89)"
          ]
         },
         "name": "",
         "showlegend": false,
         "type": "bar",
         "x": [
          "Global Financial Crisis"
         ],
         "y": [
          2.408278599817187e-9
         ]
        },
        {
         "hoverinfo": "y",
         "hovertemplate": "EXC<br>%{y:.2f}",
         "marker": {
          "color": [
           "rgb(199, 63, 75)"
          ]
         },
         "name": "",
         "showlegend": false,
         "type": "bar",
         "x": [
          "Global Financial Crisis"
         ],
         "y": [
          2.319346254104102e-9
         ]
        },
        {
         "hoverinfo": "y",
         "hovertemplate": "HON<br>%{y:.2f}",
         "marker": {
          "color": [
           "rgb(164, 44, 96)"
          ]
         },
         "name": "",
         "showlegend": false,
         "type": "bar",
         "x": [
          "Global Financial Crisis"
         ],
         "y": [
          2.315780666258032e-9
         ]
        },
        {
         "hoverinfo": "y",
         "hovertemplate": "XOM<br>%{y:.2f}",
         "marker": {
          "color": [
           "rgb(237, 105, 37)"
          ]
         },
         "name": "",
         "showlegend": false,
         "type": "bar",
         "x": [
          "Global Financial Crisis"
         ],
         "y": [
          2.2414743993084467e-9
         ]
        },
        {
         "hoverinfo": "y",
         "hovertemplate": "CSCO<br>%{y:.2f}",
         "marker": {
          "color": [
           "rgb(18, 8, 45)"
          ]
         },
         "name": "",
         "showlegend": false,
         "type": "bar",
         "x": [
          "Global Financial Crisis"
         ],
         "y": [
          2.231915997436694e-9
         ]
        },
        {
         "hoverinfo": "y",
         "hovertemplate": "MSFT<br>%{y:.2f}",
         "marker": {
          "color": [
           "rgb(2, 1, 9)"
          ]
         },
         "name": "",
         "showlegend": false,
         "type": "bar",
         "x": [
          "Global Financial Crisis"
         ],
         "y": [
          2.2249279153666077e-9
         ]
        },
        {
         "hoverinfo": "y",
         "hovertemplate": "SCHW<br>%{y:.2f}",
         "marker": {
          "color": [
           "rgb(140, 35, 103)"
          ]
         },
         "name": "",
         "showlegend": false,
         "type": "bar",
         "x": [
          "Global Financial Crisis"
         ],
         "y": [
          2.148968501694567e-9
         ]
        },
        {
         "hoverinfo": "y",
         "hovertemplate": "MPC<br>%{y:.2f}",
         "marker": {
          "color": [
           "rgb(243, 128, 23)"
          ]
         },
         "name": "",
         "showlegend": false,
         "type": "bar",
         "x": [
          "Global Financial Crisis"
         ],
         "y": [
          2.1438161352932045e-9
         ]
        },
        {
         "hoverinfo": "y",
         "hovertemplate": "PEP<br>%{y:.2f}",
         "marker": {
          "color": [
           "rgb(58, 12, 92)"
          ]
         },
         "name": "",
         "showlegend": false,
         "type": "bar",
         "x": [
          "Global Financial Crisis"
         ],
         "y": [
          2.1192115428808877e-9
         ]
        },
        {
         "hoverinfo": "y",
         "hovertemplate": "AMT<br>%{y:.2f}",
         "marker": {
          "color": [
           "rgb(117, 27, 109)"
          ]
         },
         "name": "",
         "showlegend": false,
         "type": "bar",
         "x": [
          "Global Financial Crisis"
         ],
         "y": [
          2.108735342088535e-9
         ]
        },
        {
         "hoverinfo": "y",
         "hovertemplate": "VCSH<br>%{y:.2f}",
         "marker": {
          "color": [
           "rgb(249, 178, 29)"
          ]
         },
         "name": "",
         "showlegend": false,
         "type": "bar",
         "x": [
          "Global Financial Crisis"
         ],
         "y": [
          2.092305010561544e-9
         ]
        },
        {
         "hoverinfo": "y",
         "hovertemplate": "COST<br>%{y:.2f}",
         "marker": {
          "color": [
           "rgb(82, 15, 107)"
          ]
         },
         "name": "",
         "showlegend": false,
         "type": "bar",
         "x": [
          "Global Financial Crisis"
         ],
         "y": [
          2.0722152298184994e-9
         ]
        },
        {
         "hoverinfo": "y",
         "hovertemplate": "LLY<br>%{y:.2f}",
         "marker": {
          "color": [
           "rgb(33, 12, 70)"
          ]
         },
         "name": "",
         "showlegend": false,
         "type": "bar",
         "x": [
          "Global Financial Crisis"
         ],
         "y": [
          2.0088312373978165e-9
         ]
        },
        {
         "hoverinfo": "y",
         "hovertemplate": "GOOGL<br>%{y:.2f}",
         "marker": {
          "color": [
           "rgb(226, 91, 49)"
          ]
         },
         "name": "",
         "showlegend": false,
         "type": "bar",
         "x": [
          "Global Financial Crisis"
         ],
         "y": [
          1.953609376931519e-9
         ]
        },
        {
         "hoverinfo": "y",
         "hovertemplate": "JPM<br>%{y:.2f}",
         "marker": {
          "color": [
           "rgb(120, 28, 109)"
          ]
         },
         "name": "",
         "showlegend": false,
         "type": "bar",
         "x": [
          "Global Financial Crisis"
         ],
         "y": [
          1.925502408590448e-9
         ]
        },
        {
         "hoverinfo": "y",
         "hovertemplate": "MMM<br>%{y:.2f}",
         "marker": {
          "color": [
           "rgb(161, 42, 97)"
          ]
         },
         "name": "",
         "showlegend": false,
         "type": "bar",
         "x": [
          "Global Financial Crisis"
         ],
         "y": [
          1.898223052904732e-9
         ]
        },
        {
         "hoverinfo": "y",
         "hovertemplate": "XLRE<br>%{y:.2f}",
         "marker": {
          "color": [
           "rgb(248, 198, 50)"
          ]
         },
         "name": "",
         "showlegend": false,
         "type": "bar",
         "x": [
          "Global Financial Crisis"
         ],
         "y": [
          1.8667893151394576e-9
         ]
        },
        {
         "hoverinfo": "y",
         "hovertemplate": "MS<br>%{y:.2f}",
         "marker": {
          "color": [
           "rgb(144, 36, 102)"
          ]
         },
         "name": "",
         "showlegend": false,
         "type": "bar",
         "x": [
          "Global Financial Crisis"
         ],
         "y": [
          1.8606208799699313e-9
         ]
        },
        {
         "hoverinfo": "y",
         "hovertemplate": "DUK<br>%{y:.2f}",
         "marker": {
          "color": [
           "rgb(189, 58, 81)"
          ]
         },
         "name": "",
         "showlegend": false,
         "type": "bar",
         "x": [
          "Global Financial Crisis"
         ],
         "y": [
          1.845037582398323e-9
         ]
        },
        {
         "hoverinfo": "y",
         "hovertemplate": "TMUS<br>%{y:.2f}",
         "marker": {
          "color": [
           "rgb(233, 99, 42)"
          ]
         },
         "name": "",
         "showlegend": false,
         "type": "bar",
         "x": [
          "Global Financial Crisis"
         ],
         "y": [
          1.8325889190411193e-9
         ]
        },
        {
         "hoverinfo": "y",
         "hovertemplate": "INTC<br>%{y:.2f}",
         "marker": {
          "color": [
           "rgb(16, 7, 41)"
          ]
         },
         "name": "",
         "showlegend": false,
         "type": "bar",
         "x": [
          "Global Financial Crisis"
         ],
         "y": [
          1.8255638975082593e-9
         ]
        },
        {
         "hoverinfo": "y",
         "hovertemplate": "SO<br>%{y:.2f}",
         "marker": {
          "color": [
           "rgb(192, 60, 79)"
          ]
         },
         "name": "",
         "showlegend": false,
         "type": "bar",
         "x": [
          "Global Financial Crisis"
         ],
         "y": [
          1.7515336533078719e-9
         ]
        },
        {
         "hoverinfo": "y",
         "hovertemplate": "AGG<br>%{y:.2f}",
         "marker": {
          "color": [
           "rgb(250, 170, 21)"
          ]
         },
         "name": "",
         "showlegend": false,
         "type": "bar",
         "x": [
          "Global Financial Crisis"
         ],
         "y": [
          1.734391085539613e-9
         ]
        },
        {
         "hoverinfo": "y",
         "hovertemplate": "GS<br>%{y:.2f}",
         "marker": {
          "color": [
           "rgb(127, 30, 107)"
          ]
         },
         "name": "",
         "showlegend": false,
         "type": "bar",
         "x": [
          "Global Financial Crisis"
         ],
         "y": [
          1.6757014792223269e-9
         ]
        },
        {
         "hoverinfo": "y",
         "hovertemplate": "CVX<br>%{y:.2f}",
         "marker": {
          "color": [
           "rgb(238, 109, 35)"
          ]
         },
         "name": "",
         "showlegend": false,
         "type": "bar",
         "x": [
          "Global Financial Crisis"
         ],
         "y": [
          1.6556157706789557e-9
         ]
        },
        {
         "hoverinfo": "y",
         "hovertemplate": "NKE<br>%{y:.2f}",
         "marker": {
          "color": [
           "rgb(89, 17, 108)"
          ]
         },
         "name": "",
         "showlegend": false,
         "type": "bar",
         "x": [
          "Global Financial Crisis"
         ],
         "y": [
          1.5962314689497004e-9
         ]
        },
        {
         "hoverinfo": "y",
         "hovertemplate": "ED<br>%{y:.2f}",
         "marker": {
          "color": [
           "rgb(208, 69, 69)"
          ]
         },
         "name": "",
         "showlegend": false,
         "type": "bar",
         "x": [
          "Global Financial Crisis"
         ],
         "y": [
          1.514496523583839e-9
         ]
        },
        {
         "hoverinfo": "y",
         "hovertemplate": "BND<br>%{y:.2f}",
         "marker": {
          "color": [
           "rgb(251, 154, 7)"
          ]
         },
         "name": "",
         "showlegend": false,
         "type": "bar",
         "x": [
          "Global Financial Crisis"
         ],
         "y": [
          1.4884268827739673e-9
         ]
        },
        {
         "hoverinfo": "y",
         "hovertemplate": "KMB<br>%{y:.2f}",
         "marker": {
          "color": [
           "rgb(68, 12, 102)"
          ]
         },
         "name": "",
         "showlegend": false,
         "type": "bar",
         "x": [
          "Global Financial Crisis"
         ],
         "y": [
          1.4616694273577776e-9
         ]
        },
        {
         "hoverinfo": "y",
         "hovertemplate": "MDT<br>%{y:.2f}",
         "marker": {
          "color": [
           "rgb(43, 12, 80)"
          ]
         },
         "name": "",
         "showlegend": false,
         "type": "bar",
         "x": [
          "Global Financial Crisis"
         ],
         "y": [
          1.3555723081092225e-9
         ]
        },
        {
         "hoverinfo": "y",
         "hovertemplate": "MCD<br>%{y:.2f}",
         "marker": {
          "color": [
           "rgb(92, 18, 108)"
          ]
         },
         "name": "",
         "showlegend": false,
         "type": "bar",
         "x": [
          "Global Financial Crisis"
         ],
         "y": [
          1.3107237928094056e-9
         ]
        },
        {
         "hoverinfo": "y",
         "hovertemplate": "TLT<br>%{y:.2f}",
         "marker": {
          "color": [
           "rgb(249, 146, 11)"
          ]
         },
         "name": "",
         "showlegend": false,
         "type": "bar",
         "x": [
          "Global Financial Crisis"
         ],
         "y": [
          1.2509589322806895e-9
         ]
        },
        {
         "hoverinfo": "y",
         "hovertemplate": "NFLX<br>%{y:.2f}",
         "marker": {
          "color": [
           "rgb(224, 88, 52)"
          ]
         },
         "name": "",
         "showlegend": false,
         "type": "bar",
         "x": [
          "Global Financial Crisis"
         ],
         "y": [
          1.1814855404588179e-9
         ]
        },
        {
         "hoverinfo": "y",
         "hovertemplate": "JNJ<br>%{y:.2f}",
         "marker": {
          "color": [
           "rgb(20, 9, 50)"
          ]
         },
         "name": "",
         "showlegend": false,
         "type": "bar",
         "x": [
          "Global Financial Crisis"
         ],
         "y": [
          1.1406065425439602e-9
         ]
        },
        {
         "hoverinfo": "y",
         "hovertemplate": "GOVT<br>%{y:.2f}",
         "marker": {
          "color": [
           "rgb(250, 150, 9)"
          ]
         },
         "name": "",
         "showlegend": false,
         "type": "bar",
         "x": [
          "Global Financial Crisis"
         ],
         "y": [
          1.1107316347529024e-9
         ]
        },
        {
         "hoverinfo": "y",
         "hovertemplate": "BMY<br>%{y:.2f}",
         "marker": {
          "color": [
           "rgb(29, 12, 67)"
          ]
         },
         "name": "",
         "showlegend": false,
         "type": "bar",
         "x": [
          "Global Financial Crisis"
         ],
         "y": [
          8.060985372478888e-10
         ]
        },
        {
         "hoverinfo": "y",
         "hovertemplate": "VCIT<br>%{y:.2f}",
         "marker": {
          "color": [
           "rgb(250, 174, 25)"
          ]
         },
         "name": "",
         "showlegend": false,
         "type": "bar",
         "x": [
          "Global Financial Crisis"
         ],
         "y": [
          6.7536685778213e-10
         ]
        },
        {
         "hoverinfo": "y",
         "hovertemplate": "PLD<br>%{y:.2f}",
         "marker": {
          "color": [
           "rgb(248, 202, 54)"
          ]
         },
         "name": "",
         "showlegend": false,
         "type": "bar",
         "x": [
          "Global Financial Crisis"
         ],
         "y": [
          null
         ]
        },
        {
         "hoverinfo": "y",
         "hovertemplate": "O<br>%{y:.2f}",
         "marker": {
          "color": [
           "rgb(247, 206, 58)"
          ]
         },
         "name": "",
         "showlegend": false,
         "type": "bar",
         "x": [
          "Global Financial Crisis"
         ],
         "y": [
          null
         ]
        },
        {
         "hoverinfo": "y",
         "hovertemplate": "SPG<br>%{y:.2f}",
         "marker": {
          "color": [
           "rgb(247, 210, 64)"
          ]
         },
         "name": "",
         "showlegend": false,
         "type": "bar",
         "x": [
          "Global Financial Crisis"
         ],
         "y": [
          null
         ]
        },
        {
         "hoverinfo": "y",
         "hovertemplate": "AVB<br>%{y:.2f}",
         "marker": {
          "color": [
           "rgb(248, 214, 71)"
          ]
         },
         "name": "",
         "showlegend": false,
         "type": "bar",
         "x": [
          "Global Financial Crisis"
         ],
         "y": [
          null
         ]
        },
        {
         "hoverinfo": "y",
         "hovertemplate": "EQR<br>%{y:.2f}",
         "marker": {
          "color": [
           "rgb(248, 217, 79)"
          ]
         },
         "name": "",
         "showlegend": false,
         "type": "bar",
         "x": [
          "Global Financial Crisis"
         ],
         "y": [
          null
         ]
        },
        {
         "hoverinfo": "y",
         "hovertemplate": "GLD<br>%{y:.2f}",
         "marker": {
          "color": [
           "rgb(248, 220, 87)"
          ]
         },
         "name": "",
         "showlegend": false,
         "type": "bar",
         "x": [
          "Global Financial Crisis"
         ],
         "y": [
          null
         ]
        },
        {
         "hoverinfo": "y",
         "hovertemplate": "IAU<br>%{y:.2f}",
         "marker": {
          "color": [
           "rgb(249, 224, 94)"
          ]
         },
         "name": "",
         "showlegend": false,
         "type": "bar",
         "x": [
          "Global Financial Crisis"
         ],
         "y": [
          null
         ]
        },
        {
         "hoverinfo": "y",
         "hovertemplate": "SLV<br>%{y:.2f}",
         "marker": {
          "color": [
           "rgb(249, 227, 102)"
          ]
         },
         "name": "",
         "showlegend": false,
         "type": "bar",
         "x": [
          "Global Financial Crisis"
         ],
         "y": [
          null
         ]
        },
        {
         "hoverinfo": "y",
         "hovertemplate": "PDBC<br>%{y:.2f}",
         "marker": {
          "color": [
           "rgb(249, 231, 110)"
          ]
         },
         "name": "",
         "showlegend": false,
         "type": "bar",
         "x": [
          "Global Financial Crisis"
         ],
         "y": [
          null
         ]
        },
        {
         "hoverinfo": "y",
         "hovertemplate": "DBC<br>%{y:.2f}",
         "marker": {
          "color": [
           "rgb(250, 234, 118)"
          ]
         },
         "name": "",
         "showlegend": false,
         "type": "bar",
         "x": [
          "Global Financial Crisis"
         ],
         "y": [
          null
         ]
        },
        {
         "hoverinfo": "y",
         "hovertemplate": "USO<br>%{y:.2f}",
         "marker": {
          "color": [
           "rgb(250, 238, 125)"
          ]
         },
         "name": "",
         "showlegend": false,
         "type": "bar",
         "x": [
          "Global Financial Crisis"
         ],
         "y": [
          null
         ]
        },
        {
         "hoverinfo": "y",
         "hovertemplate": "UNG<br>%{y:.2f}",
         "marker": {
          "color": [
           "rgb(251, 241, 133)"
          ]
         },
         "name": "",
         "showlegend": false,
         "type": "bar",
         "x": [
          "Global Financial Crisis"
         ],
         "y": [
          null
         ]
        },
        {
         "hoverinfo": "y",
         "hovertemplate": "BNO<br>%{y:.2f}",
         "marker": {
          "color": [
           "rgb(251, 245, 141)"
          ]
         },
         "name": "",
         "showlegend": false,
         "type": "bar",
         "x": [
          "Global Financial Crisis"
         ],
         "y": [
          null
         ]
        },
        {
         "hoverinfo": "y",
         "hovertemplate": "GSG<br>%{y:.2f}",
         "marker": {
          "color": [
           "rgb(251, 248, 149)"
          ]
         },
         "name": "",
         "showlegend": false,
         "type": "bar",
         "x": [
          "Global Financial Crisis"
         ],
         "y": [
          null
         ]
        },
        {
         "hoverinfo": "y",
         "hovertemplate": "CORN<br>%{y:.2f}",
         "marker": {
          "color": [
           "rgb(252, 252, 156)"
          ]
         },
         "name": "",
         "showlegend": false,
         "type": "bar",
         "x": [
          "Global Financial Crisis"
         ],
         "y": [
          null
         ]
        },
        {
         "hoverinfo": "y",
         "hovertemplate": "IEF<br>%{y:.2f}",
         "marker": {
          "color": [
           "rgb(248, 143, 14)"
          ]
         },
         "name": "",
         "showlegend": false,
         "type": "bar",
         "x": [
          "Post-Crisis Recovery"
         ],
         "y": [
          0.31777190046227805
         ]
        },
        {
         "hoverinfo": "y",
         "hovertemplate": "NEE<br>%{y:.2f}",
         "marker": {
          "color": [
           "rgb(186, 56, 83)"
          ]
         },
         "name": "",
         "showlegend": false,
         "type": "bar",
         "x": [
          "Post-Crisis Recovery"
         ],
         "y": [
          0.16021309451870278
         ]
        },
        {
         "hoverinfo": "y",
         "hovertemplate": "BAC<br>%{y:.2f}",
         "marker": {
          "color": [
           "rgb(123, 29, 108)"
          ]
         },
         "name": "",
         "showlegend": false,
         "type": "bar",
         "x": [
          "Post-Crisis Recovery"
         ],
         "y": [
          0.09154977126227144
         ]
        },
        {
         "hoverinfo": "y",
         "hovertemplate": "AXP<br>%{y:.2f}",
         "marker": {
          "color": [
           "rgb(137, 34, 104)"
          ]
         },
         "name": "",
         "showlegend": false,
         "type": "bar",
         "x": [
          "Post-Crisis Recovery"
         ],
         "y": [
          0.08197919918921673
         ]
        },
        {
         "hoverinfo": "y",
         "hovertemplate": "HON<br>%{y:.2f}",
         "marker": {
          "color": [
           "rgb(164, 44, 96)"
          ]
         },
         "name": "",
         "showlegend": false,
         "type": "bar",
         "x": [
          "Post-Crisis Recovery"
         ],
         "y": [
          0.07448572900786352
         ]
        },
        {
         "hoverinfo": "y",
         "hovertemplate": "META<br>%{y:.2f}",
         "marker": {
          "color": [
           "rgb(228, 94, 47)"
          ]
         },
         "name": "",
         "showlegend": false,
         "type": "bar",
         "x": [
          "Post-Crisis Recovery"
         ],
         "y": [
          0.05772953324239892
         ]
        },
        {
         "hoverinfo": "y",
         "hovertemplate": "D<br>%{y:.2f}",
         "marker": {
          "color": [
           "rgb(202, 65, 73)"
          ]
         },
         "name": "",
         "showlegend": false,
         "type": "bar",
         "x": [
          "Post-Crisis Recovery"
         ],
         "y": [
          0.0390540913549291
         ]
        },
        {
         "hoverinfo": "y",
         "hovertemplate": "SBUX<br>%{y:.2f}",
         "marker": {
          "color": [
           "rgb(96, 20, 108)"
          ]
         },
         "name": "",
         "showlegend": false,
         "type": "bar",
         "x": [
          "Post-Crisis Recovery"
         ],
         "y": [
          0.0319903853703941
         ]
        },
        {
         "hoverinfo": "y",
         "hovertemplate": "BND<br>%{y:.2f}",
         "marker": {
          "color": [
           "rgb(251, 154, 7)"
          ]
         },
         "name": "",
         "showlegend": false,
         "type": "bar",
         "x": [
          "Post-Crisis Recovery"
         ],
         "y": [
          0.026144349421381243
         ]
        },
        {
         "hoverinfo": "y",
         "hovertemplate": "SPOT<br>%{y:.2f}",
         "marker": {
          "color": [
           "rgb(235, 102, 39)"
          ]
         },
         "name": "",
         "showlegend": false,
         "type": "bar",
         "x": [
          "Post-Crisis Recovery"
         ],
         "y": [
          0.025565443351538153
         ]
        },
        {
         "hoverinfo": "y",
         "hovertemplate": "AAPL<br>%{y:.2f}",
         "marker": {
          "color": [
           "rgb(0, 0, 4)"
          ]
         },
         "name": "",
         "showlegend": false,
         "type": "bar",
         "x": [
          "Post-Crisis Recovery"
         ],
         "y": [
          0.02509658531501172
         ]
        },
        {
         "hoverinfo": "y",
         "hovertemplate": "MRK<br>%{y:.2f}",
         "marker": {
          "color": [
           "rgb(24, 11, 59)"
          ]
         },
         "name": "",
         "showlegend": false,
         "type": "bar",
         "x": [
          "Post-Crisis Recovery"
         ],
         "y": [
          0.01681381161559709
         ]
        },
        {
         "hoverinfo": "y",
         "hovertemplate": "VNQ<br>%{y:.2f}",
         "marker": {
          "color": [
           "rgb(249, 182, 34)"
          ]
         },
         "name": "",
         "showlegend": false,
         "type": "bar",
         "x": [
          "Post-Crisis Recovery"
         ],
         "y": [
          0.013605130712808177
         ]
        },
        {
         "hoverinfo": "y",
         "hovertemplate": "XEL<br>%{y:.2f}",
         "marker": {
          "color": [
           "rgb(205, 67, 71)"
          ]
         },
         "name": "",
         "showlegend": false,
         "type": "bar",
         "x": [
          "Post-Crisis Recovery"
         ],
         "y": [
          0.011200663352649354
         ]
        },
        {
         "hoverinfo": "y",
         "hovertemplate": "MMM<br>%{y:.2f}",
         "marker": {
          "color": [
           "rgb(161, 42, 97)"
          ]
         },
         "name": "",
         "showlegend": false,
         "type": "bar",
         "x": [
          "Post-Crisis Recovery"
         ],
         "y": [
          0.010965791422741017
         ]
        },
        {
         "hoverinfo": "y",
         "hovertemplate": "GILD<br>%{y:.2f}",
         "marker": {
          "color": [
           "rgb(40, 12, 77)"
          ]
         },
         "name": "",
         "showlegend": false,
         "type": "bar",
         "x": [
          "Post-Crisis Recovery"
         ],
         "y": [
          0.008091560941681153
         ]
        },
        {
         "hoverinfo": "y",
         "hovertemplate": "TLT<br>%{y:.2f}",
         "marker": {
          "color": [
           "rgb(249, 146, 11)"
          ]
         },
         "name": "",
         "showlegend": false,
         "type": "bar",
         "x": [
          "Post-Crisis Recovery"
         ],
         "y": [
          0.0070931205682349795
         ]
        },
        {
         "hoverinfo": "y",
         "hovertemplate": "OXY<br>%{y:.2f}",
         "marker": {
          "color": [
           "rgb(246, 139, 16)"
          ]
         },
         "name": "",
         "showlegend": false,
         "type": "bar",
         "x": [
          "Post-Crisis Recovery"
         ],
         "y": [
          0.0006497631067192234
         ]
        },
        {
         "hoverinfo": "y",
         "hovertemplate": "PG<br>%{y:.2f}",
         "marker": {
          "color": [
           "rgb(51, 12, 86)"
          ]
         },
         "name": "",
         "showlegend": false,
         "type": "bar",
         "x": [
          "Post-Crisis Recovery"
         ],
         "y": [
          1.1835577654439693e-8
         ]
        },
        {
         "hoverinfo": "y",
         "hovertemplate": "ELV<br>%{y:.2f}",
         "marker": {
          "color": [
           "rgb(47, 12, 83)"
          ]
         },
         "name": "",
         "showlegend": false,
         "type": "bar",
         "x": [
          "Post-Crisis Recovery"
         ],
         "y": [
          7.729550982594806e-9
         ]
        },
        {
         "hoverinfo": "y",
         "hovertemplate": "ADBE<br>%{y:.2f}",
         "marker": {
          "color": [
           "rgb(10, 4, 27)"
          ]
         },
         "name": "",
         "showlegend": false,
         "type": "bar",
         "x": [
          "Post-Crisis Recovery"
         ],
         "y": [
          7.239237492178951e-9
         ]
        },
        {
         "hoverinfo": "y",
         "hovertemplate": "BA<br>%{y:.2f}",
         "marker": {
          "color": [
           "rgb(154, 40, 99)"
          ]
         },
         "name": "",
         "showlegend": false,
         "type": "bar",
         "x": [
          "Post-Crisis Recovery"
         ],
         "y": [
          4.908454870968671e-9
         ]
        },
        {
         "hoverinfo": "y",
         "hovertemplate": "RTX<br>%{y:.2f}",
         "marker": {
          "color": [
           "rgb(177, 51, 89)"
          ]
         },
         "name": "",
         "showlegend": false,
         "type": "bar",
         "x": [
          "Post-Crisis Recovery"
         ],
         "y": [
          3.706137676508698e-9
         ]
        },
        {
         "hoverinfo": "y",
         "hovertemplate": "VCIT<br>%{y:.2f}",
         "marker": {
          "color": [
           "rgb(250, 174, 25)"
          ]
         },
         "name": "",
         "showlegend": false,
         "type": "bar",
         "x": [
          "Post-Crisis Recovery"
         ],
         "y": [
          3.0897181004378968e-9
         ]
        },
        {
         "hoverinfo": "y",
         "hovertemplate": "MO<br>%{y:.2f}",
         "marker": {
          "color": [
           "rgb(72, 12, 105)"
          ]
         },
         "name": "",
         "showlegend": false,
         "type": "bar",
         "x": [
          "Post-Crisis Recovery"
         ],
         "y": [
          2.674224773031468e-9
         ]
        },
        {
         "hoverinfo": "y",
         "hovertemplate": "VCSH<br>%{y:.2f}",
         "marker": {
          "color": [
           "rgb(249, 178, 29)"
          ]
         },
         "name": "",
         "showlegend": false,
         "type": "bar",
         "x": [
          "Post-Crisis Recovery"
         ],
         "y": [
          2.419925415004799e-9
         ]
        },
        {
         "hoverinfo": "y",
         "hovertemplate": "UNH<br>%{y:.2f}",
         "marker": {
          "color": [
           "rgb(26, 12, 63)"
          ]
         },
         "name": "",
         "showlegend": false,
         "type": "bar",
         "x": [
          "Post-Crisis Recovery"
         ],
         "y": [
          2.0927558692273233e-9
         ]
        },
        {
         "hoverinfo": "y",
         "hovertemplate": "AMZN<br>%{y:.2f}",
         "marker": {
          "color": [
           "rgb(6, 3, 18)"
          ]
         },
         "name": "",
         "showlegend": false,
         "type": "bar",
         "x": [
          "Post-Crisis Recovery"
         ],
         "y": [
          1.9041464291321336e-9
         ]
        },
        {
         "hoverinfo": "y",
         "hovertemplate": "LMT<br>%{y:.2f}",
         "marker": {
          "color": [
           "rgb(170, 47, 93)"
          ]
         },
         "name": "",
         "showlegend": false,
         "type": "bar",
         "x": [
          "Post-Crisis Recovery"
         ],
         "y": [
          1.3180432748441732e-9
         ]
        },
        {
         "hoverinfo": "y",
         "hovertemplate": "BKR<br>%{y:.2f}",
         "marker": {
          "color": [
           "rgb(245, 135, 18)"
          ]
         },
         "name": "",
         "showlegend": false,
         "type": "bar",
         "x": [
          "Post-Crisis Recovery"
         ],
         "y": [
          1.0538134709145241e-9
         ]
        },
        {
         "hoverinfo": "y",
         "hovertemplate": "GE<br>%{y:.2f}",
         "marker": {
          "color": [
           "rgb(173, 49, 91)"
          ]
         },
         "name": "",
         "showlegend": false,
         "type": "bar",
         "x": [
          "Post-Crisis Recovery"
         ],
         "y": [
          9.868502336752327e-10
         ]
        },
        {
         "hoverinfo": "y",
         "hovertemplate": "T<br>%{y:.2f}",
         "marker": {
          "color": [
           "rgb(217, 80, 59)"
          ]
         },
         "name": "",
         "showlegend": false,
         "type": "bar",
         "x": [
          "Post-Crisis Recovery"
         ],
         "y": [
          7.17666948069795e-10
         ]
        },
        {
         "hoverinfo": "y",
         "hovertemplate": "EXC<br>%{y:.2f}",
         "marker": {
          "color": [
           "rgb(199, 63, 75)"
          ]
         },
         "name": "",
         "showlegend": false,
         "type": "bar",
         "x": [
          "Post-Crisis Recovery"
         ],
         "y": [
          6.982201730042608e-10
         ]
        },
        {
         "hoverinfo": "y",
         "hovertemplate": "SCHH<br>%{y:.2f}",
         "marker": {
          "color": [
           "rgb(248, 190, 42)"
          ]
         },
         "name": "",
         "showlegend": false,
         "type": "bar",
         "x": [
          "Post-Crisis Recovery"
         ],
         "y": [
          6.740008179516255e-10
         ]
        },
        {
         "hoverinfo": "y",
         "hovertemplate": "WMT<br>%{y:.2f}",
         "marker": {
          "color": [
           "rgb(61, 12, 95)"
          ]
         },
         "name": "",
         "showlegend": false,
         "type": "bar",
         "x": [
          "Post-Crisis Recovery"
         ],
         "y": [
          6.139716404657648e-10
         ]
        },
        {
         "hoverinfo": "y",
         "hovertemplate": "TGT<br>%{y:.2f}",
         "marker": {
          "color": [
           "rgb(99, 21, 108)"
          ]
         },
         "name": "",
         "showlegend": false,
         "type": "bar",
         "x": [
          "Post-Crisis Recovery"
         ],
         "y": [
          5.957581137430463e-10
         ]
        },
        {
         "hoverinfo": "y",
         "hovertemplate": "SLB<br>%{y:.2f}",
         "marker": {
          "color": [
           "rgb(240, 116, 30)"
          ]
         },
         "name": "",
         "showlegend": false,
         "type": "bar",
         "x": [
          "Post-Crisis Recovery"
         ],
         "y": [
          5.838511898843332e-10
         ]
        },
        {
         "hoverinfo": "y",
         "hovertemplate": "UNP<br>%{y:.2f}",
         "marker": {
          "color": [
           "rgb(167, 45, 95)"
          ]
         },
         "name": "",
         "showlegend": false,
         "type": "bar",
         "x": [
          "Post-Crisis Recovery"
         ],
         "y": [
          5.455564535026399e-10
         ]
        },
        {
         "hoverinfo": "y",
         "hovertemplate": "PLD<br>%{y:.2f}",
         "marker": {
          "color": [
           "rgb(248, 202, 54)"
          ]
         },
         "name": "",
         "showlegend": false,
         "type": "bar",
         "x": [
          "Post-Crisis Recovery"
         ],
         "y": [
          5.339360667771016e-10
         ]
        },
        {
         "hoverinfo": "y",
         "hovertemplate": "COST<br>%{y:.2f}",
         "marker": {
          "color": [
           "rgb(82, 15, 107)"
          ]
         },
         "name": "",
         "showlegend": false,
         "type": "bar",
         "x": [
          "Post-Crisis Recovery"
         ],
         "y": [
          5.281073441182587e-10
         ]
        },
        {
         "hoverinfo": "y",
         "hovertemplate": "BLK<br>%{y:.2f}",
         "marker": {
          "color": [
           "rgb(147, 38, 101)"
          ]
         },
         "name": "",
         "showlegend": false,
         "type": "bar",
         "x": [
          "Post-Crisis Recovery"
         ],
         "y": [
          5.088613175686662e-10
         ]
        },
        {
         "hoverinfo": "y",
         "hovertemplate": "C<br>%{y:.2f}",
         "marker": {
          "color": [
           "rgb(134, 33, 105)"
          ]
         },
         "name": "",
         "showlegend": false,
         "type": "bar",
         "x": [
          "Post-Crisis Recovery"
         ],
         "y": [
          5.087668556090232e-10
         ]
        },
        {
         "hoverinfo": "y",
         "hovertemplate": "HD<br>%{y:.2f}",
         "marker": {
          "color": [
           "rgb(103, 22, 108)"
          ]
         },
         "name": "",
         "showlegend": false,
         "type": "bar",
         "x": [
          "Post-Crisis Recovery"
         ],
         "y": [
          4.995559339079626e-10
         ]
        },
        {
         "hoverinfo": "y",
         "hovertemplate": "WFC<br>%{y:.2f}",
         "marker": {
          "color": [
           "rgb(130, 32, 106)"
          ]
         },
         "name": "",
         "showlegend": false,
         "type": "bar",
         "x": [
          "Post-Crisis Recovery"
         ],
         "y": [
          4.977186099561708e-10
         ]
        },
        {
         "hoverinfo": "y",
         "hovertemplate": "MPC<br>%{y:.2f}",
         "marker": {
          "color": [
           "rgb(243, 128, 23)"
          ]
         },
         "name": "",
         "showlegend": false,
         "type": "bar",
         "x": [
          "Post-Crisis Recovery"
         ],
         "y": [
          4.902106658166545e-10
         ]
        },
        {
         "hoverinfo": "y",
         "hovertemplate": "MDLZ<br>%{y:.2f}",
         "marker": {
          "color": [
           "rgb(75, 12, 107)"
          ]
         },
         "name": "",
         "showlegend": false,
         "type": "bar",
         "x": [
          "Post-Crisis Recovery"
         ],
         "y": [
          4.84053334431115e-10
         ]
        },
        {
         "hoverinfo": "y",
         "hovertemplate": "MCD<br>%{y:.2f}",
         "marker": {
          "color": [
           "rgb(92, 18, 108)"
          ]
         },
         "name": "",
         "showlegend": false,
         "type": "bar",
         "x": [
          "Post-Crisis Recovery"
         ],
         "y": [
          4.773897806247869e-10
         ]
        },
        {
         "hoverinfo": "y",
         "hovertemplate": "GOOG<br>%{y:.2f}",
         "marker": {
          "color": [
           "rgb(4, 2, 13)"
          ]
         },
         "name": "",
         "showlegend": false,
         "type": "bar",
         "x": [
          "Post-Crisis Recovery"
         ],
         "y": [
          4.6426556577887594e-10
         ]
        },
        {
         "hoverinfo": "y",
         "hovertemplate": "CAT<br>%{y:.2f}",
         "marker": {
          "color": [
           "rgb(157, 41, 98)"
          ]
         },
         "name": "",
         "showlegend": false,
         "type": "bar",
         "x": [
          "Post-Crisis Recovery"
         ],
         "y": [
          4.4879766546498033e-10
         ]
        },
        {
         "hoverinfo": "y",
         "hovertemplate": "SRE<br>%{y:.2f}",
         "marker": {
          "color": [
           "rgb(210, 72, 67)"
          ]
         },
         "name": "",
         "showlegend": false,
         "type": "bar",
         "x": [
          "Post-Crisis Recovery"
         ],
         "y": [
          4.4661559834094866e-10
         ]
        },
        {
         "hoverinfo": "y",
         "hovertemplate": "INTC<br>%{y:.2f}",
         "marker": {
          "color": [
           "rgb(16, 7, 41)"
          ]
         },
         "name": "",
         "showlegend": false,
         "type": "bar",
         "x": [
          "Post-Crisis Recovery"
         ],
         "y": [
          4.3737488505381364e-10
         ]
        },
        {
         "hoverinfo": "y",
         "hovertemplate": "LQD<br>%{y:.2f}",
         "marker": {
          "color": [
           "rgb(251, 158, 9)"
          ]
         },
         "name": "",
         "showlegend": false,
         "type": "bar",
         "x": [
          "Post-Crisis Recovery"
         ],
         "y": [
          4.373186416003395e-10
         ]
        },
        {
         "hoverinfo": "y",
         "hovertemplate": "ORCL<br>%{y:.2f}",
         "marker": {
          "color": [
           "rgb(12, 5, 31)"
          ]
         },
         "name": "",
         "showlegend": false,
         "type": "bar",
         "x": [
          "Post-Crisis Recovery"
         ],
         "y": [
          4.3014216991051775e-10
         ]
        },
        {
         "hoverinfo": "y",
         "hovertemplate": "GIS<br>%{y:.2f}",
         "marker": {
          "color": [
           "rgb(79, 14, 107)"
          ]
         },
         "name": "",
         "showlegend": false,
         "type": "bar",
         "x": [
          "Post-Crisis Recovery"
         ],
         "y": [
          4.069765303253191e-10
         ]
        },
        {
         "hoverinfo": "y",
         "hovertemplate": "PSX<br>%{y:.2f}",
         "marker": {
          "color": [
           "rgb(241, 120, 28)"
          ]
         },
         "name": "",
         "showlegend": false,
         "type": "bar",
         "x": [
          "Post-Crisis Recovery"
         ],
         "y": [
          4.061037127306692e-10
         ]
        },
        {
         "hoverinfo": "y",
         "hovertemplate": "ABBV<br>%{y:.2f}",
         "marker": {
          "color": [
           "rgb(36, 12, 73)"
          ]
         },
         "name": "",
         "showlegend": false,
         "type": "bar",
         "x": [
          "Post-Crisis Recovery"
         ],
         "y": [
          4.0033232862486723e-10
         ]
        },
        {
         "hoverinfo": "y",
         "hovertemplate": "CMCSA<br>%{y:.2f}",
         "marker": {
          "color": [
           "rgb(219, 83, 57)"
          ]
         },
         "name": "",
         "showlegend": false,
         "type": "bar",
         "x": [
          "Post-Crisis Recovery"
         ],
         "y": [
          3.9980055079940066e-10
         ]
        },
        {
         "hoverinfo": "y",
         "hovertemplate": "GS<br>%{y:.2f}",
         "marker": {
          "color": [
           "rgb(127, 30, 107)"
          ]
         },
         "name": "",
         "showlegend": false,
         "type": "bar",
         "x": [
          "Post-Crisis Recovery"
         ],
         "y": [
          3.9565115008808856e-10
         ]
        },
        {
         "hoverinfo": "y",
         "hovertemplate": "TJX<br>%{y:.2f}",
         "marker": {
          "color": [
           "rgb(110, 24, 109)"
          ]
         },
         "name": "",
         "showlegend": false,
         "type": "bar",
         "x": [
          "Post-Crisis Recovery"
         ],
         "y": [
          3.9153962591427214e-10
         ]
        },
        {
         "hoverinfo": "y",
         "hovertemplate": "MSFT<br>%{y:.2f}",
         "marker": {
          "color": [
           "rgb(2, 1, 9)"
          ]
         },
         "name": "",
         "showlegend": false,
         "type": "bar",
         "x": [
          "Post-Crisis Recovery"
         ],
         "y": [
          3.794976808374923e-10
         ]
        },
        {
         "hoverinfo": "y",
         "hovertemplate": "TSLA<br>%{y:.2f}",
         "marker": {
          "color": [
           "rgb(86, 16, 108)"
          ]
         },
         "name": "",
         "showlegend": false,
         "type": "bar",
         "x": [
          "Post-Crisis Recovery"
         ],
         "y": [
          3.739074502157703e-10
         ]
        },
        {
         "hoverinfo": "y",
         "hovertemplate": "LOW<br>%{y:.2f}",
         "marker": {
          "color": [
           "rgb(106, 23, 108)"
          ]
         },
         "name": "",
         "showlegend": false,
         "type": "bar",
         "x": [
          "Post-Crisis Recovery"
         ],
         "y": [
          3.677549275746095e-10
         ]
        },
        {
         "hoverinfo": "y",
         "hovertemplate": "SCHW<br>%{y:.2f}",
         "marker": {
          "color": [
           "rgb(140, 35, 103)"
          ]
         },
         "name": "",
         "showlegend": false,
         "type": "bar",
         "x": [
          "Post-Crisis Recovery"
         ],
         "y": [
          3.5823597043759703e-10
         ]
        },
        {
         "hoverinfo": "y",
         "hovertemplate": "HYG<br>%{y:.2f}",
         "marker": {
          "color": [
           "rgb(250, 162, 13)"
          ]
         },
         "name": "",
         "showlegend": false,
         "type": "bar",
         "x": [
          "Post-Crisis Recovery"
         ],
         "y": [
          3.481621041190429e-10
         ]
        },
        {
         "hoverinfo": "y",
         "hovertemplate": "DIS<br>%{y:.2f}",
         "marker": {
          "color": [
           "rgb(221, 86, 54)"
          ]
         },
         "name": "",
         "showlegend": false,
         "type": "bar",
         "x": [
          "Post-Crisis Recovery"
         ],
         "y": [
          3.457845139492041e-10
         ]
        },
        {
         "hoverinfo": "y",
         "hovertemplate": "TIP<br>%{y:.2f}",
         "marker": {
          "color": [
           "rgb(250, 166, 17)"
          ]
         },
         "name": "",
         "showlegend": false,
         "type": "bar",
         "x": [
          "Post-Crisis Recovery"
         ],
         "y": [
          3.383996956978088e-10
         ]
        },
        {
         "hoverinfo": "y",
         "hovertemplate": "DE<br>%{y:.2f}",
         "marker": {
          "color": [
           "rgb(183, 54, 85)"
          ]
         },
         "name": "",
         "showlegend": false,
         "type": "bar",
         "x": [
          "Post-Crisis Recovery"
         ],
         "y": [
          3.372398838635178e-10
         ]
        },
        {
         "hoverinfo": "y",
         "hovertemplate": "VLO<br>%{y:.2f}",
         "marker": {
          "color": [
           "rgb(242, 124, 25)"
          ]
         },
         "name": "",
         "showlegend": false,
         "type": "bar",
         "x": [
          "Post-Crisis Recovery"
         ],
         "y": [
          3.3617152616407267e-10
         ]
        },
        {
         "hoverinfo": "y",
         "hovertemplate": "XOM<br>%{y:.2f}",
         "marker": {
          "color": [
           "rgb(237, 105, 37)"
          ]
         },
         "name": "",
         "showlegend": false,
         "type": "bar",
         "x": [
          "Post-Crisis Recovery"
         ],
         "y": [
          3.2511034003302843e-10
         ]
        },
        {
         "hoverinfo": "y",
         "hovertemplate": "RWR<br>%{y:.2f}",
         "marker": {
          "color": [
           "rgb(248, 194, 46)"
          ]
         },
         "name": "",
         "showlegend": false,
         "type": "bar",
         "x": [
          "Post-Crisis Recovery"
         ],
         "y": [
          3.2059782865843605e-10
         ]
        },
        {
         "hoverinfo": "y",
         "hovertemplate": "AEP<br>%{y:.2f}",
         "marker": {
          "color": [
           "rgb(195, 61, 77)"
          ]
         },
         "name": "",
         "showlegend": false,
         "type": "bar",
         "x": [
          "Post-Crisis Recovery"
         ],
         "y": [
          3.2049049140715986e-10
         ]
        },
        {
         "hoverinfo": "y",
         "hovertemplate": "NVDA<br>%{y:.2f}",
         "marker": {
          "color": [
           "rgb(8, 4, 22)"
          ]
         },
         "name": "",
         "showlegend": false,
         "type": "bar",
         "x": [
          "Post-Crisis Recovery"
         ],
         "y": [
          2.826074233854121e-10
         ]
        },
        {
         "hoverinfo": "y",
         "hovertemplate": "COP<br>%{y:.2f}",
         "marker": {
          "color": [
           "rgb(239, 113, 32)"
          ]
         },
         "name": "",
         "showlegend": false,
         "type": "bar",
         "x": [
          "Post-Crisis Recovery"
         ],
         "y": [
          2.7615764201559946e-10
         ]
        },
        {
         "hoverinfo": "y",
         "hovertemplate": "DUK<br>%{y:.2f}",
         "marker": {
          "color": [
           "rgb(189, 58, 81)"
          ]
         },
         "name": "",
         "showlegend": false,
         "type": "bar",
         "x": [
          "Post-Crisis Recovery"
         ],
         "y": [
          2.6541384056733393e-10
         ]
        },
        {
         "hoverinfo": "y",
         "hovertemplate": "HAL<br>%{y:.2f}",
         "marker": {
          "color": [
           "rgb(244, 131, 21)"
          ]
         },
         "name": "",
         "showlegend": false,
         "type": "bar",
         "x": [
          "Post-Crisis Recovery"
         ],
         "y": [
          2.600914206475999e-10
         ]
        },
        {
         "hoverinfo": "y",
         "hovertemplate": "USB<br>%{y:.2f}",
         "marker": {
          "color": [
           "rgb(150, 39, 100)"
          ]
         },
         "name": "",
         "showlegend": false,
         "type": "bar",
         "x": [
          "Post-Crisis Recovery"
         ],
         "y": [
          2.5960327529880744e-10
         ]
        },
        {
         "hoverinfo": "y",
         "hovertemplate": "UPS<br>%{y:.2f}",
         "marker": {
          "color": [
           "rgb(180, 52, 87)"
          ]
         },
         "name": "",
         "showlegend": false,
         "type": "bar",
         "x": [
          "Post-Crisis Recovery"
         ],
         "y": [
          2.566927104835974e-10
         ]
        },
        {
         "hoverinfo": "y",
         "hovertemplate": "GOOGL<br>%{y:.2f}",
         "marker": {
          "color": [
           "rgb(226, 91, 49)"
          ]
         },
         "name": "",
         "showlegend": false,
         "type": "bar",
         "x": [
          "Post-Crisis Recovery"
         ],
         "y": [
          2.565984794644364e-10
         ]
        },
        {
         "hoverinfo": "y",
         "hovertemplate": "MDT<br>%{y:.2f}",
         "marker": {
          "color": [
           "rgb(43, 12, 80)"
          ]
         },
         "name": "",
         "showlegend": false,
         "type": "bar",
         "x": [
          "Post-Crisis Recovery"
         ],
         "y": [
          2.365954195021184e-10
         ]
        },
        {
         "hoverinfo": "y",
         "hovertemplate": "XLRE<br>%{y:.2f}",
         "marker": {
          "color": [
           "rgb(248, 198, 50)"
          ]
         },
         "name": "",
         "showlegend": false,
         "type": "bar",
         "x": [
          "Post-Crisis Recovery"
         ],
         "y": [
          2.2308839088255293e-10
         ]
        },
        {
         "hoverinfo": "y",
         "hovertemplate": "IYR<br>%{y:.2f}",
         "marker": {
          "color": [
           "rgb(249, 186, 38)"
          ]
         },
         "name": "",
         "showlegend": false,
         "type": "bar",
         "x": [
          "Post-Crisis Recovery"
         ],
         "y": [
          2.132536895687591e-10
         ]
        },
        {
         "hoverinfo": "y",
         "hovertemplate": "TMUS<br>%{y:.2f}",
         "marker": {
          "color": [
           "rgb(233, 99, 42)"
          ]
         },
         "name": "",
         "showlegend": false,
         "type": "bar",
         "x": [
          "Post-Crisis Recovery"
         ],
         "y": [
          2.1306723922924926e-10
         ]
        },
        {
         "hoverinfo": "y",
         "hovertemplate": "ED<br>%{y:.2f}",
         "marker": {
          "color": [
           "rgb(208, 69, 69)"
          ]
         },
         "name": "",
         "showlegend": false,
         "type": "bar",
         "x": [
          "Post-Crisis Recovery"
         ],
         "y": [
          2.095862471548332e-10
         ]
        },
        {
         "hoverinfo": "y",
         "hovertemplate": "O<br>%{y:.2f}",
         "marker": {
          "color": [
           "rgb(247, 206, 58)"
          ]
         },
         "name": "",
         "showlegend": false,
         "type": "bar",
         "x": [
          "Post-Crisis Recovery"
         ],
         "y": [
          2.0817312390641714e-10
         ]
        },
        {
         "hoverinfo": "y",
         "hovertemplate": "KMB<br>%{y:.2f}",
         "marker": {
          "color": [
           "rgb(68, 12, 102)"
          ]
         },
         "name": "",
         "showlegend": false,
         "type": "bar",
         "x": [
          "Post-Crisis Recovery"
         ],
         "y": [
          2.0738895419919197e-10
         ]
        },
        {
         "hoverinfo": "y",
         "hovertemplate": "CRM<br>%{y:.2f}",
         "marker": {
          "color": [
           "rgb(14, 6, 36)"
          ]
         },
         "name": "",
         "showlegend": false,
         "type": "bar",
         "x": [
          "Post-Crisis Recovery"
         ],
         "y": [
          2.0600574762558814e-10
         ]
        },
        {
         "hoverinfo": "y",
         "hovertemplate": "PEP<br>%{y:.2f}",
         "marker": {
          "color": [
           "rgb(58, 12, 92)"
          ]
         },
         "name": "",
         "showlegend": false,
         "type": "bar",
         "x": [
          "Post-Crisis Recovery"
         ],
         "y": [
          2.0509409383157267e-10
         ]
        },
        {
         "hoverinfo": "y",
         "hovertemplate": "MS<br>%{y:.2f}",
         "marker": {
          "color": [
           "rgb(144, 36, 102)"
          ]
         },
         "name": "",
         "showlegend": false,
         "type": "bar",
         "x": [
          "Post-Crisis Recovery"
         ],
         "y": [
          1.9529642226833083e-10
         ]
        },
        {
         "hoverinfo": "y",
         "hovertemplate": "CHTR<br>%{y:.2f}",
         "marker": {
          "color": [
           "rgb(230, 97, 44)"
          ]
         },
         "name": "",
         "showlegend": false,
         "type": "bar",
         "x": [
          "Post-Crisis Recovery"
         ],
         "y": [
          1.9387854678453083e-10
         ]
        },
        {
         "hoverinfo": "y",
         "hovertemplate": "PPL<br>%{y:.2f}",
         "marker": {
          "color": [
           "rgb(212, 74, 64)"
          ]
         },
         "name": "",
         "showlegend": false,
         "type": "bar",
         "x": [
          "Post-Crisis Recovery"
         ],
         "y": [
          1.6956607014731446e-10
         ]
        },
        {
         "hoverinfo": "y",
         "hovertemplate": "KO<br>%{y:.2f}",
         "marker": {
          "color": [
           "rgb(54, 12, 89)"
          ]
         },
         "name": "",
         "showlegend": false,
         "type": "bar",
         "x": [
          "Post-Crisis Recovery"
         ],
         "y": [
          1.6808837077792634e-10
         ]
        },
        {
         "hoverinfo": "y",
         "hovertemplate": "BMY<br>%{y:.2f}",
         "marker": {
          "color": [
           "rgb(29, 12, 67)"
          ]
         },
         "name": "",
         "showlegend": false,
         "type": "bar",
         "x": [
          "Post-Crisis Recovery"
         ],
         "y": [
          1.6656527964102335e-10
         ]
        },
        {
         "hoverinfo": "y",
         "hovertemplate": "ROST<br>%{y:.2f}",
         "marker": {
          "color": [
           "rgb(113, 26, 109)"
          ]
         },
         "name": "",
         "showlegend": false,
         "type": "bar",
         "x": [
          "Post-Crisis Recovery"
         ],
         "y": [
          1.5920389885221926e-10
         ]
        },
        {
         "hoverinfo": "y",
         "hovertemplate": "LLY<br>%{y:.2f}",
         "marker": {
          "color": [
           "rgb(33, 12, 70)"
          ]
         },
         "name": "",
         "showlegend": false,
         "type": "bar",
         "x": [
          "Post-Crisis Recovery"
         ],
         "y": [
          1.532042134285798e-10
         ]
        },
        {
         "hoverinfo": "y",
         "hovertemplate": "JNJ<br>%{y:.2f}",
         "marker": {
          "color": [
           "rgb(20, 9, 50)"
          ]
         },
         "name": "",
         "showlegend": false,
         "type": "bar",
         "x": [
          "Post-Crisis Recovery"
         ],
         "y": [
          1.5113930712315665e-10
         ]
        },
        {
         "hoverinfo": "y",
         "hovertemplate": "NFLX<br>%{y:.2f}",
         "marker": {
          "color": [
           "rgb(224, 88, 52)"
          ]
         },
         "name": "",
         "showlegend": false,
         "type": "bar",
         "x": [
          "Post-Crisis Recovery"
         ],
         "y": [
          1.4868199099375297e-10
         ]
        },
        {
         "hoverinfo": "y",
         "hovertemplate": "PFE<br>%{y:.2f}",
         "marker": {
          "color": [
           "rgb(22, 10, 54)"
          ]
         },
         "name": "",
         "showlegend": false,
         "type": "bar",
         "x": [
          "Post-Crisis Recovery"
         ],
         "y": [
          1.4675796542797412e-10
         ]
        },
        {
         "hoverinfo": "y",
         "hovertemplate": "CVX<br>%{y:.2f}",
         "marker": {
          "color": [
           "rgb(238, 109, 35)"
          ]
         },
         "name": "",
         "showlegend": false,
         "type": "bar",
         "x": [
          "Post-Crisis Recovery"
         ],
         "y": [
          1.45353313041319e-10
         ]
        },
        {
         "hoverinfo": "y",
         "hovertemplate": "JPM<br>%{y:.2f}",
         "marker": {
          "color": [
           "rgb(120, 28, 109)"
          ]
         },
         "name": "",
         "showlegend": false,
         "type": "bar",
         "x": [
          "Post-Crisis Recovery"
         ],
         "y": [
          1.4487840796221383e-10
         ]
        },
        {
         "hoverinfo": "y",
         "hovertemplate": "SO<br>%{y:.2f}",
         "marker": {
          "color": [
           "rgb(192, 60, 79)"
          ]
         },
         "name": "",
         "showlegend": false,
         "type": "bar",
         "x": [
          "Post-Crisis Recovery"
         ],
         "y": [
          1.4291095096821257e-10
         ]
        },
        {
         "hoverinfo": "y",
         "hovertemplate": "CL<br>%{y:.2f}",
         "marker": {
          "color": [
           "rgb(65, 12, 99)"
          ]
         },
         "name": "",
         "showlegend": false,
         "type": "bar",
         "x": [
          "Post-Crisis Recovery"
         ],
         "y": [
          1.3539893960986153e-10
         ]
        },
        {
         "hoverinfo": "y",
         "hovertemplate": "VZ<br>%{y:.2f}",
         "marker": {
          "color": [
           "rgb(214, 77, 62)"
          ]
         },
         "name": "",
         "showlegend": false,
         "type": "bar",
         "x": [
          "Post-Crisis Recovery"
         ],
         "y": [
          1.3219558904403103e-10
         ]
        },
        {
         "hoverinfo": "y",
         "hovertemplate": "CSCO<br>%{y:.2f}",
         "marker": {
          "color": [
           "rgb(18, 8, 45)"
          ]
         },
         "name": "",
         "showlegend": false,
         "type": "bar",
         "x": [
          "Post-Crisis Recovery"
         ],
         "y": [
          1.3150251146565478e-10
         ]
        },
        {
         "hoverinfo": "y",
         "hovertemplate": "NKE<br>%{y:.2f}",
         "marker": {
          "color": [
           "rgb(89, 17, 108)"
          ]
         },
         "name": "",
         "showlegend": false,
         "type": "bar",
         "x": [
          "Post-Crisis Recovery"
         ],
         "y": [
          1.2178835536622976e-10
         ]
        },
        {
         "hoverinfo": "y",
         "hovertemplate": "AMT<br>%{y:.2f}",
         "marker": {
          "color": [
           "rgb(117, 27, 109)"
          ]
         },
         "name": "",
         "showlegend": false,
         "type": "bar",
         "x": [
          "Post-Crisis Recovery"
         ],
         "y": [
          1.1251502523718831e-10
         ]
        },
        {
         "hoverinfo": "y",
         "hovertemplate": "AGG<br>%{y:.2f}",
         "marker": {
          "color": [
           "rgb(250, 170, 21)"
          ]
         },
         "name": "",
         "showlegend": false,
         "type": "bar",
         "x": [
          "Post-Crisis Recovery"
         ],
         "y": [
          8.21477817558441e-11
         ]
        },
        {
         "hoverinfo": "y",
         "hovertemplate": "GOVT<br>%{y:.2f}",
         "marker": {
          "color": [
           "rgb(250, 150, 9)"
          ]
         },
         "name": "",
         "showlegend": false,
         "type": "bar",
         "x": [
          "Post-Crisis Recovery"
         ],
         "y": [
          7.073827177782944e-11
         ]
        },
        {
         "hoverinfo": "y",
         "hovertemplate": "SPG<br>%{y:.2f}",
         "marker": {
          "color": [
           "rgb(247, 210, 64)"
          ]
         },
         "name": "",
         "showlegend": false,
         "type": "bar",
         "x": [
          "Post-Crisis Recovery"
         ],
         "y": [
          null
         ]
        },
        {
         "hoverinfo": "y",
         "hovertemplate": "AVB<br>%{y:.2f}",
         "marker": {
          "color": [
           "rgb(248, 214, 71)"
          ]
         },
         "name": "",
         "showlegend": false,
         "type": "bar",
         "x": [
          "Post-Crisis Recovery"
         ],
         "y": [
          null
         ]
        },
        {
         "hoverinfo": "y",
         "hovertemplate": "EQR<br>%{y:.2f}",
         "marker": {
          "color": [
           "rgb(248, 217, 79)"
          ]
         },
         "name": "",
         "showlegend": false,
         "type": "bar",
         "x": [
          "Post-Crisis Recovery"
         ],
         "y": [
          null
         ]
        },
        {
         "hoverinfo": "y",
         "hovertemplate": "GLD<br>%{y:.2f}",
         "marker": {
          "color": [
           "rgb(248, 220, 87)"
          ]
         },
         "name": "",
         "showlegend": false,
         "type": "bar",
         "x": [
          "Post-Crisis Recovery"
         ],
         "y": [
          null
         ]
        },
        {
         "hoverinfo": "y",
         "hovertemplate": "IAU<br>%{y:.2f}",
         "marker": {
          "color": [
           "rgb(249, 224, 94)"
          ]
         },
         "name": "",
         "showlegend": false,
         "type": "bar",
         "x": [
          "Post-Crisis Recovery"
         ],
         "y": [
          null
         ]
        },
        {
         "hoverinfo": "y",
         "hovertemplate": "SLV<br>%{y:.2f}",
         "marker": {
          "color": [
           "rgb(249, 227, 102)"
          ]
         },
         "name": "",
         "showlegend": false,
         "type": "bar",
         "x": [
          "Post-Crisis Recovery"
         ],
         "y": [
          null
         ]
        },
        {
         "hoverinfo": "y",
         "hovertemplate": "PDBC<br>%{y:.2f}",
         "marker": {
          "color": [
           "rgb(249, 231, 110)"
          ]
         },
         "name": "",
         "showlegend": false,
         "type": "bar",
         "x": [
          "Post-Crisis Recovery"
         ],
         "y": [
          null
         ]
        },
        {
         "hoverinfo": "y",
         "hovertemplate": "DBC<br>%{y:.2f}",
         "marker": {
          "color": [
           "rgb(250, 234, 118)"
          ]
         },
         "name": "",
         "showlegend": false,
         "type": "bar",
         "x": [
          "Post-Crisis Recovery"
         ],
         "y": [
          null
         ]
        },
        {
         "hoverinfo": "y",
         "hovertemplate": "USO<br>%{y:.2f}",
         "marker": {
          "color": [
           "rgb(250, 238, 125)"
          ]
         },
         "name": "",
         "showlegend": false,
         "type": "bar",
         "x": [
          "Post-Crisis Recovery"
         ],
         "y": [
          null
         ]
        },
        {
         "hoverinfo": "y",
         "hovertemplate": "UNG<br>%{y:.2f}",
         "marker": {
          "color": [
           "rgb(251, 241, 133)"
          ]
         },
         "name": "",
         "showlegend": false,
         "type": "bar",
         "x": [
          "Post-Crisis Recovery"
         ],
         "y": [
          null
         ]
        },
        {
         "hoverinfo": "y",
         "hovertemplate": "BNO<br>%{y:.2f}",
         "marker": {
          "color": [
           "rgb(251, 245, 141)"
          ]
         },
         "name": "",
         "showlegend": false,
         "type": "bar",
         "x": [
          "Post-Crisis Recovery"
         ],
         "y": [
          null
         ]
        },
        {
         "hoverinfo": "y",
         "hovertemplate": "GSG<br>%{y:.2f}",
         "marker": {
          "color": [
           "rgb(251, 248, 149)"
          ]
         },
         "name": "",
         "showlegend": false,
         "type": "bar",
         "x": [
          "Post-Crisis Recovery"
         ],
         "y": [
          null
         ]
        },
        {
         "hoverinfo": "y",
         "hovertemplate": "CORN<br>%{y:.2f}",
         "marker": {
          "color": [
           "rgb(252, 252, 156)"
          ]
         },
         "name": "",
         "showlegend": false,
         "type": "bar",
         "x": [
          "Post-Crisis Recovery"
         ],
         "y": [
          null
         ]
        },
        {
         "hoverinfo": "y",
         "hovertemplate": "GS<br>%{y:.2f}",
         "marker": {
          "color": [
           "rgb(127, 30, 107)"
          ]
         },
         "name": "",
         "showlegend": false,
         "type": "bar",
         "x": [
          "COVID-19 Pandemic"
         ],
         "y": [
          0.42595447976637324
         ]
        },
        {
         "hoverinfo": "y",
         "hovertemplate": "VCSH<br>%{y:.2f}",
         "marker": {
          "color": [
           "rgb(249, 178, 29)"
          ]
         },
         "name": "",
         "showlegend": false,
         "type": "bar",
         "x": [
          "COVID-19 Pandemic"
         ],
         "y": [
          0.12440875693426683
         ]
        },
        {
         "hoverinfo": "y",
         "hovertemplate": "PEP<br>%{y:.2f}",
         "marker": {
          "color": [
           "rgb(58, 12, 92)"
          ]
         },
         "name": "",
         "showlegend": false,
         "type": "bar",
         "x": [
          "COVID-19 Pandemic"
         ],
         "y": [
          0.07184405469852188
         ]
        },
        {
         "hoverinfo": "y",
         "hovertemplate": "RWR<br>%{y:.2f}",
         "marker": {
          "color": [
           "rgb(248, 194, 46)"
          ]
         },
         "name": "",
         "showlegend": false,
         "type": "bar",
         "x": [
          "COVID-19 Pandemic"
         ],
         "y": [
          0.06025266071902522
         ]
        },
        {
         "hoverinfo": "y",
         "hovertemplate": "RTX<br>%{y:.2f}",
         "marker": {
          "color": [
           "rgb(177, 51, 89)"
          ]
         },
         "name": "",
         "showlegend": false,
         "type": "bar",
         "x": [
          "COVID-19 Pandemic"
         ],
         "y": [
          0.058575234088563986
         ]
        },
        {
         "hoverinfo": "y",
         "hovertemplate": "BA<br>%{y:.2f}",
         "marker": {
          "color": [
           "rgb(154, 40, 99)"
          ]
         },
         "name": "",
         "showlegend": false,
         "type": "bar",
         "x": [
          "COVID-19 Pandemic"
         ],
         "y": [
          0.05486796747220216
         ]
        },
        {
         "hoverinfo": "y",
         "hovertemplate": "IYR<br>%{y:.2f}",
         "marker": {
          "color": [
           "rgb(249, 186, 38)"
          ]
         },
         "name": "",
         "showlegend": false,
         "type": "bar",
         "x": [
          "COVID-19 Pandemic"
         ],
         "y": [
          0.04591854616769996
         ]
        },
        {
         "hoverinfo": "y",
         "hovertemplate": "WMT<br>%{y:.2f}",
         "marker": {
          "color": [
           "rgb(61, 12, 95)"
          ]
         },
         "name": "",
         "showlegend": false,
         "type": "bar",
         "x": [
          "COVID-19 Pandemic"
         ],
         "y": [
          0.04228630518906188
         ]
        },
        {
         "hoverinfo": "y",
         "hovertemplate": "SPG<br>%{y:.2f}",
         "marker": {
          "color": [
           "rgb(247, 210, 64)"
          ]
         },
         "name": "",
         "showlegend": false,
         "type": "bar",
         "x": [
          "COVID-19 Pandemic"
         ],
         "y": [
          0.037862783687286565
         ]
        },
        {
         "hoverinfo": "y",
         "hovertemplate": "IEF<br>%{y:.2f}",
         "marker": {
          "color": [
           "rgb(248, 143, 14)"
          ]
         },
         "name": "",
         "showlegend": false,
         "type": "bar",
         "x": [
          "COVID-19 Pandemic"
         ],
         "y": [
          0.029001510108722615
         ]
        },
        {
         "hoverinfo": "y",
         "hovertemplate": "XOM<br>%{y:.2f}",
         "marker": {
          "color": [
           "rgb(237, 105, 37)"
          ]
         },
         "name": "",
         "showlegend": false,
         "type": "bar",
         "x": [
          "COVID-19 Pandemic"
         ],
         "y": [
          0.022435344109669318
         ]
        },
        {
         "hoverinfo": "y",
         "hovertemplate": "NFLX<br>%{y:.2f}",
         "marker": {
          "color": [
           "rgb(224, 88, 52)"
          ]
         },
         "name": "",
         "showlegend": false,
         "type": "bar",
         "x": [
          "COVID-19 Pandemic"
         ],
         "y": [
          0.01586220393332517
         ]
        },
        {
         "hoverinfo": "y",
         "hovertemplate": "VCIT<br>%{y:.2f}",
         "marker": {
          "color": [
           "rgb(250, 174, 25)"
          ]
         },
         "name": "",
         "showlegend": false,
         "type": "bar",
         "x": [
          "COVID-19 Pandemic"
         ],
         "y": [
          0.010730131561285746
         ]
        },
        {
         "hoverinfo": "y",
         "hovertemplate": "COST<br>%{y:.2f}",
         "marker": {
          "color": [
           "rgb(82, 15, 107)"
          ]
         },
         "name": "",
         "showlegend": false,
         "type": "bar",
         "x": [
          "COVID-19 Pandemic"
         ],
         "y": [
          3.1055624389214254e-9
         ]
        },
        {
         "hoverinfo": "y",
         "hovertemplate": "IAU<br>%{y:.2f}",
         "marker": {
          "color": [
           "rgb(249, 224, 94)"
          ]
         },
         "name": "",
         "showlegend": false,
         "type": "bar",
         "x": [
          "COVID-19 Pandemic"
         ],
         "y": [
          6.725528996162466e-10
         ]
        },
        {
         "hoverinfo": "y",
         "hovertemplate": "ROST<br>%{y:.2f}",
         "marker": {
          "color": [
           "rgb(113, 26, 109)"
          ]
         },
         "name": "",
         "showlegend": false,
         "type": "bar",
         "x": [
          "COVID-19 Pandemic"
         ],
         "y": [
          6.46760560408609e-10
         ]
        },
        {
         "hoverinfo": "y",
         "hovertemplate": "USB<br>%{y:.2f}",
         "marker": {
          "color": [
           "rgb(150, 39, 100)"
          ]
         },
         "name": "",
         "showlegend": false,
         "type": "bar",
         "x": [
          "COVID-19 Pandemic"
         ],
         "y": [
          6.435552253080776e-10
         ]
        },
        {
         "hoverinfo": "y",
         "hovertemplate": "AMT<br>%{y:.2f}",
         "marker": {
          "color": [
           "rgb(117, 27, 109)"
          ]
         },
         "name": "",
         "showlegend": false,
         "type": "bar",
         "x": [
          "COVID-19 Pandemic"
         ],
         "y": [
          6.150491332177168e-10
         ]
        },
        {
         "hoverinfo": "y",
         "hovertemplate": "NVDA<br>%{y:.2f}",
         "marker": {
          "color": [
           "rgb(8, 4, 22)"
          ]
         },
         "name": "",
         "showlegend": false,
         "type": "bar",
         "x": [
          "COVID-19 Pandemic"
         ],
         "y": [
          4.9041575887101e-10
         ]
        },
        {
         "hoverinfo": "y",
         "hovertemplate": "TMUS<br>%{y:.2f}",
         "marker": {
          "color": [
           "rgb(233, 99, 42)"
          ]
         },
         "name": "",
         "showlegend": false,
         "type": "bar",
         "x": [
          "COVID-19 Pandemic"
         ],
         "y": [
          4.859154560622181e-10
         ]
        },
        {
         "hoverinfo": "y",
         "hovertemplate": "GILD<br>%{y:.2f}",
         "marker": {
          "color": [
           "rgb(40, 12, 77)"
          ]
         },
         "name": "",
         "showlegend": false,
         "type": "bar",
         "x": [
          "COVID-19 Pandemic"
         ],
         "y": [
          4.4106245320257303e-10
         ]
        },
        {
         "hoverinfo": "y",
         "hovertemplate": "BMY<br>%{y:.2f}",
         "marker": {
          "color": [
           "rgb(29, 12, 67)"
          ]
         },
         "name": "",
         "showlegend": false,
         "type": "bar",
         "x": [
          "COVID-19 Pandemic"
         ],
         "y": [
          4.330755068738479e-10
         ]
        },
        {
         "hoverinfo": "y",
         "hovertemplate": "GLD<br>%{y:.2f}",
         "marker": {
          "color": [
           "rgb(248, 220, 87)"
          ]
         },
         "name": "",
         "showlegend": false,
         "type": "bar",
         "x": [
          "COVID-19 Pandemic"
         ],
         "y": [
          3.87952978749742e-10
         ]
        },
        {
         "hoverinfo": "y",
         "hovertemplate": "MSFT<br>%{y:.2f}",
         "marker": {
          "color": [
           "rgb(2, 1, 9)"
          ]
         },
         "name": "",
         "showlegend": false,
         "type": "bar",
         "x": [
          "COVID-19 Pandemic"
         ],
         "y": [
          3.7558788590208903e-10
         ]
        },
        {
         "hoverinfo": "y",
         "hovertemplate": "GIS<br>%{y:.2f}",
         "marker": {
          "color": [
           "rgb(79, 14, 107)"
          ]
         },
         "name": "",
         "showlegend": false,
         "type": "bar",
         "x": [
          "COVID-19 Pandemic"
         ],
         "y": [
          3.7447323562706116e-10
         ]
        },
        {
         "hoverinfo": "y",
         "hovertemplate": "JPM<br>%{y:.2f}",
         "marker": {
          "color": [
           "rgb(120, 28, 109)"
          ]
         },
         "name": "",
         "showlegend": false,
         "type": "bar",
         "x": [
          "COVID-19 Pandemic"
         ],
         "y": [
          3.498923147985587e-10
         ]
        },
        {
         "hoverinfo": "y",
         "hovertemplate": "BAC<br>%{y:.2f}",
         "marker": {
          "color": [
           "rgb(123, 29, 108)"
          ]
         },
         "name": "",
         "showlegend": false,
         "type": "bar",
         "x": [
          "COVID-19 Pandemic"
         ],
         "y": [
          3.2253120035135705e-10
         ]
        },
        {
         "hoverinfo": "y",
         "hovertemplate": "DIS<br>%{y:.2f}",
         "marker": {
          "color": [
           "rgb(221, 86, 54)"
          ]
         },
         "name": "",
         "showlegend": false,
         "type": "bar",
         "x": [
          "COVID-19 Pandemic"
         ],
         "y": [
          3.066923210988693e-10
         ]
        },
        {
         "hoverinfo": "y",
         "hovertemplate": "PPL<br>%{y:.2f}",
         "marker": {
          "color": [
           "rgb(212, 74, 64)"
          ]
         },
         "name": "",
         "showlegend": false,
         "type": "bar",
         "x": [
          "COVID-19 Pandemic"
         ],
         "y": [
          2.881574859483188e-10
         ]
        },
        {
         "hoverinfo": "y",
         "hovertemplate": "META<br>%{y:.2f}",
         "marker": {
          "color": [
           "rgb(228, 94, 47)"
          ]
         },
         "name": "",
         "showlegend": false,
         "type": "bar",
         "x": [
          "COVID-19 Pandemic"
         ],
         "y": [
          2.7691125778959965e-10
         ]
        },
        {
         "hoverinfo": "y",
         "hovertemplate": "COP<br>%{y:.2f}",
         "marker": {
          "color": [
           "rgb(239, 113, 32)"
          ]
         },
         "name": "",
         "showlegend": false,
         "type": "bar",
         "x": [
          "COVID-19 Pandemic"
         ],
         "y": [
          2.7484649457123293e-10
         ]
        },
        {
         "hoverinfo": "y",
         "hovertemplate": "TJX<br>%{y:.2f}",
         "marker": {
          "color": [
           "rgb(110, 24, 109)"
          ]
         },
         "name": "",
         "showlegend": false,
         "type": "bar",
         "x": [
          "COVID-19 Pandemic"
         ],
         "y": [
          2.568341570428225e-10
         ]
        },
        {
         "hoverinfo": "y",
         "hovertemplate": "AAPL<br>%{y:.2f}",
         "marker": {
          "color": [
           "rgb(0, 0, 4)"
          ]
         },
         "name": "",
         "showlegend": false,
         "type": "bar",
         "x": [
          "COVID-19 Pandemic"
         ],
         "y": [
          2.517326256187193e-10
         ]
        },
        {
         "hoverinfo": "y",
         "hovertemplate": "CVX<br>%{y:.2f}",
         "marker": {
          "color": [
           "rgb(238, 109, 35)"
          ]
         },
         "name": "",
         "showlegend": false,
         "type": "bar",
         "x": [
          "COVID-19 Pandemic"
         ],
         "y": [
          2.4240043652083203e-10
         ]
        },
        {
         "hoverinfo": "y",
         "hovertemplate": "DE<br>%{y:.2f}",
         "marker": {
          "color": [
           "rgb(183, 54, 85)"
          ]
         },
         "name": "",
         "showlegend": false,
         "type": "bar",
         "x": [
          "COVID-19 Pandemic"
         ],
         "y": [
          2.408657854349974e-10
         ]
        },
        {
         "hoverinfo": "y",
         "hovertemplate": "CMCSA<br>%{y:.2f}",
         "marker": {
          "color": [
           "rgb(219, 83, 57)"
          ]
         },
         "name": "",
         "showlegend": false,
         "type": "bar",
         "x": [
          "COVID-19 Pandemic"
         ],
         "y": [
          2.403277932172542e-10
         ]
        },
        {
         "hoverinfo": "y",
         "hovertemplate": "UNG<br>%{y:.2f}",
         "marker": {
          "color": [
           "rgb(251, 241, 133)"
          ]
         },
         "name": "",
         "showlegend": false,
         "type": "bar",
         "x": [
          "COVID-19 Pandemic"
         ],
         "y": [
          2.2299131933778992e-10
         ]
        },
        {
         "hoverinfo": "y",
         "hovertemplate": "NEE<br>%{y:.2f}",
         "marker": {
          "color": [
           "rgb(186, 56, 83)"
          ]
         },
         "name": "",
         "showlegend": false,
         "type": "bar",
         "x": [
          "COVID-19 Pandemic"
         ],
         "y": [
          2.2281974802223125e-10
         ]
        },
        {
         "hoverinfo": "y",
         "hovertemplate": "HON<br>%{y:.2f}",
         "marker": {
          "color": [
           "rgb(164, 44, 96)"
          ]
         },
         "name": "",
         "showlegend": false,
         "type": "bar",
         "x": [
          "COVID-19 Pandemic"
         ],
         "y": [
          2.1428987733506141e-10
         ]
        },
        {
         "hoverinfo": "y",
         "hovertemplate": "ELV<br>%{y:.2f}",
         "marker": {
          "color": [
           "rgb(47, 12, 83)"
          ]
         },
         "name": "",
         "showlegend": false,
         "type": "bar",
         "x": [
          "COVID-19 Pandemic"
         ],
         "y": [
          2.1302786899736092e-10
         ]
        },
        {
         "hoverinfo": "y",
         "hovertemplate": "ORCL<br>%{y:.2f}",
         "marker": {
          "color": [
           "rgb(12, 5, 31)"
          ]
         },
         "name": "",
         "showlegend": false,
         "type": "bar",
         "x": [
          "COVID-19 Pandemic"
         ],
         "y": [
          2.0610491009505553e-10
         ]
        },
        {
         "hoverinfo": "y",
         "hovertemplate": "MCD<br>%{y:.2f}",
         "marker": {
          "color": [
           "rgb(92, 18, 108)"
          ]
         },
         "name": "",
         "showlegend": false,
         "type": "bar",
         "x": [
          "COVID-19 Pandemic"
         ],
         "y": [
          2.0291159708775775e-10
         ]
        },
        {
         "hoverinfo": "y",
         "hovertemplate": "MRK<br>%{y:.2f}",
         "marker": {
          "color": [
           "rgb(24, 11, 59)"
          ]
         },
         "name": "",
         "showlegend": false,
         "type": "bar",
         "x": [
          "COVID-19 Pandemic"
         ],
         "y": [
          2.0113316850881986e-10
         ]
        },
        {
         "hoverinfo": "y",
         "hovertemplate": "SCHW<br>%{y:.2f}",
         "marker": {
          "color": [
           "rgb(140, 35, 103)"
          ]
         },
         "name": "",
         "showlegend": false,
         "type": "bar",
         "x": [
          "COVID-19 Pandemic"
         ],
         "y": [
          1.94125889496651e-10
         ]
        },
        {
         "hoverinfo": "y",
         "hovertemplate": "PLD<br>%{y:.2f}",
         "marker": {
          "color": [
           "rgb(248, 202, 54)"
          ]
         },
         "name": "",
         "showlegend": false,
         "type": "bar",
         "x": [
          "COVID-19 Pandemic"
         ],
         "y": [
          1.9260017876995354e-10
         ]
        },
        {
         "hoverinfo": "y",
         "hovertemplate": "BLK<br>%{y:.2f}",
         "marker": {
          "color": [
           "rgb(147, 38, 101)"
          ]
         },
         "name": "",
         "showlegend": false,
         "type": "bar",
         "x": [
          "COVID-19 Pandemic"
         ],
         "y": [
          1.9084716356311777e-10
         ]
        },
        {
         "hoverinfo": "y",
         "hovertemplate": "WFC<br>%{y:.2f}",
         "marker": {
          "color": [
           "rgb(130, 32, 106)"
          ]
         },
         "name": "",
         "showlegend": false,
         "type": "bar",
         "x": [
          "COVID-19 Pandemic"
         ],
         "y": [
          1.8082318348463867e-10
         ]
        },
        {
         "hoverinfo": "y",
         "hovertemplate": "GOVT<br>%{y:.2f}",
         "marker": {
          "color": [
           "rgb(250, 150, 9)"
          ]
         },
         "name": "",
         "showlegend": false,
         "type": "bar",
         "x": [
          "COVID-19 Pandemic"
         ],
         "y": [
          1.7945262411465592e-10
         ]
        },
        {
         "hoverinfo": "y",
         "hovertemplate": "T<br>%{y:.2f}",
         "marker": {
          "color": [
           "rgb(217, 80, 59)"
          ]
         },
         "name": "",
         "showlegend": false,
         "type": "bar",
         "x": [
          "COVID-19 Pandemic"
         ],
         "y": [
          1.773003509814443e-10
         ]
        },
        {
         "hoverinfo": "y",
         "hovertemplate": "SBUX<br>%{y:.2f}",
         "marker": {
          "color": [
           "rgb(96, 20, 108)"
          ]
         },
         "name": "",
         "showlegend": false,
         "type": "bar",
         "x": [
          "COVID-19 Pandemic"
         ],
         "y": [
          1.588335236049445e-10
         ]
        },
        {
         "hoverinfo": "y",
         "hovertemplate": "D<br>%{y:.2f}",
         "marker": {
          "color": [
           "rgb(202, 65, 73)"
          ]
         },
         "name": "",
         "showlegend": false,
         "type": "bar",
         "x": [
          "COVID-19 Pandemic"
         ],
         "y": [
          1.5801296519785434e-10
         ]
        },
        {
         "hoverinfo": "y",
         "hovertemplate": "JNJ<br>%{y:.2f}",
         "marker": {
          "color": [
           "rgb(20, 9, 50)"
          ]
         },
         "name": "",
         "showlegend": false,
         "type": "bar",
         "x": [
          "COVID-19 Pandemic"
         ],
         "y": [
          1.5670830524307782e-10
         ]
        },
        {
         "hoverinfo": "y",
         "hovertemplate": "NKE<br>%{y:.2f}",
         "marker": {
          "color": [
           "rgb(89, 17, 108)"
          ]
         },
         "name": "",
         "showlegend": false,
         "type": "bar",
         "x": [
          "COVID-19 Pandemic"
         ],
         "y": [
          1.5359880329016447e-10
         ]
        },
        {
         "hoverinfo": "y",
         "hovertemplate": "LMT<br>%{y:.2f}",
         "marker": {
          "color": [
           "rgb(170, 47, 93)"
          ]
         },
         "name": "",
         "showlegend": false,
         "type": "bar",
         "x": [
          "COVID-19 Pandemic"
         ],
         "y": [
          1.4864968087228165e-10
         ]
        },
        {
         "hoverinfo": "y",
         "hovertemplate": "O<br>%{y:.2f}",
         "marker": {
          "color": [
           "rgb(247, 206, 58)"
          ]
         },
         "name": "",
         "showlegend": false,
         "type": "bar",
         "x": [
          "COVID-19 Pandemic"
         ],
         "y": [
          1.4610452368685986e-10
         ]
        },
        {
         "hoverinfo": "y",
         "hovertemplate": "VZ<br>%{y:.2f}",
         "marker": {
          "color": [
           "rgb(214, 77, 62)"
          ]
         },
         "name": "",
         "showlegend": false,
         "type": "bar",
         "x": [
          "COVID-19 Pandemic"
         ],
         "y": [
          1.455112471940949e-10
         ]
        },
        {
         "hoverinfo": "y",
         "hovertemplate": "CRM<br>%{y:.2f}",
         "marker": {
          "color": [
           "rgb(14, 6, 36)"
          ]
         },
         "name": "",
         "showlegend": false,
         "type": "bar",
         "x": [
          "COVID-19 Pandemic"
         ],
         "y": [
          1.4500653447461124e-10
         ]
        },
        {
         "hoverinfo": "y",
         "hovertemplate": "DUK<br>%{y:.2f}",
         "marker": {
          "color": [
           "rgb(189, 58, 81)"
          ]
         },
         "name": "",
         "showlegend": false,
         "type": "bar",
         "x": [
          "COVID-19 Pandemic"
         ],
         "y": [
          1.4329947983870978e-10
         ]
        },
        {
         "hoverinfo": "y",
         "hovertemplate": "SCHH<br>%{y:.2f}",
         "marker": {
          "color": [
           "rgb(248, 190, 42)"
          ]
         },
         "name": "",
         "showlegend": false,
         "type": "bar",
         "x": [
          "COVID-19 Pandemic"
         ],
         "y": [
          1.4295375129842521e-10
         ]
        },
        {
         "hoverinfo": "y",
         "hovertemplate": "TGT<br>%{y:.2f}",
         "marker": {
          "color": [
           "rgb(99, 21, 108)"
          ]
         },
         "name": "",
         "showlegend": false,
         "type": "bar",
         "x": [
          "COVID-19 Pandemic"
         ],
         "y": [
          1.405234532821244e-10
         ]
        },
        {
         "hoverinfo": "y",
         "hovertemplate": "BND<br>%{y:.2f}",
         "marker": {
          "color": [
           "rgb(251, 154, 7)"
          ]
         },
         "name": "",
         "showlegend": false,
         "type": "bar",
         "x": [
          "COVID-19 Pandemic"
         ],
         "y": [
          1.4017490019581508e-10
         ]
        },
        {
         "hoverinfo": "y",
         "hovertemplate": "SPOT<br>%{y:.2f}",
         "marker": {
          "color": [
           "rgb(235, 102, 39)"
          ]
         },
         "name": "",
         "showlegend": false,
         "type": "bar",
         "x": [
          "COVID-19 Pandemic"
         ],
         "y": [
          1.3876487895497276e-10
         ]
        },
        {
         "hoverinfo": "y",
         "hovertemplate": "XEL<br>%{y:.2f}",
         "marker": {
          "color": [
           "rgb(205, 67, 71)"
          ]
         },
         "name": "",
         "showlegend": false,
         "type": "bar",
         "x": [
          "COVID-19 Pandemic"
         ],
         "y": [
          1.3672555949716525e-10
         ]
        },
        {
         "hoverinfo": "y",
         "hovertemplate": "HYG<br>%{y:.2f}",
         "marker": {
          "color": [
           "rgb(250, 162, 13)"
          ]
         },
         "name": "",
         "showlegend": false,
         "type": "bar",
         "x": [
          "COVID-19 Pandemic"
         ],
         "y": [
          1.3556692073922767e-10
         ]
        },
        {
         "hoverinfo": "y",
         "hovertemplate": "KMB<br>%{y:.2f}",
         "marker": {
          "color": [
           "rgb(68, 12, 102)"
          ]
         },
         "name": "",
         "showlegend": false,
         "type": "bar",
         "x": [
          "COVID-19 Pandemic"
         ],
         "y": [
          1.342175966751471e-10
         ]
        },
        {
         "hoverinfo": "y",
         "hovertemplate": "GE<br>%{y:.2f}",
         "marker": {
          "color": [
           "rgb(173, 49, 91)"
          ]
         },
         "name": "",
         "showlegend": false,
         "type": "bar",
         "x": [
          "COVID-19 Pandemic"
         ],
         "y": [
          1.3289166459723314e-10
         ]
        },
        {
         "hoverinfo": "y",
         "hovertemplate": "AMZN<br>%{y:.2f}",
         "marker": {
          "color": [
           "rgb(6, 3, 18)"
          ]
         },
         "name": "",
         "showlegend": false,
         "type": "bar",
         "x": [
          "COVID-19 Pandemic"
         ],
         "y": [
          1.323482684689035e-10
         ]
        },
        {
         "hoverinfo": "y",
         "hovertemplate": "GSG<br>%{y:.2f}",
         "marker": {
          "color": [
           "rgb(251, 248, 149)"
          ]
         },
         "name": "",
         "showlegend": false,
         "type": "bar",
         "x": [
          "COVID-19 Pandemic"
         ],
         "y": [
          1.2830620019430506e-10
         ]
        },
        {
         "hoverinfo": "y",
         "hovertemplate": "C<br>%{y:.2f}",
         "marker": {
          "color": [
           "rgb(134, 33, 105)"
          ]
         },
         "name": "",
         "showlegend": false,
         "type": "bar",
         "x": [
          "COVID-19 Pandemic"
         ],
         "y": [
          1.269111547844395e-10
         ]
        },
        {
         "hoverinfo": "y",
         "hovertemplate": "DBC<br>%{y:.2f}",
         "marker": {
          "color": [
           "rgb(250, 234, 118)"
          ]
         },
         "name": "",
         "showlegend": false,
         "type": "bar",
         "x": [
          "COVID-19 Pandemic"
         ],
         "y": [
          1.2642050103875311e-10
         ]
        },
        {
         "hoverinfo": "y",
         "hovertemplate": "EXC<br>%{y:.2f}",
         "marker": {
          "color": [
           "rgb(199, 63, 75)"
          ]
         },
         "name": "",
         "showlegend": false,
         "type": "bar",
         "x": [
          "COVID-19 Pandemic"
         ],
         "y": [
          1.2560739043670478e-10
         ]
        },
        {
         "hoverinfo": "y",
         "hovertemplate": "MDT<br>%{y:.2f}",
         "marker": {
          "color": [
           "rgb(43, 12, 80)"
          ]
         },
         "name": "",
         "showlegend": false,
         "type": "bar",
         "x": [
          "COVID-19 Pandemic"
         ],
         "y": [
          1.2516905681719656e-10
         ]
        },
        {
         "hoverinfo": "y",
         "hovertemplate": "SO<br>%{y:.2f}",
         "marker": {
          "color": [
           "rgb(192, 60, 79)"
          ]
         },
         "name": "",
         "showlegend": false,
         "type": "bar",
         "x": [
          "COVID-19 Pandemic"
         ],
         "y": [
          1.211730174271209e-10
         ]
        },
        {
         "hoverinfo": "y",
         "hovertemplate": "BNO<br>%{y:.2f}",
         "marker": {
          "color": [
           "rgb(251, 245, 141)"
          ]
         },
         "name": "",
         "showlegend": false,
         "type": "bar",
         "x": [
          "COVID-19 Pandemic"
         ],
         "y": [
          1.1929992516508084e-10
         ]
        },
        {
         "hoverinfo": "y",
         "hovertemplate": "MDLZ<br>%{y:.2f}",
         "marker": {
          "color": [
           "rgb(75, 12, 107)"
          ]
         },
         "name": "",
         "showlegend": false,
         "type": "bar",
         "x": [
          "COVID-19 Pandemic"
         ],
         "y": [
          1.1780254775407956e-10
         ]
        },
        {
         "hoverinfo": "y",
         "hovertemplate": "UNP<br>%{y:.2f}",
         "marker": {
          "color": [
           "rgb(167, 45, 95)"
          ]
         },
         "name": "",
         "showlegend": false,
         "type": "bar",
         "x": [
          "COVID-19 Pandemic"
         ],
         "y": [
          1.1494710157754196e-10
         ]
        },
        {
         "hoverinfo": "y",
         "hovertemplate": "XLRE<br>%{y:.2f}",
         "marker": {
          "color": [
           "rgb(248, 198, 50)"
          ]
         },
         "name": "",
         "showlegend": false,
         "type": "bar",
         "x": [
          "COVID-19 Pandemic"
         ],
         "y": [
          1.1395398335205551e-10
         ]
        },
        {
         "hoverinfo": "y",
         "hovertemplate": "VNQ<br>%{y:.2f}",
         "marker": {
          "color": [
           "rgb(249, 182, 34)"
          ]
         },
         "name": "",
         "showlegend": false,
         "type": "bar",
         "x": [
          "COVID-19 Pandemic"
         ],
         "y": [
          1.1369014487152953e-10
         ]
        },
        {
         "hoverinfo": "y",
         "hovertemplate": "INTC<br>%{y:.2f}",
         "marker": {
          "color": [
           "rgb(16, 7, 41)"
          ]
         },
         "name": "",
         "showlegend": false,
         "type": "bar",
         "x": [
          "COVID-19 Pandemic"
         ],
         "y": [
          1.1215099194025277e-10
         ]
        },
        {
         "hoverinfo": "y",
         "hovertemplate": "ADBE<br>%{y:.2f}",
         "marker": {
          "color": [
           "rgb(10, 4, 27)"
          ]
         },
         "name": "",
         "showlegend": false,
         "type": "bar",
         "x": [
          "COVID-19 Pandemic"
         ],
         "y": [
          1.0912343491638008e-10
         ]
        },
        {
         "hoverinfo": "y",
         "hovertemplate": "LOW<br>%{y:.2f}",
         "marker": {
          "color": [
           "rgb(106, 23, 108)"
          ]
         },
         "name": "",
         "showlegend": false,
         "type": "bar",
         "x": [
          "COVID-19 Pandemic"
         ],
         "y": [
          1.0727286312873297e-10
         ]
        },
        {
         "hoverinfo": "y",
         "hovertemplate": "UNH<br>%{y:.2f}",
         "marker": {
          "color": [
           "rgb(26, 12, 63)"
          ]
         },
         "name": "",
         "showlegend": false,
         "type": "bar",
         "x": [
          "COVID-19 Pandemic"
         ],
         "y": [
          1.0522854655228788e-10
         ]
        },
        {
         "hoverinfo": "y",
         "hovertemplate": "LLY<br>%{y:.2f}",
         "marker": {
          "color": [
           "rgb(33, 12, 70)"
          ]
         },
         "name": "",
         "showlegend": false,
         "type": "bar",
         "x": [
          "COVID-19 Pandemic"
         ],
         "y": [
          1.0254679364861617e-10
         ]
        },
        {
         "hoverinfo": "y",
         "hovertemplate": "PDBC<br>%{y:.2f}",
         "marker": {
          "color": [
           "rgb(249, 231, 110)"
          ]
         },
         "name": "",
         "showlegend": false,
         "type": "bar",
         "x": [
          "COVID-19 Pandemic"
         ],
         "y": [
          1.0200507949855433e-10
         ]
        },
        {
         "hoverinfo": "y",
         "hovertemplate": "MMM<br>%{y:.2f}",
         "marker": {
          "color": [
           "rgb(161, 42, 97)"
          ]
         },
         "name": "",
         "showlegend": false,
         "type": "bar",
         "x": [
          "COVID-19 Pandemic"
         ],
         "y": [
          9.978848546723691e-11
         ]
        },
        {
         "hoverinfo": "y",
         "hovertemplate": "UPS<br>%{y:.2f}",
         "marker": {
          "color": [
           "rgb(180, 52, 87)"
          ]
         },
         "name": "",
         "showlegend": false,
         "type": "bar",
         "x": [
          "COVID-19 Pandemic"
         ],
         "y": [
          9.960143502485064e-11
         ]
        },
        {
         "hoverinfo": "y",
         "hovertemplate": "HD<br>%{y:.2f}",
         "marker": {
          "color": [
           "rgb(103, 22, 108)"
          ]
         },
         "name": "",
         "showlegend": false,
         "type": "bar",
         "x": [
          "COVID-19 Pandemic"
         ],
         "y": [
          9.890675687555385e-11
         ]
        },
        {
         "hoverinfo": "y",
         "hovertemplate": "HAL<br>%{y:.2f}",
         "marker": {
          "color": [
           "rgb(244, 131, 21)"
          ]
         },
         "name": "",
         "showlegend": false,
         "type": "bar",
         "x": [
          "COVID-19 Pandemic"
         ],
         "y": [
          9.790417568836211e-11
         ]
        },
        {
         "hoverinfo": "y",
         "hovertemplate": "MS<br>%{y:.2f}",
         "marker": {
          "color": [
           "rgb(144, 36, 102)"
          ]
         },
         "name": "",
         "showlegend": false,
         "type": "bar",
         "x": [
          "COVID-19 Pandemic"
         ],
         "y": [
          9.769887498738164e-11
         ]
        },
        {
         "hoverinfo": "y",
         "hovertemplate": "CORN<br>%{y:.2f}",
         "marker": {
          "color": [
           "rgb(252, 252, 156)"
          ]
         },
         "name": "",
         "showlegend": false,
         "type": "bar",
         "x": [
          "COVID-19 Pandemic"
         ],
         "y": [
          9.665745771223565e-11
         ]
        },
        {
         "hoverinfo": "y",
         "hovertemplate": "BKR<br>%{y:.2f}",
         "marker": {
          "color": [
           "rgb(245, 135, 18)"
          ]
         },
         "name": "",
         "showlegend": false,
         "type": "bar",
         "x": [
          "COVID-19 Pandemic"
         ],
         "y": [
          9.631280570203768e-11
         ]
        },
        {
         "hoverinfo": "y",
         "hovertemplate": "AVB<br>%{y:.2f}",
         "marker": {
          "color": [
           "rgb(248, 214, 71)"
          ]
         },
         "name": "",
         "showlegend": false,
         "type": "bar",
         "x": [
          "COVID-19 Pandemic"
         ],
         "y": [
          9.483718562307841e-11
         ]
        },
        {
         "hoverinfo": "y",
         "hovertemplate": "CL<br>%{y:.2f}",
         "marker": {
          "color": [
           "rgb(65, 12, 99)"
          ]
         },
         "name": "",
         "showlegend": false,
         "type": "bar",
         "x": [
          "COVID-19 Pandemic"
         ],
         "y": [
          9.389781086223806e-11
         ]
        },
        {
         "hoverinfo": "y",
         "hovertemplate": "PG<br>%{y:.2f}",
         "marker": {
          "color": [
           "rgb(51, 12, 86)"
          ]
         },
         "name": "",
         "showlegend": false,
         "type": "bar",
         "x": [
          "COVID-19 Pandemic"
         ],
         "y": [
          9.242714104472869e-11
         ]
        },
        {
         "hoverinfo": "y",
         "hovertemplate": "LQD<br>%{y:.2f}",
         "marker": {
          "color": [
           "rgb(251, 158, 9)"
          ]
         },
         "name": "",
         "showlegend": false,
         "type": "bar",
         "x": [
          "COVID-19 Pandemic"
         ],
         "y": [
          9.076692595275865e-11
         ]
        },
        {
         "hoverinfo": "y",
         "hovertemplate": "SRE<br>%{y:.2f}",
         "marker": {
          "color": [
           "rgb(210, 72, 67)"
          ]
         },
         "name": "",
         "showlegend": false,
         "type": "bar",
         "x": [
          "COVID-19 Pandemic"
         ],
         "y": [
          8.93616854954097e-11
         ]
        },
        {
         "hoverinfo": "y",
         "hovertemplate": "TSLA<br>%{y:.2f}",
         "marker": {
          "color": [
           "rgb(86, 16, 108)"
          ]
         },
         "name": "",
         "showlegend": false,
         "type": "bar",
         "x": [
          "COVID-19 Pandemic"
         ],
         "y": [
          8.629585830394739e-11
         ]
        },
        {
         "hoverinfo": "y",
         "hovertemplate": "OXY<br>%{y:.2f}",
         "marker": {
          "color": [
           "rgb(246, 139, 16)"
          ]
         },
         "name": "",
         "showlegend": false,
         "type": "bar",
         "x": [
          "COVID-19 Pandemic"
         ],
         "y": [
          8.516980206079247e-11
         ]
        },
        {
         "hoverinfo": "y",
         "hovertemplate": "SLB<br>%{y:.2f}",
         "marker": {
          "color": [
           "rgb(240, 116, 30)"
          ]
         },
         "name": "",
         "showlegend": false,
         "type": "bar",
         "x": [
          "COVID-19 Pandemic"
         ],
         "y": [
          8.39974342142231e-11
         ]
        },
        {
         "hoverinfo": "y",
         "hovertemplate": "GOOG<br>%{y:.2f}",
         "marker": {
          "color": [
           "rgb(4, 2, 13)"
          ]
         },
         "name": "",
         "showlegend": false,
         "type": "bar",
         "x": [
          "COVID-19 Pandemic"
         ],
         "y": [
          7.874552550974025e-11
         ]
        },
        {
         "hoverinfo": "y",
         "hovertemplate": "USO<br>%{y:.2f}",
         "marker": {
          "color": [
           "rgb(250, 238, 125)"
          ]
         },
         "name": "",
         "showlegend": false,
         "type": "bar",
         "x": [
          "COVID-19 Pandemic"
         ],
         "y": [
          7.749696212916082e-11
         ]
        },
        {
         "hoverinfo": "y",
         "hovertemplate": "KO<br>%{y:.2f}",
         "marker": {
          "color": [
           "rgb(54, 12, 89)"
          ]
         },
         "name": "",
         "showlegend": false,
         "type": "bar",
         "x": [
          "COVID-19 Pandemic"
         ],
         "y": [
          7.309375139512344e-11
         ]
        },
        {
         "hoverinfo": "y",
         "hovertemplate": "GOOGL<br>%{y:.2f}",
         "marker": {
          "color": [
           "rgb(226, 91, 49)"
          ]
         },
         "name": "",
         "showlegend": false,
         "type": "bar",
         "x": [
          "COVID-19 Pandemic"
         ],
         "y": [
          7.087724476296541e-11
         ]
        },
        {
         "hoverinfo": "y",
         "hovertemplate": "AEP<br>%{y:.2f}",
         "marker": {
          "color": [
           "rgb(195, 61, 77)"
          ]
         },
         "name": "",
         "showlegend": false,
         "type": "bar",
         "x": [
          "COVID-19 Pandemic"
         ],
         "y": [
          7.067950765526808e-11
         ]
        },
        {
         "hoverinfo": "y",
         "hovertemplate": "TIP<br>%{y:.2f}",
         "marker": {
          "color": [
           "rgb(250, 166, 17)"
          ]
         },
         "name": "",
         "showlegend": false,
         "type": "bar",
         "x": [
          "COVID-19 Pandemic"
         ],
         "y": [
          7.002120101569044e-11
         ]
        },
        {
         "hoverinfo": "y",
         "hovertemplate": "SLV<br>%{y:.2f}",
         "marker": {
          "color": [
           "rgb(249, 227, 102)"
          ]
         },
         "name": "",
         "showlegend": false,
         "type": "bar",
         "x": [
          "COVID-19 Pandemic"
         ],
         "y": [
          6.809286444459462e-11
         ]
        },
        {
         "hoverinfo": "y",
         "hovertemplate": "MO<br>%{y:.2f}",
         "marker": {
          "color": [
           "rgb(72, 12, 105)"
          ]
         },
         "name": "",
         "showlegend": false,
         "type": "bar",
         "x": [
          "COVID-19 Pandemic"
         ],
         "y": [
          6.805488856782364e-11
         ]
        },
        {
         "hoverinfo": "y",
         "hovertemplate": "AGG<br>%{y:.2f}",
         "marker": {
          "color": [
           "rgb(250, 170, 21)"
          ]
         },
         "name": "",
         "showlegend": false,
         "type": "bar",
         "x": [
          "COVID-19 Pandemic"
         ],
         "y": [
          6.802480839671935e-11
         ]
        },
        {
         "hoverinfo": "y",
         "hovertemplate": "ED<br>%{y:.2f}",
         "marker": {
          "color": [
           "rgb(208, 69, 69)"
          ]
         },
         "name": "",
         "showlegend": false,
         "type": "bar",
         "x": [
          "COVID-19 Pandemic"
         ],
         "y": [
          6.666598189013632e-11
         ]
        },
        {
         "hoverinfo": "y",
         "hovertemplate": "MPC<br>%{y:.2f}",
         "marker": {
          "color": [
           "rgb(243, 128, 23)"
          ]
         },
         "name": "",
         "showlegend": false,
         "type": "bar",
         "x": [
          "COVID-19 Pandemic"
         ],
         "y": [
          6.397058715090645e-11
         ]
        },
        {
         "hoverinfo": "y",
         "hovertemplate": "PFE<br>%{y:.2f}",
         "marker": {
          "color": [
           "rgb(22, 10, 54)"
          ]
         },
         "name": "",
         "showlegend": false,
         "type": "bar",
         "x": [
          "COVID-19 Pandemic"
         ],
         "y": [
          6.226270098175406e-11
         ]
        },
        {
         "hoverinfo": "y",
         "hovertemplate": "VLO<br>%{y:.2f}",
         "marker": {
          "color": [
           "rgb(242, 124, 25)"
          ]
         },
         "name": "",
         "showlegend": false,
         "type": "bar",
         "x": [
          "COVID-19 Pandemic"
         ],
         "y": [
          6.024202476941202e-11
         ]
        },
        {
         "hoverinfo": "y",
         "hovertemplate": "CHTR<br>%{y:.2f}",
         "marker": {
          "color": [
           "rgb(230, 97, 44)"
          ]
         },
         "name": "",
         "showlegend": false,
         "type": "bar",
         "x": [
          "COVID-19 Pandemic"
         ],
         "y": [
          5.559308488437618e-11
         ]
        },
        {
         "hoverinfo": "y",
         "hovertemplate": "AXP<br>%{y:.2f}",
         "marker": {
          "color": [
           "rgb(137, 34, 104)"
          ]
         },
         "name": "",
         "showlegend": false,
         "type": "bar",
         "x": [
          "COVID-19 Pandemic"
         ],
         "y": [
          5.427327745234327e-11
         ]
        },
        {
         "hoverinfo": "y",
         "hovertemplate": "TLT<br>%{y:.2f}",
         "marker": {
          "color": [
           "rgb(249, 146, 11)"
          ]
         },
         "name": "",
         "showlegend": false,
         "type": "bar",
         "x": [
          "COVID-19 Pandemic"
         ],
         "y": [
          5.3064007197850353e-11
         ]
        },
        {
         "hoverinfo": "y",
         "hovertemplate": "PSX<br>%{y:.2f}",
         "marker": {
          "color": [
           "rgb(241, 120, 28)"
          ]
         },
         "name": "",
         "showlegend": false,
         "type": "bar",
         "x": [
          "COVID-19 Pandemic"
         ],
         "y": [
          5.1074748352196365e-11
         ]
        },
        {
         "hoverinfo": "y",
         "hovertemplate": "ABBV<br>%{y:.2f}",
         "marker": {
          "color": [
           "rgb(36, 12, 73)"
          ]
         },
         "name": "",
         "showlegend": false,
         "type": "bar",
         "x": [
          "COVID-19 Pandemic"
         ],
         "y": [
          4.7885470019021456e-11
         ]
        },
        {
         "hoverinfo": "y",
         "hovertemplate": "CAT<br>%{y:.2f}",
         "marker": {
          "color": [
           "rgb(157, 41, 98)"
          ]
         },
         "name": "",
         "showlegend": false,
         "type": "bar",
         "x": [
          "COVID-19 Pandemic"
         ],
         "y": [
          4.399045150777391e-11
         ]
        },
        {
         "hoverinfo": "y",
         "hovertemplate": "EQR<br>%{y:.2f}",
         "marker": {
          "color": [
           "rgb(248, 217, 79)"
          ]
         },
         "name": "",
         "showlegend": false,
         "type": "bar",
         "x": [
          "COVID-19 Pandemic"
         ],
         "y": [
          4.389820932254635e-11
         ]
        },
        {
         "hoverinfo": "y",
         "hovertemplate": "CSCO<br>%{y:.2f}",
         "marker": {
          "color": [
           "rgb(18, 8, 45)"
          ]
         },
         "name": "",
         "showlegend": false,
         "type": "bar",
         "x": [
          "COVID-19 Pandemic"
         ],
         "y": [
          2.928092029637845e-11
         ]
        },
        {
         "hoverinfo": "y",
         "hovertemplate": "IAU<br>%{y:.2f}",
         "marker": {
          "color": [
           "rgb(249, 224, 94)"
          ]
         },
         "name": "",
         "showlegend": false,
         "type": "bar",
         "x": [
          "Recent Period"
         ],
         "y": [
          0.418352871769726
         ]
        },
        {
         "hoverinfo": "y",
         "hovertemplate": "USB<br>%{y:.2f}",
         "marker": {
          "color": [
           "rgb(150, 39, 100)"
          ]
         },
         "name": "",
         "showlegend": false,
         "type": "bar",
         "x": [
          "Recent Period"
         ],
         "y": [
          0.12049599984325117
         ]
        },
        {
         "hoverinfo": "y",
         "hovertemplate": "RTX<br>%{y:.2f}",
         "marker": {
          "color": [
           "rgb(177, 51, 89)"
          ]
         },
         "name": "",
         "showlegend": false,
         "type": "bar",
         "x": [
          "Recent Period"
         ],
         "y": [
          0.11388877304951037
         ]
        },
        {
         "hoverinfo": "y",
         "hovertemplate": "LOW<br>%{y:.2f}",
         "marker": {
          "color": [
           "rgb(106, 23, 108)"
          ]
         },
         "name": "",
         "showlegend": false,
         "type": "bar",
         "x": [
          "Recent Period"
         ],
         "y": [
          0.07408813301593355
         ]
        },
        {
         "hoverinfo": "y",
         "hovertemplate": "UPS<br>%{y:.2f}",
         "marker": {
          "color": [
           "rgb(180, 52, 87)"
          ]
         },
         "name": "",
         "showlegend": false,
         "type": "bar",
         "x": [
          "Recent Period"
         ],
         "y": [
          0.07170374657054117
         ]
        },
        {
         "hoverinfo": "y",
         "hovertemplate": "UNG<br>%{y:.2f}",
         "marker": {
          "color": [
           "rgb(251, 241, 133)"
          ]
         },
         "name": "",
         "showlegend": false,
         "type": "bar",
         "x": [
          "Recent Period"
         ],
         "y": [
          0.061626662239915274
         ]
        },
        {
         "hoverinfo": "y",
         "hovertemplate": "ED<br>%{y:.2f}",
         "marker": {
          "color": [
           "rgb(208, 69, 69)"
          ]
         },
         "name": "",
         "showlegend": false,
         "type": "bar",
         "x": [
          "Recent Period"
         ],
         "y": [
          0.0512156673652433
         ]
        },
        {
         "hoverinfo": "y",
         "hovertemplate": "MSFT<br>%{y:.2f}",
         "marker": {
          "color": [
           "rgb(2, 1, 9)"
          ]
         },
         "name": "",
         "showlegend": false,
         "type": "bar",
         "x": [
          "Recent Period"
         ],
         "y": [
          0.02795291099725394
         ]
        },
        {
         "hoverinfo": "y",
         "hovertemplate": "SRE<br>%{y:.2f}",
         "marker": {
          "color": [
           "rgb(210, 72, 67)"
          ]
         },
         "name": "",
         "showlegend": false,
         "type": "bar",
         "x": [
          "Recent Period"
         ],
         "y": [
          0.023798445937994128
         ]
        },
        {
         "hoverinfo": "y",
         "hovertemplate": "NFLX<br>%{y:.2f}",
         "marker": {
          "color": [
           "rgb(224, 88, 52)"
          ]
         },
         "name": "",
         "showlegend": false,
         "type": "bar",
         "x": [
          "Recent Period"
         ],
         "y": [
          0.016425847623125614
         ]
        },
        {
         "hoverinfo": "y",
         "hovertemplate": "CORN<br>%{y:.2f}",
         "marker": {
          "color": [
           "rgb(252, 252, 156)"
          ]
         },
         "name": "",
         "showlegend": false,
         "type": "bar",
         "x": [
          "Recent Period"
         ],
         "y": [
          0.010843934613862597
         ]
        },
        {
         "hoverinfo": "y",
         "hovertemplate": "SCHH<br>%{y:.2f}",
         "marker": {
          "color": [
           "rgb(248, 190, 42)"
          ]
         },
         "name": "",
         "showlegend": false,
         "type": "bar",
         "x": [
          "Recent Period"
         ],
         "y": [
          0.009606671940132117
         ]
        },
        {
         "hoverinfo": "y",
         "hovertemplate": "AMT<br>%{y:.2f}",
         "marker": {
          "color": [
           "rgb(117, 27, 109)"
          ]
         },
         "name": "",
         "showlegend": false,
         "type": "bar",
         "x": [
          "Recent Period"
         ],
         "y": [
          1.868247212070723e-7
         ]
        },
        {
         "hoverinfo": "y",
         "hovertemplate": "ROST<br>%{y:.2f}",
         "marker": {
          "color": [
           "rgb(113, 26, 109)"
          ]
         },
         "name": "",
         "showlegend": false,
         "type": "bar",
         "x": [
          "Recent Period"
         ],
         "y": [
          1.582733652197865e-8
         ]
        },
        {
         "hoverinfo": "y",
         "hovertemplate": "META<br>%{y:.2f}",
         "marker": {
          "color": [
           "rgb(228, 94, 47)"
          ]
         },
         "name": "",
         "showlegend": false,
         "type": "bar",
         "x": [
          "Recent Period"
         ],
         "y": [
          1.1853147764415965e-8
         ]
        },
        {
         "hoverinfo": "y",
         "hovertemplate": "AGG<br>%{y:.2f}",
         "marker": {
          "color": [
           "rgb(250, 170, 21)"
          ]
         },
         "name": "",
         "showlegend": false,
         "type": "bar",
         "x": [
          "Recent Period"
         ],
         "y": [
          8.629393045637993e-9
         ]
        },
        {
         "hoverinfo": "y",
         "hovertemplate": "PEP<br>%{y:.2f}",
         "marker": {
          "color": [
           "rgb(58, 12, 92)"
          ]
         },
         "name": "",
         "showlegend": false,
         "type": "bar",
         "x": [
          "Recent Period"
         ],
         "y": [
          4.566301375555717e-9
         ]
        },
        {
         "hoverinfo": "y",
         "hovertemplate": "XEL<br>%{y:.2f}",
         "marker": {
          "color": [
           "rgb(205, 67, 71)"
          ]
         },
         "name": "",
         "showlegend": false,
         "type": "bar",
         "x": [
          "Recent Period"
         ],
         "y": [
          4.473302489899552e-9
         ]
        },
        {
         "hoverinfo": "y",
         "hovertemplate": "LLY<br>%{y:.2f}",
         "marker": {
          "color": [
           "rgb(33, 12, 70)"
          ]
         },
         "name": "",
         "showlegend": false,
         "type": "bar",
         "x": [
          "Recent Period"
         ],
         "y": [
          3.683099981595817e-9
         ]
        },
        {
         "hoverinfo": "y",
         "hovertemplate": "ELV<br>%{y:.2f}",
         "marker": {
          "color": [
           "rgb(47, 12, 83)"
          ]
         },
         "name": "",
         "showlegend": false,
         "type": "bar",
         "x": [
          "Recent Period"
         ],
         "y": [
          2.937284777528458e-9
         ]
        },
        {
         "hoverinfo": "y",
         "hovertemplate": "GS<br>%{y:.2f}",
         "marker": {
          "color": [
           "rgb(127, 30, 107)"
          ]
         },
         "name": "",
         "showlegend": false,
         "type": "bar",
         "x": [
          "Recent Period"
         ],
         "y": [
          2.933397543293135e-9
         ]
        },
        {
         "hoverinfo": "y",
         "hovertemplate": "BND<br>%{y:.2f}",
         "marker": {
          "color": [
           "rgb(251, 154, 7)"
          ]
         },
         "name": "",
         "showlegend": false,
         "type": "bar",
         "x": [
          "Recent Period"
         ],
         "y": [
          2.5059132893931733e-9
         ]
        },
        {
         "hoverinfo": "y",
         "hovertemplate": "GE<br>%{y:.2f}",
         "marker": {
          "color": [
           "rgb(173, 49, 91)"
          ]
         },
         "name": "",
         "showlegend": false,
         "type": "bar",
         "x": [
          "Recent Period"
         ],
         "y": [
          2.3868967990106356e-9
         ]
        },
        {
         "hoverinfo": "y",
         "hovertemplate": "BMY<br>%{y:.2f}",
         "marker": {
          "color": [
           "rgb(29, 12, 67)"
          ]
         },
         "name": "",
         "showlegend": false,
         "type": "bar",
         "x": [
          "Recent Period"
         ],
         "y": [
          2.372919833563173e-9
         ]
        },
        {
         "hoverinfo": "y",
         "hovertemplate": "MCD<br>%{y:.2f}",
         "marker": {
          "color": [
           "rgb(92, 18, 108)"
          ]
         },
         "name": "",
         "showlegend": false,
         "type": "bar",
         "x": [
          "Recent Period"
         ],
         "y": [
          2.338441711502578e-9
         ]
        },
        {
         "hoverinfo": "y",
         "hovertemplate": "NVDA<br>%{y:.2f}",
         "marker": {
          "color": [
           "rgb(8, 4, 22)"
          ]
         },
         "name": "",
         "showlegend": false,
         "type": "bar",
         "x": [
          "Recent Period"
         ],
         "y": [
          2.3083585097651993e-9
         ]
        },
        {
         "hoverinfo": "y",
         "hovertemplate": "TJX<br>%{y:.2f}",
         "marker": {
          "color": [
           "rgb(110, 24, 109)"
          ]
         },
         "name": "",
         "showlegend": false,
         "type": "bar",
         "x": [
          "Recent Period"
         ],
         "y": [
          2.3068416000282966e-9
         ]
        },
        {
         "hoverinfo": "y",
         "hovertemplate": "VNQ<br>%{y:.2f}",
         "marker": {
          "color": [
           "rgb(249, 182, 34)"
          ]
         },
         "name": "",
         "showlegend": false,
         "type": "bar",
         "x": [
          "Recent Period"
         ],
         "y": [
          2.279905483715412e-9
         ]
        },
        {
         "hoverinfo": "y",
         "hovertemplate": "PSX<br>%{y:.2f}",
         "marker": {
          "color": [
           "rgb(241, 120, 28)"
          ]
         },
         "name": "",
         "showlegend": false,
         "type": "bar",
         "x": [
          "Recent Period"
         ],
         "y": [
          2.2725271362802166e-9
         ]
        },
        {
         "hoverinfo": "y",
         "hovertemplate": "EQR<br>%{y:.2f}",
         "marker": {
          "color": [
           "rgb(248, 217, 79)"
          ]
         },
         "name": "",
         "showlegend": false,
         "type": "bar",
         "x": [
          "Recent Period"
         ],
         "y": [
          2.243785912709688e-9
         ]
        },
        {
         "hoverinfo": "y",
         "hovertemplate": "C<br>%{y:.2f}",
         "marker": {
          "color": [
           "rgb(134, 33, 105)"
          ]
         },
         "name": "",
         "showlegend": false,
         "type": "bar",
         "x": [
          "Recent Period"
         ],
         "y": [
          2.0816937780352715e-9
         ]
        },
        {
         "hoverinfo": "y",
         "hovertemplate": "GILD<br>%{y:.2f}",
         "marker": {
          "color": [
           "rgb(40, 12, 77)"
          ]
         },
         "name": "",
         "showlegend": false,
         "type": "bar",
         "x": [
          "Recent Period"
         ],
         "y": [
          2.0748206647149354e-9
         ]
        },
        {
         "hoverinfo": "y",
         "hovertemplate": "VCSH<br>%{y:.2f}",
         "marker": {
          "color": [
           "rgb(249, 178, 29)"
          ]
         },
         "name": "",
         "showlegend": false,
         "type": "bar",
         "x": [
          "Recent Period"
         ],
         "y": [
          2.0446393244774914e-9
         ]
        },
        {
         "hoverinfo": "y",
         "hovertemplate": "GLD<br>%{y:.2f}",
         "marker": {
          "color": [
           "rgb(248, 220, 87)"
          ]
         },
         "name": "",
         "showlegend": false,
         "type": "bar",
         "x": [
          "Recent Period"
         ],
         "y": [
          1.9340298485916726e-9
         ]
        },
        {
         "hoverinfo": "y",
         "hovertemplate": "LMT<br>%{y:.2f}",
         "marker": {
          "color": [
           "rgb(170, 47, 93)"
          ]
         },
         "name": "",
         "showlegend": false,
         "type": "bar",
         "x": [
          "Recent Period"
         ],
         "y": [
          1.8803756342394514e-9
         ]
        },
        {
         "hoverinfo": "y",
         "hovertemplate": "BA<br>%{y:.2f}",
         "marker": {
          "color": [
           "rgb(154, 40, 99)"
          ]
         },
         "name": "",
         "showlegend": false,
         "type": "bar",
         "x": [
          "Recent Period"
         ],
         "y": [
          1.8242696858991158e-9
         ]
        },
        {
         "hoverinfo": "y",
         "hovertemplate": "TMUS<br>%{y:.2f}",
         "marker": {
          "color": [
           "rgb(233, 99, 42)"
          ]
         },
         "name": "",
         "showlegend": false,
         "type": "bar",
         "x": [
          "Recent Period"
         ],
         "y": [
          1.5975047061378542e-9
         ]
        },
        {
         "hoverinfo": "y",
         "hovertemplate": "DUK<br>%{y:.2f}",
         "marker": {
          "color": [
           "rgb(189, 58, 81)"
          ]
         },
         "name": "",
         "showlegend": false,
         "type": "bar",
         "x": [
          "Recent Period"
         ],
         "y": [
          1.5713480972482418e-9
         ]
        },
        {
         "hoverinfo": "y",
         "hovertemplate": "GIS<br>%{y:.2f}",
         "marker": {
          "color": [
           "rgb(79, 14, 107)"
          ]
         },
         "name": "",
         "showlegend": false,
         "type": "bar",
         "x": [
          "Recent Period"
         ],
         "y": [
          1.559039531740021e-9
         ]
        },
        {
         "hoverinfo": "y",
         "hovertemplate": "SLV<br>%{y:.2f}",
         "marker": {
          "color": [
           "rgb(249, 227, 102)"
          ]
         },
         "name": "",
         "showlegend": false,
         "type": "bar",
         "x": [
          "Recent Period"
         ],
         "y": [
          1.4386188756132717e-9
         ]
        },
        {
         "hoverinfo": "y",
         "hovertemplate": "BLK<br>%{y:.2f}",
         "marker": {
          "color": [
           "rgb(147, 38, 101)"
          ]
         },
         "name": "",
         "showlegend": false,
         "type": "bar",
         "x": [
          "Recent Period"
         ],
         "y": [
          1.3414735128469882e-9
         ]
        },
        {
         "hoverinfo": "y",
         "hovertemplate": "SO<br>%{y:.2f}",
         "marker": {
          "color": [
           "rgb(192, 60, 79)"
          ]
         },
         "name": "",
         "showlegend": false,
         "type": "bar",
         "x": [
          "Recent Period"
         ],
         "y": [
          1.301632243994533e-9
         ]
        },
        {
         "hoverinfo": "y",
         "hovertemplate": "CVX<br>%{y:.2f}",
         "marker": {
          "color": [
           "rgb(238, 109, 35)"
          ]
         },
         "name": "",
         "showlegend": false,
         "type": "bar",
         "x": [
          "Recent Period"
         ],
         "y": [
          1.2828003553304024e-9
         ]
        },
        {
         "hoverinfo": "y",
         "hovertemplate": "TIP<br>%{y:.2f}",
         "marker": {
          "color": [
           "rgb(250, 166, 17)"
          ]
         },
         "name": "",
         "showlegend": false,
         "type": "bar",
         "x": [
          "Recent Period"
         ],
         "y": [
          1.2793833434875886e-9
         ]
        },
        {
         "hoverinfo": "y",
         "hovertemplate": "WMT<br>%{y:.2f}",
         "marker": {
          "color": [
           "rgb(61, 12, 95)"
          ]
         },
         "name": "",
         "showlegend": false,
         "type": "bar",
         "x": [
          "Recent Period"
         ],
         "y": [
          1.2627782720831735e-9
         ]
        },
        {
         "hoverinfo": "y",
         "hovertemplate": "NKE<br>%{y:.2f}",
         "marker": {
          "color": [
           "rgb(89, 17, 108)"
          ]
         },
         "name": "",
         "showlegend": false,
         "type": "bar",
         "x": [
          "Recent Period"
         ],
         "y": [
          1.2318544470469892e-9
         ]
        },
        {
         "hoverinfo": "y",
         "hovertemplate": "PLD<br>%{y:.2f}",
         "marker": {
          "color": [
           "rgb(248, 202, 54)"
          ]
         },
         "name": "",
         "showlegend": false,
         "type": "bar",
         "x": [
          "Recent Period"
         ],
         "y": [
          1.2154598173337581e-9
         ]
        },
        {
         "hoverinfo": "y",
         "hovertemplate": "HON<br>%{y:.2f}",
         "marker": {
          "color": [
           "rgb(164, 44, 96)"
          ]
         },
         "name": "",
         "showlegend": false,
         "type": "bar",
         "x": [
          "Recent Period"
         ],
         "y": [
          1.2134069402821013e-9
         ]
        },
        {
         "hoverinfo": "y",
         "hovertemplate": "NEE<br>%{y:.2f}",
         "marker": {
          "color": [
           "rgb(186, 56, 83)"
          ]
         },
         "name": "",
         "showlegend": false,
         "type": "bar",
         "x": [
          "Recent Period"
         ],
         "y": [
          1.2064752400936235e-9
         ]
        },
        {
         "hoverinfo": "y",
         "hovertemplate": "AMZN<br>%{y:.2f}",
         "marker": {
          "color": [
           "rgb(6, 3, 18)"
          ]
         },
         "name": "",
         "showlegend": false,
         "type": "bar",
         "x": [
          "Recent Period"
         ],
         "y": [
          1.1855062807412588e-9
         ]
        },
        {
         "hoverinfo": "y",
         "hovertemplate": "MPC<br>%{y:.2f}",
         "marker": {
          "color": [
           "rgb(243, 128, 23)"
          ]
         },
         "name": "",
         "showlegend": false,
         "type": "bar",
         "x": [
          "Recent Period"
         ],
         "y": [
          1.1760597152287525e-9
         ]
        },
        {
         "hoverinfo": "y",
         "hovertemplate": "INTC<br>%{y:.2f}",
         "marker": {
          "color": [
           "rgb(16, 7, 41)"
          ]
         },
         "name": "",
         "showlegend": false,
         "type": "bar",
         "x": [
          "Recent Period"
         ],
         "y": [
          1.160670531925856e-9
         ]
        },
        {
         "hoverinfo": "y",
         "hovertemplate": "DBC<br>%{y:.2f}",
         "marker": {
          "color": [
           "rgb(250, 234, 118)"
          ]
         },
         "name": "",
         "showlegend": false,
         "type": "bar",
         "x": [
          "Recent Period"
         ],
         "y": [
          1.1092333181412729e-9
         ]
        },
        {
         "hoverinfo": "y",
         "hovertemplate": "CHTR<br>%{y:.2f}",
         "marker": {
          "color": [
           "rgb(230, 97, 44)"
          ]
         },
         "name": "",
         "showlegend": false,
         "type": "bar",
         "x": [
          "Recent Period"
         ],
         "y": [
          1.1065814644913376e-9
         ]
        },
        {
         "hoverinfo": "y",
         "hovertemplate": "UNP<br>%{y:.2f}",
         "marker": {
          "color": [
           "rgb(167, 45, 95)"
          ]
         },
         "name": "",
         "showlegend": false,
         "type": "bar",
         "x": [
          "Recent Period"
         ],
         "y": [
          1.080287656915414e-9
         ]
        },
        {
         "hoverinfo": "y",
         "hovertemplate": "EXC<br>%{y:.2f}",
         "marker": {
          "color": [
           "rgb(199, 63, 75)"
          ]
         },
         "name": "",
         "showlegend": false,
         "type": "bar",
         "x": [
          "Recent Period"
         ],
         "y": [
          1.0737540859269353e-9
         ]
        },
        {
         "hoverinfo": "y",
         "hovertemplate": "SPOT<br>%{y:.2f}",
         "marker": {
          "color": [
           "rgb(235, 102, 39)"
          ]
         },
         "name": "",
         "showlegend": false,
         "type": "bar",
         "x": [
          "Recent Period"
         ],
         "y": [
          1.0563905009789478e-9
         ]
        },
        {
         "hoverinfo": "y",
         "hovertemplate": "PFE<br>%{y:.2f}",
         "marker": {
          "color": [
           "rgb(22, 10, 54)"
          ]
         },
         "name": "",
         "showlegend": false,
         "type": "bar",
         "x": [
          "Recent Period"
         ],
         "y": [
          9.891479894541592e-10
         ]
        },
        {
         "hoverinfo": "y",
         "hovertemplate": "MO<br>%{y:.2f}",
         "marker": {
          "color": [
           "rgb(72, 12, 105)"
          ]
         },
         "name": "",
         "showlegend": false,
         "type": "bar",
         "x": [
          "Recent Period"
         ],
         "y": [
          9.56346139466196e-10
         ]
        },
        {
         "hoverinfo": "y",
         "hovertemplate": "UNH<br>%{y:.2f}",
         "marker": {
          "color": [
           "rgb(26, 12, 63)"
          ]
         },
         "name": "",
         "showlegend": false,
         "type": "bar",
         "x": [
          "Recent Period"
         ],
         "y": [
          9.378471218825465e-10
         ]
        },
        {
         "hoverinfo": "y",
         "hovertemplate": "USO<br>%{y:.2f}",
         "marker": {
          "color": [
           "rgb(250, 238, 125)"
          ]
         },
         "name": "",
         "showlegend": false,
         "type": "bar",
         "x": [
          "Recent Period"
         ],
         "y": [
          8.704393042438857e-10
         ]
        },
        {
         "hoverinfo": "y",
         "hovertemplate": "VLO<br>%{y:.2f}",
         "marker": {
          "color": [
           "rgb(242, 124, 25)"
          ]
         },
         "name": "",
         "showlegend": false,
         "type": "bar",
         "x": [
          "Recent Period"
         ],
         "y": [
          8.634026656901585e-10
         ]
        },
        {
         "hoverinfo": "y",
         "hovertemplate": "BNO<br>%{y:.2f}",
         "marker": {
          "color": [
           "rgb(251, 245, 141)"
          ]
         },
         "name": "",
         "showlegend": false,
         "type": "bar",
         "x": [
          "Recent Period"
         ],
         "y": [
          8.46610043779043e-10
         ]
        },
        {
         "hoverinfo": "y",
         "hovertemplate": "SLB<br>%{y:.2f}",
         "marker": {
          "color": [
           "rgb(240, 116, 30)"
          ]
         },
         "name": "",
         "showlegend": false,
         "type": "bar",
         "x": [
          "Recent Period"
         ],
         "y": [
          8.304461891471492e-10
         ]
        },
        {
         "hoverinfo": "y",
         "hovertemplate": "GOVT<br>%{y:.2f}",
         "marker": {
          "color": [
           "rgb(250, 150, 9)"
          ]
         },
         "name": "",
         "showlegend": false,
         "type": "bar",
         "x": [
          "Recent Period"
         ],
         "y": [
          8.208301788113396e-10
         ]
        },
        {
         "hoverinfo": "y",
         "hovertemplate": "WFC<br>%{y:.2f}",
         "marker": {
          "color": [
           "rgb(130, 32, 106)"
          ]
         },
         "name": "",
         "showlegend": false,
         "type": "bar",
         "x": [
          "Recent Period"
         ],
         "y": [
          8.133351990735019e-10
         ]
        },
        {
         "hoverinfo": "y",
         "hovertemplate": "KO<br>%{y:.2f}",
         "marker": {
          "color": [
           "rgb(54, 12, 89)"
          ]
         },
         "name": "",
         "showlegend": false,
         "type": "bar",
         "x": [
          "Recent Period"
         ],
         "y": [
          8.078726060870355e-10
         ]
        },
        {
         "hoverinfo": "y",
         "hovertemplate": "GOOGL<br>%{y:.2f}",
         "marker": {
          "color": [
           "rgb(226, 91, 49)"
          ]
         },
         "name": "",
         "showlegend": false,
         "type": "bar",
         "x": [
          "Recent Period"
         ],
         "y": [
          7.596734931089372e-10
         ]
        },
        {
         "hoverinfo": "y",
         "hovertemplate": "SBUX<br>%{y:.2f}",
         "marker": {
          "color": [
           "rgb(96, 20, 108)"
          ]
         },
         "name": "",
         "showlegend": false,
         "type": "bar",
         "x": [
          "Recent Period"
         ],
         "y": [
          7.537777987286021e-10
         ]
        },
        {
         "hoverinfo": "y",
         "hovertemplate": "COST<br>%{y:.2f}",
         "marker": {
          "color": [
           "rgb(82, 15, 107)"
          ]
         },
         "name": "",
         "showlegend": false,
         "type": "bar",
         "x": [
          "Recent Period"
         ],
         "y": [
          7.482190863630542e-10
         ]
        },
        {
         "hoverinfo": "y",
         "hovertemplate": "HD<br>%{y:.2f}",
         "marker": {
          "color": [
           "rgb(103, 22, 108)"
          ]
         },
         "name": "",
         "showlegend": false,
         "type": "bar",
         "x": [
          "Recent Period"
         ],
         "y": [
          7.161842311487229e-10
         ]
        },
        {
         "hoverinfo": "y",
         "hovertemplate": "IYR<br>%{y:.2f}",
         "marker": {
          "color": [
           "rgb(249, 186, 38)"
          ]
         },
         "name": "",
         "showlegend": false,
         "type": "bar",
         "x": [
          "Recent Period"
         ],
         "y": [
          7.042556225375921e-10
         ]
        },
        {
         "hoverinfo": "y",
         "hovertemplate": "TLT<br>%{y:.2f}",
         "marker": {
          "color": [
           "rgb(249, 146, 11)"
          ]
         },
         "name": "",
         "showlegend": false,
         "type": "bar",
         "x": [
          "Recent Period"
         ],
         "y": [
          6.868459200795783e-10
         ]
        },
        {
         "hoverinfo": "y",
         "hovertemplate": "O<br>%{y:.2f}",
         "marker": {
          "color": [
           "rgb(247, 206, 58)"
          ]
         },
         "name": "",
         "showlegend": false,
         "type": "bar",
         "x": [
          "Recent Period"
         ],
         "y": [
          6.818820458384496e-10
         ]
        },
        {
         "hoverinfo": "y",
         "hovertemplate": "AEP<br>%{y:.2f}",
         "marker": {
          "color": [
           "rgb(195, 61, 77)"
          ]
         },
         "name": "",
         "showlegend": false,
         "type": "bar",
         "x": [
          "Recent Period"
         ],
         "y": [
          6.761017891134247e-10
         ]
        },
        {
         "hoverinfo": "y",
         "hovertemplate": "HYG<br>%{y:.2f}",
         "marker": {
          "color": [
           "rgb(250, 162, 13)"
          ]
         },
         "name": "",
         "showlegend": false,
         "type": "bar",
         "x": [
          "Recent Period"
         ],
         "y": [
          6.505823635936191e-10
         ]
        },
        {
         "hoverinfo": "y",
         "hovertemplate": "VZ<br>%{y:.2f}",
         "marker": {
          "color": [
           "rgb(214, 77, 62)"
          ]
         },
         "name": "",
         "showlegend": false,
         "type": "bar",
         "x": [
          "Recent Period"
         ],
         "y": [
          6.482430640450323e-10
         ]
        },
        {
         "hoverinfo": "y",
         "hovertemplate": "AAPL<br>%{y:.2f}",
         "marker": {
          "color": [
           "rgb(0, 0, 4)"
          ]
         },
         "name": "",
         "showlegend": false,
         "type": "bar",
         "x": [
          "Recent Period"
         ],
         "y": [
          6.429165564455902e-10
         ]
        },
        {
         "hoverinfo": "y",
         "hovertemplate": "D<br>%{y:.2f}",
         "marker": {
          "color": [
           "rgb(202, 65, 73)"
          ]
         },
         "name": "",
         "showlegend": false,
         "type": "bar",
         "x": [
          "Recent Period"
         ],
         "y": [
          6.304410651018822e-10
         ]
        },
        {
         "hoverinfo": "y",
         "hovertemplate": "LQD<br>%{y:.2f}",
         "marker": {
          "color": [
           "rgb(251, 158, 9)"
          ]
         },
         "name": "",
         "showlegend": false,
         "type": "bar",
         "x": [
          "Recent Period"
         ],
         "y": [
          5.898184799471601e-10
         ]
        },
        {
         "hoverinfo": "y",
         "hovertemplate": "PPL<br>%{y:.2f}",
         "marker": {
          "color": [
           "rgb(212, 74, 64)"
          ]
         },
         "name": "",
         "showlegend": false,
         "type": "bar",
         "x": [
          "Recent Period"
         ],
         "y": [
          5.761638133211388e-10
         ]
        },
        {
         "hoverinfo": "y",
         "hovertemplate": "ABBV<br>%{y:.2f}",
         "marker": {
          "color": [
           "rgb(36, 12, 73)"
          ]
         },
         "name": "",
         "showlegend": false,
         "type": "bar",
         "x": [
          "Recent Period"
         ],
         "y": [
          5.601858517902028e-10
         ]
        },
        {
         "hoverinfo": "y",
         "hovertemplate": "PG<br>%{y:.2f}",
         "marker": {
          "color": [
           "rgb(51, 12, 86)"
          ]
         },
         "name": "",
         "showlegend": false,
         "type": "bar",
         "x": [
          "Recent Period"
         ],
         "y": [
          5.554225542038184e-10
         ]
        },
        {
         "hoverinfo": "y",
         "hovertemplate": "MS<br>%{y:.2f}",
         "marker": {
          "color": [
           "rgb(144, 36, 102)"
          ]
         },
         "name": "",
         "showlegend": false,
         "type": "bar",
         "x": [
          "Recent Period"
         ],
         "y": [
          5.426060937434752e-10
         ]
        },
        {
         "hoverinfo": "y",
         "hovertemplate": "JPM<br>%{y:.2f}",
         "marker": {
          "color": [
           "rgb(120, 28, 109)"
          ]
         },
         "name": "",
         "showlegend": false,
         "type": "bar",
         "x": [
          "Recent Period"
         ],
         "y": [
          5.263907896005763e-10
         ]
        },
        {
         "hoverinfo": "y",
         "hovertemplate": "MDLZ<br>%{y:.2f}",
         "marker": {
          "color": [
           "rgb(75, 12, 107)"
          ]
         },
         "name": "",
         "showlegend": false,
         "type": "bar",
         "x": [
          "Recent Period"
         ],
         "y": [
          5.219623842428239e-10
         ]
        },
        {
         "hoverinfo": "y",
         "hovertemplate": "BAC<br>%{y:.2f}",
         "marker": {
          "color": [
           "rgb(123, 29, 108)"
          ]
         },
         "name": "",
         "showlegend": false,
         "type": "bar",
         "x": [
          "Recent Period"
         ],
         "y": [
          5.154696120966739e-10
         ]
        },
        {
         "hoverinfo": "y",
         "hovertemplate": "DE<br>%{y:.2f}",
         "marker": {
          "color": [
           "rgb(183, 54, 85)"
          ]
         },
         "name": "",
         "showlegend": false,
         "type": "bar",
         "x": [
          "Recent Period"
         ],
         "y": [
          5.117617004039171e-10
         ]
        },
        {
         "hoverinfo": "y",
         "hovertemplate": "AVB<br>%{y:.2f}",
         "marker": {
          "color": [
           "rgb(248, 214, 71)"
          ]
         },
         "name": "",
         "showlegend": false,
         "type": "bar",
         "x": [
          "Recent Period"
         ],
         "y": [
          5.095296862851565e-10
         ]
        },
        {
         "hoverinfo": "y",
         "hovertemplate": "CRM<br>%{y:.2f}",
         "marker": {
          "color": [
           "rgb(14, 6, 36)"
          ]
         },
         "name": "",
         "showlegend": false,
         "type": "bar",
         "x": [
          "Recent Period"
         ],
         "y": [
          4.992498788436085e-10
         ]
        },
        {
         "hoverinfo": "y",
         "hovertemplate": "KMB<br>%{y:.2f}",
         "marker": {
          "color": [
           "rgb(68, 12, 102)"
          ]
         },
         "name": "",
         "showlegend": false,
         "type": "bar",
         "x": [
          "Recent Period"
         ],
         "y": [
          4.760887101194516e-10
         ]
        },
        {
         "hoverinfo": "y",
         "hovertemplate": "SCHW<br>%{y:.2f}",
         "marker": {
          "color": [
           "rgb(140, 35, 103)"
          ]
         },
         "name": "",
         "showlegend": false,
         "type": "bar",
         "x": [
          "Recent Period"
         ],
         "y": [
          4.73722199744308e-10
         ]
        },
        {
         "hoverinfo": "y",
         "hovertemplate": "CMCSA<br>%{y:.2f}",
         "marker": {
          "color": [
           "rgb(219, 83, 57)"
          ]
         },
         "name": "",
         "showlegend": false,
         "type": "bar",
         "x": [
          "Recent Period"
         ],
         "y": [
          4.719185130719698e-10
         ]
        },
        {
         "hoverinfo": "y",
         "hovertemplate": "AXP<br>%{y:.2f}",
         "marker": {
          "color": [
           "rgb(137, 34, 104)"
          ]
         },
         "name": "",
         "showlegend": false,
         "type": "bar",
         "x": [
          "Recent Period"
         ],
         "y": [
          4.61656350102741e-10
         ]
        },
        {
         "hoverinfo": "y",
         "hovertemplate": "T<br>%{y:.2f}",
         "marker": {
          "color": [
           "rgb(217, 80, 59)"
          ]
         },
         "name": "",
         "showlegend": false,
         "type": "bar",
         "x": [
          "Recent Period"
         ],
         "y": [
          4.4731297975306045e-10
         ]
        },
        {
         "hoverinfo": "y",
         "hovertemplate": "JNJ<br>%{y:.2f}",
         "marker": {
          "color": [
           "rgb(20, 9, 50)"
          ]
         },
         "name": "",
         "showlegend": false,
         "type": "bar",
         "x": [
          "Recent Period"
         ],
         "y": [
          4.446135564701768e-10
         ]
        },
        {
         "hoverinfo": "y",
         "hovertemplate": "TGT<br>%{y:.2f}",
         "marker": {
          "color": [
           "rgb(99, 21, 108)"
          ]
         },
         "name": "",
         "showlegend": false,
         "type": "bar",
         "x": [
          "Recent Period"
         ],
         "y": [
          4.431535374112554e-10
         ]
        },
        {
         "hoverinfo": "y",
         "hovertemplate": "BKR<br>%{y:.2f}",
         "marker": {
          "color": [
           "rgb(245, 135, 18)"
          ]
         },
         "name": "",
         "showlegend": false,
         "type": "bar",
         "x": [
          "Recent Period"
         ],
         "y": [
          4.356692949715372e-10
         ]
        },
        {
         "hoverinfo": "y",
         "hovertemplate": "IEF<br>%{y:.2f}",
         "marker": {
          "color": [
           "rgb(248, 143, 14)"
          ]
         },
         "name": "",
         "showlegend": false,
         "type": "bar",
         "x": [
          "Recent Period"
         ],
         "y": [
          4.29399480251789e-10
         ]
        },
        {
         "hoverinfo": "y",
         "hovertemplate": "HAL<br>%{y:.2f}",
         "marker": {
          "color": [
           "rgb(244, 131, 21)"
          ]
         },
         "name": "",
         "showlegend": false,
         "type": "bar",
         "x": [
          "Recent Period"
         ],
         "y": [
          4.245868737094575e-10
         ]
        },
        {
         "hoverinfo": "y",
         "hovertemplate": "OXY<br>%{y:.2f}",
         "marker": {
          "color": [
           "rgb(246, 139, 16)"
          ]
         },
         "name": "",
         "showlegend": false,
         "type": "bar",
         "x": [
          "Recent Period"
         ],
         "y": [
          4.146975592154525e-10
         ]
        },
        {
         "hoverinfo": "y",
         "hovertemplate": "ADBE<br>%{y:.2f}",
         "marker": {
          "color": [
           "rgb(10, 4, 27)"
          ]
         },
         "name": "",
         "showlegend": false,
         "type": "bar",
         "x": [
          "Recent Period"
         ],
         "y": [
          4.0987137522752417e-10
         ]
        },
        {
         "hoverinfo": "y",
         "hovertemplate": "MMM<br>%{y:.2f}",
         "marker": {
          "color": [
           "rgb(161, 42, 97)"
          ]
         },
         "name": "",
         "showlegend": false,
         "type": "bar",
         "x": [
          "Recent Period"
         ],
         "y": [
          4.064197444291863e-10
         ]
        },
        {
         "hoverinfo": "y",
         "hovertemplate": "GSG<br>%{y:.2f}",
         "marker": {
          "color": [
           "rgb(251, 248, 149)"
          ]
         },
         "name": "",
         "showlegend": false,
         "type": "bar",
         "x": [
          "Recent Period"
         ],
         "y": [
          4.0543476903663197e-10
         ]
        },
        {
         "hoverinfo": "y",
         "hovertemplate": "PDBC<br>%{y:.2f}",
         "marker": {
          "color": [
           "rgb(249, 231, 110)"
          ]
         },
         "name": "",
         "showlegend": false,
         "type": "bar",
         "x": [
          "Recent Period"
         ],
         "y": [
          3.991582184191245e-10
         ]
        },
        {
         "hoverinfo": "y",
         "hovertemplate": "CL<br>%{y:.2f}",
         "marker": {
          "color": [
           "rgb(65, 12, 99)"
          ]
         },
         "name": "",
         "showlegend": false,
         "type": "bar",
         "x": [
          "Recent Period"
         ],
         "y": [
          3.959644218584276e-10
         ]
        },
        {
         "hoverinfo": "y",
         "hovertemplate": "MRK<br>%{y:.2f}",
         "marker": {
          "color": [
           "rgb(24, 11, 59)"
          ]
         },
         "name": "",
         "showlegend": false,
         "type": "bar",
         "x": [
          "Recent Period"
         ],
         "y": [
          3.9427752817004706e-10
         ]
        },
        {
         "hoverinfo": "y",
         "hovertemplate": "ORCL<br>%{y:.2f}",
         "marker": {
          "color": [
           "rgb(12, 5, 31)"
          ]
         },
         "name": "",
         "showlegend": false,
         "type": "bar",
         "x": [
          "Recent Period"
         ],
         "y": [
          3.548920635900211e-10
         ]
        },
        {
         "hoverinfo": "y",
         "hovertemplate": "GOOG<br>%{y:.2f}",
         "marker": {
          "color": [
           "rgb(4, 2, 13)"
          ]
         },
         "name": "",
         "showlegend": false,
         "type": "bar",
         "x": [
          "Recent Period"
         ],
         "y": [
          3.440301905926875e-10
         ]
        },
        {
         "hoverinfo": "y",
         "hovertemplate": "SPG<br>%{y:.2f}",
         "marker": {
          "color": [
           "rgb(247, 210, 64)"
          ]
         },
         "name": "",
         "showlegend": false,
         "type": "bar",
         "x": [
          "Recent Period"
         ],
         "y": [
          3.3276982098035865e-10
         ]
        },
        {
         "hoverinfo": "y",
         "hovertemplate": "XOM<br>%{y:.2f}",
         "marker": {
          "color": [
           "rgb(237, 105, 37)"
          ]
         },
         "name": "",
         "showlegend": false,
         "type": "bar",
         "x": [
          "Recent Period"
         ],
         "y": [
          3.222989172987982e-10
         ]
        },
        {
         "hoverinfo": "y",
         "hovertemplate": "RWR<br>%{y:.2f}",
         "marker": {
          "color": [
           "rgb(248, 194, 46)"
          ]
         },
         "name": "",
         "showlegend": false,
         "type": "bar",
         "x": [
          "Recent Period"
         ],
         "y": [
          3.2097596420693183e-10
         ]
        },
        {
         "hoverinfo": "y",
         "hovertemplate": "XLRE<br>%{y:.2f}",
         "marker": {
          "color": [
           "rgb(248, 198, 50)"
          ]
         },
         "name": "",
         "showlegend": false,
         "type": "bar",
         "x": [
          "Recent Period"
         ],
         "y": [
          3.070220889386194e-10
         ]
        },
        {
         "hoverinfo": "y",
         "hovertemplate": "COP<br>%{y:.2f}",
         "marker": {
          "color": [
           "rgb(239, 113, 32)"
          ]
         },
         "name": "",
         "showlegend": false,
         "type": "bar",
         "x": [
          "Recent Period"
         ],
         "y": [
          2.8553057611006317e-10
         ]
        },
        {
         "hoverinfo": "y",
         "hovertemplate": "VCIT<br>%{y:.2f}",
         "marker": {
          "color": [
           "rgb(250, 174, 25)"
          ]
         },
         "name": "",
         "showlegend": false,
         "type": "bar",
         "x": [
          "Recent Period"
         ],
         "y": [
          2.826707897344886e-10
         ]
        },
        {
         "hoverinfo": "y",
         "hovertemplate": "CSCO<br>%{y:.2f}",
         "marker": {
          "color": [
           "rgb(18, 8, 45)"
          ]
         },
         "name": "",
         "showlegend": false,
         "type": "bar",
         "x": [
          "Recent Period"
         ],
         "y": [
          2.761324287721621e-10
         ]
        },
        {
         "hoverinfo": "y",
         "hovertemplate": "TSLA<br>%{y:.2f}",
         "marker": {
          "color": [
           "rgb(86, 16, 108)"
          ]
         },
         "name": "",
         "showlegend": false,
         "type": "bar",
         "x": [
          "Recent Period"
         ],
         "y": [
          2.6051866356197824e-10
         ]
        },
        {
         "hoverinfo": "y",
         "hovertemplate": "MDT<br>%{y:.2f}",
         "marker": {
          "color": [
           "rgb(43, 12, 80)"
          ]
         },
         "name": "",
         "showlegend": false,
         "type": "bar",
         "x": [
          "Recent Period"
         ],
         "y": [
          2.359218628891006e-10
         ]
        },
        {
         "hoverinfo": "y",
         "hovertemplate": "DIS<br>%{y:.2f}",
         "marker": {
          "color": [
           "rgb(221, 86, 54)"
          ]
         },
         "name": "",
         "showlegend": false,
         "type": "bar",
         "x": [
          "Recent Period"
         ],
         "y": [
          2.1588906189883295e-10
         ]
        },
        {
         "hoverinfo": "y",
         "hovertemplate": "CAT<br>%{y:.2f}",
         "marker": {
          "color": [
           "rgb(157, 41, 98)"
          ]
         },
         "name": "",
         "showlegend": false,
         "type": "bar",
         "x": [
          "Recent Period"
         ],
         "y": [
          1.8323899514931629e-10
         ]
        }
       ],
       "layout": {
        "barmode": "stack",
        "height": 600,
        "legend": {
         "title": {
          "text": "Assets"
         },
         "xanchor": "left",
         "yanchor": "top"
        },
        "template": {
         "data": {
          "bar": [
           {
            "error_x": {
             "color": "#2a3f5f"
            },
            "error_y": {
             "color": "#2a3f5f"
            },
            "marker": {
             "line": {
              "color": "#E5ECF6",
              "width": 0.5
             },
             "pattern": {
              "fillmode": "overlay",
              "size": 10,
              "solidity": 0.2
             }
            },
            "type": "bar"
           }
          ],
          "barpolar": [
           {
            "marker": {
             "line": {
              "color": "#E5ECF6",
              "width": 0.5
             },
             "pattern": {
              "fillmode": "overlay",
              "size": 10,
              "solidity": 0.2
             }
            },
            "type": "barpolar"
           }
          ],
          "carpet": [
           {
            "aaxis": {
             "endlinecolor": "#2a3f5f",
             "gridcolor": "white",
             "linecolor": "white",
             "minorgridcolor": "white",
             "startlinecolor": "#2a3f5f"
            },
            "baxis": {
             "endlinecolor": "#2a3f5f",
             "gridcolor": "white",
             "linecolor": "white",
             "minorgridcolor": "white",
             "startlinecolor": "#2a3f5f"
            },
            "type": "carpet"
           }
          ],
          "choropleth": [
           {
            "colorbar": {
             "outlinewidth": 0,
             "ticks": ""
            },
            "type": "choropleth"
           }
          ],
          "contour": [
           {
            "colorbar": {
             "outlinewidth": 0,
             "ticks": ""
            },
            "colorscale": [
             [
              0,
              "#0d0887"
             ],
             [
              0.1111111111111111,
              "#46039f"
             ],
             [
              0.2222222222222222,
              "#7201a8"
             ],
             [
              0.3333333333333333,
              "#9c179e"
             ],
             [
              0.4444444444444444,
              "#bd3786"
             ],
             [
              0.5555555555555556,
              "#d8576b"
             ],
             [
              0.6666666666666666,
              "#ed7953"
             ],
             [
              0.7777777777777778,
              "#fb9f3a"
             ],
             [
              0.8888888888888888,
              "#fdca26"
             ],
             [
              1,
              "#f0f921"
             ]
            ],
            "type": "contour"
           }
          ],
          "contourcarpet": [
           {
            "colorbar": {
             "outlinewidth": 0,
             "ticks": ""
            },
            "type": "contourcarpet"
           }
          ],
          "heatmap": [
           {
            "colorbar": {
             "outlinewidth": 0,
             "ticks": ""
            },
            "colorscale": [
             [
              0,
              "#0d0887"
             ],
             [
              0.1111111111111111,
              "#46039f"
             ],
             [
              0.2222222222222222,
              "#7201a8"
             ],
             [
              0.3333333333333333,
              "#9c179e"
             ],
             [
              0.4444444444444444,
              "#bd3786"
             ],
             [
              0.5555555555555556,
              "#d8576b"
             ],
             [
              0.6666666666666666,
              "#ed7953"
             ],
             [
              0.7777777777777778,
              "#fb9f3a"
             ],
             [
              0.8888888888888888,
              "#fdca26"
             ],
             [
              1,
              "#f0f921"
             ]
            ],
            "type": "heatmap"
           }
          ],
          "heatmapgl": [
           {
            "colorbar": {
             "outlinewidth": 0,
             "ticks": ""
            },
            "colorscale": [
             [
              0,
              "#0d0887"
             ],
             [
              0.1111111111111111,
              "#46039f"
             ],
             [
              0.2222222222222222,
              "#7201a8"
             ],
             [
              0.3333333333333333,
              "#9c179e"
             ],
             [
              0.4444444444444444,
              "#bd3786"
             ],
             [
              0.5555555555555556,
              "#d8576b"
             ],
             [
              0.6666666666666666,
              "#ed7953"
             ],
             [
              0.7777777777777778,
              "#fb9f3a"
             ],
             [
              0.8888888888888888,
              "#fdca26"
             ],
             [
              1,
              "#f0f921"
             ]
            ],
            "type": "heatmapgl"
           }
          ],
          "histogram": [
           {
            "marker": {
             "pattern": {
              "fillmode": "overlay",
              "size": 10,
              "solidity": 0.2
             }
            },
            "type": "histogram"
           }
          ],
          "histogram2d": [
           {
            "colorbar": {
             "outlinewidth": 0,
             "ticks": ""
            },
            "colorscale": [
             [
              0,
              "#0d0887"
             ],
             [
              0.1111111111111111,
              "#46039f"
             ],
             [
              0.2222222222222222,
              "#7201a8"
             ],
             [
              0.3333333333333333,
              "#9c179e"
             ],
             [
              0.4444444444444444,
              "#bd3786"
             ],
             [
              0.5555555555555556,
              "#d8576b"
             ],
             [
              0.6666666666666666,
              "#ed7953"
             ],
             [
              0.7777777777777778,
              "#fb9f3a"
             ],
             [
              0.8888888888888888,
              "#fdca26"
             ],
             [
              1,
              "#f0f921"
             ]
            ],
            "type": "histogram2d"
           }
          ],
          "histogram2dcontour": [
           {
            "colorbar": {
             "outlinewidth": 0,
             "ticks": ""
            },
            "colorscale": [
             [
              0,
              "#0d0887"
             ],
             [
              0.1111111111111111,
              "#46039f"
             ],
             [
              0.2222222222222222,
              "#7201a8"
             ],
             [
              0.3333333333333333,
              "#9c179e"
             ],
             [
              0.4444444444444444,
              "#bd3786"
             ],
             [
              0.5555555555555556,
              "#d8576b"
             ],
             [
              0.6666666666666666,
              "#ed7953"
             ],
             [
              0.7777777777777778,
              "#fb9f3a"
             ],
             [
              0.8888888888888888,
              "#fdca26"
             ],
             [
              1,
              "#f0f921"
             ]
            ],
            "type": "histogram2dcontour"
           }
          ],
          "mesh3d": [
           {
            "colorbar": {
             "outlinewidth": 0,
             "ticks": ""
            },
            "type": "mesh3d"
           }
          ],
          "parcoords": [
           {
            "line": {
             "colorbar": {
              "outlinewidth": 0,
              "ticks": ""
             }
            },
            "type": "parcoords"
           }
          ],
          "pie": [
           {
            "automargin": true,
            "type": "pie"
           }
          ],
          "scatter": [
           {
            "fillpattern": {
             "fillmode": "overlay",
             "size": 10,
             "solidity": 0.2
            },
            "type": "scatter"
           }
          ],
          "scatter3d": [
           {
            "line": {
             "colorbar": {
              "outlinewidth": 0,
              "ticks": ""
             }
            },
            "marker": {
             "colorbar": {
              "outlinewidth": 0,
              "ticks": ""
             }
            },
            "type": "scatter3d"
           }
          ],
          "scattercarpet": [
           {
            "marker": {
             "colorbar": {
              "outlinewidth": 0,
              "ticks": ""
             }
            },
            "type": "scattercarpet"
           }
          ],
          "scattergeo": [
           {
            "marker": {
             "colorbar": {
              "outlinewidth": 0,
              "ticks": ""
             }
            },
            "type": "scattergeo"
           }
          ],
          "scattergl": [
           {
            "marker": {
             "colorbar": {
              "outlinewidth": 0,
              "ticks": ""
             }
            },
            "type": "scattergl"
           }
          ],
          "scattermapbox": [
           {
            "marker": {
             "colorbar": {
              "outlinewidth": 0,
              "ticks": ""
             }
            },
            "type": "scattermapbox"
           }
          ],
          "scatterpolar": [
           {
            "marker": {
             "colorbar": {
              "outlinewidth": 0,
              "ticks": ""
             }
            },
            "type": "scatterpolar"
           }
          ],
          "scatterpolargl": [
           {
            "marker": {
             "colorbar": {
              "outlinewidth": 0,
              "ticks": ""
             }
            },
            "type": "scatterpolargl"
           }
          ],
          "scatterternary": [
           {
            "marker": {
             "colorbar": {
              "outlinewidth": 0,
              "ticks": ""
             }
            },
            "type": "scatterternary"
           }
          ],
          "surface": [
           {
            "colorbar": {
             "outlinewidth": 0,
             "ticks": ""
            },
            "colorscale": [
             [
              0,
              "#0d0887"
             ],
             [
              0.1111111111111111,
              "#46039f"
             ],
             [
              0.2222222222222222,
              "#7201a8"
             ],
             [
              0.3333333333333333,
              "#9c179e"
             ],
             [
              0.4444444444444444,
              "#bd3786"
             ],
             [
              0.5555555555555556,
              "#d8576b"
             ],
             [
              0.6666666666666666,
              "#ed7953"
             ],
             [
              0.7777777777777778,
              "#fb9f3a"
             ],
             [
              0.8888888888888888,
              "#fdca26"
             ],
             [
              1,
              "#f0f921"
             ]
            ],
            "type": "surface"
           }
          ],
          "table": [
           {
            "cells": {
             "fill": {
              "color": "#EBF0F8"
             },
             "line": {
              "color": "white"
             }
            },
            "header": {
             "fill": {
              "color": "#C8D4E3"
             },
             "line": {
              "color": "white"
             }
            },
            "type": "table"
           }
          ]
         },
         "layout": {
          "annotationdefaults": {
           "arrowcolor": "#2a3f5f",
           "arrowhead": 0,
           "arrowwidth": 1
          },
          "autotypenumbers": "strict",
          "coloraxis": {
           "colorbar": {
            "outlinewidth": 0,
            "ticks": ""
           }
          },
          "colorscale": {
           "diverging": [
            [
             0,
             "#8e0152"
            ],
            [
             0.1,
             "#c51b7d"
            ],
            [
             0.2,
             "#de77ae"
            ],
            [
             0.3,
             "#f1b6da"
            ],
            [
             0.4,
             "#fde0ef"
            ],
            [
             0.5,
             "#f7f7f7"
            ],
            [
             0.6,
             "#e6f5d0"
            ],
            [
             0.7,
             "#b8e186"
            ],
            [
             0.8,
             "#7fbc41"
            ],
            [
             0.9,
             "#4d9221"
            ],
            [
             1,
             "#276419"
            ]
           ],
           "sequential": [
            [
             0,
             "#0d0887"
            ],
            [
             0.1111111111111111,
             "#46039f"
            ],
            [
             0.2222222222222222,
             "#7201a8"
            ],
            [
             0.3333333333333333,
             "#9c179e"
            ],
            [
             0.4444444444444444,
             "#bd3786"
            ],
            [
             0.5555555555555556,
             "#d8576b"
            ],
            [
             0.6666666666666666,
             "#ed7953"
            ],
            [
             0.7777777777777778,
             "#fb9f3a"
            ],
            [
             0.8888888888888888,
             "#fdca26"
            ],
            [
             1,
             "#f0f921"
            ]
           ],
           "sequentialminus": [
            [
             0,
             "#0d0887"
            ],
            [
             0.1111111111111111,
             "#46039f"
            ],
            [
             0.2222222222222222,
             "#7201a8"
            ],
            [
             0.3333333333333333,
             "#9c179e"
            ],
            [
             0.4444444444444444,
             "#bd3786"
            ],
            [
             0.5555555555555556,
             "#d8576b"
            ],
            [
             0.6666666666666666,
             "#ed7953"
            ],
            [
             0.7777777777777778,
             "#fb9f3a"
            ],
            [
             0.8888888888888888,
             "#fdca26"
            ],
            [
             1,
             "#f0f921"
            ]
           ]
          },
          "colorway": [
           "#636efa",
           "#EF553B",
           "#00cc96",
           "#ab63fa",
           "#FFA15A",
           "#19d3f3",
           "#FF6692",
           "#B6E880",
           "#FF97FF",
           "#FECB52"
          ],
          "font": {
           "color": "#2a3f5f"
          },
          "geo": {
           "bgcolor": "white",
           "lakecolor": "white",
           "landcolor": "#E5ECF6",
           "showlakes": true,
           "showland": true,
           "subunitcolor": "white"
          },
          "hoverlabel": {
           "align": "left"
          },
          "hovermode": "closest",
          "mapbox": {
           "style": "light"
          },
          "paper_bgcolor": "white",
          "plot_bgcolor": "#E5ECF6",
          "polar": {
           "angularaxis": {
            "gridcolor": "white",
            "linecolor": "white",
            "ticks": ""
           },
           "bgcolor": "#E5ECF6",
           "radialaxis": {
            "gridcolor": "white",
            "linecolor": "white",
            "ticks": ""
           }
          },
          "scene": {
           "xaxis": {
            "backgroundcolor": "#E5ECF6",
            "gridcolor": "white",
            "gridwidth": 2,
            "linecolor": "white",
            "showbackground": true,
            "ticks": "",
            "zerolinecolor": "white"
           },
           "yaxis": {
            "backgroundcolor": "#E5ECF6",
            "gridcolor": "white",
            "gridwidth": 2,
            "linecolor": "white",
            "showbackground": true,
            "ticks": "",
            "zerolinecolor": "white"
           },
           "zaxis": {
            "backgroundcolor": "#E5ECF6",
            "gridcolor": "white",
            "gridwidth": 2,
            "linecolor": "white",
            "showbackground": true,
            "ticks": "",
            "zerolinecolor": "white"
           }
          },
          "shapedefaults": {
           "line": {
            "color": "#2a3f5f"
           }
          },
          "ternary": {
           "aaxis": {
            "gridcolor": "white",
            "linecolor": "white",
            "ticks": ""
           },
           "baxis": {
            "gridcolor": "white",
            "linecolor": "white",
            "ticks": ""
           },
           "bgcolor": "#E5ECF6",
           "caxis": {
            "gridcolor": "white",
            "linecolor": "white",
            "ticks": ""
           }
          },
          "title": {
           "x": 0.05
          },
          "xaxis": {
           "automargin": true,
           "gridcolor": "white",
           "linecolor": "white",
           "ticks": "",
           "title": {
            "standoff": 15
           },
           "zerolinecolor": "white",
           "zerolinewidth": 2
          },
          "yaxis": {
           "automargin": true,
           "gridcolor": "white",
           "linecolor": "white",
           "ticks": "",
           "title": {
            "standoff": 15
           },
           "zerolinecolor": "white",
           "zerolinewidth": 2
          }
         }
        },
        "title": {
         "text": "Optimal Portfolio Weights Over Time"
        },
        "width": 1000,
        "xaxis": {
         "tickangle": 45,
         "title": {
          "text": "Time Periods"
         }
        },
        "yaxis": {
         "title": {
          "text": "Weight"
         }
        }
       }
      }
     },
     "metadata": {},
     "output_type": "display_data"
    },
    {
     "data": {
      "application/vnd.plotly.v1+json": {
       "config": {
        "plotlyServerURL": "https://plot.ly"
       },
       "data": [
        {
         "hovertemplate": "Return: %{y:.2f}<extra></extra>",
         "line": {
          "color": "blue"
         },
         "mode": "lines+markers",
         "name": "Return",
         "type": "scatter",
         "x": [
          "Pre-2008 Financial Crisis",
          "Global Financial Crisis",
          "Post-Crisis Recovery",
          "COVID-19 Pandemic",
          "Recent Period"
         ],
         "y": [
          0.24468631775001487,
          0.1265891907541702,
          0.20905049058168612,
          0.23178926202338698,
          0.19385574402052663
         ]
        },
        {
         "hovertemplate": "Risk: %{y:.2f}<extra></extra>",
         "line": {
          "color": "red"
         },
         "mode": "lines+markers",
         "name": "Risk",
         "type": "scatter",
         "x": [
          "Pre-2008 Financial Crisis",
          "Global Financial Crisis",
          "Post-Crisis Recovery",
          "COVID-19 Pandemic",
          "Recent Period"
         ],
         "y": [
          0.08000000121078789,
          0.08000005335277476,
          0.08000000140000486,
          0.08000000123597847,
          0.08000000612877978
         ]
        }
       ],
       "layout": {
        "height": 600,
        "legend": {
         "title": {
          "text": "Metrics"
         },
         "xanchor": "left",
         "yanchor": "top"
        },
        "template": {
         "data": {
          "bar": [
           {
            "error_x": {
             "color": "#2a3f5f"
            },
            "error_y": {
             "color": "#2a3f5f"
            },
            "marker": {
             "line": {
              "color": "#E5ECF6",
              "width": 0.5
             },
             "pattern": {
              "fillmode": "overlay",
              "size": 10,
              "solidity": 0.2
             }
            },
            "type": "bar"
           }
          ],
          "barpolar": [
           {
            "marker": {
             "line": {
              "color": "#E5ECF6",
              "width": 0.5
             },
             "pattern": {
              "fillmode": "overlay",
              "size": 10,
              "solidity": 0.2
             }
            },
            "type": "barpolar"
           }
          ],
          "carpet": [
           {
            "aaxis": {
             "endlinecolor": "#2a3f5f",
             "gridcolor": "white",
             "linecolor": "white",
             "minorgridcolor": "white",
             "startlinecolor": "#2a3f5f"
            },
            "baxis": {
             "endlinecolor": "#2a3f5f",
             "gridcolor": "white",
             "linecolor": "white",
             "minorgridcolor": "white",
             "startlinecolor": "#2a3f5f"
            },
            "type": "carpet"
           }
          ],
          "choropleth": [
           {
            "colorbar": {
             "outlinewidth": 0,
             "ticks": ""
            },
            "type": "choropleth"
           }
          ],
          "contour": [
           {
            "colorbar": {
             "outlinewidth": 0,
             "ticks": ""
            },
            "colorscale": [
             [
              0,
              "#0d0887"
             ],
             [
              0.1111111111111111,
              "#46039f"
             ],
             [
              0.2222222222222222,
              "#7201a8"
             ],
             [
              0.3333333333333333,
              "#9c179e"
             ],
             [
              0.4444444444444444,
              "#bd3786"
             ],
             [
              0.5555555555555556,
              "#d8576b"
             ],
             [
              0.6666666666666666,
              "#ed7953"
             ],
             [
              0.7777777777777778,
              "#fb9f3a"
             ],
             [
              0.8888888888888888,
              "#fdca26"
             ],
             [
              1,
              "#f0f921"
             ]
            ],
            "type": "contour"
           }
          ],
          "contourcarpet": [
           {
            "colorbar": {
             "outlinewidth": 0,
             "ticks": ""
            },
            "type": "contourcarpet"
           }
          ],
          "heatmap": [
           {
            "colorbar": {
             "outlinewidth": 0,
             "ticks": ""
            },
            "colorscale": [
             [
              0,
              "#0d0887"
             ],
             [
              0.1111111111111111,
              "#46039f"
             ],
             [
              0.2222222222222222,
              "#7201a8"
             ],
             [
              0.3333333333333333,
              "#9c179e"
             ],
             [
              0.4444444444444444,
              "#bd3786"
             ],
             [
              0.5555555555555556,
              "#d8576b"
             ],
             [
              0.6666666666666666,
              "#ed7953"
             ],
             [
              0.7777777777777778,
              "#fb9f3a"
             ],
             [
              0.8888888888888888,
              "#fdca26"
             ],
             [
              1,
              "#f0f921"
             ]
            ],
            "type": "heatmap"
           }
          ],
          "heatmapgl": [
           {
            "colorbar": {
             "outlinewidth": 0,
             "ticks": ""
            },
            "colorscale": [
             [
              0,
              "#0d0887"
             ],
             [
              0.1111111111111111,
              "#46039f"
             ],
             [
              0.2222222222222222,
              "#7201a8"
             ],
             [
              0.3333333333333333,
              "#9c179e"
             ],
             [
              0.4444444444444444,
              "#bd3786"
             ],
             [
              0.5555555555555556,
              "#d8576b"
             ],
             [
              0.6666666666666666,
              "#ed7953"
             ],
             [
              0.7777777777777778,
              "#fb9f3a"
             ],
             [
              0.8888888888888888,
              "#fdca26"
             ],
             [
              1,
              "#f0f921"
             ]
            ],
            "type": "heatmapgl"
           }
          ],
          "histogram": [
           {
            "marker": {
             "pattern": {
              "fillmode": "overlay",
              "size": 10,
              "solidity": 0.2
             }
            },
            "type": "histogram"
           }
          ],
          "histogram2d": [
           {
            "colorbar": {
             "outlinewidth": 0,
             "ticks": ""
            },
            "colorscale": [
             [
              0,
              "#0d0887"
             ],
             [
              0.1111111111111111,
              "#46039f"
             ],
             [
              0.2222222222222222,
              "#7201a8"
             ],
             [
              0.3333333333333333,
              "#9c179e"
             ],
             [
              0.4444444444444444,
              "#bd3786"
             ],
             [
              0.5555555555555556,
              "#d8576b"
             ],
             [
              0.6666666666666666,
              "#ed7953"
             ],
             [
              0.7777777777777778,
              "#fb9f3a"
             ],
             [
              0.8888888888888888,
              "#fdca26"
             ],
             [
              1,
              "#f0f921"
             ]
            ],
            "type": "histogram2d"
           }
          ],
          "histogram2dcontour": [
           {
            "colorbar": {
             "outlinewidth": 0,
             "ticks": ""
            },
            "colorscale": [
             [
              0,
              "#0d0887"
             ],
             [
              0.1111111111111111,
              "#46039f"
             ],
             [
              0.2222222222222222,
              "#7201a8"
             ],
             [
              0.3333333333333333,
              "#9c179e"
             ],
             [
              0.4444444444444444,
              "#bd3786"
             ],
             [
              0.5555555555555556,
              "#d8576b"
             ],
             [
              0.6666666666666666,
              "#ed7953"
             ],
             [
              0.7777777777777778,
              "#fb9f3a"
             ],
             [
              0.8888888888888888,
              "#fdca26"
             ],
             [
              1,
              "#f0f921"
             ]
            ],
            "type": "histogram2dcontour"
           }
          ],
          "mesh3d": [
           {
            "colorbar": {
             "outlinewidth": 0,
             "ticks": ""
            },
            "type": "mesh3d"
           }
          ],
          "parcoords": [
           {
            "line": {
             "colorbar": {
              "outlinewidth": 0,
              "ticks": ""
             }
            },
            "type": "parcoords"
           }
          ],
          "pie": [
           {
            "automargin": true,
            "type": "pie"
           }
          ],
          "scatter": [
           {
            "fillpattern": {
             "fillmode": "overlay",
             "size": 10,
             "solidity": 0.2
            },
            "type": "scatter"
           }
          ],
          "scatter3d": [
           {
            "line": {
             "colorbar": {
              "outlinewidth": 0,
              "ticks": ""
             }
            },
            "marker": {
             "colorbar": {
              "outlinewidth": 0,
              "ticks": ""
             }
            },
            "type": "scatter3d"
           }
          ],
          "scattercarpet": [
           {
            "marker": {
             "colorbar": {
              "outlinewidth": 0,
              "ticks": ""
             }
            },
            "type": "scattercarpet"
           }
          ],
          "scattergeo": [
           {
            "marker": {
             "colorbar": {
              "outlinewidth": 0,
              "ticks": ""
             }
            },
            "type": "scattergeo"
           }
          ],
          "scattergl": [
           {
            "marker": {
             "colorbar": {
              "outlinewidth": 0,
              "ticks": ""
             }
            },
            "type": "scattergl"
           }
          ],
          "scattermapbox": [
           {
            "marker": {
             "colorbar": {
              "outlinewidth": 0,
              "ticks": ""
             }
            },
            "type": "scattermapbox"
           }
          ],
          "scatterpolar": [
           {
            "marker": {
             "colorbar": {
              "outlinewidth": 0,
              "ticks": ""
             }
            },
            "type": "scatterpolar"
           }
          ],
          "scatterpolargl": [
           {
            "marker": {
             "colorbar": {
              "outlinewidth": 0,
              "ticks": ""
             }
            },
            "type": "scatterpolargl"
           }
          ],
          "scatterternary": [
           {
            "marker": {
             "colorbar": {
              "outlinewidth": 0,
              "ticks": ""
             }
            },
            "type": "scatterternary"
           }
          ],
          "surface": [
           {
            "colorbar": {
             "outlinewidth": 0,
             "ticks": ""
            },
            "colorscale": [
             [
              0,
              "#0d0887"
             ],
             [
              0.1111111111111111,
              "#46039f"
             ],
             [
              0.2222222222222222,
              "#7201a8"
             ],
             [
              0.3333333333333333,
              "#9c179e"
             ],
             [
              0.4444444444444444,
              "#bd3786"
             ],
             [
              0.5555555555555556,
              "#d8576b"
             ],
             [
              0.6666666666666666,
              "#ed7953"
             ],
             [
              0.7777777777777778,
              "#fb9f3a"
             ],
             [
              0.8888888888888888,
              "#fdca26"
             ],
             [
              1,
              "#f0f921"
             ]
            ],
            "type": "surface"
           }
          ],
          "table": [
           {
            "cells": {
             "fill": {
              "color": "#EBF0F8"
             },
             "line": {
              "color": "white"
             }
            },
            "header": {
             "fill": {
              "color": "#C8D4E3"
             },
             "line": {
              "color": "white"
             }
            },
            "type": "table"
           }
          ]
         },
         "layout": {
          "annotationdefaults": {
           "arrowcolor": "#2a3f5f",
           "arrowhead": 0,
           "arrowwidth": 1
          },
          "autotypenumbers": "strict",
          "coloraxis": {
           "colorbar": {
            "outlinewidth": 0,
            "ticks": ""
           }
          },
          "colorscale": {
           "diverging": [
            [
             0,
             "#8e0152"
            ],
            [
             0.1,
             "#c51b7d"
            ],
            [
             0.2,
             "#de77ae"
            ],
            [
             0.3,
             "#f1b6da"
            ],
            [
             0.4,
             "#fde0ef"
            ],
            [
             0.5,
             "#f7f7f7"
            ],
            [
             0.6,
             "#e6f5d0"
            ],
            [
             0.7,
             "#b8e186"
            ],
            [
             0.8,
             "#7fbc41"
            ],
            [
             0.9,
             "#4d9221"
            ],
            [
             1,
             "#276419"
            ]
           ],
           "sequential": [
            [
             0,
             "#0d0887"
            ],
            [
             0.1111111111111111,
             "#46039f"
            ],
            [
             0.2222222222222222,
             "#7201a8"
            ],
            [
             0.3333333333333333,
             "#9c179e"
            ],
            [
             0.4444444444444444,
             "#bd3786"
            ],
            [
             0.5555555555555556,
             "#d8576b"
            ],
            [
             0.6666666666666666,
             "#ed7953"
            ],
            [
             0.7777777777777778,
             "#fb9f3a"
            ],
            [
             0.8888888888888888,
             "#fdca26"
            ],
            [
             1,
             "#f0f921"
            ]
           ],
           "sequentialminus": [
            [
             0,
             "#0d0887"
            ],
            [
             0.1111111111111111,
             "#46039f"
            ],
            [
             0.2222222222222222,
             "#7201a8"
            ],
            [
             0.3333333333333333,
             "#9c179e"
            ],
            [
             0.4444444444444444,
             "#bd3786"
            ],
            [
             0.5555555555555556,
             "#d8576b"
            ],
            [
             0.6666666666666666,
             "#ed7953"
            ],
            [
             0.7777777777777778,
             "#fb9f3a"
            ],
            [
             0.8888888888888888,
             "#fdca26"
            ],
            [
             1,
             "#f0f921"
            ]
           ]
          },
          "colorway": [
           "#636efa",
           "#EF553B",
           "#00cc96",
           "#ab63fa",
           "#FFA15A",
           "#19d3f3",
           "#FF6692",
           "#B6E880",
           "#FF97FF",
           "#FECB52"
          ],
          "font": {
           "color": "#2a3f5f"
          },
          "geo": {
           "bgcolor": "white",
           "lakecolor": "white",
           "landcolor": "#E5ECF6",
           "showlakes": true,
           "showland": true,
           "subunitcolor": "white"
          },
          "hoverlabel": {
           "align": "left"
          },
          "hovermode": "closest",
          "mapbox": {
           "style": "light"
          },
          "paper_bgcolor": "white",
          "plot_bgcolor": "#E5ECF6",
          "polar": {
           "angularaxis": {
            "gridcolor": "white",
            "linecolor": "white",
            "ticks": ""
           },
           "bgcolor": "#E5ECF6",
           "radialaxis": {
            "gridcolor": "white",
            "linecolor": "white",
            "ticks": ""
           }
          },
          "scene": {
           "xaxis": {
            "backgroundcolor": "#E5ECF6",
            "gridcolor": "white",
            "gridwidth": 2,
            "linecolor": "white",
            "showbackground": true,
            "ticks": "",
            "zerolinecolor": "white"
           },
           "yaxis": {
            "backgroundcolor": "#E5ECF6",
            "gridcolor": "white",
            "gridwidth": 2,
            "linecolor": "white",
            "showbackground": true,
            "ticks": "",
            "zerolinecolor": "white"
           },
           "zaxis": {
            "backgroundcolor": "#E5ECF6",
            "gridcolor": "white",
            "gridwidth": 2,
            "linecolor": "white",
            "showbackground": true,
            "ticks": "",
            "zerolinecolor": "white"
           }
          },
          "shapedefaults": {
           "line": {
            "color": "#2a3f5f"
           }
          },
          "ternary": {
           "aaxis": {
            "gridcolor": "white",
            "linecolor": "white",
            "ticks": ""
           },
           "baxis": {
            "gridcolor": "white",
            "linecolor": "white",
            "ticks": ""
           },
           "bgcolor": "#E5ECF6",
           "caxis": {
            "gridcolor": "white",
            "linecolor": "white",
            "ticks": ""
           }
          },
          "title": {
           "x": 0.05
          },
          "xaxis": {
           "automargin": true,
           "gridcolor": "white",
           "linecolor": "white",
           "ticks": "",
           "title": {
            "standoff": 15
           },
           "zerolinecolor": "white",
           "zerolinewidth": 2
          },
          "yaxis": {
           "automargin": true,
           "gridcolor": "white",
           "linecolor": "white",
           "ticks": "",
           "title": {
            "standoff": 15
           },
           "zerolinecolor": "white",
           "zerolinewidth": 2
          }
         }
        },
        "title": {
         "text": "Optimal Portfolio Returns and Risks Over Time"
        },
        "width": 1000,
        "xaxis": {
         "tickangle": 45,
         "title": {
          "text": "Time Periods"
         }
        },
        "yaxis": {
         "title": {
          "text": "Value"
         }
        }
       }
      }
     },
     "metadata": {},
     "output_type": "display_data"
    }
   ],
   "source": [
    "# Calculate daily returns and removing first row\n",
    "daily_returns = data.pct_change().iloc[1:,:]\n",
    "\n",
    "# Lists to store optimal portfolio weights, returns, risks, and period labels\n",
    "all_weights = []\n",
    "optimal_returns = []\n",
    "optimal_risks = []  # To store the portfolio risks\n",
    "period_labels = []\n",
    "\n",
    "# Run the optimization for each time window\n",
    "for period, (start_date, end_date) in time_windows.items():\n",
    "    sub_returns = daily_returns.loc[start_date:end_date]\n",
    "\n",
    "    # Drop columns (assets) that have NaN values for this window\n",
    "    sub_returns = sub_returns.dropna(axis=1, how='any')\n",
    "\n",
    "    # If there are fewer than 2 assets left, skip this window\n",
    "    if len(sub_returns.columns) < 2:\n",
    "        continue\n",
    "\n",
    "    sub_cov_matrix = sub_returns.cov() * 252  # Annualized covariance matrix\n",
    "    sub_expected_returns = sub_returns.mean() * 252  # Annualized expected returns\n",
    "    \n",
    "    # Number of assets (after dropping assets with NaN values)\n",
    "    n_assets = len(sub_expected_returns)\n",
    "\n",
    "    # Define portfolio weights\n",
    "    weights = cp.Variable(n_assets)\n",
    "\n",
    "    # Define portfolio return and risk (variance)\n",
    "    portfolio_return = sub_expected_returns.values @ weights\n",
    "    # portfolio_risk = cp.quad_form(weights, cp.psd_wrap(sub_cov_matrix.values))\n",
    "    portfolio_risk = weights.T @ cp.psd_wrap(sub_cov_matrix.values) @ weights\n",
    "\n",
    "    # Optimize to maximize return for given risk\n",
    "    target_risk = 0.08  # Set the target risk directly as the desired standard deviation\n",
    "\n",
    "    problem = cp.Problem(cp.Maximize(portfolio_return), [\n",
    "        cp.sum(weights) == 1,  # Sum of weights = 1\n",
    "        weights >= 0,  # No short selling\n",
    "        portfolio_risk <= target_risk**2  # Constrain risk to target risk (variance)\n",
    "    ])\n",
    "    \n",
    "    result = problem.solve()\n",
    "    \n",
    "    print(\"Solver used:\", problem.solver_stats.solver_name)\n",
    "\n",
    "    # Ensure the problem was solved successfully\n",
    "    if problem.status != cp.OPTIMAL:\n",
    "        print(f\"Optimization problem not solved: {problem.status}\")\n",
    "        continue\n",
    "    \n",
    "    # Ensure weights.value is a flat array\n",
    "    optimal_weights = np.array(weights.value).flatten()\n",
    "\n",
    "    # Store the optimal portfolio weights, returns, and risks for this time window\n",
    "    all_weights.append(optimal_weights)  # Store the weights array\n",
    "    optimal_returns.append(portfolio_return.value)  # Store return\n",
    "    \n",
    "    # Check if portfolio_risk.value is valid before calculating standard deviation\n",
    "    if portfolio_risk.value is not None:\n",
    "        optimal_risks.append(np.sqrt(portfolio_risk.value))  # Store the risk (standard deviation)\n",
    "    else:\n",
    "        print(\"Warning: Portfolio risk is None\")\n",
    "        optimal_risks.append(None)  # Handle None risk values as needed\n",
    "\n",
    "    # Store the start and end dates of this period for labeling\n",
    "    period_labels.append(period)\n",
    "\n",
    "# Convert the list of weights to a DataFrame for better plotting\n",
    "weights_df = pd.DataFrame(all_weights, columns=tickers, index=period_labels)\n",
    "\n",
    "# Now you also have the risks and returns for each period\n",
    "risks_df = pd.DataFrame({\n",
    "    'Period': period_labels,\n",
    "    'Return': optimal_returns,\n",
    "    'Risk': optimal_risks\n",
    "})\n",
    "\n",
    "period_labels = weights_df.index.tolist()\n",
    "\n",
    "# Get a qualitative color scale from Plotly\n",
    "color_scale = px.colors.qualitative.Plotly\n",
    "\n",
    "# Dynamically assign colors to tickers (expand the color scale to cover all tickers if necessary)\n",
    "tickers = weights_df.columns\n",
    "\n",
    "# Generate a unique color for each ticker using a continuous color scale\n",
    "color_scale = px.colors.sequential.Inferno  # You can choose another color scale if preferred\n",
    "color_map = {ticker: px.colors.sample_colorscale(color_scale, i / len(tickers)) for i, ticker in enumerate(tickers)}\n",
    "\n",
    "# Sort the weights_df for each time period so that larger values are at the bottom\n",
    "sorted_assets = sorted(weights_df.columns)\n",
    "\n",
    "# Plot 1: Stacked Bar Plot of Optimal Weights Over Time\n",
    "fig_weights = go.Figure()\n",
    "\n",
    "# Add a bar for each asset in the sorted dataframe, adding smaller weights last\n",
    "for period in period_labels:\n",
    "    # Sort the assets by weight for this period in descending order\n",
    "    sorted_weights = weights_df.loc[period].sort_values(ascending=False)\n",
    "    for asset in sorted_weights.index:\n",
    "        fig_weights.add_trace(go.Bar(\n",
    "            x=[period], \n",
    "            y=[sorted_weights[asset]], \n",
    "            name=asset if period == period_labels[0] else '',  # Show asset name in legend only once\n",
    "            hovertemplate=asset + '<br>%{y:.2f}',  # Asset name first, then y-axis value\n",
    "            hoverinfo='y',  # Show only the y value\n",
    "            showlegend=(period == period_labels[0]),  # Show legend only once\n",
    "            marker=dict(color=color_map[asset])  # Use dynamically generated unique colors\n",
    "        ))\n",
    "\n",
    "# Set plot layout for the stacked bar chart\n",
    "fig_weights.update_layout(\n",
    "    barmode='stack',\n",
    "    title='Optimal Portfolio Weights Over Time',\n",
    "    xaxis=dict(title='Time Periods', tickangle=45),\n",
    "    yaxis=dict(title='Weight'),\n",
    "    legend=dict(title=\"Assets\", yanchor=\"top\", xanchor=\"left\"),\n",
    "    height=600,\n",
    "    width=1000\n",
    ")\n",
    "\n",
    "# Display the sorted stacked bar chart\n",
    "fig_weights.show()\n",
    "\n",
    "# Plot portfolio returns and risks over time (unchanged)\n",
    "fig_risk_return = go.Figure()\n",
    "\n",
    "# Add line plot for returns\n",
    "fig_risk_return.add_trace(go.Scatter(\n",
    "    x=risks_df['Period'],\n",
    "    y=risks_df['Return'],\n",
    "    mode='lines+markers',\n",
    "    name='Return',\n",
    "    line=dict(color='blue'),\n",
    "    hovertemplate='Return: %{y:.2f}<extra></extra>'\n",
    "))\n",
    "\n",
    "# Add line plot for risks\n",
    "fig_risk_return.add_trace(go.Scatter(\n",
    "    x=risks_df['Period'],\n",
    "    y=risks_df['Risk'],\n",
    "    mode='lines+markers',\n",
    "    name='Risk',\n",
    "    line=dict(color='red'),\n",
    "    hovertemplate='Risk: %{y:.2f}<extra></extra>'\n",
    "))\n",
    "\n",
    "# Update the layout for the risk-return plot\n",
    "fig_risk_return.update_layout(\n",
    "    title='Optimal Portfolio Returns and Risks Over Time',\n",
    "    xaxis=dict(title='Time Periods', tickangle=45),\n",
    "    yaxis=dict(title='Value'),\n",
    "    legend=dict(title=\"Metrics\", yanchor=\"top\", xanchor=\"left\"),\n",
    "    height=600,\n",
    "    width=1000\n",
    ")\n",
    "\n",
    "# Show the risk-return plot\n",
    "fig_risk_return.show()"
   ]
  }
 ],
 "metadata": {
  "kernelspec": {
   "display_name": "main",
   "language": "python",
   "name": "python3"
  },
  "language_info": {
   "codemirror_mode": {
    "name": "ipython",
    "version": 3
   },
   "file_extension": ".py",
   "mimetype": "text/x-python",
   "name": "python",
   "nbconvert_exporter": "python",
   "pygments_lexer": "ipython3",
   "version": "3.9.7"
  }
 },
 "nbformat": 4,
 "nbformat_minor": 2
}
